{
 "cells": [
  {
   "cell_type": "code",
   "execution_count": 1,
   "metadata": {},
   "outputs": [],
   "source": [
    "import numpy as np\n",
    "import pandas as pd\n",
    "import matplotlib.pyplot as plt\n",
    "import seaborn as sns\n",
    "\n",
    "import kmedoids\n",
    "from scipy.cluster.hierarchy import dendrogram, linkage\n",
    "from sklearn.cluster import AgglomerativeClustering, DBSCAN\n",
    "from sklearn.metrics import silhouette_score, normalized_mutual_info_score\n",
    "from sklearn.decomposition import PCA\n",
    "from sklearn.preprocessing import StandardScaler"
   ]
  },
  {
   "cell_type": "code",
   "execution_count": 2,
   "metadata": {},
   "outputs": [],
   "source": [
    "df1 = pd.read_csv(\"Atmospheric Data Cleaned Instances Per Day.csv\")"
   ]
  },
  {
   "cell_type": "code",
   "execution_count": 3,
   "metadata": {},
   "outputs": [],
   "source": [
    "pd.set_option(\"display.max_columns\", None)"
   ]
  },
  {
   "cell_type": "code",
   "execution_count": 4,
   "metadata": {},
   "outputs": [
    {
     "data": {
      "text/html": [
       "<div>\n",
       "<style scoped>\n",
       "    .dataframe tbody tr th:only-of-type {\n",
       "        vertical-align: middle;\n",
       "    }\n",
       "\n",
       "    .dataframe tbody tr th {\n",
       "        vertical-align: top;\n",
       "    }\n",
       "\n",
       "    .dataframe thead th {\n",
       "        text-align: right;\n",
       "    }\n",
       "</style>\n",
       "<table border=\"1\" class=\"dataframe\">\n",
       "  <thead>\n",
       "    <tr style=\"text-align: right;\">\n",
       "      <th></th>\n",
       "      <th>Year</th>\n",
       "      <th>Month</th>\n",
       "      <th>Day</th>\n",
       "      <th>O3</th>\n",
       "      <th>NO2</th>\n",
       "      <th>NO</th>\n",
       "      <th>CO</th>\n",
       "      <th>PM10</th>\n",
       "      <th>PM2.5</th>\n",
       "      <th>Temp_Avg</th>\n",
       "      <th>RH_Avg</th>\n",
       "      <th>WSpeed_Avg</th>\n",
       "      <th>WDir_Avg</th>\n",
       "      <th>Press_Avg</th>\n",
       "      <th>Rad_Avg</th>\n",
       "      <th>Rain_Tot</th>\n",
       "    </tr>\n",
       "  </thead>\n",
       "  <tbody>\n",
       "    <tr>\n",
       "      <th>0</th>\n",
       "      <td>2023</td>\n",
       "      <td>5</td>\n",
       "      <td>1</td>\n",
       "      <td>42.098597</td>\n",
       "      <td>2.377042</td>\n",
       "      <td>0.378701</td>\n",
       "      <td>0.269903</td>\n",
       "      <td>32.476493</td>\n",
       "      <td>20.131194</td>\n",
       "      <td>19.830514</td>\n",
       "      <td>29.753889</td>\n",
       "      <td>2.439608</td>\n",
       "      <td>154.966895</td>\n",
       "      <td>804.314569</td>\n",
       "      <td>630.264466</td>\n",
       "      <td>0.0</td>\n",
       "    </tr>\n",
       "    <tr>\n",
       "      <th>1</th>\n",
       "      <td>2023</td>\n",
       "      <td>5</td>\n",
       "      <td>2</td>\n",
       "      <td>44.560389</td>\n",
       "      <td>1.889646</td>\n",
       "      <td>0.215486</td>\n",
       "      <td>0.244556</td>\n",
       "      <td>28.960708</td>\n",
       "      <td>18.765649</td>\n",
       "      <td>20.916111</td>\n",
       "      <td>27.642535</td>\n",
       "      <td>2.883990</td>\n",
       "      <td>231.153622</td>\n",
       "      <td>803.925649</td>\n",
       "      <td>659.373538</td>\n",
       "      <td>0.0</td>\n",
       "    </tr>\n",
       "    <tr>\n",
       "      <th>2</th>\n",
       "      <td>2023</td>\n",
       "      <td>5</td>\n",
       "      <td>3</td>\n",
       "      <td>50.777618</td>\n",
       "      <td>4.491722</td>\n",
       "      <td>0.745514</td>\n",
       "      <td>0.397743</td>\n",
       "      <td>49.597222</td>\n",
       "      <td>35.021854</td>\n",
       "      <td>21.357729</td>\n",
       "      <td>30.954847</td>\n",
       "      <td>1.604234</td>\n",
       "      <td>178.251752</td>\n",
       "      <td>803.767500</td>\n",
       "      <td>485.725435</td>\n",
       "      <td>0.0</td>\n",
       "    </tr>\n",
       "    <tr>\n",
       "      <th>3</th>\n",
       "      <td>2023</td>\n",
       "      <td>5</td>\n",
       "      <td>4</td>\n",
       "      <td>50.881806</td>\n",
       "      <td>4.101944</td>\n",
       "      <td>0.455646</td>\n",
       "      <td>0.384681</td>\n",
       "      <td>48.555437</td>\n",
       "      <td>35.872396</td>\n",
       "      <td>21.968729</td>\n",
       "      <td>35.661208</td>\n",
       "      <td>1.729689</td>\n",
       "      <td>183.150144</td>\n",
       "      <td>804.870299</td>\n",
       "      <td>422.336301</td>\n",
       "      <td>0.0</td>\n",
       "    </tr>\n",
       "    <tr>\n",
       "      <th>4</th>\n",
       "      <td>2023</td>\n",
       "      <td>5</td>\n",
       "      <td>5</td>\n",
       "      <td>52.673167</td>\n",
       "      <td>4.675542</td>\n",
       "      <td>0.458521</td>\n",
       "      <td>0.442660</td>\n",
       "      <td>52.817632</td>\n",
       "      <td>41.230729</td>\n",
       "      <td>21.668757</td>\n",
       "      <td>42.649750</td>\n",
       "      <td>1.900280</td>\n",
       "      <td>137.419527</td>\n",
       "      <td>805.930109</td>\n",
       "      <td>449.436559</td>\n",
       "      <td>0.2</td>\n",
       "    </tr>\n",
       "  </tbody>\n",
       "</table>\n",
       "</div>"
      ],
      "text/plain": [
       "   Year  Month  Day         O3       NO2        NO        CO       PM10  \\\n",
       "0  2023      5    1  42.098597  2.377042  0.378701  0.269903  32.476493   \n",
       "1  2023      5    2  44.560389  1.889646  0.215486  0.244556  28.960708   \n",
       "2  2023      5    3  50.777618  4.491722  0.745514  0.397743  49.597222   \n",
       "3  2023      5    4  50.881806  4.101944  0.455646  0.384681  48.555437   \n",
       "4  2023      5    5  52.673167  4.675542  0.458521  0.442660  52.817632   \n",
       "\n",
       "       PM2.5   Temp_Avg     RH_Avg  WSpeed_Avg    WDir_Avg   Press_Avg  \\\n",
       "0  20.131194  19.830514  29.753889    2.439608  154.966895  804.314569   \n",
       "1  18.765649  20.916111  27.642535    2.883990  231.153622  803.925649   \n",
       "2  35.021854  21.357729  30.954847    1.604234  178.251752  803.767500   \n",
       "3  35.872396  21.968729  35.661208    1.729689  183.150144  804.870299   \n",
       "4  41.230729  21.668757  42.649750    1.900280  137.419527  805.930109   \n",
       "\n",
       "      Rad_Avg  Rain_Tot  \n",
       "0  630.264466       0.0  \n",
       "1  659.373538       0.0  \n",
       "2  485.725435       0.0  \n",
       "3  422.336301       0.0  \n",
       "4  449.436559       0.2  "
      ]
     },
     "execution_count": 4,
     "metadata": {},
     "output_type": "execute_result"
    }
   ],
   "source": [
    "df1.head()"
   ]
  },
  {
   "cell_type": "code",
   "execution_count": 5,
   "metadata": {},
   "outputs": [],
   "source": [
    "df1.drop([\"Year\", \"Month\", \"Day\"], axis=1, inplace=True)"
   ]
  },
  {
   "cell_type": "code",
   "execution_count": 6,
   "metadata": {},
   "outputs": [
    {
     "data": {
      "text/html": [
       "<div>\n",
       "<style scoped>\n",
       "    .dataframe tbody tr th:only-of-type {\n",
       "        vertical-align: middle;\n",
       "    }\n",
       "\n",
       "    .dataframe tbody tr th {\n",
       "        vertical-align: top;\n",
       "    }\n",
       "\n",
       "    .dataframe thead th {\n",
       "        text-align: right;\n",
       "    }\n",
       "</style>\n",
       "<table border=\"1\" class=\"dataframe\">\n",
       "  <thead>\n",
       "    <tr style=\"text-align: right;\">\n",
       "      <th></th>\n",
       "      <th>O3</th>\n",
       "      <th>NO2</th>\n",
       "      <th>NO</th>\n",
       "      <th>CO</th>\n",
       "      <th>PM10</th>\n",
       "      <th>PM2.5</th>\n",
       "      <th>Temp_Avg</th>\n",
       "      <th>RH_Avg</th>\n",
       "      <th>WSpeed_Avg</th>\n",
       "      <th>WDir_Avg</th>\n",
       "      <th>Press_Avg</th>\n",
       "      <th>Rad_Avg</th>\n",
       "      <th>Rain_Tot</th>\n",
       "    </tr>\n",
       "  </thead>\n",
       "  <tbody>\n",
       "    <tr>\n",
       "      <th>0</th>\n",
       "      <td>42.098597</td>\n",
       "      <td>2.377042</td>\n",
       "      <td>0.378701</td>\n",
       "      <td>0.269903</td>\n",
       "      <td>32.476493</td>\n",
       "      <td>20.131194</td>\n",
       "      <td>19.830514</td>\n",
       "      <td>29.753889</td>\n",
       "      <td>2.439608</td>\n",
       "      <td>154.966895</td>\n",
       "      <td>804.314569</td>\n",
       "      <td>630.264466</td>\n",
       "      <td>0.0</td>\n",
       "    </tr>\n",
       "    <tr>\n",
       "      <th>1</th>\n",
       "      <td>44.560389</td>\n",
       "      <td>1.889646</td>\n",
       "      <td>0.215486</td>\n",
       "      <td>0.244556</td>\n",
       "      <td>28.960708</td>\n",
       "      <td>18.765649</td>\n",
       "      <td>20.916111</td>\n",
       "      <td>27.642535</td>\n",
       "      <td>2.883990</td>\n",
       "      <td>231.153622</td>\n",
       "      <td>803.925649</td>\n",
       "      <td>659.373538</td>\n",
       "      <td>0.0</td>\n",
       "    </tr>\n",
       "    <tr>\n",
       "      <th>2</th>\n",
       "      <td>50.777618</td>\n",
       "      <td>4.491722</td>\n",
       "      <td>0.745514</td>\n",
       "      <td>0.397743</td>\n",
       "      <td>49.597222</td>\n",
       "      <td>35.021854</td>\n",
       "      <td>21.357729</td>\n",
       "      <td>30.954847</td>\n",
       "      <td>1.604234</td>\n",
       "      <td>178.251752</td>\n",
       "      <td>803.767500</td>\n",
       "      <td>485.725435</td>\n",
       "      <td>0.0</td>\n",
       "    </tr>\n",
       "    <tr>\n",
       "      <th>3</th>\n",
       "      <td>50.881806</td>\n",
       "      <td>4.101944</td>\n",
       "      <td>0.455646</td>\n",
       "      <td>0.384681</td>\n",
       "      <td>48.555437</td>\n",
       "      <td>35.872396</td>\n",
       "      <td>21.968729</td>\n",
       "      <td>35.661208</td>\n",
       "      <td>1.729689</td>\n",
       "      <td>183.150144</td>\n",
       "      <td>804.870299</td>\n",
       "      <td>422.336301</td>\n",
       "      <td>0.0</td>\n",
       "    </tr>\n",
       "    <tr>\n",
       "      <th>4</th>\n",
       "      <td>52.673167</td>\n",
       "      <td>4.675542</td>\n",
       "      <td>0.458521</td>\n",
       "      <td>0.442660</td>\n",
       "      <td>52.817632</td>\n",
       "      <td>41.230729</td>\n",
       "      <td>21.668757</td>\n",
       "      <td>42.649750</td>\n",
       "      <td>1.900280</td>\n",
       "      <td>137.419527</td>\n",
       "      <td>805.930109</td>\n",
       "      <td>449.436559</td>\n",
       "      <td>0.2</td>\n",
       "    </tr>\n",
       "  </tbody>\n",
       "</table>\n",
       "</div>"
      ],
      "text/plain": [
       "          O3       NO2        NO        CO       PM10      PM2.5   Temp_Avg  \\\n",
       "0  42.098597  2.377042  0.378701  0.269903  32.476493  20.131194  19.830514   \n",
       "1  44.560389  1.889646  0.215486  0.244556  28.960708  18.765649  20.916111   \n",
       "2  50.777618  4.491722  0.745514  0.397743  49.597222  35.021854  21.357729   \n",
       "3  50.881806  4.101944  0.455646  0.384681  48.555437  35.872396  21.968729   \n",
       "4  52.673167  4.675542  0.458521  0.442660  52.817632  41.230729  21.668757   \n",
       "\n",
       "      RH_Avg  WSpeed_Avg    WDir_Avg   Press_Avg     Rad_Avg  Rain_Tot  \n",
       "0  29.753889    2.439608  154.966895  804.314569  630.264466       0.0  \n",
       "1  27.642535    2.883990  231.153622  803.925649  659.373538       0.0  \n",
       "2  30.954847    1.604234  178.251752  803.767500  485.725435       0.0  \n",
       "3  35.661208    1.729689  183.150144  804.870299  422.336301       0.0  \n",
       "4  42.649750    1.900280  137.419527  805.930109  449.436559       0.2  "
      ]
     },
     "execution_count": 6,
     "metadata": {},
     "output_type": "execute_result"
    }
   ],
   "source": [
    "df1.head()"
   ]
  },
  {
   "cell_type": "code",
   "execution_count": 7,
   "metadata": {},
   "outputs": [
    {
     "data": {
      "text/html": [
       "<div>\n",
       "<style scoped>\n",
       "    .dataframe tbody tr th:only-of-type {\n",
       "        vertical-align: middle;\n",
       "    }\n",
       "\n",
       "    .dataframe tbody tr th {\n",
       "        vertical-align: top;\n",
       "    }\n",
       "\n",
       "    .dataframe thead th {\n",
       "        text-align: right;\n",
       "    }\n",
       "</style>\n",
       "<table border=\"1\" class=\"dataframe\">\n",
       "  <thead>\n",
       "    <tr style=\"text-align: right;\">\n",
       "      <th></th>\n",
       "      <th>O3</th>\n",
       "      <th>NO2</th>\n",
       "      <th>NO</th>\n",
       "      <th>CO</th>\n",
       "      <th>PM10</th>\n",
       "      <th>PM2.5</th>\n",
       "      <th>Temp_Avg</th>\n",
       "      <th>RH_Avg</th>\n",
       "      <th>WSpeed_Avg</th>\n",
       "      <th>WDir_Avg</th>\n",
       "      <th>Press_Avg</th>\n",
       "      <th>Rad_Avg</th>\n",
       "      <th>Rain_Tot</th>\n",
       "    </tr>\n",
       "  </thead>\n",
       "  <tbody>\n",
       "    <tr>\n",
       "      <th>0</th>\n",
       "      <td>0.802358</td>\n",
       "      <td>-1.231678</td>\n",
       "      <td>-0.678739</td>\n",
       "      <td>-0.590265</td>\n",
       "      <td>0.729599</td>\n",
       "      <td>0.338225</td>\n",
       "      <td>0.516847</td>\n",
       "      <td>-1.937073</td>\n",
       "      <td>1.615577</td>\n",
       "      <td>0.327731</td>\n",
       "      <td>-1.068511</td>\n",
       "      <td>1.331083</td>\n",
       "      <td>-0.353445</td>\n",
       "    </tr>\n",
       "    <tr>\n",
       "      <th>1</th>\n",
       "      <td>1.047696</td>\n",
       "      <td>-1.475738</td>\n",
       "      <td>-0.919847</td>\n",
       "      <td>-0.835044</td>\n",
       "      <td>0.407410</td>\n",
       "      <td>0.164196</td>\n",
       "      <td>0.882199</td>\n",
       "      <td>-2.068812</td>\n",
       "      <td>2.421619</td>\n",
       "      <td>2.737093</td>\n",
       "      <td>-1.343043</td>\n",
       "      <td>1.570084</td>\n",
       "      <td>-0.353445</td>\n",
       "    </tr>\n",
       "    <tr>\n",
       "      <th>2</th>\n",
       "      <td>1.667294</td>\n",
       "      <td>-0.172765</td>\n",
       "      <td>-0.136869</td>\n",
       "      <td>0.644294</td>\n",
       "      <td>2.298555</td>\n",
       "      <td>2.235927</td>\n",
       "      <td>1.030824</td>\n",
       "      <td>-1.862139</td>\n",
       "      <td>0.100333</td>\n",
       "      <td>1.064102</td>\n",
       "      <td>-1.454678</td>\n",
       "      <td>0.144340</td>\n",
       "      <td>-0.353445</td>\n",
       "    </tr>\n",
       "    <tr>\n",
       "      <th>3</th>\n",
       "      <td>1.677677</td>\n",
       "      <td>-0.367944</td>\n",
       "      <td>-0.565073</td>\n",
       "      <td>0.518149</td>\n",
       "      <td>2.203085</td>\n",
       "      <td>2.344322</td>\n",
       "      <td>1.236453</td>\n",
       "      <td>-1.568483</td>\n",
       "      <td>0.327889</td>\n",
       "      <td>1.219010</td>\n",
       "      <td>-0.676230</td>\n",
       "      <td>-0.376119</td>\n",
       "      <td>-0.353445</td>\n",
       "    </tr>\n",
       "    <tr>\n",
       "      <th>4</th>\n",
       "      <td>1.856201</td>\n",
       "      <td>-0.080719</td>\n",
       "      <td>-0.560826</td>\n",
       "      <td>1.078057</td>\n",
       "      <td>2.593676</td>\n",
       "      <td>3.027201</td>\n",
       "      <td>1.135499</td>\n",
       "      <td>-1.132429</td>\n",
       "      <td>0.637315</td>\n",
       "      <td>-0.227195</td>\n",
       "      <td>0.071874</td>\n",
       "      <td>-0.153611</td>\n",
       "      <td>-0.304880</td>\n",
       "    </tr>\n",
       "  </tbody>\n",
       "</table>\n",
       "</div>"
      ],
      "text/plain": [
       "         O3       NO2        NO        CO      PM10     PM2.5  Temp_Avg  \\\n",
       "0  0.802358 -1.231678 -0.678739 -0.590265  0.729599  0.338225  0.516847   \n",
       "1  1.047696 -1.475738 -0.919847 -0.835044  0.407410  0.164196  0.882199   \n",
       "2  1.667294 -0.172765 -0.136869  0.644294  2.298555  2.235927  1.030824   \n",
       "3  1.677677 -0.367944 -0.565073  0.518149  2.203085  2.344322  1.236453   \n",
       "4  1.856201 -0.080719 -0.560826  1.078057  2.593676  3.027201  1.135499   \n",
       "\n",
       "     RH_Avg  WSpeed_Avg  WDir_Avg  Press_Avg   Rad_Avg  Rain_Tot  \n",
       "0 -1.937073    1.615577  0.327731  -1.068511  1.331083 -0.353445  \n",
       "1 -2.068812    2.421619  2.737093  -1.343043  1.570084 -0.353445  \n",
       "2 -1.862139    0.100333  1.064102  -1.454678  0.144340 -0.353445  \n",
       "3 -1.568483    0.327889  1.219010  -0.676230 -0.376119 -0.353445  \n",
       "4 -1.132429    0.637315 -0.227195   0.071874 -0.153611 -0.304880  "
      ]
     },
     "execution_count": 7,
     "metadata": {},
     "output_type": "execute_result"
    }
   ],
   "source": [
    "ss = StandardScaler()\n",
    "X_ss = ss.fit_transform(df1)\n",
    "df_ss = pd.DataFrame(X_ss, columns=df1.columns)\n",
    "df_ss.head()"
   ]
  },
  {
   "cell_type": "code",
   "execution_count": 8,
   "metadata": {},
   "outputs": [
    {
     "data": {
      "text/plain": [
       "(315, 13)"
      ]
     },
     "execution_count": 8,
     "metadata": {},
     "output_type": "execute_result"
    }
   ],
   "source": [
    "df_ss.shape"
   ]
  },
  {
   "cell_type": "code",
   "execution_count": 9,
   "metadata": {},
   "outputs": [
    {
     "data": {
      "text/plain": [
       "(315, 13)"
      ]
     },
     "execution_count": 9,
     "metadata": {},
     "output_type": "execute_result"
    }
   ],
   "source": [
    "df1.shape"
   ]
  },
  {
   "cell_type": "markdown",
   "metadata": {},
   "source": [
    "# Clustering jerárquico"
   ]
  },
  {
   "cell_type": "code",
   "execution_count": 10,
   "metadata": {},
   "outputs": [
    {
     "data": {
      "image/png": "[encoded data removed]",
      "text/plain": [
       "<Figure size 640x480 with 1 Axes>"
      ]
     },
     "metadata": {},
     "output_type": "display_data"
    }
   ],
   "source": [
    "sns.set_style(\"dark\")\n",
    "Z = linkage(df_ss, method=\"single\", metric='euclidean')\n",
    "fig, ax = plt.subplots()\n",
    "plt.title(\"Vecino más cercano\", fontsize=18)\n",
    "dendrogram(Z, color_threshold=0, link_color_func=lambda x:\"yellowgreen\", no_labels=True)\n",
    "ax.set_ylabel(\"Distancia euclidiana\")\n",
    "ax.set_xlabel(\"Datos atmosféricos\")\n",
    "plt.show()"
   ]
  },
  {
   "cell_type": "code",
   "execution_count": 11,
   "metadata": {},
   "outputs": [
    {
     "data": {
      "image/png": "[encoded data removed]",
      "text/plain": [
       "<Figure size 640x480 with 1 Axes>"
      ]
     },
     "metadata": {},
     "output_type": "display_data"
    }
   ],
   "source": [
    "sns.set_style(\"dark\")\n",
    "Z = linkage(df_ss, method=\"complete\", metric='euclidean')\n",
    "fig, ax = plt.subplots()\n",
    "plt.title(\"Vecino más lejano\", fontsize=18)\n",
    "dendrogram(Z, color_threshold=0, link_color_func=lambda x:\"dodgerblue\", no_labels=True)\n",
    "ax.set_ylabel(\"Distancia euclidiana\")\n",
    "ax.set_xlabel(\"Datos atmosféricos\")\n",
    "plt.show()"
   ]
  },
  {
   "cell_type": "code",
   "execution_count": 12,
   "metadata": {},
   "outputs": [
    {
     "data": {
      "image/png": "[encoded data removed]",
      "text/plain": [
       "<Figure size 640x480 with 1 Axes>"
      ]
     },
     "metadata": {},
     "output_type": "display_data"
    }
   ],
   "source": [
    "sns.set_style(\"dark\")\n",
    "Z = linkage(df_ss, method=\"average\", metric='euclidean')\n",
    "fig, ax = plt.subplots()\n",
    "plt.title(\"Promedio con el conjunto\", fontsize=18)\n",
    "dendrogram(Z, color_threshold=0, link_color_func=lambda x:\"darkorchid\", no_labels=True)\n",
    "ax.set_ylabel(\"Distancia euclidiana\")\n",
    "ax.set_xlabel(\"Datos atmosféricos\")\n",
    "plt.show()"
   ]
  },
  {
   "cell_type": "code",
   "execution_count": 13,
   "metadata": {},
   "outputs": [
    {
     "data": {
      "image/png": "[encoded data removed]",
      "text/plain": [
       "<Figure size 640x480 with 1 Axes>"
      ]
     },
     "metadata": {},
     "output_type": "display_data"
    }
   ],
   "source": [
    "sns.set_style(\"dark\")\n",
    "Z = linkage(df_ss, method=\"centroid\", metric='euclidean')\n",
    "fig, ax = plt.subplots()\n",
    "plt.title(\"Centroide\", fontsize=18)\n",
    "dendrogram(Z, color_threshold=0, link_color_func=lambda x:\"peru\", no_labels=True)\n",
    "ax.set_ylabel(\"Distancia euclidiana\")\n",
    "ax.set_xlabel(\"Datos atmosféricos\")\n",
    "plt.show()"
   ]
  },
  {
   "cell_type": "code",
   "execution_count": 14,
   "metadata": {},
   "outputs": [
    {
     "data": {
      "image/png": "[encoded data removed]",
      "text/plain": [
       "<Figure size 640x480 with 1 Axes>"
      ]
     },
     "metadata": {},
     "output_type": "display_data"
    }
   ],
   "source": [
    "sns.set_style(\"dark\")\n",
    "Z = linkage(df_ss, method=\"ward\", metric='euclidean')\n",
    "fig, ax = plt.subplots()\n",
    "plt.title(\"Dendrograma de clustering jerárquico\\ncon encadenamiento de Ward\", fontsize=18)\n",
    "dendrogram(Z, p=64, truncate_mode=\"lastp\", color_threshold=13.5, no_labels=True)\n",
    "plt.axhline(y=13.5, color='mediumpurple', linestyle='--')\n",
    "ax.set_ylabel(\"Distancia euclidiana\")\n",
    "ax.set_xlabel(\"Datos atmosféricos\")\n",
    "plt.show()"
   ]
  },
  {
   "cell_type": "code",
   "execution_count": 15,
   "metadata": {},
   "outputs": [
    {
     "data": {
      "image/png": "[encoded data removed]",
      "text/plain": [
       "<Figure size 640x480 with 1 Axes>"
      ]
     },
     "metadata": {},
     "output_type": "display_data"
    }
   ],
   "source": [
    "sns.set_style(\"dark\")\n",
    "Z = linkage(df_ss, method=\"ward\", metric='euclidean')\n",
    "fig, ax = plt.subplots()\n",
    "plt.title(\"Dendrograma de clustering jerárquico\\ncon encadenamiento de Ward\", fontsize=18)\n",
    "dendrogram(Z, p=64, truncate_mode=\"lastp\", color_threshold=20, no_labels=True)\n",
    "plt.axhline(y=20, color='mediumpurple', linestyle='--')\n",
    "ax.set_ylabel(\"Distancia euclidiana\")\n",
    "ax.set_xlabel(\"Datos atmosféricos\")\n",
    "plt.show()"
   ]
  },
  {
   "cell_type": "code",
   "execution_count": 16,
   "metadata": {},
   "outputs": [],
   "source": [
    "clustering_jerarquico1 = AgglomerativeClustering(n_clusters=9, linkage=\"ward\").fit(df_ss)"
   ]
  },
  {
   "cell_type": "code",
   "execution_count": 17,
   "metadata": {},
   "outputs": [
    {
     "data": {
      "text/plain": [
       "array([4, 1, 1, 1, 1, 1, 1, 1, 1, 1, 1, 1, 1, 1, 1, 1, 1, 1, 1, 1, 1, 2,\n",
       "       1, 1, 1, 1, 1, 1, 1, 1, 1, 1, 1, 1, 1, 1, 1, 1, 1, 1, 1, 1, 1, 1,\n",
       "       1, 1, 1, 3, 1, 3, 2, 3, 5, 5, 5, 5, 5, 5, 5, 5, 5, 5, 5, 5, 5, 5,\n",
       "       5, 5, 7, 5, 5, 5, 5, 3, 3, 3, 3, 2, 0, 3, 3, 2, 3, 7, 3, 2, 5, 5,\n",
       "       5, 3, 5, 3, 3, 2, 2, 3, 2, 3, 3, 3, 3, 2, 2, 2, 5, 2, 2, 7, 7, 2,\n",
       "       3, 3, 3, 3, 3, 2, 2, 5, 5, 2, 2, 2, 3, 3, 3, 2, 2, 2, 2, 2, 2, 2,\n",
       "       2, 2, 2, 2, 2, 2, 5, 3, 2, 2, 3, 2, 2, 3, 8, 8, 2, 2, 2, 2, 2, 2,\n",
       "       2, 2, 2, 2, 2, 2, 2, 3, 0, 0, 2, 2, 6, 6, 6, 6, 6, 6, 2, 2, 3, 2,\n",
       "       2, 2, 0, 6, 6, 6, 6, 6, 2, 2, 2, 0, 8, 2, 3, 0, 0, 0, 0, 0, 0, 0,\n",
       "       0, 0, 0, 0, 0, 0, 0, 6, 6, 6, 6, 6, 2, 2, 2, 8, 8, 0, 2, 0, 2, 2,\n",
       "       2, 8, 8, 8, 8, 8, 2, 8, 8, 2, 8, 2, 2, 2, 2, 6, 6, 6, 2, 2, 2, 2,\n",
       "       2, 2, 2, 2, 2, 4, 4, 4, 4, 6, 4, 4, 4, 4, 4, 4, 4, 6, 6, 3, 3, 0,\n",
       "       6, 6, 6, 6, 6, 6, 0, 3, 4, 4, 4, 4, 4, 4, 4, 4, 4, 4, 4, 4, 1, 2,\n",
       "       1, 1, 4, 4, 4, 4, 1, 1, 4, 4, 4, 4, 1, 1, 1, 1, 1, 1, 1, 1, 1, 1,\n",
       "       1, 1, 1, 1, 1, 1, 2])"
      ]
     },
     "execution_count": 17,
     "metadata": {},
     "output_type": "execute_result"
    }
   ],
   "source": [
    "clustering_jerarquico1.labels_"
   ]
  },
  {
   "cell_type": "code",
   "execution_count": 18,
   "metadata": {},
   "outputs": [],
   "source": [
    "df1[\"Clustering Jerarquico 9\"] = clustering_jerarquico1.labels_"
   ]
  },
  {
   "cell_type": "code",
   "execution_count": 19,
   "metadata": {},
   "outputs": [
    {
     "data": {
      "text/html": [
       "<div>\n",
       "<style scoped>\n",
       "    .dataframe tbody tr th:only-of-type {\n",
       "        vertical-align: middle;\n",
       "    }\n",
       "\n",
       "    .dataframe tbody tr th {\n",
       "        vertical-align: top;\n",
       "    }\n",
       "\n",
       "    .dataframe thead th {\n",
       "        text-align: right;\n",
       "    }\n",
       "</style>\n",
       "<table border=\"1\" class=\"dataframe\">\n",
       "  <thead>\n",
       "    <tr style=\"text-align: right;\">\n",
       "      <th></th>\n",
       "      <th>O3</th>\n",
       "      <th>NO2</th>\n",
       "      <th>NO</th>\n",
       "      <th>CO</th>\n",
       "      <th>PM10</th>\n",
       "      <th>PM2.5</th>\n",
       "      <th>Temp_Avg</th>\n",
       "      <th>RH_Avg</th>\n",
       "      <th>WSpeed_Avg</th>\n",
       "      <th>WDir_Avg</th>\n",
       "      <th>Press_Avg</th>\n",
       "      <th>Rad_Avg</th>\n",
       "      <th>Rain_Tot</th>\n",
       "      <th>Clustering Jerarquico 9</th>\n",
       "    </tr>\n",
       "  </thead>\n",
       "  <tbody>\n",
       "    <tr>\n",
       "      <th>0</th>\n",
       "      <td>42.098597</td>\n",
       "      <td>2.377042</td>\n",
       "      <td>0.378701</td>\n",
       "      <td>0.269903</td>\n",
       "      <td>32.476493</td>\n",
       "      <td>20.131194</td>\n",
       "      <td>19.830514</td>\n",
       "      <td>29.753889</td>\n",
       "      <td>2.439608</td>\n",
       "      <td>154.966895</td>\n",
       "      <td>804.314569</td>\n",
       "      <td>630.264466</td>\n",
       "      <td>0.0</td>\n",
       "      <td>4</td>\n",
       "    </tr>\n",
       "    <tr>\n",
       "      <th>1</th>\n",
       "      <td>44.560389</td>\n",
       "      <td>1.889646</td>\n",
       "      <td>0.215486</td>\n",
       "      <td>0.244556</td>\n",
       "      <td>28.960708</td>\n",
       "      <td>18.765649</td>\n",
       "      <td>20.916111</td>\n",
       "      <td>27.642535</td>\n",
       "      <td>2.883990</td>\n",
       "      <td>231.153622</td>\n",
       "      <td>803.925649</td>\n",
       "      <td>659.373538</td>\n",
       "      <td>0.0</td>\n",
       "      <td>1</td>\n",
       "    </tr>\n",
       "    <tr>\n",
       "      <th>2</th>\n",
       "      <td>50.777618</td>\n",
       "      <td>4.491722</td>\n",
       "      <td>0.745514</td>\n",
       "      <td>0.397743</td>\n",
       "      <td>49.597222</td>\n",
       "      <td>35.021854</td>\n",
       "      <td>21.357729</td>\n",
       "      <td>30.954847</td>\n",
       "      <td>1.604234</td>\n",
       "      <td>178.251752</td>\n",
       "      <td>803.767500</td>\n",
       "      <td>485.725435</td>\n",
       "      <td>0.0</td>\n",
       "      <td>1</td>\n",
       "    </tr>\n",
       "    <tr>\n",
       "      <th>3</th>\n",
       "      <td>50.881806</td>\n",
       "      <td>4.101944</td>\n",
       "      <td>0.455646</td>\n",
       "      <td>0.384681</td>\n",
       "      <td>48.555437</td>\n",
       "      <td>35.872396</td>\n",
       "      <td>21.968729</td>\n",
       "      <td>35.661208</td>\n",
       "      <td>1.729689</td>\n",
       "      <td>183.150144</td>\n",
       "      <td>804.870299</td>\n",
       "      <td>422.336301</td>\n",
       "      <td>0.0</td>\n",
       "      <td>1</td>\n",
       "    </tr>\n",
       "    <tr>\n",
       "      <th>4</th>\n",
       "      <td>52.673167</td>\n",
       "      <td>4.675542</td>\n",
       "      <td>0.458521</td>\n",
       "      <td>0.442660</td>\n",
       "      <td>52.817632</td>\n",
       "      <td>41.230729</td>\n",
       "      <td>21.668757</td>\n",
       "      <td>42.649750</td>\n",
       "      <td>1.900280</td>\n",
       "      <td>137.419527</td>\n",
       "      <td>805.930109</td>\n",
       "      <td>449.436559</td>\n",
       "      <td>0.2</td>\n",
       "      <td>1</td>\n",
       "    </tr>\n",
       "  </tbody>\n",
       "</table>\n",
       "</div>"
      ],
      "text/plain": [
       "          O3       NO2        NO        CO       PM10      PM2.5   Temp_Avg  \\\n",
       "0  42.098597  2.377042  0.378701  0.269903  32.476493  20.131194  19.830514   \n",
       "1  44.560389  1.889646  0.215486  0.244556  28.960708  18.765649  20.916111   \n",
       "2  50.777618  4.491722  0.745514  0.397743  49.597222  35.021854  21.357729   \n",
       "3  50.881806  4.101944  0.455646  0.384681  48.555437  35.872396  21.968729   \n",
       "4  52.673167  4.675542  0.458521  0.442660  52.817632  41.230729  21.668757   \n",
       "\n",
       "      RH_Avg  WSpeed_Avg    WDir_Avg   Press_Avg     Rad_Avg  Rain_Tot  \\\n",
       "0  29.753889    2.439608  154.966895  804.314569  630.264466       0.0   \n",
       "1  27.642535    2.883990  231.153622  803.925649  659.373538       0.0   \n",
       "2  30.954847    1.604234  178.251752  803.767500  485.725435       0.0   \n",
       "3  35.661208    1.729689  183.150144  804.870299  422.336301       0.0   \n",
       "4  42.649750    1.900280  137.419527  805.930109  449.436559       0.2   \n",
       "\n",
       "   Clustering Jerarquico 9  \n",
       "0                        4  \n",
       "1                        1  \n",
       "2                        1  \n",
       "3                        1  \n",
       "4                        1  "
      ]
     },
     "execution_count": 19,
     "metadata": {},
     "output_type": "execute_result"
    }
   ],
   "source": [
    "df1.head()"
   ]
  },
  {
   "cell_type": "code",
   "execution_count": 20,
   "metadata": {},
   "outputs": [],
   "source": [
    "clustering_jerarquico2 = AgglomerativeClustering(n_clusters=3, linkage=\"ward\").fit(df_ss)\n",
    "df1[\"Clustering Jerarquico 3\"] = clustering_jerarquico2.labels_"
   ]
  },
  {
   "cell_type": "code",
   "execution_count": 21,
   "metadata": {},
   "outputs": [
    {
     "data": {
      "text/html": [
       "<div>\n",
       "<style scoped>\n",
       "    .dataframe tbody tr th:only-of-type {\n",
       "        vertical-align: middle;\n",
       "    }\n",
       "\n",
       "    .dataframe tbody tr th {\n",
       "        vertical-align: top;\n",
       "    }\n",
       "\n",
       "    .dataframe thead th {\n",
       "        text-align: right;\n",
       "    }\n",
       "</style>\n",
       "<table border=\"1\" class=\"dataframe\">\n",
       "  <thead>\n",
       "    <tr style=\"text-align: right;\">\n",
       "      <th></th>\n",
       "      <th>O3</th>\n",
       "      <th>NO2</th>\n",
       "      <th>NO</th>\n",
       "      <th>CO</th>\n",
       "      <th>PM10</th>\n",
       "      <th>PM2.5</th>\n",
       "      <th>Temp_Avg</th>\n",
       "      <th>RH_Avg</th>\n",
       "      <th>WSpeed_Avg</th>\n",
       "      <th>WDir_Avg</th>\n",
       "      <th>Press_Avg</th>\n",
       "      <th>Rad_Avg</th>\n",
       "      <th>Rain_Tot</th>\n",
       "      <th>Clustering Jerarquico 9</th>\n",
       "      <th>Clustering Jerarquico 3</th>\n",
       "    </tr>\n",
       "  </thead>\n",
       "  <tbody>\n",
       "    <tr>\n",
       "      <th>0</th>\n",
       "      <td>42.098597</td>\n",
       "      <td>2.377042</td>\n",
       "      <td>0.378701</td>\n",
       "      <td>0.269903</td>\n",
       "      <td>32.476493</td>\n",
       "      <td>20.131194</td>\n",
       "      <td>19.830514</td>\n",
       "      <td>29.753889</td>\n",
       "      <td>2.439608</td>\n",
       "      <td>154.966895</td>\n",
       "      <td>804.314569</td>\n",
       "      <td>630.264466</td>\n",
       "      <td>0.0</td>\n",
       "      <td>4</td>\n",
       "      <td>1</td>\n",
       "    </tr>\n",
       "    <tr>\n",
       "      <th>1</th>\n",
       "      <td>44.560389</td>\n",
       "      <td>1.889646</td>\n",
       "      <td>0.215486</td>\n",
       "      <td>0.244556</td>\n",
       "      <td>28.960708</td>\n",
       "      <td>18.765649</td>\n",
       "      <td>20.916111</td>\n",
       "      <td>27.642535</td>\n",
       "      <td>2.883990</td>\n",
       "      <td>231.153622</td>\n",
       "      <td>803.925649</td>\n",
       "      <td>659.373538</td>\n",
       "      <td>0.0</td>\n",
       "      <td>1</td>\n",
       "      <td>1</td>\n",
       "    </tr>\n",
       "    <tr>\n",
       "      <th>2</th>\n",
       "      <td>50.777618</td>\n",
       "      <td>4.491722</td>\n",
       "      <td>0.745514</td>\n",
       "      <td>0.397743</td>\n",
       "      <td>49.597222</td>\n",
       "      <td>35.021854</td>\n",
       "      <td>21.357729</td>\n",
       "      <td>30.954847</td>\n",
       "      <td>1.604234</td>\n",
       "      <td>178.251752</td>\n",
       "      <td>803.767500</td>\n",
       "      <td>485.725435</td>\n",
       "      <td>0.0</td>\n",
       "      <td>1</td>\n",
       "      <td>1</td>\n",
       "    </tr>\n",
       "    <tr>\n",
       "      <th>3</th>\n",
       "      <td>50.881806</td>\n",
       "      <td>4.101944</td>\n",
       "      <td>0.455646</td>\n",
       "      <td>0.384681</td>\n",
       "      <td>48.555437</td>\n",
       "      <td>35.872396</td>\n",
       "      <td>21.968729</td>\n",
       "      <td>35.661208</td>\n",
       "      <td>1.729689</td>\n",
       "      <td>183.150144</td>\n",
       "      <td>804.870299</td>\n",
       "      <td>422.336301</td>\n",
       "      <td>0.0</td>\n",
       "      <td>1</td>\n",
       "      <td>1</td>\n",
       "    </tr>\n",
       "    <tr>\n",
       "      <th>4</th>\n",
       "      <td>52.673167</td>\n",
       "      <td>4.675542</td>\n",
       "      <td>0.458521</td>\n",
       "      <td>0.442660</td>\n",
       "      <td>52.817632</td>\n",
       "      <td>41.230729</td>\n",
       "      <td>21.668757</td>\n",
       "      <td>42.649750</td>\n",
       "      <td>1.900280</td>\n",
       "      <td>137.419527</td>\n",
       "      <td>805.930109</td>\n",
       "      <td>449.436559</td>\n",
       "      <td>0.2</td>\n",
       "      <td>1</td>\n",
       "      <td>1</td>\n",
       "    </tr>\n",
       "  </tbody>\n",
       "</table>\n",
       "</div>"
      ],
      "text/plain": [
       "          O3       NO2        NO        CO       PM10      PM2.5   Temp_Avg  \\\n",
       "0  42.098597  2.377042  0.378701  0.269903  32.476493  20.131194  19.830514   \n",
       "1  44.560389  1.889646  0.215486  0.244556  28.960708  18.765649  20.916111   \n",
       "2  50.777618  4.491722  0.745514  0.397743  49.597222  35.021854  21.357729   \n",
       "3  50.881806  4.101944  0.455646  0.384681  48.555437  35.872396  21.968729   \n",
       "4  52.673167  4.675542  0.458521  0.442660  52.817632  41.230729  21.668757   \n",
       "\n",
       "      RH_Avg  WSpeed_Avg    WDir_Avg   Press_Avg     Rad_Avg  Rain_Tot  \\\n",
       "0  29.753889    2.439608  154.966895  804.314569  630.264466       0.0   \n",
       "1  27.642535    2.883990  231.153622  803.925649  659.373538       0.0   \n",
       "2  30.954847    1.604234  178.251752  803.767500  485.725435       0.0   \n",
       "3  35.661208    1.729689  183.150144  804.870299  422.336301       0.0   \n",
       "4  42.649750    1.900280  137.419527  805.930109  449.436559       0.2   \n",
       "\n",
       "   Clustering Jerarquico 9  Clustering Jerarquico 3  \n",
       "0                        4                        1  \n",
       "1                        1                        1  \n",
       "2                        1                        1  \n",
       "3                        1                        1  \n",
       "4                        1                        1  "
      ]
     },
     "execution_count": 21,
     "metadata": {},
     "output_type": "execute_result"
    }
   ],
   "source": [
    "df1.head()"
   ]
  },
  {
   "cell_type": "markdown",
   "metadata": {},
   "source": [
    "# Clustering con centroides: Kmedoids"
   ]
  },
  {
   "cell_type": "code",
   "execution_count": 22,
   "metadata": {},
   "outputs": [],
   "source": [
    "def buscar_k(df:pd.DataFrame, k_test:int):\n",
    "    inercia = []\n",
    "    for k in range(1, k_test+1):\n",
    "        model = kmedoids.KMedoids(n_clusters=k, metric='euclidean', method='fasterpam')\n",
    "        model.fit(df.values)\n",
    "        inercia.append(model.inertia_)\n",
    "\n",
    "\n",
    "    sns.set_style(\"darkgrid\")\n",
    "    fig, ax = plt.subplots()\n",
    "    plt.title(\"Búsqueda del número de clusters con la inercia para KMedoids\", fontsize=16)\n",
    "    sns.scatterplot(x=range(1, k_test+1), y=inercia, color=\"seagreen\")\n",
    "    ax.set_xlabel(\"Número de clusters\", fontsize=12)\n",
    "    ax.set_ylabel(\"Inercia\", fontsize=12)\n",
    "    plt.show()"
   ]
  },
  {
   "cell_type": "code",
   "execution_count": 23,
   "metadata": {},
   "outputs": [
    {
     "data": {
      "image/png": "[encoded data removed]",
      "text/plain": [
       "<Figure size 640x480 with 1 Axes>"
      ]
     },
     "metadata": {},
     "output_type": "display_data"
    }
   ],
   "source": [
    "buscar_k(df_ss, 32)"
   ]
  },
  {
   "cell_type": "code",
   "execution_count": 24,
   "metadata": {},
   "outputs": [],
   "source": [
    "def buscar_k_con_silhouette(df:pd.DataFrame, k_test:int):\n",
    "    silhouette = []\n",
    "    for k in range(2, k_test+1):\n",
    "        model = kmedoids.KMedoids(n_clusters=k, metric='euclidean', method='fasterpam')\n",
    "        model.fit(df.values)\n",
    "        silhouette.append(silhouette_score(df.values, model.labels_, metric='euclidean'))\n",
    "\n",
    "\n",
    "    sns.set_style(\"darkgrid\")\n",
    "    fig, ax = plt.subplots()\n",
    "    plt.title(\"Búsqueda del número de clusters con el silhouette para KMedoids\", fontsize=16)\n",
    "    sns.scatterplot(x=range(2, k_test+1), y=silhouette, color=\"saddlebrown\")\n",
    "    ax.set_xlabel(\"Número de clusters\", fontsize=12)\n",
    "    ax.set_ylabel(\"Silhouette\", fontsize=12)\n",
    "    plt.show()"
   ]
  },
  {
   "cell_type": "code",
   "execution_count": 25,
   "metadata": {},
   "outputs": [
    {
     "data": {
      "image/png": "[encoded data removed]",
      "text/plain": [
       "<Figure size 640x480 with 1 Axes>"
      ]
     },
     "metadata": {},
     "output_type": "display_data"
    }
   ],
   "source": [
    "buscar_k_con_silhouette(df_ss, 32)"
   ]
  },
  {
   "cell_type": "code",
   "execution_count": 26,
   "metadata": {},
   "outputs": [
    {
     "data": {
      "text/html": [
       "<div>\n",
       "<style scoped>\n",
       "    .dataframe tbody tr th:only-of-type {\n",
       "        vertical-align: middle;\n",
       "    }\n",
       "\n",
       "    .dataframe tbody tr th {\n",
       "        vertical-align: top;\n",
       "    }\n",
       "\n",
       "    .dataframe thead th {\n",
       "        text-align: right;\n",
       "    }\n",
       "</style>\n",
       "<table border=\"1\" class=\"dataframe\">\n",
       "  <thead>\n",
       "    <tr style=\"text-align: right;\">\n",
       "      <th></th>\n",
       "      <th>O3</th>\n",
       "      <th>NO2</th>\n",
       "      <th>NO</th>\n",
       "      <th>CO</th>\n",
       "      <th>PM10</th>\n",
       "      <th>PM2.5</th>\n",
       "      <th>Temp_Avg</th>\n",
       "      <th>RH_Avg</th>\n",
       "      <th>WSpeed_Avg</th>\n",
       "      <th>WDir_Avg</th>\n",
       "      <th>Press_Avg</th>\n",
       "      <th>Rad_Avg</th>\n",
       "      <th>Rain_Tot</th>\n",
       "      <th>Clustering Jerarquico 9</th>\n",
       "      <th>Clustering Jerarquico 3</th>\n",
       "      <th>Clustering KMedoids 2</th>\n",
       "      <th>Clustering KMedoids 3</th>\n",
       "    </tr>\n",
       "  </thead>\n",
       "  <tbody>\n",
       "    <tr>\n",
       "      <th>0</th>\n",
       "      <td>42.098597</td>\n",
       "      <td>2.377042</td>\n",
       "      <td>0.378701</td>\n",
       "      <td>0.269903</td>\n",
       "      <td>32.476493</td>\n",
       "      <td>20.131194</td>\n",
       "      <td>19.830514</td>\n",
       "      <td>29.753889</td>\n",
       "      <td>2.439608</td>\n",
       "      <td>154.966895</td>\n",
       "      <td>804.314569</td>\n",
       "      <td>630.264466</td>\n",
       "      <td>0.0</td>\n",
       "      <td>4</td>\n",
       "      <td>1</td>\n",
       "      <td>1</td>\n",
       "      <td>1</td>\n",
       "    </tr>\n",
       "    <tr>\n",
       "      <th>1</th>\n",
       "      <td>44.560389</td>\n",
       "      <td>1.889646</td>\n",
       "      <td>0.215486</td>\n",
       "      <td>0.244556</td>\n",
       "      <td>28.960708</td>\n",
       "      <td>18.765649</td>\n",
       "      <td>20.916111</td>\n",
       "      <td>27.642535</td>\n",
       "      <td>2.883990</td>\n",
       "      <td>231.153622</td>\n",
       "      <td>803.925649</td>\n",
       "      <td>659.373538</td>\n",
       "      <td>0.0</td>\n",
       "      <td>1</td>\n",
       "      <td>1</td>\n",
       "      <td>1</td>\n",
       "      <td>1</td>\n",
       "    </tr>\n",
       "    <tr>\n",
       "      <th>2</th>\n",
       "      <td>50.777618</td>\n",
       "      <td>4.491722</td>\n",
       "      <td>0.745514</td>\n",
       "      <td>0.397743</td>\n",
       "      <td>49.597222</td>\n",
       "      <td>35.021854</td>\n",
       "      <td>21.357729</td>\n",
       "      <td>30.954847</td>\n",
       "      <td>1.604234</td>\n",
       "      <td>178.251752</td>\n",
       "      <td>803.767500</td>\n",
       "      <td>485.725435</td>\n",
       "      <td>0.0</td>\n",
       "      <td>1</td>\n",
       "      <td>1</td>\n",
       "      <td>1</td>\n",
       "      <td>1</td>\n",
       "    </tr>\n",
       "    <tr>\n",
       "      <th>3</th>\n",
       "      <td>50.881806</td>\n",
       "      <td>4.101944</td>\n",
       "      <td>0.455646</td>\n",
       "      <td>0.384681</td>\n",
       "      <td>48.555437</td>\n",
       "      <td>35.872396</td>\n",
       "      <td>21.968729</td>\n",
       "      <td>35.661208</td>\n",
       "      <td>1.729689</td>\n",
       "      <td>183.150144</td>\n",
       "      <td>804.870299</td>\n",
       "      <td>422.336301</td>\n",
       "      <td>0.0</td>\n",
       "      <td>1</td>\n",
       "      <td>1</td>\n",
       "      <td>1</td>\n",
       "      <td>1</td>\n",
       "    </tr>\n",
       "    <tr>\n",
       "      <th>4</th>\n",
       "      <td>52.673167</td>\n",
       "      <td>4.675542</td>\n",
       "      <td>0.458521</td>\n",
       "      <td>0.442660</td>\n",
       "      <td>52.817632</td>\n",
       "      <td>41.230729</td>\n",
       "      <td>21.668757</td>\n",
       "      <td>42.649750</td>\n",
       "      <td>1.900280</td>\n",
       "      <td>137.419527</td>\n",
       "      <td>805.930109</td>\n",
       "      <td>449.436559</td>\n",
       "      <td>0.2</td>\n",
       "      <td>1</td>\n",
       "      <td>1</td>\n",
       "      <td>1</td>\n",
       "      <td>1</td>\n",
       "    </tr>\n",
       "  </tbody>\n",
       "</table>\n",
       "</div>"
      ],
      "text/plain": [
       "          O3       NO2        NO        CO       PM10      PM2.5   Temp_Avg  \\\n",
       "0  42.098597  2.377042  0.378701  0.269903  32.476493  20.131194  19.830514   \n",
       "1  44.560389  1.889646  0.215486  0.244556  28.960708  18.765649  20.916111   \n",
       "2  50.777618  4.491722  0.745514  0.397743  49.597222  35.021854  21.357729   \n",
       "3  50.881806  4.101944  0.455646  0.384681  48.555437  35.872396  21.968729   \n",
       "4  52.673167  4.675542  0.458521  0.442660  52.817632  41.230729  21.668757   \n",
       "\n",
       "      RH_Avg  WSpeed_Avg    WDir_Avg   Press_Avg     Rad_Avg  Rain_Tot  \\\n",
       "0  29.753889    2.439608  154.966895  804.314569  630.264466       0.0   \n",
       "1  27.642535    2.883990  231.153622  803.925649  659.373538       0.0   \n",
       "2  30.954847    1.604234  178.251752  803.767500  485.725435       0.0   \n",
       "3  35.661208    1.729689  183.150144  804.870299  422.336301       0.0   \n",
       "4  42.649750    1.900280  137.419527  805.930109  449.436559       0.2   \n",
       "\n",
       "   Clustering Jerarquico 9  Clustering Jerarquico 3  Clustering KMedoids 2  \\\n",
       "0                        4                        1                      1   \n",
       "1                        1                        1                      1   \n",
       "2                        1                        1                      1   \n",
       "3                        1                        1                      1   \n",
       "4                        1                        1                      1   \n",
       "\n",
       "   Clustering KMedoids 3  \n",
       "0                      1  \n",
       "1                      1  \n",
       "2                      1  \n",
       "3                      1  \n",
       "4                      1  "
      ]
     },
     "execution_count": 26,
     "metadata": {},
     "output_type": "execute_result"
    }
   ],
   "source": [
    "clustering_KMedoids_2 = kmedoids.KMedoids(n_clusters=2, metric='euclidean', method='fasterpam')\n",
    "clustering_KMedoids_2.fit(df_ss.values)\n",
    "df1[\"Clustering KMedoids 2\"] = clustering_KMedoids_2.labels_\n",
    "\n",
    "clustering_KMedoids_3 = kmedoids.KMedoids(n_clusters=3, metric='euclidean', method='fasterpam')\n",
    "clustering_KMedoids_3.fit(df_ss.values)\n",
    "df1[\"Clustering KMedoids 3\"] = clustering_KMedoids_3.labels_\n",
    "df1.head()"
   ]
  },
  {
   "cell_type": "markdown",
   "metadata": {},
   "source": [
    "# DBSCAN"
   ]
  },
  {
   "cell_type": "code",
   "execution_count": 53,
   "metadata": {},
   "outputs": [
    {
     "data": {
      "text/plain": [
       "array([ 0,  0,  0,  0, -1, -1,  0,  0,  0,  0,  0, -1, -1,  0,  0,  0, -1,\n",
       "        0,  0, -1,  0, -1,  0,  0,  0,  0,  0, -1,  0,  0,  0,  0,  0,  0,\n",
       "        0,  0,  0,  0,  0,  0,  0,  0, -1,  0,  0,  0,  0, -1, -1,  1, -1,\n",
       "       -1,  1,  1, -1,  1, -1, -1,  1, -1,  1,  1,  1,  1,  1,  1,  1,  1,\n",
       "       -1,  1,  1,  1,  1, -1, -1, -1, -1,  1, -1, -1, -1, -1,  1, -1, -1,\n",
       "       -1,  1, -1, -1,  1, -1,  1, -1,  1,  1, -1,  1,  1,  1,  1,  1, -1,\n",
       "       -1,  1, -1,  1,  1, -1, -1,  1,  1,  1,  1,  1,  1,  1,  1,  1,  1,\n",
       "        1,  1,  1, -1,  1,  1,  1,  1, -1,  1,  1,  1,  1,  1,  1,  1, -1,\n",
       "       -1,  1,  1,  1,  1,  1,  1, -1, -1, -1, -1, -1, -1,  1,  1, -1, -1,\n",
       "        1,  1,  1,  1,  1,  1,  1,  1, -1, -1, -1, -1,  1,  1,  1,  1, -1,\n",
       "        1,  1,  1,  1, -1,  1, -1, -1, -1, -1, -1,  1,  1,  1,  1,  1, -1,\n",
       "       -1, -1, -1,  1, -1, -1, -1, -1, -1, -1, -1, -1, -1, -1, -1, -1, -1,\n",
       "       -1, -1, -1, -1, -1,  1,  1,  1, -1, -1, -1, -1, -1, -1, -1, -1, -1,\n",
       "       -1, -1, -1, -1, -1,  1, -1, -1,  1, -1, -1,  1,  1,  1,  1, -1, -1,\n",
       "       -1,  1, -1, -1,  1, -1, -1, -1, -1, -1, -1, -1, -1, -1, -1, -1,  0,\n",
       "       -1, -1, -1, -1, -1, -1, -1, -1, -1, -1, -1, -1, -1, -1, -1, -1, -1,\n",
       "        0,  0,  0,  0,  0,  0,  0,  0,  0,  0,  0,  0,  0, -1,  0,  0,  0,\n",
       "        0,  0,  0,  0,  0,  0,  0,  0, -1,  0,  0,  0,  0,  0,  0,  0,  0,\n",
       "        0,  0,  0,  0,  0,  0,  0,  0, -1])"
      ]
     },
     "execution_count": 53,
     "metadata": {},
     "output_type": "execute_result"
    }
   ],
   "source": [
    "model_density = DBSCAN(eps=2, min_samples=8, metric='euclidean')\n",
    "model_density.fit(df_ss.values)\n",
    "model_density.labels_"
   ]
  },
  {
   "cell_type": "code",
   "execution_count": 54,
   "metadata": {},
   "outputs": [],
   "source": [
    "df1[\"Clustering DBSCAN 2\"] = clustering_KMedoids_3.labels_"
   ]
  },
  {
   "cell_type": "code",
   "execution_count": 55,
   "metadata": {},
   "outputs": [
    {
     "data": {
      "text/html": [
       "<div>\n",
       "<style scoped>\n",
       "    .dataframe tbody tr th:only-of-type {\n",
       "        vertical-align: middle;\n",
       "    }\n",
       "\n",
       "    .dataframe tbody tr th {\n",
       "        vertical-align: top;\n",
       "    }\n",
       "\n",
       "    .dataframe thead th {\n",
       "        text-align: right;\n",
       "    }\n",
       "</style>\n",
       "<table border=\"1\" class=\"dataframe\">\n",
       "  <thead>\n",
       "    <tr style=\"text-align: right;\">\n",
       "      <th></th>\n",
       "      <th>O3</th>\n",
       "      <th>NO2</th>\n",
       "      <th>NO</th>\n",
       "      <th>CO</th>\n",
       "      <th>PM10</th>\n",
       "      <th>PM2.5</th>\n",
       "      <th>Temp_Avg</th>\n",
       "      <th>RH_Avg</th>\n",
       "      <th>WSpeed_Avg</th>\n",
       "      <th>WDir_Avg</th>\n",
       "      <th>Press_Avg</th>\n",
       "      <th>Rad_Avg</th>\n",
       "      <th>Rain_Tot</th>\n",
       "      <th>Clustering Jerarquico 9</th>\n",
       "      <th>Clustering Jerarquico 3</th>\n",
       "      <th>Clustering KMedoids 2</th>\n",
       "      <th>Clustering KMedoids 3</th>\n",
       "      <th>Clustering DBSCAN 2</th>\n",
       "    </tr>\n",
       "  </thead>\n",
       "  <tbody>\n",
       "    <tr>\n",
       "      <th>0</th>\n",
       "      <td>42.098597</td>\n",
       "      <td>2.377042</td>\n",
       "      <td>0.378701</td>\n",
       "      <td>0.269903</td>\n",
       "      <td>32.476493</td>\n",
       "      <td>20.131194</td>\n",
       "      <td>19.830514</td>\n",
       "      <td>29.753889</td>\n",
       "      <td>2.439608</td>\n",
       "      <td>154.966895</td>\n",
       "      <td>804.314569</td>\n",
       "      <td>630.264466</td>\n",
       "      <td>0.0</td>\n",
       "      <td>4</td>\n",
       "      <td>1</td>\n",
       "      <td>1</td>\n",
       "      <td>1</td>\n",
       "      <td>1</td>\n",
       "    </tr>\n",
       "    <tr>\n",
       "      <th>1</th>\n",
       "      <td>44.560389</td>\n",
       "      <td>1.889646</td>\n",
       "      <td>0.215486</td>\n",
       "      <td>0.244556</td>\n",
       "      <td>28.960708</td>\n",
       "      <td>18.765649</td>\n",
       "      <td>20.916111</td>\n",
       "      <td>27.642535</td>\n",
       "      <td>2.883990</td>\n",
       "      <td>231.153622</td>\n",
       "      <td>803.925649</td>\n",
       "      <td>659.373538</td>\n",
       "      <td>0.0</td>\n",
       "      <td>1</td>\n",
       "      <td>1</td>\n",
       "      <td>1</td>\n",
       "      <td>1</td>\n",
       "      <td>1</td>\n",
       "    </tr>\n",
       "    <tr>\n",
       "      <th>2</th>\n",
       "      <td>50.777618</td>\n",
       "      <td>4.491722</td>\n",
       "      <td>0.745514</td>\n",
       "      <td>0.397743</td>\n",
       "      <td>49.597222</td>\n",
       "      <td>35.021854</td>\n",
       "      <td>21.357729</td>\n",
       "      <td>30.954847</td>\n",
       "      <td>1.604234</td>\n",
       "      <td>178.251752</td>\n",
       "      <td>803.767500</td>\n",
       "      <td>485.725435</td>\n",
       "      <td>0.0</td>\n",
       "      <td>1</td>\n",
       "      <td>1</td>\n",
       "      <td>1</td>\n",
       "      <td>1</td>\n",
       "      <td>1</td>\n",
       "    </tr>\n",
       "    <tr>\n",
       "      <th>3</th>\n",
       "      <td>50.881806</td>\n",
       "      <td>4.101944</td>\n",
       "      <td>0.455646</td>\n",
       "      <td>0.384681</td>\n",
       "      <td>48.555437</td>\n",
       "      <td>35.872396</td>\n",
       "      <td>21.968729</td>\n",
       "      <td>35.661208</td>\n",
       "      <td>1.729689</td>\n",
       "      <td>183.150144</td>\n",
       "      <td>804.870299</td>\n",
       "      <td>422.336301</td>\n",
       "      <td>0.0</td>\n",
       "      <td>1</td>\n",
       "      <td>1</td>\n",
       "      <td>1</td>\n",
       "      <td>1</td>\n",
       "      <td>1</td>\n",
       "    </tr>\n",
       "    <tr>\n",
       "      <th>4</th>\n",
       "      <td>52.673167</td>\n",
       "      <td>4.675542</td>\n",
       "      <td>0.458521</td>\n",
       "      <td>0.442660</td>\n",
       "      <td>52.817632</td>\n",
       "      <td>41.230729</td>\n",
       "      <td>21.668757</td>\n",
       "      <td>42.649750</td>\n",
       "      <td>1.900280</td>\n",
       "      <td>137.419527</td>\n",
       "      <td>805.930109</td>\n",
       "      <td>449.436559</td>\n",
       "      <td>0.2</td>\n",
       "      <td>1</td>\n",
       "      <td>1</td>\n",
       "      <td>1</td>\n",
       "      <td>1</td>\n",
       "      <td>1</td>\n",
       "    </tr>\n",
       "  </tbody>\n",
       "</table>\n",
       "</div>"
      ],
      "text/plain": [
       "          O3       NO2        NO        CO       PM10      PM2.5   Temp_Avg  \\\n",
       "0  42.098597  2.377042  0.378701  0.269903  32.476493  20.131194  19.830514   \n",
       "1  44.560389  1.889646  0.215486  0.244556  28.960708  18.765649  20.916111   \n",
       "2  50.777618  4.491722  0.745514  0.397743  49.597222  35.021854  21.357729   \n",
       "3  50.881806  4.101944  0.455646  0.384681  48.555437  35.872396  21.968729   \n",
       "4  52.673167  4.675542  0.458521  0.442660  52.817632  41.230729  21.668757   \n",
       "\n",
       "      RH_Avg  WSpeed_Avg    WDir_Avg   Press_Avg     Rad_Avg  Rain_Tot  \\\n",
       "0  29.753889    2.439608  154.966895  804.314569  630.264466       0.0   \n",
       "1  27.642535    2.883990  231.153622  803.925649  659.373538       0.0   \n",
       "2  30.954847    1.604234  178.251752  803.767500  485.725435       0.0   \n",
       "3  35.661208    1.729689  183.150144  804.870299  422.336301       0.0   \n",
       "4  42.649750    1.900280  137.419527  805.930109  449.436559       0.2   \n",
       "\n",
       "   Clustering Jerarquico 9  Clustering Jerarquico 3  Clustering KMedoids 2  \\\n",
       "0                        4                        1                      1   \n",
       "1                        1                        1                      1   \n",
       "2                        1                        1                      1   \n",
       "3                        1                        1                      1   \n",
       "4                        1                        1                      1   \n",
       "\n",
       "   Clustering KMedoids 3  Clustering DBSCAN 2  \n",
       "0                      1                    1  \n",
       "1                      1                    1  \n",
       "2                      1                    1  \n",
       "3                      1                    1  \n",
       "4                      1                    1  "
      ]
     },
     "execution_count": 55,
     "metadata": {},
     "output_type": "execute_result"
    }
   ],
   "source": [
    "df1.head()"
   ]
  },
  {
   "cell_type": "code",
   "execution_count": 59,
   "metadata": {},
   "outputs": [
    {
     "data": {
      "text/plain": [
       "{np.int64(0), np.int64(1), np.int64(2)}"
      ]
     },
     "execution_count": 59,
     "metadata": {},
     "output_type": "execute_result"
    }
   ],
   "source": [
    "set(clustering_jerarquico2.labels_)"
   ]
  },
  {
   "cell_type": "code",
   "execution_count": 61,
   "metadata": {},
   "outputs": [
    {
     "name": "stdout",
     "output_type": "stream",
     "text": [
      "Jerárquico con 9 clusters: 0.14\n",
      "Jerárquico con 3 clusters: 0.21\n",
      "KMedoids con 3 clusters: 0.2\n",
      "KMedoids con 2 clusters: 0.25\n",
      "DBSCAN con 2 clusters y outliers: 0.1\n"
     ]
    }
   ],
   "source": [
    "print(f\"Jerárquico con 9 clusters: {round(silhouette_score(df_ss.values, clustering_jerarquico1.labels_), 2)}\")\n",
    "print(f\"Jerárquico con 3 clusters: {round(silhouette_score(df_ss.values, clustering_jerarquico2.labels_), 2)}\")\n",
    "print(f\"KMedoids con 3 clusters: {round(silhouette_score(df_ss.values, clustering_KMedoids_3.labels_), 2)}\")\n",
    "print(f\"KMedoids con 2 clusters: {round(silhouette_score(df_ss.values, clustering_KMedoids_2.labels_), 2)}\")\n",
    "print(f\"DBSCAN con 2 clusters y outliers: {round(silhouette_score(df_ss.values, model_density.labels_), 2)}\")"
   ]
  },
  {
   "cell_type": "code",
   "execution_count": 62,
   "metadata": {},
   "outputs": [],
   "source": [
    "modelos = [clustering_jerarquico1, clustering_jerarquico2, clustering_KMedoids_3, clustering_KMedoids_2, model_density]"
   ]
  },
  {
   "cell_type": "markdown",
   "metadata": {},
   "source": [
    "# Clustering jerárquico después de aplicar PCA"
   ]
  },
  {
   "cell_type": "code",
   "execution_count": 63,
   "metadata": {},
   "outputs": [],
   "source": [
    "pca = PCA().fit(df_ss)\n",
    "explained = pca.explained_variance_ratio_\n",
    "cumulative = np.cumsum(explained)"
   ]
  },
  {
   "cell_type": "code",
   "execution_count": 64,
   "metadata": {},
   "outputs": [
    {
     "data": {
      "text/plain": [
       "array([0.36239809, 0.18586688, 0.09820275, 0.08414564, 0.05947136,\n",
       "       0.05077474, 0.04464382, 0.03631012, 0.02686421, 0.01779111,\n",
       "       0.01580292, 0.0131454 , 0.00458296])"
      ]
     },
     "execution_count": 64,
     "metadata": {},
     "output_type": "execute_result"
    }
   ],
   "source": [
    "explained"
   ]
  },
  {
   "cell_type": "code",
   "execution_count": 87,
   "metadata": {},
   "outputs": [
    {
     "data": {
      "image/png": "[encoded data removed]",
      "text/plain": [
       "<Figure size 800x500 with 1 Axes>"
      ]
     },
     "metadata": {},
     "output_type": "display_data"
    }
   ],
   "source": [
    "sns.set_style(\"darkgrid\")\n",
    "plt.figure(figsize=(8,5))\n",
    "sns.pointplot(x=range(1, len(explained)+1), y=cumulative, markers='o', linestyles='--', color=\"coral\")\n",
    "plt.title('Varianza Explicada Acumulada por el PCA', fontsize=18)\n",
    "plt.xlabel('Número de Componentes', fontsize=12)\n",
    "plt.ylabel('Varianza Explicada Acumulada', fontsize=12)\n",
    "plt.axhline(y=0.8, color='mediumpurple', linestyle='--')\n",
    "plt.ylim(0, 1.1)\n",
    "plt.show()"
   ]
  },
  {
   "cell_type": "code",
   "execution_count": 69,
   "metadata": {},
   "outputs": [
    {
     "data": {
      "text/html": [
       "<div>\n",
       "<style scoped>\n",
       "    .dataframe tbody tr th:only-of-type {\n",
       "        vertical-align: middle;\n",
       "    }\n",
       "\n",
       "    .dataframe tbody tr th {\n",
       "        vertical-align: top;\n",
       "    }\n",
       "\n",
       "    .dataframe thead th {\n",
       "        text-align: right;\n",
       "    }\n",
       "</style>\n",
       "<table border=\"1\" class=\"dataframe\">\n",
       "  <thead>\n",
       "    <tr style=\"text-align: right;\">\n",
       "      <th></th>\n",
       "      <th>PC1</th>\n",
       "      <th>PC2</th>\n",
       "      <th>PC3</th>\n",
       "      <th>PC4</th>\n",
       "      <th>PC5</th>\n",
       "      <th>PC6</th>\n",
       "    </tr>\n",
       "  </thead>\n",
       "  <tbody>\n",
       "    <tr>\n",
       "      <th>0</th>\n",
       "      <td>-3.164672</td>\n",
       "      <td>-0.803202</td>\n",
       "      <td>-1.025820</td>\n",
       "      <td>0.282816</td>\n",
       "      <td>0.014760</td>\n",
       "      <td>0.472629</td>\n",
       "    </tr>\n",
       "    <tr>\n",
       "      <th>1</th>\n",
       "      <td>-4.436239</td>\n",
       "      <td>-1.987863</td>\n",
       "      <td>-1.349363</td>\n",
       "      <td>-0.267252</td>\n",
       "      <td>0.598739</td>\n",
       "      <td>0.754170</td>\n",
       "    </tr>\n",
       "    <tr>\n",
       "      <th>2</th>\n",
       "      <td>-3.843192</td>\n",
       "      <td>1.914272</td>\n",
       "      <td>0.351344</td>\n",
       "      <td>-1.291032</td>\n",
       "      <td>-0.564044</td>\n",
       "      <td>-0.216747</td>\n",
       "    </tr>\n",
       "    <tr>\n",
       "      <th>3</th>\n",
       "      <td>-3.791167</td>\n",
       "      <td>1.602657</td>\n",
       "      <td>0.900057</td>\n",
       "      <td>-1.082825</td>\n",
       "      <td>-0.050485</td>\n",
       "      <td>-0.877389</td>\n",
       "    </tr>\n",
       "    <tr>\n",
       "      <th>4</th>\n",
       "      <td>-3.496826</td>\n",
       "      <td>2.692341</td>\n",
       "      <td>1.287733</td>\n",
       "      <td>-0.559267</td>\n",
       "      <td>0.181786</td>\n",
       "      <td>-1.055199</td>\n",
       "    </tr>\n",
       "  </tbody>\n",
       "</table>\n",
       "</div>"
      ],
      "text/plain": [
       "        PC1       PC2       PC3       PC4       PC5       PC6\n",
       "0 -3.164672 -0.803202 -1.025820  0.282816  0.014760  0.472629\n",
       "1 -4.436239 -1.987863 -1.349363 -0.267252  0.598739  0.754170\n",
       "2 -3.843192  1.914272  0.351344 -1.291032 -0.564044 -0.216747\n",
       "3 -3.791167  1.602657  0.900057 -1.082825 -0.050485 -0.877389\n",
       "4 -3.496826  2.692341  1.287733 -0.559267  0.181786 -1.055199"
      ]
     },
     "execution_count": 69,
     "metadata": {},
     "output_type": "execute_result"
    }
   ],
   "source": [
    "pca = PCA(n_components=6)\n",
    "df_ss_pca = pd.DataFrame(data=pca.fit_transform(df_ss), columns=[\"PC1\", \"PC2\", \"PC3\", \"PC4\", \"PC5\", \"PC6\"])\n",
    "df_ss_pca.head()"
   ]
  },
  {
   "cell_type": "code",
   "execution_count": 73,
   "metadata": {},
   "outputs": [
    {
     "data": {
      "image/png": "[encoded data removed]",
      "text/plain": [
       "<Figure size 640x480 with 1 Axes>"
      ]
     },
     "metadata": {},
     "output_type": "display_data"
    }
   ],
   "source": [
    "sns.set_style(\"dark\")\n",
    "Z = linkage(df_ss_pca, method=\"ward\", metric='euclidean')\n",
    "fig, ax = plt.subplots()\n",
    "plt.title(\"Dendrograma de clustering jerárquico con\\nencadenamiento de Ward después de aplicar PCA\", fontsize=18)\n",
    "dendrogram(Z, p=64, truncate_mode=\"lastp\", color_threshold=20, no_labels=True)\n",
    "plt.axhline(y=20, color='mediumpurple', linestyle='--')\n",
    "ax.set_ylabel(\"Distancia euclidiana\")\n",
    "ax.set_xlabel(\"Datos atmosféricos\")\n",
    "plt.show()"
   ]
  },
  {
   "cell_type": "code",
   "execution_count": 74,
   "metadata": {},
   "outputs": [],
   "source": [
    "clustering_jerarquico_pca = AgglomerativeClustering(n_clusters=3, linkage=\"ward\").fit(df_ss_pca)"
   ]
  },
  {
   "cell_type": "code",
   "execution_count": 75,
   "metadata": {},
   "outputs": [
    {
     "data": {
      "text/plain": [
       "array([1, 1, 1, 1, 1, 1, 1, 1, 1, 1, 1, 1, 1, 1, 1, 2, 2, 2, 1, 1, 1, 2,\n",
       "       1, 1, 1, 1, 1, 1, 1, 1, 1, 1, 1, 1, 1, 1, 1, 1, 1, 1, 1, 1, 1, 1,\n",
       "       1, 1, 0, 0, 0, 0, 2, 0, 0, 0, 0, 0, 0, 0, 0, 0, 0, 0, 0, 0, 0, 0,\n",
       "       0, 0, 0, 0, 0, 0, 0, 0, 0, 0, 2, 2, 2, 0, 0, 2, 0, 0, 0, 2, 0, 0,\n",
       "       0, 0, 0, 0, 0, 0, 0, 0, 0, 0, 0, 0, 2, 0, 0, 0, 0, 2, 2, 0, 0, 2,\n",
       "       0, 0, 0, 0, 0, 2, 2, 0, 0, 2, 2, 2, 0, 0, 0, 2, 2, 2, 2, 2, 2, 2,\n",
       "       2, 2, 2, 2, 2, 2, 0, 0, 0, 0, 2, 0, 0, 0, 0, 0, 0, 0, 2, 0, 0, 2,\n",
       "       2, 0, 0, 0, 0, 0, 0, 0, 2, 2, 2, 2, 2, 2, 2, 2, 2, 2, 2, 2, 0, 2,\n",
       "       2, 2, 2, 2, 2, 2, 2, 2, 2, 1, 2, 2, 0, 2, 0, 2, 2, 2, 0, 2, 2, 2,\n",
       "       2, 2, 2, 2, 2, 2, 2, 2, 2, 2, 2, 2, 2, 0, 0, 0, 0, 2, 0, 2, 2, 0,\n",
       "       0, 0, 0, 0, 0, 0, 0, 0, 0, 0, 0, 0, 0, 2, 2, 2, 2, 2, 2, 0, 0, 0,\n",
       "       0, 0, 2, 2, 2, 0, 0, 0, 1, 2, 2, 1, 0, 0, 0, 0, 0, 2, 2, 0, 0, 2,\n",
       "       2, 2, 2, 2, 2, 2, 2, 2, 2, 1, 1, 1, 1, 1, 1, 1, 1, 1, 1, 1, 1, 0,\n",
       "       1, 1, 1, 1, 1, 1, 1, 1, 1, 1, 1, 2, 1, 1, 1, 1, 1, 1, 1, 1, 1, 1,\n",
       "       1, 1, 1, 1, 1, 1, 1])"
      ]
     },
     "execution_count": 75,
     "metadata": {},
     "output_type": "execute_result"
    }
   ],
   "source": [
    "clustering_jerarquico_pca.labels_"
   ]
  },
  {
   "cell_type": "code",
   "execution_count": 77,
   "metadata": {},
   "outputs": [
    {
     "name": "stdout",
     "output_type": "stream",
     "text": [
      "Métricas de Silhouette\n",
      "Jerárquico con 9 clusters: 0.14\n",
      "Jerárquico con 3 clusters: 0.21\n",
      "KMedoids con 3 clusters: 0.2\n",
      "KMedoids con 2 clusters: 0.25\n",
      "DBSCAN con 2 clusters y outliers: 0.1\n",
      "Jerárquico con 3 clusters PCA: 0.24\n"
     ]
    }
   ],
   "source": [
    "print(\"Métricas de Silhouette\")\n",
    "print(f\"Jerárquico con 9 clusters: {round(silhouette_score(df_ss.values, clustering_jerarquico1.labels_), 2)}\")\n",
    "print(f\"Jerárquico con 3 clusters: {round(silhouette_score(df_ss.values, clustering_jerarquico2.labels_), 2)}\")\n",
    "print(f\"KMedoids con 3 clusters: {round(silhouette_score(df_ss.values, clustering_KMedoids_3.labels_), 2)}\")\n",
    "print(f\"KMedoids con 2 clusters: {round(silhouette_score(df_ss.values, clustering_KMedoids_2.labels_), 2)}\")\n",
    "print(f\"DBSCAN con 2 clusters y outliers: {round(silhouette_score(df_ss.values, model_density.labels_), 2)}\")\n",
    "print(f\"Jerárquico con 3 clusters PCA: {round(silhouette_score(df_ss_pca.values, clustering_jerarquico_pca.labels_), 2)}\")"
   ]
  },
  {
   "cell_type": "code",
   "execution_count": 78,
   "metadata": {},
   "outputs": [
    {
     "data": {
      "text/html": [
       "<div>\n",
       "<style scoped>\n",
       "    .dataframe tbody tr th:only-of-type {\n",
       "        vertical-align: middle;\n",
       "    }\n",
       "\n",
       "    .dataframe tbody tr th {\n",
       "        vertical-align: top;\n",
       "    }\n",
       "\n",
       "    .dataframe thead th {\n",
       "        text-align: right;\n",
       "    }\n",
       "</style>\n",
       "<table border=\"1\" class=\"dataframe\">\n",
       "  <thead>\n",
       "    <tr style=\"text-align: right;\">\n",
       "      <th></th>\n",
       "      <th>O3</th>\n",
       "      <th>NO2</th>\n",
       "      <th>NO</th>\n",
       "      <th>CO</th>\n",
       "      <th>PM10</th>\n",
       "      <th>PM2.5</th>\n",
       "      <th>Temp_Avg</th>\n",
       "      <th>RH_Avg</th>\n",
       "      <th>WSpeed_Avg</th>\n",
       "      <th>WDir_Avg</th>\n",
       "      <th>Press_Avg</th>\n",
       "      <th>Rad_Avg</th>\n",
       "      <th>Rain_Tot</th>\n",
       "      <th>Clustering Jerarquico 9</th>\n",
       "      <th>Clustering Jerarquico 3</th>\n",
       "      <th>Clustering KMedoids 2</th>\n",
       "      <th>Clustering KMedoids 3</th>\n",
       "      <th>Clustering DBSCAN 2</th>\n",
       "      <th>Clustering Jerarquico 3 PCA</th>\n",
       "    </tr>\n",
       "  </thead>\n",
       "  <tbody>\n",
       "    <tr>\n",
       "      <th>0</th>\n",
       "      <td>42.098597</td>\n",
       "      <td>2.377042</td>\n",
       "      <td>0.378701</td>\n",
       "      <td>0.269903</td>\n",
       "      <td>32.476493</td>\n",
       "      <td>20.131194</td>\n",
       "      <td>19.830514</td>\n",
       "      <td>29.753889</td>\n",
       "      <td>2.439608</td>\n",
       "      <td>154.966895</td>\n",
       "      <td>804.314569</td>\n",
       "      <td>630.264466</td>\n",
       "      <td>0.0</td>\n",
       "      <td>4</td>\n",
       "      <td>1</td>\n",
       "      <td>1</td>\n",
       "      <td>1</td>\n",
       "      <td>1</td>\n",
       "      <td>1</td>\n",
       "    </tr>\n",
       "    <tr>\n",
       "      <th>1</th>\n",
       "      <td>44.560389</td>\n",
       "      <td>1.889646</td>\n",
       "      <td>0.215486</td>\n",
       "      <td>0.244556</td>\n",
       "      <td>28.960708</td>\n",
       "      <td>18.765649</td>\n",
       "      <td>20.916111</td>\n",
       "      <td>27.642535</td>\n",
       "      <td>2.883990</td>\n",
       "      <td>231.153622</td>\n",
       "      <td>803.925649</td>\n",
       "      <td>659.373538</td>\n",
       "      <td>0.0</td>\n",
       "      <td>1</td>\n",
       "      <td>1</td>\n",
       "      <td>1</td>\n",
       "      <td>1</td>\n",
       "      <td>1</td>\n",
       "      <td>1</td>\n",
       "    </tr>\n",
       "    <tr>\n",
       "      <th>2</th>\n",
       "      <td>50.777618</td>\n",
       "      <td>4.491722</td>\n",
       "      <td>0.745514</td>\n",
       "      <td>0.397743</td>\n",
       "      <td>49.597222</td>\n",
       "      <td>35.021854</td>\n",
       "      <td>21.357729</td>\n",
       "      <td>30.954847</td>\n",
       "      <td>1.604234</td>\n",
       "      <td>178.251752</td>\n",
       "      <td>803.767500</td>\n",
       "      <td>485.725435</td>\n",
       "      <td>0.0</td>\n",
       "      <td>1</td>\n",
       "      <td>1</td>\n",
       "      <td>1</td>\n",
       "      <td>1</td>\n",
       "      <td>1</td>\n",
       "      <td>1</td>\n",
       "    </tr>\n",
       "    <tr>\n",
       "      <th>3</th>\n",
       "      <td>50.881806</td>\n",
       "      <td>4.101944</td>\n",
       "      <td>0.455646</td>\n",
       "      <td>0.384681</td>\n",
       "      <td>48.555437</td>\n",
       "      <td>35.872396</td>\n",
       "      <td>21.968729</td>\n",
       "      <td>35.661208</td>\n",
       "      <td>1.729689</td>\n",
       "      <td>183.150144</td>\n",
       "      <td>804.870299</td>\n",
       "      <td>422.336301</td>\n",
       "      <td>0.0</td>\n",
       "      <td>1</td>\n",
       "      <td>1</td>\n",
       "      <td>1</td>\n",
       "      <td>1</td>\n",
       "      <td>1</td>\n",
       "      <td>1</td>\n",
       "    </tr>\n",
       "    <tr>\n",
       "      <th>4</th>\n",
       "      <td>52.673167</td>\n",
       "      <td>4.675542</td>\n",
       "      <td>0.458521</td>\n",
       "      <td>0.442660</td>\n",
       "      <td>52.817632</td>\n",
       "      <td>41.230729</td>\n",
       "      <td>21.668757</td>\n",
       "      <td>42.649750</td>\n",
       "      <td>1.900280</td>\n",
       "      <td>137.419527</td>\n",
       "      <td>805.930109</td>\n",
       "      <td>449.436559</td>\n",
       "      <td>0.2</td>\n",
       "      <td>1</td>\n",
       "      <td>1</td>\n",
       "      <td>1</td>\n",
       "      <td>1</td>\n",
       "      <td>1</td>\n",
       "      <td>1</td>\n",
       "    </tr>\n",
       "  </tbody>\n",
       "</table>\n",
       "</div>"
      ],
      "text/plain": [
       "          O3       NO2        NO        CO       PM10      PM2.5   Temp_Avg  \\\n",
       "0  42.098597  2.377042  0.378701  0.269903  32.476493  20.131194  19.830514   \n",
       "1  44.560389  1.889646  0.215486  0.244556  28.960708  18.765649  20.916111   \n",
       "2  50.777618  4.491722  0.745514  0.397743  49.597222  35.021854  21.357729   \n",
       "3  50.881806  4.101944  0.455646  0.384681  48.555437  35.872396  21.968729   \n",
       "4  52.673167  4.675542  0.458521  0.442660  52.817632  41.230729  21.668757   \n",
       "\n",
       "      RH_Avg  WSpeed_Avg    WDir_Avg   Press_Avg     Rad_Avg  Rain_Tot  \\\n",
       "0  29.753889    2.439608  154.966895  804.314569  630.264466       0.0   \n",
       "1  27.642535    2.883990  231.153622  803.925649  659.373538       0.0   \n",
       "2  30.954847    1.604234  178.251752  803.767500  485.725435       0.0   \n",
       "3  35.661208    1.729689  183.150144  804.870299  422.336301       0.0   \n",
       "4  42.649750    1.900280  137.419527  805.930109  449.436559       0.2   \n",
       "\n",
       "   Clustering Jerarquico 9  Clustering Jerarquico 3  Clustering KMedoids 2  \\\n",
       "0                        4                        1                      1   \n",
       "1                        1                        1                      1   \n",
       "2                        1                        1                      1   \n",
       "3                        1                        1                      1   \n",
       "4                        1                        1                      1   \n",
       "\n",
       "   Clustering KMedoids 3  Clustering DBSCAN 2  Clustering Jerarquico 3 PCA  \n",
       "0                      1                    1                            1  \n",
       "1                      1                    1                            1  \n",
       "2                      1                    1                            1  \n",
       "3                      1                    1                            1  \n",
       "4                      1                    1                            1  "
      ]
     },
     "execution_count": 78,
     "metadata": {},
     "output_type": "execute_result"
    }
   ],
   "source": [
    "df1[\"Clustering Jerarquico 3 PCA\"] = clustering_jerarquico_pca.labels_\n",
    "df1.head()"
   ]
  },
  {
   "cell_type": "code",
   "execution_count": null,
   "metadata": {},
   "outputs": [],
   "source": [
    "modelos.append(clustering_jerarquico_pca)\n"
   ]
  },
  {
   "cell_type": "code",
   "execution_count": 80,
   "metadata": {},
   "outputs": [
    {
     "data": {
      "text/plain": [
       "[AgglomerativeClustering(n_clusters=9),\n",
       " AgglomerativeClustering(n_clusters=3),\n",
       " KMedoids(metric='euclidean', n_clusters=3),\n",
       " KMedoids(metric='euclidean', n_clusters=2),\n",
       " DBSCAN(eps=2, min_samples=8),\n",
       " AgglomerativeClustering(n_clusters=3)]"
      ]
     },
     "execution_count": 80,
     "metadata": {},
     "output_type": "execute_result"
    }
   ],
   "source": [
    "modelos"
   ]
  },
  {
   "cell_type": "code",
   "execution_count": 81,
   "metadata": {},
   "outputs": [],
   "source": [
    "mapeo = {0: \"Clustering Jerárquico 9\",\n",
    "         1: \"Clustering Jerárquico 3\",\n",
    "         2: \"Clustering KMedoids 3\",\n",
    "         3: \"Clustering KMedoids 2\",\n",
    "         4: \"Clustering DBSCAN 2 y outliers\",\n",
    "         5: \"Clustering Jerárquico 3 PCA\"}"
   ]
  },
  {
   "cell_type": "code",
   "execution_count": 83,
   "metadata": {},
   "outputs": [
    {
     "name": "stdout",
     "output_type": "stream",
     "text": [
      "Información mutua normalizada\n",
      "Clustering Jerárquico 9 con Clustering Jerárquico 3: 0.67\n",
      "Clustering Jerárquico 9 con Clustering KMedoids 3: 0.41\n",
      "Clustering Jerárquico 9 con Clustering KMedoids 2: 0.37\n",
      "Clustering Jerárquico 9 con Clustering DBSCAN 2 y outliers: 0.36\n",
      "Clustering Jerárquico 9 con Clustering Jerárquico 3 PCA: 0.44\n",
      "Clustering Jerárquico 3 con Clustering KMedoids 3: 0.5\n",
      "Clustering Jerárquico 3 con Clustering KMedoids 2: 0.58\n",
      "Clustering Jerárquico 3 con Clustering DBSCAN 2 y outliers: 0.46\n",
      "Clustering Jerárquico 3 con Clustering Jerárquico 3 PCA: 0.52\n",
      "Clustering KMedoids 3 con Clustering KMedoids 2: 0.53\n",
      "Clustering KMedoids 3 con Clustering DBSCAN 2 y outliers: 0.4\n",
      "Clustering KMedoids 3 con Clustering Jerárquico 3 PCA: 0.54\n",
      "Clustering KMedoids 2 con Clustering DBSCAN 2 y outliers: 0.48\n",
      "Clustering KMedoids 2 con Clustering Jerárquico 3 PCA: 0.54\n",
      "Clustering DBSCAN 2 y outliers con Clustering Jerárquico 3 PCA: 0.36\n"
     ]
    }
   ],
   "source": [
    "print(\"Información mutua normalizada\")\n",
    "for i, m1 in enumerate(modelos):\n",
    "    for j, m2 in enumerate(modelos[i+1:], start=i+1):\n",
    "        print(f\"{mapeo[i]} con {mapeo[j]}: {round(normalized_mutual_info_score(m1.labels_, m2.labels_), 2)}\")"
   ]
  },
  {
   "cell_type": "code",
   "execution_count": 88,
   "metadata": {},
   "outputs": [
    {
     "data": {
      "text/plain": [
       "np.float64(1.0)"
      ]
     },
     "execution_count": 88,
     "metadata": {},
     "output_type": "execute_result"
    }
   ],
   "source": [
    "normalized_mutual_info_score(modelos[0].labels_, modelos[0].labels_)"
   ]
  }
 ],
 "metadata": {
  "kernelspec": {
   "display_name": "ds",
   "language": "python",
   "name": "python3"
  },
  "language_info": {
   "codemirror_mode": {
    "name": "ipython",
    "version": 3
   },
   "file_extension": ".py",
   "mimetype": "text/x-python",
   "name": "python",
   "nbconvert_exporter": "python",
   "pygments_lexer": "ipython3",
   "version": "3.12.5"
  }
 },
 "nbformat": 4,
 "nbformat_minor": 2
}
