{
 "cells": [
  {
   "cell_type": "code",
   "execution_count": 1,
   "metadata": {},
   "outputs": [],
   "source": [
    "import pandas as pd\n",
    "import numpy as np\n",
    "import matplotlib.pyplot as plt\n",
    "import seaborn as sns\n",
    "from xgboost import XGBRegressor\n",
    "from sklearn.metrics import mean_squared_error\n",
    "from sklearn.model_selection import train_test_split"
   ]
  },
  {
   "cell_type": "code",
   "execution_count": 2,
   "metadata": {},
   "outputs": [
    {
     "data": {
      "text/html": [
       "<div>\n",
       "<style scoped>\n",
       "    .dataframe tbody tr th:only-of-type {\n",
       "        vertical-align: middle;\n",
       "    }\n",
       "\n",
       "    .dataframe tbody tr th {\n",
       "        vertical-align: top;\n",
       "    }\n",
       "\n",
       "    .dataframe thead th {\n",
       "        text-align: right;\n",
       "    }\n",
       "</style>\n",
       "<table border=\"1\" class=\"dataframe\">\n",
       "  <thead>\n",
       "    <tr style=\"text-align: right;\">\n",
       "      <th></th>\n",
       "      <th>O3</th>\n",
       "      <th>NO2</th>\n",
       "      <th>NO</th>\n",
       "      <th>CO</th>\n",
       "      <th>PM10</th>\n",
       "      <th>PM2.5</th>\n",
       "      <th>Temp_Avg</th>\n",
       "      <th>RH_Avg</th>\n",
       "      <th>WSpeed_Avg</th>\n",
       "      <th>WDir_Avg</th>\n",
       "      <th>Press_Avg</th>\n",
       "      <th>Rad_Avg</th>\n",
       "      <th>Rain_Tot</th>\n",
       "    </tr>\n",
       "  </thead>\n",
       "  <tbody>\n",
       "    <tr>\n",
       "      <th>0</th>\n",
       "      <td>42.098597</td>\n",
       "      <td>2.377042</td>\n",
       "      <td>0.378701</td>\n",
       "      <td>0.269903</td>\n",
       "      <td>32.476493</td>\n",
       "      <td>20.131194</td>\n",
       "      <td>19.830514</td>\n",
       "      <td>29.753889</td>\n",
       "      <td>2.439608</td>\n",
       "      <td>154.966895</td>\n",
       "      <td>804.314569</td>\n",
       "      <td>630.264466</td>\n",
       "      <td>0.0</td>\n",
       "    </tr>\n",
       "    <tr>\n",
       "      <th>1</th>\n",
       "      <td>44.560389</td>\n",
       "      <td>1.889646</td>\n",
       "      <td>0.215486</td>\n",
       "      <td>0.244556</td>\n",
       "      <td>28.960708</td>\n",
       "      <td>18.765649</td>\n",
       "      <td>20.916111</td>\n",
       "      <td>27.642535</td>\n",
       "      <td>2.883990</td>\n",
       "      <td>231.153622</td>\n",
       "      <td>803.925649</td>\n",
       "      <td>659.373538</td>\n",
       "      <td>0.0</td>\n",
       "    </tr>\n",
       "    <tr>\n",
       "      <th>2</th>\n",
       "      <td>50.777618</td>\n",
       "      <td>4.491722</td>\n",
       "      <td>0.745514</td>\n",
       "      <td>0.397743</td>\n",
       "      <td>49.597222</td>\n",
       "      <td>35.021854</td>\n",
       "      <td>21.357729</td>\n",
       "      <td>30.954847</td>\n",
       "      <td>1.604234</td>\n",
       "      <td>178.251752</td>\n",
       "      <td>803.767500</td>\n",
       "      <td>485.725435</td>\n",
       "      <td>0.0</td>\n",
       "    </tr>\n",
       "    <tr>\n",
       "      <th>3</th>\n",
       "      <td>50.881806</td>\n",
       "      <td>4.101944</td>\n",
       "      <td>0.455646</td>\n",
       "      <td>0.384681</td>\n",
       "      <td>48.555437</td>\n",
       "      <td>35.872396</td>\n",
       "      <td>21.968729</td>\n",
       "      <td>35.661208</td>\n",
       "      <td>1.729689</td>\n",
       "      <td>183.150144</td>\n",
       "      <td>804.870299</td>\n",
       "      <td>422.336301</td>\n",
       "      <td>0.0</td>\n",
       "    </tr>\n",
       "    <tr>\n",
       "      <th>4</th>\n",
       "      <td>52.673167</td>\n",
       "      <td>4.675542</td>\n",
       "      <td>0.458521</td>\n",
       "      <td>0.442660</td>\n",
       "      <td>52.817632</td>\n",
       "      <td>41.230729</td>\n",
       "      <td>21.668757</td>\n",
       "      <td>42.649750</td>\n",
       "      <td>1.900280</td>\n",
       "      <td>137.419527</td>\n",
       "      <td>805.930109</td>\n",
       "      <td>449.436559</td>\n",
       "      <td>0.2</td>\n",
       "    </tr>\n",
       "  </tbody>\n",
       "</table>\n",
       "</div>"
      ],
      "text/plain": [
       "          O3       NO2        NO  ...   Press_Avg     Rad_Avg  Rain_Tot\n",
       "0  42.098597  2.377042  0.378701  ...  804.314569  630.264466       0.0\n",
       "1  44.560389  1.889646  0.215486  ...  803.925649  659.373538       0.0\n",
       "2  50.777618  4.491722  0.745514  ...  803.767500  485.725435       0.0\n",
       "3  50.881806  4.101944  0.455646  ...  804.870299  422.336301       0.0\n",
       "4  52.673167  4.675542  0.458521  ...  805.930109  449.436559       0.2\n",
       "\n",
       "[5 rows x 13 columns]"
      ]
     },
     "execution_count": 2,
     "metadata": {},
     "output_type": "execute_result"
    }
   ],
   "source": [
    "df = pd.read_csv(\"../Preprocess/Preprocess.csv\")\n",
    "df.head()"
   ]
  },
  {
   "cell_type": "code",
   "execution_count": 4,
   "metadata": {},
   "outputs": [],
   "source": [
    "meteorological = ['Temp_Avg', 'RH_Avg','WSpeed_Avg', 'WDir_Avg', 'Press_Avg', 'Rad_Avg', 'Rain_Tot']"
   ]
  },
  {
   "cell_type": "markdown",
   "metadata": {},
   "source": [
    "# O3"
   ]
  },
  {
   "cell_type": "code",
   "execution_count": 13,
   "metadata": {},
   "outputs": [],
   "source": [
    "X = df[meteorological].values\n",
    "Y = df[\"O3\"].values"
   ]
  },
  {
   "cell_type": "code",
   "execution_count": 14,
   "metadata": {},
   "outputs": [],
   "source": [
    "Xtrain, Xtest, Ytrain, Ytest = train_test_split(X, Y, test_size=0.2)"
   ]
  },
  {
   "cell_type": "code",
   "execution_count": 15,
   "metadata": {},
   "outputs": [
    {
     "data": {
      "text/plain": [
       "(252, 7)"
      ]
     },
     "execution_count": 15,
     "metadata": {},
     "output_type": "execute_result"
    }
   ],
   "source": [
    "Xtrain.shape"
   ]
  },
  {
   "cell_type": "code",
   "execution_count": 17,
   "metadata": {},
   "outputs": [
    {
     "data": {
      "text/plain": [
       "(63, 7)"
      ]
     },
     "execution_count": 17,
     "metadata": {},
     "output_type": "execute_result"
    }
   ],
   "source": [
    "Xtest.shape"
   ]
  },
  {
   "cell_type": "code",
   "execution_count": null,
   "metadata": {},
   "outputs": [],
   "source": []
  }
 ],
 "metadata": {
  "kernelspec": {
   "display_name": "ds",
   "language": "python",
   "name": "python3"
  },
  "language_info": {
   "codemirror_mode": {
    "name": "ipython",
    "version": 3
   },
   "file_extension": ".py",
   "mimetype": "text/x-python",
   "name": "python",
   "nbconvert_exporter": "python",
   "pygments_lexer": "ipython3",
   "version": "3.12.5"
  }
 },
 "nbformat": 4,
 "nbformat_minor": 2
}
