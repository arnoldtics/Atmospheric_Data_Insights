{
 "cells": [
  {
   "cell_type": "code",
   "execution_count": 1,
   "id": "895f279a",
   "metadata": {},
   "outputs": [],
   "source": [
    "import pandas as pd\n",
    "import seaborn as sns\n",
    "import matplotlib.pyplot as plt\n",
    "import numpy as np"
   ]
  },
  {
   "cell_type": "code",
   "execution_count": 106,
   "id": "403914d3",
   "metadata": {},
   "outputs": [],
   "source": [
    "from sklearn.preprocessing import StandardScaler, OneHotEncoder, LabelEncoder\n",
    "from sklearn.neighbors import KNeighborsClassifier\n",
    "from sklearn.tree import DecisionTreeClassifier\n",
    "from sklearn.ensemble import GradientBoostingClassifier, RandomForestClassifier\n",
    "from sklearn.metrics import f1_score, make_scorer\n",
    "from sklearn.model_selection import cross_validate, StratifiedKFold"
   ]
  },
  {
   "cell_type": "code",
   "execution_count": 5,
   "id": "983b4c82",
   "metadata": {},
   "outputs": [],
   "source": [
    "df = pd.read_csv(\"DatasetAfterImputation.csv\")\n",
    "df[\"Time\"] = pd.to_datetime(df[\"Time\"])"
   ]
  },
  {
   "cell_type": "code",
   "execution_count": 6,
   "id": "e8202ebc",
   "metadata": {},
   "outputs": [
    {
     "data": {
      "text/html": [
       "<div>\n",
       "<style scoped>\n",
       "    .dataframe tbody tr th:only-of-type {\n",
       "        vertical-align: middle;\n",
       "    }\n",
       "\n",
       "    .dataframe tbody tr th {\n",
       "        vertical-align: top;\n",
       "    }\n",
       "\n",
       "    .dataframe thead th {\n",
       "        text-align: right;\n",
       "    }\n",
       "</style>\n",
       "<table border=\"1\" class=\"dataframe\">\n",
       "  <thead>\n",
       "    <tr style=\"text-align: right;\">\n",
       "      <th></th>\n",
       "      <th>Time</th>\n",
       "      <th>O3_flag</th>\n",
       "      <th>SO2_flag</th>\n",
       "      <th>NO2_flag</th>\n",
       "      <th>NO_flag</th>\n",
       "      <th>CO_flag</th>\n",
       "      <th>PM10_flag</th>\n",
       "      <th>PM2.5_flag</th>\n",
       "      <th>WDir_Avg</th>\n",
       "      <th>Rain_Tot</th>\n",
       "      <th>...</th>\n",
       "      <th>CO</th>\n",
       "      <th>PM10</th>\n",
       "      <th>PM2.5</th>\n",
       "      <th>Temp_Avg</th>\n",
       "      <th>RH_Avg</th>\n",
       "      <th>WSpeed_Avg</th>\n",
       "      <th>WSpeed_Max</th>\n",
       "      <th>Press_Avg</th>\n",
       "      <th>Rad_Avg</th>\n",
       "      <th>City</th>\n",
       "    </tr>\n",
       "  </thead>\n",
       "  <tbody>\n",
       "    <tr>\n",
       "      <th>0</th>\n",
       "      <td>2015-01-01</td>\n",
       "      <td>OK</td>\n",
       "      <td>BDL</td>\n",
       "      <td>OK</td>\n",
       "      <td>OK</td>\n",
       "      <td>OK</td>\n",
       "      <td>OK</td>\n",
       "      <td>OK</td>\n",
       "      <td>254.0</td>\n",
       "      <td>0.48</td>\n",
       "      <td>...</td>\n",
       "      <td>0.417174</td>\n",
       "      <td>13.639045</td>\n",
       "      <td>15.658178</td>\n",
       "      <td>11.886855</td>\n",
       "      <td>49.923187</td>\n",
       "      <td>2.578788</td>\n",
       "      <td>3.392890</td>\n",
       "      <td>992.131944</td>\n",
       "      <td>161.775000</td>\n",
       "      <td>Hermosillo</td>\n",
       "    </tr>\n",
       "    <tr>\n",
       "      <th>1</th>\n",
       "      <td>2015-01-01</td>\n",
       "      <td>OK</td>\n",
       "      <td>BDL</td>\n",
       "      <td>OK</td>\n",
       "      <td>BDL</td>\n",
       "      <td>OK</td>\n",
       "      <td>OK</td>\n",
       "      <td>OK</td>\n",
       "      <td>6.0</td>\n",
       "      <td>0.00</td>\n",
       "      <td>...</td>\n",
       "      <td>0.364306</td>\n",
       "      <td>25.296419</td>\n",
       "      <td>14.544301</td>\n",
       "      <td>15.523583</td>\n",
       "      <td>63.943090</td>\n",
       "      <td>2.326524</td>\n",
       "      <td>2.288214</td>\n",
       "      <td>809.352778</td>\n",
       "      <td>182.410231</td>\n",
       "      <td>Juriquilla</td>\n",
       "    </tr>\n",
       "    <tr>\n",
       "      <th>2</th>\n",
       "      <td>2015-01-02</td>\n",
       "      <td>OK</td>\n",
       "      <td>BDL</td>\n",
       "      <td>OK</td>\n",
       "      <td>BDL</td>\n",
       "      <td>OK</td>\n",
       "      <td>OK</td>\n",
       "      <td>OK</td>\n",
       "      <td>208.0</td>\n",
       "      <td>0.00</td>\n",
       "      <td>...</td>\n",
       "      <td>0.324340</td>\n",
       "      <td>21.233012</td>\n",
       "      <td>8.838785</td>\n",
       "      <td>17.286563</td>\n",
       "      <td>48.132736</td>\n",
       "      <td>2.749521</td>\n",
       "      <td>3.573296</td>\n",
       "      <td>807.790278</td>\n",
       "      <td>198.172784</td>\n",
       "      <td>Juriquilla</td>\n",
       "    </tr>\n",
       "    <tr>\n",
       "      <th>3</th>\n",
       "      <td>2015-01-02</td>\n",
       "      <td>OK</td>\n",
       "      <td>BDL</td>\n",
       "      <td>OK</td>\n",
       "      <td>OK</td>\n",
       "      <td>OK</td>\n",
       "      <td>OK</td>\n",
       "      <td>OK</td>\n",
       "      <td>245.0</td>\n",
       "      <td>0.00</td>\n",
       "      <td>...</td>\n",
       "      <td>0.647993</td>\n",
       "      <td>23.259388</td>\n",
       "      <td>13.146257</td>\n",
       "      <td>8.058157</td>\n",
       "      <td>47.275896</td>\n",
       "      <td>1.915147</td>\n",
       "      <td>2.608696</td>\n",
       "      <td>993.369444</td>\n",
       "      <td>178.987361</td>\n",
       "      <td>Hermosillo</td>\n",
       "    </tr>\n",
       "    <tr>\n",
       "      <th>4</th>\n",
       "      <td>2015-01-03</td>\n",
       "      <td>OK</td>\n",
       "      <td>BDL</td>\n",
       "      <td>OK</td>\n",
       "      <td>OK</td>\n",
       "      <td>OK</td>\n",
       "      <td>OK</td>\n",
       "      <td>OK</td>\n",
       "      <td>92.0</td>\n",
       "      <td>0.00</td>\n",
       "      <td>...</td>\n",
       "      <td>0.927549</td>\n",
       "      <td>37.489040</td>\n",
       "      <td>14.884469</td>\n",
       "      <td>10.231367</td>\n",
       "      <td>41.393625</td>\n",
       "      <td>1.528176</td>\n",
       "      <td>2.277276</td>\n",
       "      <td>996.759028</td>\n",
       "      <td>181.048750</td>\n",
       "      <td>Hermosillo</td>\n",
       "    </tr>\n",
       "  </tbody>\n",
       "</table>\n",
       "<p>5 rows × 25 columns</p>\n",
       "</div>"
      ],
      "text/plain": [
       "        Time O3_flag SO2_flag NO2_flag NO_flag CO_flag PM10_flag PM2.5_flag  \\\n",
       "0 2015-01-01      OK      BDL       OK      OK      OK        OK         OK   \n",
       "1 2015-01-01      OK      BDL       OK     BDL      OK        OK         OK   \n",
       "2 2015-01-02      OK      BDL       OK     BDL      OK        OK         OK   \n",
       "3 2015-01-02      OK      BDL       OK      OK      OK        OK         OK   \n",
       "4 2015-01-03      OK      BDL       OK      OK      OK        OK         OK   \n",
       "\n",
       "   WDir_Avg  Rain_Tot  ...        CO       PM10      PM2.5   Temp_Avg  \\\n",
       "0     254.0      0.48  ...  0.417174  13.639045  15.658178  11.886855   \n",
       "1       6.0      0.00  ...  0.364306  25.296419  14.544301  15.523583   \n",
       "2     208.0      0.00  ...  0.324340  21.233012   8.838785  17.286563   \n",
       "3     245.0      0.00  ...  0.647993  23.259388  13.146257   8.058157   \n",
       "4      92.0      0.00  ...  0.927549  37.489040  14.884469  10.231367   \n",
       "\n",
       "      RH_Avg  WSpeed_Avg  WSpeed_Max   Press_Avg     Rad_Avg        City  \n",
       "0  49.923187    2.578788    3.392890  992.131944  161.775000  Hermosillo  \n",
       "1  63.943090    2.326524    2.288214  809.352778  182.410231  Juriquilla  \n",
       "2  48.132736    2.749521    3.573296  807.790278  198.172784  Juriquilla  \n",
       "3  47.275896    1.915147    2.608696  993.369444  178.987361  Hermosillo  \n",
       "4  41.393625    1.528176    2.277276  996.759028  181.048750  Hermosillo  \n",
       "\n",
       "[5 rows x 25 columns]"
      ]
     },
     "execution_count": 6,
     "metadata": {},
     "output_type": "execute_result"
    }
   ],
   "source": [
    "df.head()"
   ]
  },
  {
   "cell_type": "code",
   "execution_count": 7,
   "id": "d04a0c5f",
   "metadata": {},
   "outputs": [
    {
     "name": "stdout",
     "output_type": "stream",
     "text": [
      "<class 'pandas.core.frame.DataFrame'>\n",
      "RangeIndex: 17659 entries, 0 to 17658\n",
      "Data columns (total 25 columns):\n",
      " #   Column      Non-Null Count  Dtype         \n",
      "---  ------      --------------  -----         \n",
      " 0   Time        17659 non-null  datetime64[ns]\n",
      " 1   O3_flag     17659 non-null  object        \n",
      " 2   SO2_flag    17659 non-null  object        \n",
      " 3   NO2_flag    17659 non-null  object        \n",
      " 4   NO_flag     17659 non-null  object        \n",
      " 5   CO_flag     17659 non-null  object        \n",
      " 6   PM10_flag   17659 non-null  object        \n",
      " 7   PM2.5_flag  17659 non-null  object        \n",
      " 8   WDir_Avg    17659 non-null  float64       \n",
      " 9   Rain_Tot    17659 non-null  float64       \n",
      " 10  WDir_SD     17659 non-null  float64       \n",
      " 11  O3          17659 non-null  float64       \n",
      " 12  SO2         17659 non-null  float64       \n",
      " 13  NO2         17659 non-null  float64       \n",
      " 14  NO          17659 non-null  float64       \n",
      " 15  CO          17659 non-null  float64       \n",
      " 16  PM10        17659 non-null  float64       \n",
      " 17  PM2.5       17659 non-null  float64       \n",
      " 18  Temp_Avg    17659 non-null  float64       \n",
      " 19  RH_Avg      17659 non-null  float64       \n",
      " 20  WSpeed_Avg  17659 non-null  float64       \n",
      " 21  WSpeed_Max  17659 non-null  float64       \n",
      " 22  Press_Avg   17659 non-null  float64       \n",
      " 23  Rad_Avg     17659 non-null  float64       \n",
      " 24  City        17659 non-null  object        \n",
      "dtypes: datetime64[ns](1), float64(16), object(8)\n",
      "memory usage: 3.4+ MB\n"
     ]
    }
   ],
   "source": [
    "df.info()"
   ]
  },
  {
   "cell_type": "code",
   "execution_count": 24,
   "id": "e21e7a69",
   "metadata": {},
   "outputs": [],
   "source": [
    "flag = [c for c in df.columns if \"flag\" in c]\n",
    "X_flag = df[flag]"
   ]
  },
  {
   "cell_type": "code",
   "execution_count": 36,
   "id": "7e73d186",
   "metadata": {},
   "outputs": [],
   "source": [
    "encoder = OneHotEncoder(sparse_output=False)\n",
    "X_encoded = encoder.fit_transform(X_flag)\n",
    "encoded_cols = encoder.get_feature_names_out(flag)"
   ]
  },
  {
   "cell_type": "code",
   "execution_count": 37,
   "id": "780bd3d1",
   "metadata": {},
   "outputs": [],
   "source": [
    "df_encoded = pd.DataFrame(X_encoded, columns=encoded_cols, index=df.index)\n",
    "df = df.drop(columns=flag)\n",
    "df = pd.concat([df, df_encoded], axis=1)"
   ]
  },
  {
   "cell_type": "code",
   "execution_count": 47,
   "id": "087eafd7",
   "metadata": {},
   "outputs": [],
   "source": [
    "X, Y = df.drop(columns=[\"City\", \"Time\"]), df[\"City\"]"
   ]
  },
  {
   "cell_type": "code",
   "execution_count": 48,
   "id": "56c5735e",
   "metadata": {},
   "outputs": [],
   "source": [
    "ss = StandardScaler()\n",
    "X_ss = ss.fit_transform(X.values)"
   ]
  },
  {
   "cell_type": "code",
   "execution_count": 50,
   "id": "7d754dd4",
   "metadata": {},
   "outputs": [],
   "source": [
    "ls = LabelEncoder()\n",
    "Y_encoded = ls.fit_transform(Y)"
   ]
  },
  {
   "cell_type": "code",
   "execution_count": 96,
   "id": "b192120a",
   "metadata": {},
   "outputs": [],
   "source": [
    "def f1_multiclase(Ytest, Ypred):\n",
    "    return f1_score(Ytest, Ypred, average='weighted')"
   ]
  },
  {
   "cell_type": "code",
   "execution_count": 101,
   "id": "f4db55ac",
   "metadata": {},
   "outputs": [],
   "source": [
    "f1_w = make_scorer(f1_multiclase)\n",
    "scoring = {'accuracy':'accuracy', \"f1_w\":f1_w}\n",
    "skf = StratifiedKFold(n_splits=10)"
   ]
  },
  {
   "cell_type": "code",
   "execution_count": 102,
   "id": "91cb98c1",
   "metadata": {},
   "outputs": [],
   "source": [
    "knn = KNeighborsClassifier(n_neighbors=6, metric=\"manhattan\")\n",
    "model1 = cross_validate(knn, X_ss, Y_encoded, scoring=scoring, cv=10, n_jobs=-1)"
   ]
  },
  {
   "cell_type": "code",
   "execution_count": 103,
   "id": "5458d7d9",
   "metadata": {},
   "outputs": [
    {
     "data": {
      "text/plain": [
       "np.float64(0.7916565981924869)"
      ]
     },
     "execution_count": 103,
     "metadata": {},
     "output_type": "execute_result"
    }
   ],
   "source": [
    "model1[\"test_accuracy\"].mean()"
   ]
  },
  {
   "cell_type": "code",
   "execution_count": 105,
   "id": "57df5f2e",
   "metadata": {},
   "outputs": [
    {
     "data": {
      "text/plain": [
       "np.float64(0.7906501140961544)"
      ]
     },
     "execution_count": 105,
     "metadata": {},
     "output_type": "execute_result"
    }
   ],
   "source": [
    "model1[\"test_f1_w\"].mean()"
   ]
  },
  {
   "cell_type": "code",
   "execution_count": 134,
   "id": "2571da6c",
   "metadata": {},
   "outputs": [],
   "source": [
    "tree = DecisionTreeClassifier(criterion=\"gini\", max_depth=9, min_samples_split=10)\n",
    "model2 = cross_validate(tree, X, Y, scoring=scoring, cv=10, n_jobs=-1)"
   ]
  },
  {
   "cell_type": "code",
   "execution_count": 135,
   "id": "198e039b",
   "metadata": {},
   "outputs": [
    {
     "data": {
      "text/plain": [
       "np.float64(0.9208314752373283)"
      ]
     },
     "execution_count": 135,
     "metadata": {},
     "output_type": "execute_result"
    }
   ],
   "source": [
    "model2[\"test_accuracy\"].mean()"
   ]
  },
  {
   "cell_type": "code",
   "execution_count": 136,
   "id": "9f2760d6",
   "metadata": {},
   "outputs": [
    {
     "data": {
      "text/plain": [
       "np.float64(0.9214983044114511)"
      ]
     },
     "execution_count": 136,
     "metadata": {},
     "output_type": "execute_result"
    }
   ],
   "source": [
    "model2[\"test_f1_w\"].mean()"
   ]
  },
  {
   "cell_type": "code",
   "execution_count": 143,
   "id": "766b2464",
   "metadata": {},
   "outputs": [],
   "source": [
    "forest = RandomForestClassifier(n_estimators=150, criterion=\"gini\", max_depth=10, min_samples_split=10)\n",
    "model3 = cross_validate(forest, X, Y, scoring=scoring, cv=10, n_jobs=-1)"
   ]
  },
  {
   "cell_type": "code",
   "execution_count": 144,
   "id": "21775e2e",
   "metadata": {},
   "outputs": [
    {
     "data": {
      "text/plain": [
       "np.float64(0.9301760352134592)"
      ]
     },
     "execution_count": 144,
     "metadata": {},
     "output_type": "execute_result"
    }
   ],
   "source": [
    "model3[\"test_accuracy\"].mean()"
   ]
  },
  {
   "cell_type": "code",
   "execution_count": 145,
   "id": "005a80f5",
   "metadata": {},
   "outputs": [
    {
     "data": {
      "text/plain": [
       "np.float64(0.9306672667398292)"
      ]
     },
     "execution_count": 145,
     "metadata": {},
     "output_type": "execute_result"
    }
   ],
   "source": [
    "model3[\"test_f1_w\"].mean()"
   ]
  },
  {
   "cell_type": "code",
   "execution_count": null,
   "id": "280b6f5c",
   "metadata": {},
   "outputs": [
    {
     "data": {
      "text/plain": [
       "array([ 9.87723613, 10.01993632,  9.81094623, 10.0027864 ,  9.99418426,\n",
       "        9.9878068 ,  9.86263704, 10.04968333,  9.95847034,  9.94174933])"
      ]
     },
     "execution_count": 147,
     "metadata": {},
     "output_type": "execute_result"
    }
   ],
   "source": []
  }
 ],
 "metadata": {
  "kernelspec": {
   "display_name": "ds",
   "language": "python",
   "name": "python3"
  },
  "language_info": {
   "codemirror_mode": {
    "name": "ipython",
    "version": 3
   },
   "file_extension": ".py",
   "mimetype": "text/x-python",
   "name": "python",
   "nbconvert_exporter": "python",
   "pygments_lexer": "ipython3",
   "version": "3.12.5"
  }
 },
 "nbformat": 4,
 "nbformat_minor": 5
}
