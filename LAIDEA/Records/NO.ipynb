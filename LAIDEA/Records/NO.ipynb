{
 "cells": [
  {
   "cell_type": "code",
   "execution_count": 1,
   "metadata": {},
   "outputs": [],
   "source": [
    "import pandas as pd\n",
    "import matplotlib.pyplot as plt\n",
    "import seaborn as sns\n",
    "import numpy as np"
   ]
  },
  {
   "cell_type": "code",
   "execution_count": 2,
   "metadata": {},
   "outputs": [],
   "source": [
    "PATH = \"../../Datasets/\"\n",
    "pd.set_option(\"display.max_columns\", None)\n",
    "sns.set_style(\"darkgrid\")"
   ]
  },
  {
   "cell_type": "code",
   "execution_count": 3,
   "metadata": {},
   "outputs": [],
   "source": [
    "dfDay = pd.read_csv(PATH + \"Day.csv\")\n",
    "dfDay[\"Time\"] = pd.to_datetime(dfDay[\"Time\"])"
   ]
  },
  {
   "cell_type": "code",
   "execution_count": 4,
   "metadata": {},
   "outputs": [
    {
     "data": {
      "text/plain": [
       "(3453, 24)"
      ]
     },
     "execution_count": 4,
     "metadata": {},
     "output_type": "execute_result"
    }
   ],
   "source": [
    "dfDay.shape"
   ]
  },
  {
   "cell_type": "code",
   "execution_count": 5,
   "metadata": {},
   "outputs": [
    {
     "name": "stdout",
     "output_type": "stream",
     "text": [
      "<class 'pandas.core.frame.DataFrame'>\n",
      "RangeIndex: 3453 entries, 0 to 3452\n",
      "Data columns (total 3 columns):\n",
      " #   Column   Non-Null Count  Dtype         \n",
      "---  ------   --------------  -----         \n",
      " 0   Time     3453 non-null   datetime64[ns]\n",
      " 1   NO       1579 non-null   float64       \n",
      " 2   NO_flag  3368 non-null   object        \n",
      "dtypes: datetime64[ns](1), float64(1), object(1)\n",
      "memory usage: 81.1+ KB\n"
     ]
    }
   ],
   "source": [
    "dfDay[[\"Time\", \"NO\", \"NO_flag\"]].info()"
   ]
  },
  {
   "cell_type": "code",
   "execution_count": 6,
   "metadata": {},
   "outputs": [
    {
     "data": {
      "text/html": [
       "<div>\n",
       "<style scoped>\n",
       "    .dataframe tbody tr th:only-of-type {\n",
       "        vertical-align: middle;\n",
       "    }\n",
       "\n",
       "    .dataframe tbody tr th {\n",
       "        vertical-align: top;\n",
       "    }\n",
       "\n",
       "    .dataframe thead th {\n",
       "        text-align: right;\n",
       "    }\n",
       "</style>\n",
       "<table border=\"1\" class=\"dataframe\">\n",
       "  <thead>\n",
       "    <tr style=\"text-align: right;\">\n",
       "      <th></th>\n",
       "      <th>Time</th>\n",
       "      <th>NO</th>\n",
       "    </tr>\n",
       "  </thead>\n",
       "  <tbody>\n",
       "    <tr>\n",
       "      <th>count</th>\n",
       "      <td>3453</td>\n",
       "      <td>1579.000000</td>\n",
       "    </tr>\n",
       "    <tr>\n",
       "      <th>mean</th>\n",
       "      <td>2020-04-23 03:36:26.272806400</td>\n",
       "      <td>3.758169</td>\n",
       "    </tr>\n",
       "    <tr>\n",
       "      <th>min</th>\n",
       "      <td>2015-08-01 00:00:00</td>\n",
       "      <td>-0.961910</td>\n",
       "    </tr>\n",
       "    <tr>\n",
       "      <th>25%</th>\n",
       "      <td>2017-12-11 00:00:00</td>\n",
       "      <td>0.269552</td>\n",
       "    </tr>\n",
       "    <tr>\n",
       "      <th>50%</th>\n",
       "      <td>2020-04-22 00:00:00</td>\n",
       "      <td>0.629285</td>\n",
       "    </tr>\n",
       "    <tr>\n",
       "      <th>75%</th>\n",
       "      <td>2022-09-02 00:00:00</td>\n",
       "      <td>1.291760</td>\n",
       "    </tr>\n",
       "    <tr>\n",
       "      <th>max</th>\n",
       "      <td>2025-01-27 00:00:00</td>\n",
       "      <td>3001.913930</td>\n",
       "    </tr>\n",
       "    <tr>\n",
       "      <th>std</th>\n",
       "      <td>NaN</td>\n",
       "      <td>78.661290</td>\n",
       "    </tr>\n",
       "  </tbody>\n",
       "</table>\n",
       "</div>"
      ],
      "text/plain": [
       "                                Time           NO\n",
       "count                           3453  1579.000000\n",
       "mean   2020-04-23 03:36:26.272806400     3.758169\n",
       "min              2015-08-01 00:00:00    -0.961910\n",
       "25%              2017-12-11 00:00:00     0.269552\n",
       "50%              2020-04-22 00:00:00     0.629285\n",
       "75%              2022-09-02 00:00:00     1.291760\n",
       "max              2025-01-27 00:00:00  3001.913930\n",
       "std                              NaN    78.661290"
      ]
     },
     "execution_count": 6,
     "metadata": {},
     "output_type": "execute_result"
    }
   ],
   "source": [
    "dfDay[[\"Time\", \"NO\", \"NO_flag\"]].describe()"
   ]
  },
  {
   "cell_type": "code",
   "execution_count": 7,
   "metadata": {},
   "outputs": [],
   "source": [
    "def clean(x):\n",
    "    if x >= 0.04 and x <= 5000: return x\n",
    "    return np.nan"
   ]
  },
  {
   "cell_type": "code",
   "execution_count": 8,
   "metadata": {},
   "outputs": [],
   "source": [
    "dfDay[\"NO\"] = dfDay[\"NO\"].apply(clean)"
   ]
  },
  {
   "cell_type": "code",
   "execution_count": 9,
   "metadata": {},
   "outputs": [
    {
     "data": {
      "text/plain": [
       "count    1456.000000\n",
       "mean        4.089816\n",
       "std        81.910054\n",
       "min         0.040618\n",
       "25%         0.349628\n",
       "50%         0.691809\n",
       "75%         1.406078\n",
       "max      3001.913930\n",
       "Name: NO, dtype: float64"
      ]
     },
     "execution_count": 9,
     "metadata": {},
     "output_type": "execute_result"
    }
   ],
   "source": [
    "dfDay[\"NO\"].describe()"
   ]
  },
  {
   "cell_type": "code",
   "execution_count": 10,
   "metadata": {},
   "outputs": [
    {
     "name": "stdout",
     "output_type": "stream",
     "text": [
      "<class 'pandas.core.series.Series'>\n",
      "RangeIndex: 3453 entries, 0 to 3452\n",
      "Series name: NO\n",
      "Non-Null Count  Dtype  \n",
      "--------------  -----  \n",
      "1456 non-null   float64\n",
      "dtypes: float64(1)\n",
      "memory usage: 27.1 KB\n"
     ]
    }
   ],
   "source": [
    "dfDay[\"NO\"].info()"
   ]
  },
  {
   "cell_type": "code",
   "execution_count": 11,
   "metadata": {},
   "outputs": [],
   "source": [
    "dfDay.loc[dfDay[\"NO_flag\"] != \"OK\", \"NO\"] = np.nan"
   ]
  },
  {
   "cell_type": "code",
   "execution_count": 12,
   "metadata": {},
   "outputs": [
    {
     "name": "stdout",
     "output_type": "stream",
     "text": [
      "<class 'pandas.core.series.Series'>\n",
      "Index: 3185 entries, 0 to 3452\n",
      "Series name: NO\n",
      "Non-Null Count  Dtype  \n",
      "--------------  -----  \n",
      "0 non-null      float64\n",
      "dtypes: float64(1)\n",
      "memory usage: 49.8 KB\n"
     ]
    }
   ],
   "source": [
    "dfDay[dfDay[\"NO_flag\"] != \"OK\"][\"NO\"].info()"
   ]
  },
  {
   "cell_type": "code",
   "execution_count": 16,
   "metadata": {},
   "outputs": [
    {
     "data": {
      "image/png": "[encoded data removed]",
      "text/plain": [
       "<Figure size 1600x800 with 1 Axes>"
      ]
     },
     "metadata": {},
     "output_type": "display_data"
    }
   ],
   "source": [
    "plt.figure(figsize=(16, 8))\n",
    "sns.scatterplot(x=dfDay[\"Time\"], y=dfDay[\"NO\"], s=10, color=\"forestgreen\")\n",
    "plt.ylim(0, 29)\n",
    "plt.ylabel(\"NO concentration\\nppb\", size=16)\n",
    "plt.xlabel(\"Time\", size=16)\n",
    "plt.title(\"Morelia's NO concentration per day from 2015 to 2025\", size=20)\n",
    "plt.show()"
   ]
  }
 ],
 "metadata": {
  "kernelspec": {
   "display_name": "ds",
   "language": "python",
   "name": "python3"
  },
  "language_info": {
   "codemirror_mode": {
    "name": "ipython",
    "version": 3
   },
   "file_extension": ".py",
   "mimetype": "text/x-python",
   "name": "python",
   "nbconvert_exporter": "python",
   "pygments_lexer": "ipython3",
   "version": "3.11.10"
  }
 },
 "nbformat": 4,
 "nbformat_minor": 2
}
