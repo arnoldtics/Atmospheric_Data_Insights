{
 "cells": [
  {
   "cell_type": "code",
   "execution_count": 1,
   "metadata": {},
   "outputs": [],
   "source": [
    "import pandas as pd\n",
    "import os"
   ]
  },
  {
   "cell_type": "code",
   "execution_count": 2,
   "metadata": {},
   "outputs": [],
   "source": [
    "PATH = \"../Datasets/NO2/\""
   ]
  },
  {
   "cell_type": "code",
   "execution_count": 3,
   "metadata": {},
   "outputs": [],
   "source": [
    "titles = os.listdir(PATH)"
   ]
  },
  {
   "cell_type": "markdown",
   "metadata": {},
   "source": [
    "Reading files"
   ]
  },
  {
   "cell_type": "code",
   "execution_count": 4,
   "metadata": {},
   "outputs": [],
   "source": [
    "df = pd.read_excel(PATH + titles[0])"
   ]
  },
  {
   "cell_type": "code",
   "execution_count": 5,
   "metadata": {},
   "outputs": [
    {
     "data": {
      "text/html": [
       "<div>\n",
       "<style scoped>\n",
       "    .dataframe tbody tr th:only-of-type {\n",
       "        vertical-align: middle;\n",
       "    }\n",
       "\n",
       "    .dataframe tbody tr th {\n",
       "        vertical-align: top;\n",
       "    }\n",
       "\n",
       "    .dataframe thead th {\n",
       "        text-align: right;\n",
       "    }\n",
       "</style>\n",
       "<table border=\"1\" class=\"dataframe\">\n",
       "  <thead>\n",
       "    <tr style=\"text-align: right;\">\n",
       "      <th></th>\n",
       "      <th>Parámetro</th>\n",
       "      <th>Fecha</th>\n",
       "      <th>Hora</th>\n",
       "      <th>Concentraciones horarias</th>\n",
       "      <th>Unidad</th>\n",
       "    </tr>\n",
       "  </thead>\n",
       "  <tbody>\n",
       "    <tr>\n",
       "      <th>0</th>\n",
       "      <td>NaN</td>\n",
       "      <td>NaN</td>\n",
       "      <td>NaN</td>\n",
       "      <td>NaN</td>\n",
       "      <td>NaN</td>\n",
       "    </tr>\n",
       "    <tr>\n",
       "      <th>1</th>\n",
       "      <td>NO2</td>\n",
       "      <td>2018-08-02</td>\n",
       "      <td>7:00 - 8:00</td>\n",
       "      <td>0.008</td>\n",
       "      <td>ppm</td>\n",
       "    </tr>\n",
       "    <tr>\n",
       "      <th>2</th>\n",
       "      <td>NO2</td>\n",
       "      <td>2018-10-11</td>\n",
       "      <td>12:00 - 13:00</td>\n",
       "      <td>0.005</td>\n",
       "      <td>ppm</td>\n",
       "    </tr>\n",
       "    <tr>\n",
       "      <th>3</th>\n",
       "      <td>NO2</td>\n",
       "      <td>2018-11-07</td>\n",
       "      <td>7:00 - 8:00</td>\n",
       "      <td>0.009</td>\n",
       "      <td>ppm</td>\n",
       "    </tr>\n",
       "    <tr>\n",
       "      <th>4</th>\n",
       "      <td>NO2</td>\n",
       "      <td>2018-11-07</td>\n",
       "      <td>8:00 - 9:00</td>\n",
       "      <td>0.011</td>\n",
       "      <td>ppm</td>\n",
       "    </tr>\n",
       "    <tr>\n",
       "      <th>...</th>\n",
       "      <td>...</td>\n",
       "      <td>...</td>\n",
       "      <td>...</td>\n",
       "      <td>...</td>\n",
       "      <td>...</td>\n",
       "    </tr>\n",
       "    <tr>\n",
       "      <th>9734</th>\n",
       "      <td>NO2</td>\n",
       "      <td>2020-03-02</td>\n",
       "      <td>18:00 - 19:00</td>\n",
       "      <td>0.037</td>\n",
       "      <td>ppm</td>\n",
       "    </tr>\n",
       "    <tr>\n",
       "      <th>9735</th>\n",
       "      <td>NO2</td>\n",
       "      <td>2020-03-02</td>\n",
       "      <td>19:00 - 20:00</td>\n",
       "      <td>0.052</td>\n",
       "      <td>ppm</td>\n",
       "    </tr>\n",
       "    <tr>\n",
       "      <th>9736</th>\n",
       "      <td>NO2</td>\n",
       "      <td>2020-03-02</td>\n",
       "      <td>20:00 - 21:00</td>\n",
       "      <td>0.046</td>\n",
       "      <td>ppm</td>\n",
       "    </tr>\n",
       "    <tr>\n",
       "      <th>9737</th>\n",
       "      <td>NO2</td>\n",
       "      <td>2020-03-02</td>\n",
       "      <td>21:00 - 22:00</td>\n",
       "      <td>0.047</td>\n",
       "      <td>ppm</td>\n",
       "    </tr>\n",
       "    <tr>\n",
       "      <th>9738</th>\n",
       "      <td>NO2</td>\n",
       "      <td>2020-03-02</td>\n",
       "      <td>22:00 - 23:00</td>\n",
       "      <td>0.046</td>\n",
       "      <td>ppm</td>\n",
       "    </tr>\n",
       "  </tbody>\n",
       "</table>\n",
       "<p>9739 rows × 5 columns</p>\n",
       "</div>"
      ],
      "text/plain": [
       "     Parámetro       Fecha           Hora  Concentraciones horarias Unidad\n",
       "0          NaN         NaN            NaN                       NaN    NaN\n",
       "1          NO2  2018-08-02    7:00 - 8:00                     0.008    ppm\n",
       "2          NO2  2018-10-11  12:00 - 13:00                     0.005    ppm\n",
       "3          NO2  2018-11-07    7:00 - 8:00                     0.009    ppm\n",
       "4          NO2  2018-11-07    8:00 - 9:00                     0.011    ppm\n",
       "...        ...         ...            ...                       ...    ...\n",
       "9734       NO2  2020-03-02  18:00 - 19:00                     0.037    ppm\n",
       "9735       NO2  2020-03-02  19:00 - 20:00                     0.052    ppm\n",
       "9736       NO2  2020-03-02  20:00 - 21:00                     0.046    ppm\n",
       "9737       NO2  2020-03-02  21:00 - 22:00                     0.047    ppm\n",
       "9738       NO2  2020-03-02  22:00 - 23:00                     0.046    ppm\n",
       "\n",
       "[9739 rows x 5 columns]"
      ]
     },
     "execution_count": 5,
     "metadata": {},
     "output_type": "execute_result"
    }
   ],
   "source": [
    "df"
   ]
  },
  {
   "cell_type": "markdown",
   "metadata": {},
   "source": [
    "Dropping empty instances"
   ]
  },
  {
   "cell_type": "code",
   "execution_count": 6,
   "metadata": {},
   "outputs": [],
   "source": [
    "df.dropna(how='all', inplace=True)"
   ]
  },
  {
   "cell_type": "code",
   "execution_count": 7,
   "metadata": {},
   "outputs": [
    {
     "name": "stdout",
     "output_type": "stream",
     "text": [
      "<class 'pandas.core.frame.DataFrame'>\n",
      "Index: 9738 entries, 1 to 9738\n",
      "Data columns (total 5 columns):\n",
      " #   Column                    Non-Null Count  Dtype  \n",
      "---  ------                    --------------  -----  \n",
      " 0   Parámetro                 9738 non-null   object \n",
      " 1   Fecha                     9738 non-null   object \n",
      " 2   Hora                      9738 non-null   object \n",
      " 3   Concentraciones horarias  9738 non-null   float64\n",
      " 4   Unidad                    9738 non-null   object \n",
      "dtypes: float64(1), object(4)\n",
      "memory usage: 456.5+ KB\n"
     ]
    }
   ],
   "source": [
    "df.info()"
   ]
  },
  {
   "cell_type": "markdown",
   "metadata": {},
   "source": [
    "Creating the complete dataset"
   ]
  },
  {
   "cell_type": "code",
   "execution_count": 8,
   "metadata": {},
   "outputs": [],
   "source": [
    "for df_i in titles[1:]:\n",
    "    df_i = pd.read_excel(PATH + df_i)\n",
    "    df_i = df_i.dropna(how='all')\n",
    "    df = pd.concat([df, df_i], axis=0)"
   ]
  },
  {
   "cell_type": "code",
   "execution_count": 9,
   "metadata": {},
   "outputs": [
    {
     "data": {
      "text/html": [
       "<div>\n",
       "<style scoped>\n",
       "    .dataframe tbody tr th:only-of-type {\n",
       "        vertical-align: middle;\n",
       "    }\n",
       "\n",
       "    .dataframe tbody tr th {\n",
       "        vertical-align: top;\n",
       "    }\n",
       "\n",
       "    .dataframe thead th {\n",
       "        text-align: right;\n",
       "    }\n",
       "</style>\n",
       "<table border=\"1\" class=\"dataframe\">\n",
       "  <thead>\n",
       "    <tr style=\"text-align: right;\">\n",
       "      <th></th>\n",
       "      <th>Parámetro</th>\n",
       "      <th>Fecha</th>\n",
       "      <th>Hora</th>\n",
       "      <th>Concentraciones horarias</th>\n",
       "      <th>Unidad</th>\n",
       "    </tr>\n",
       "  </thead>\n",
       "  <tbody>\n",
       "    <tr>\n",
       "      <th>1</th>\n",
       "      <td>NO2</td>\n",
       "      <td>2018-08-02</td>\n",
       "      <td>7:00 - 8:00</td>\n",
       "      <td>0.008</td>\n",
       "      <td>ppm</td>\n",
       "    </tr>\n",
       "    <tr>\n",
       "      <th>2</th>\n",
       "      <td>NO2</td>\n",
       "      <td>2018-10-11</td>\n",
       "      <td>12:00 - 13:00</td>\n",
       "      <td>0.005</td>\n",
       "      <td>ppm</td>\n",
       "    </tr>\n",
       "    <tr>\n",
       "      <th>3</th>\n",
       "      <td>NO2</td>\n",
       "      <td>2018-11-07</td>\n",
       "      <td>7:00 - 8:00</td>\n",
       "      <td>0.009</td>\n",
       "      <td>ppm</td>\n",
       "    </tr>\n",
       "    <tr>\n",
       "      <th>4</th>\n",
       "      <td>NO2</td>\n",
       "      <td>2018-11-07</td>\n",
       "      <td>8:00 - 9:00</td>\n",
       "      <td>0.011</td>\n",
       "      <td>ppm</td>\n",
       "    </tr>\n",
       "    <tr>\n",
       "      <th>5</th>\n",
       "      <td>NO2</td>\n",
       "      <td>2019-01-01</td>\n",
       "      <td>23:00 - 0:00</td>\n",
       "      <td>0.019</td>\n",
       "      <td>ppm</td>\n",
       "    </tr>\n",
       "    <tr>\n",
       "      <th>...</th>\n",
       "      <td>...</td>\n",
       "      <td>...</td>\n",
       "      <td>...</td>\n",
       "      <td>...</td>\n",
       "      <td>...</td>\n",
       "    </tr>\n",
       "    <tr>\n",
       "      <th>7551</th>\n",
       "      <td>NO2</td>\n",
       "      <td>2025-03-09</td>\n",
       "      <td>18:00 - 19:00</td>\n",
       "      <td>0.000</td>\n",
       "      <td>ppm</td>\n",
       "    </tr>\n",
       "    <tr>\n",
       "      <th>7552</th>\n",
       "      <td>NO2</td>\n",
       "      <td>2025-03-09</td>\n",
       "      <td>19:00 - 20:00</td>\n",
       "      <td>0.000</td>\n",
       "      <td>ppm</td>\n",
       "    </tr>\n",
       "    <tr>\n",
       "      <th>7553</th>\n",
       "      <td>NO2</td>\n",
       "      <td>2025-03-09</td>\n",
       "      <td>20:00 - 21:00</td>\n",
       "      <td>0.000</td>\n",
       "      <td>ppm</td>\n",
       "    </tr>\n",
       "    <tr>\n",
       "      <th>7554</th>\n",
       "      <td>NO2</td>\n",
       "      <td>2025-03-09</td>\n",
       "      <td>21:00 - 22:00</td>\n",
       "      <td>0.000</td>\n",
       "      <td>ppm</td>\n",
       "    </tr>\n",
       "    <tr>\n",
       "      <th>7555</th>\n",
       "      <td>NO2</td>\n",
       "      <td>2025-03-09</td>\n",
       "      <td>22:00 - 23:00</td>\n",
       "      <td>0.000</td>\n",
       "      <td>ppm</td>\n",
       "    </tr>\n",
       "  </tbody>\n",
       "</table>\n",
       "<p>31033 rows × 5 columns</p>\n",
       "</div>"
      ],
      "text/plain": [
       "     Parámetro       Fecha           Hora  Concentraciones horarias Unidad\n",
       "1          NO2  2018-08-02    7:00 - 8:00                     0.008    ppm\n",
       "2          NO2  2018-10-11  12:00 - 13:00                     0.005    ppm\n",
       "3          NO2  2018-11-07    7:00 - 8:00                     0.009    ppm\n",
       "4          NO2  2018-11-07    8:00 - 9:00                     0.011    ppm\n",
       "5          NO2  2019-01-01   23:00 - 0:00                     0.019    ppm\n",
       "...        ...         ...            ...                       ...    ...\n",
       "7551       NO2  2025-03-09  18:00 - 19:00                     0.000    ppm\n",
       "7552       NO2  2025-03-09  19:00 - 20:00                     0.000    ppm\n",
       "7553       NO2  2025-03-09  20:00 - 21:00                     0.000    ppm\n",
       "7554       NO2  2025-03-09  21:00 - 22:00                     0.000    ppm\n",
       "7555       NO2  2025-03-09  22:00 - 23:00                     0.000    ppm\n",
       "\n",
       "[31033 rows x 5 columns]"
      ]
     },
     "execution_count": 9,
     "metadata": {},
     "output_type": "execute_result"
    }
   ],
   "source": [
    "df"
   ]
  },
  {
   "cell_type": "code",
   "execution_count": 10,
   "metadata": {},
   "outputs": [
    {
     "name": "stdout",
     "output_type": "stream",
     "text": [
      "<class 'pandas.core.frame.DataFrame'>\n",
      "Index: 31033 entries, 1 to 7555\n",
      "Data columns (total 5 columns):\n",
      " #   Column                    Non-Null Count  Dtype  \n",
      "---  ------                    --------------  -----  \n",
      " 0   Parámetro                 31033 non-null  object \n",
      " 1   Fecha                     31033 non-null  object \n",
      " 2   Hora                      31033 non-null  object \n",
      " 3   Concentraciones horarias  31033 non-null  float64\n",
      " 4   Unidad                    31033 non-null  object \n",
      "dtypes: float64(1), object(4)\n",
      "memory usage: 1.4+ MB\n"
     ]
    }
   ],
   "source": [
    "df.info()"
   ]
  },
  {
   "cell_type": "markdown",
   "metadata": {},
   "source": [
    "Dropping unnecessary columns"
   ]
  },
  {
   "cell_type": "code",
   "execution_count": 11,
   "metadata": {},
   "outputs": [],
   "source": [
    "df.drop([\"Parámetro\", \"Hora\", \"Unidad\"], axis=1, inplace=True)"
   ]
  },
  {
   "cell_type": "code",
   "execution_count": 12,
   "metadata": {},
   "outputs": [
    {
     "name": "stdout",
     "output_type": "stream",
     "text": [
      "<class 'pandas.core.frame.DataFrame'>\n",
      "Index: 31033 entries, 1 to 7555\n",
      "Data columns (total 2 columns):\n",
      " #   Column                    Non-Null Count  Dtype  \n",
      "---  ------                    --------------  -----  \n",
      " 0   Fecha                     31033 non-null  object \n",
      " 1   Concentraciones horarias  31033 non-null  float64\n",
      "dtypes: float64(1), object(1)\n",
      "memory usage: 727.3+ KB\n"
     ]
    }
   ],
   "source": [
    "df.info()"
   ]
  },
  {
   "cell_type": "markdown",
   "metadata": {},
   "source": [
    "Formating dates"
   ]
  },
  {
   "cell_type": "code",
   "execution_count": 13,
   "metadata": {},
   "outputs": [],
   "source": [
    "df[\"Fecha\"] = pd.to_datetime(df[\"Fecha\"])"
   ]
  },
  {
   "cell_type": "code",
   "execution_count": 14,
   "metadata": {},
   "outputs": [
    {
     "data": {
      "text/html": [
       "<div>\n",
       "<style scoped>\n",
       "    .dataframe tbody tr th:only-of-type {\n",
       "        vertical-align: middle;\n",
       "    }\n",
       "\n",
       "    .dataframe tbody tr th {\n",
       "        vertical-align: top;\n",
       "    }\n",
       "\n",
       "    .dataframe thead th {\n",
       "        text-align: right;\n",
       "    }\n",
       "</style>\n",
       "<table border=\"1\" class=\"dataframe\">\n",
       "  <thead>\n",
       "    <tr style=\"text-align: right;\">\n",
       "      <th></th>\n",
       "      <th>Fecha</th>\n",
       "      <th>Concentraciones horarias</th>\n",
       "    </tr>\n",
       "  </thead>\n",
       "  <tbody>\n",
       "    <tr>\n",
       "      <th>1</th>\n",
       "      <td>2018-08-02</td>\n",
       "      <td>0.008</td>\n",
       "    </tr>\n",
       "    <tr>\n",
       "      <th>2</th>\n",
       "      <td>2018-10-11</td>\n",
       "      <td>0.005</td>\n",
       "    </tr>\n",
       "    <tr>\n",
       "      <th>3</th>\n",
       "      <td>2018-11-07</td>\n",
       "      <td>0.009</td>\n",
       "    </tr>\n",
       "    <tr>\n",
       "      <th>4</th>\n",
       "      <td>2018-11-07</td>\n",
       "      <td>0.011</td>\n",
       "    </tr>\n",
       "    <tr>\n",
       "      <th>5</th>\n",
       "      <td>2019-01-01</td>\n",
       "      <td>0.019</td>\n",
       "    </tr>\n",
       "  </tbody>\n",
       "</table>\n",
       "</div>"
      ],
      "text/plain": [
       "       Fecha  Concentraciones horarias\n",
       "1 2018-08-02                     0.008\n",
       "2 2018-10-11                     0.005\n",
       "3 2018-11-07                     0.009\n",
       "4 2018-11-07                     0.011\n",
       "5 2019-01-01                     0.019"
      ]
     },
     "execution_count": 14,
     "metadata": {},
     "output_type": "execute_result"
    }
   ],
   "source": [
    "df.head()"
   ]
  },
  {
   "cell_type": "markdown",
   "metadata": {},
   "source": [
    "Changing column names"
   ]
  },
  {
   "cell_type": "code",
   "execution_count": 15,
   "metadata": {},
   "outputs": [],
   "source": [
    "df.rename(columns={\"Concentraciones horarias\":\"NO2\"}, inplace=True)"
   ]
  },
  {
   "cell_type": "code",
   "execution_count": 16,
   "metadata": {},
   "outputs": [
    {
     "data": {
      "text/html": [
       "<div>\n",
       "<style scoped>\n",
       "    .dataframe tbody tr th:only-of-type {\n",
       "        vertical-align: middle;\n",
       "    }\n",
       "\n",
       "    .dataframe tbody tr th {\n",
       "        vertical-align: top;\n",
       "    }\n",
       "\n",
       "    .dataframe thead th {\n",
       "        text-align: right;\n",
       "    }\n",
       "</style>\n",
       "<table border=\"1\" class=\"dataframe\">\n",
       "  <thead>\n",
       "    <tr style=\"text-align: right;\">\n",
       "      <th></th>\n",
       "      <th>Fecha</th>\n",
       "      <th>NO2</th>\n",
       "    </tr>\n",
       "  </thead>\n",
       "  <tbody>\n",
       "    <tr>\n",
       "      <th>1</th>\n",
       "      <td>2018-08-02</td>\n",
       "      <td>0.008</td>\n",
       "    </tr>\n",
       "    <tr>\n",
       "      <th>2</th>\n",
       "      <td>2018-10-11</td>\n",
       "      <td>0.005</td>\n",
       "    </tr>\n",
       "    <tr>\n",
       "      <th>3</th>\n",
       "      <td>2018-11-07</td>\n",
       "      <td>0.009</td>\n",
       "    </tr>\n",
       "    <tr>\n",
       "      <th>4</th>\n",
       "      <td>2018-11-07</td>\n",
       "      <td>0.011</td>\n",
       "    </tr>\n",
       "    <tr>\n",
       "      <th>5</th>\n",
       "      <td>2019-01-01</td>\n",
       "      <td>0.019</td>\n",
       "    </tr>\n",
       "    <tr>\n",
       "      <th>...</th>\n",
       "      <td>...</td>\n",
       "      <td>...</td>\n",
       "    </tr>\n",
       "    <tr>\n",
       "      <th>7551</th>\n",
       "      <td>2025-03-09</td>\n",
       "      <td>0.000</td>\n",
       "    </tr>\n",
       "    <tr>\n",
       "      <th>7552</th>\n",
       "      <td>2025-03-09</td>\n",
       "      <td>0.000</td>\n",
       "    </tr>\n",
       "    <tr>\n",
       "      <th>7553</th>\n",
       "      <td>2025-03-09</td>\n",
       "      <td>0.000</td>\n",
       "    </tr>\n",
       "    <tr>\n",
       "      <th>7554</th>\n",
       "      <td>2025-03-09</td>\n",
       "      <td>0.000</td>\n",
       "    </tr>\n",
       "    <tr>\n",
       "      <th>7555</th>\n",
       "      <td>2025-03-09</td>\n",
       "      <td>0.000</td>\n",
       "    </tr>\n",
       "  </tbody>\n",
       "</table>\n",
       "<p>31033 rows × 2 columns</p>\n",
       "</div>"
      ],
      "text/plain": [
       "          Fecha    NO2\n",
       "1    2018-08-02  0.008\n",
       "2    2018-10-11  0.005\n",
       "3    2018-11-07  0.009\n",
       "4    2018-11-07  0.011\n",
       "5    2019-01-01  0.019\n",
       "...         ...    ...\n",
       "7551 2025-03-09  0.000\n",
       "7552 2025-03-09  0.000\n",
       "7553 2025-03-09  0.000\n",
       "7554 2025-03-09  0.000\n",
       "7555 2025-03-09  0.000\n",
       "\n",
       "[31033 rows x 2 columns]"
      ]
     },
     "execution_count": 16,
     "metadata": {},
     "output_type": "execute_result"
    }
   ],
   "source": [
    "df"
   ]
  },
  {
   "cell_type": "markdown",
   "metadata": {},
   "source": [
    "Grouping per day and taking in consideration the average"
   ]
  },
  {
   "cell_type": "code",
   "execution_count": 17,
   "metadata": {},
   "outputs": [],
   "source": [
    "df = df.groupby(\"Fecha\", as_index=False).mean()"
   ]
  },
  {
   "cell_type": "code",
   "execution_count": 18,
   "metadata": {},
   "outputs": [
    {
     "data": {
      "text/html": [
       "<div>\n",
       "<style scoped>\n",
       "    .dataframe tbody tr th:only-of-type {\n",
       "        vertical-align: middle;\n",
       "    }\n",
       "\n",
       "    .dataframe tbody tr th {\n",
       "        vertical-align: top;\n",
       "    }\n",
       "\n",
       "    .dataframe thead th {\n",
       "        text-align: right;\n",
       "    }\n",
       "</style>\n",
       "<table border=\"1\" class=\"dataframe\">\n",
       "  <thead>\n",
       "    <tr style=\"text-align: right;\">\n",
       "      <th></th>\n",
       "      <th>Fecha</th>\n",
       "      <th>NO2</th>\n",
       "    </tr>\n",
       "  </thead>\n",
       "  <tbody>\n",
       "    <tr>\n",
       "      <th>0</th>\n",
       "      <td>2018-08-02</td>\n",
       "      <td>0.008000</td>\n",
       "    </tr>\n",
       "    <tr>\n",
       "      <th>1</th>\n",
       "      <td>2018-10-11</td>\n",
       "      <td>0.005000</td>\n",
       "    </tr>\n",
       "    <tr>\n",
       "      <th>2</th>\n",
       "      <td>2018-11-07</td>\n",
       "      <td>0.010000</td>\n",
       "    </tr>\n",
       "    <tr>\n",
       "      <th>3</th>\n",
       "      <td>2019-01-01</td>\n",
       "      <td>0.012458</td>\n",
       "    </tr>\n",
       "    <tr>\n",
       "      <th>4</th>\n",
       "      <td>2019-01-02</td>\n",
       "      <td>0.013792</td>\n",
       "    </tr>\n",
       "    <tr>\n",
       "      <th>...</th>\n",
       "      <td>...</td>\n",
       "      <td>...</td>\n",
       "    </tr>\n",
       "    <tr>\n",
       "      <th>1378</th>\n",
       "      <td>2025-03-05</td>\n",
       "      <td>0.000000</td>\n",
       "    </tr>\n",
       "    <tr>\n",
       "      <th>1379</th>\n",
       "      <td>2025-03-06</td>\n",
       "      <td>0.000000</td>\n",
       "    </tr>\n",
       "    <tr>\n",
       "      <th>1380</th>\n",
       "      <td>2025-03-07</td>\n",
       "      <td>0.000000</td>\n",
       "    </tr>\n",
       "    <tr>\n",
       "      <th>1381</th>\n",
       "      <td>2025-03-08</td>\n",
       "      <td>0.000000</td>\n",
       "    </tr>\n",
       "    <tr>\n",
       "      <th>1382</th>\n",
       "      <td>2025-03-09</td>\n",
       "      <td>0.000000</td>\n",
       "    </tr>\n",
       "  </tbody>\n",
       "</table>\n",
       "<p>1383 rows × 2 columns</p>\n",
       "</div>"
      ],
      "text/plain": [
       "          Fecha       NO2\n",
       "0    2018-08-02  0.008000\n",
       "1    2018-10-11  0.005000\n",
       "2    2018-11-07  0.010000\n",
       "3    2019-01-01  0.012458\n",
       "4    2019-01-02  0.013792\n",
       "...         ...       ...\n",
       "1378 2025-03-05  0.000000\n",
       "1379 2025-03-06  0.000000\n",
       "1380 2025-03-07  0.000000\n",
       "1381 2025-03-08  0.000000\n",
       "1382 2025-03-09  0.000000\n",
       "\n",
       "[1383 rows x 2 columns]"
      ]
     },
     "execution_count": 18,
     "metadata": {},
     "output_type": "execute_result"
    }
   ],
   "source": [
    "df"
   ]
  },
  {
   "cell_type": "markdown",
   "metadata": {},
   "source": [
    "Transformation ppm to ppb"
   ]
  },
  {
   "cell_type": "code",
   "execution_count": 19,
   "metadata": {},
   "outputs": [],
   "source": [
    "df[\"NO2\"] = df[\"NO2\"]*1000"
   ]
  },
  {
   "cell_type": "code",
   "execution_count": 20,
   "metadata": {},
   "outputs": [
    {
     "data": {
      "text/html": [
       "<div>\n",
       "<style scoped>\n",
       "    .dataframe tbody tr th:only-of-type {\n",
       "        vertical-align: middle;\n",
       "    }\n",
       "\n",
       "    .dataframe tbody tr th {\n",
       "        vertical-align: top;\n",
       "    }\n",
       "\n",
       "    .dataframe thead th {\n",
       "        text-align: right;\n",
       "    }\n",
       "</style>\n",
       "<table border=\"1\" class=\"dataframe\">\n",
       "  <thead>\n",
       "    <tr style=\"text-align: right;\">\n",
       "      <th></th>\n",
       "      <th>Fecha</th>\n",
       "      <th>NO2</th>\n",
       "    </tr>\n",
       "  </thead>\n",
       "  <tbody>\n",
       "    <tr>\n",
       "      <th>0</th>\n",
       "      <td>2018-08-02</td>\n",
       "      <td>8.000000</td>\n",
       "    </tr>\n",
       "    <tr>\n",
       "      <th>1</th>\n",
       "      <td>2018-10-11</td>\n",
       "      <td>5.000000</td>\n",
       "    </tr>\n",
       "    <tr>\n",
       "      <th>2</th>\n",
       "      <td>2018-11-07</td>\n",
       "      <td>10.000000</td>\n",
       "    </tr>\n",
       "    <tr>\n",
       "      <th>3</th>\n",
       "      <td>2019-01-01</td>\n",
       "      <td>12.458333</td>\n",
       "    </tr>\n",
       "    <tr>\n",
       "      <th>4</th>\n",
       "      <td>2019-01-02</td>\n",
       "      <td>13.791667</td>\n",
       "    </tr>\n",
       "    <tr>\n",
       "      <th>...</th>\n",
       "      <td>...</td>\n",
       "      <td>...</td>\n",
       "    </tr>\n",
       "    <tr>\n",
       "      <th>1378</th>\n",
       "      <td>2025-03-05</td>\n",
       "      <td>0.000000</td>\n",
       "    </tr>\n",
       "    <tr>\n",
       "      <th>1379</th>\n",
       "      <td>2025-03-06</td>\n",
       "      <td>0.000000</td>\n",
       "    </tr>\n",
       "    <tr>\n",
       "      <th>1380</th>\n",
       "      <td>2025-03-07</td>\n",
       "      <td>0.000000</td>\n",
       "    </tr>\n",
       "    <tr>\n",
       "      <th>1381</th>\n",
       "      <td>2025-03-08</td>\n",
       "      <td>0.000000</td>\n",
       "    </tr>\n",
       "    <tr>\n",
       "      <th>1382</th>\n",
       "      <td>2025-03-09</td>\n",
       "      <td>0.000000</td>\n",
       "    </tr>\n",
       "  </tbody>\n",
       "</table>\n",
       "<p>1383 rows × 2 columns</p>\n",
       "</div>"
      ],
      "text/plain": [
       "          Fecha        NO2\n",
       "0    2018-08-02   8.000000\n",
       "1    2018-10-11   5.000000\n",
       "2    2018-11-07  10.000000\n",
       "3    2019-01-01  12.458333\n",
       "4    2019-01-02  13.791667\n",
       "...         ...        ...\n",
       "1378 2025-03-05   0.000000\n",
       "1379 2025-03-06   0.000000\n",
       "1380 2025-03-07   0.000000\n",
       "1381 2025-03-08   0.000000\n",
       "1382 2025-03-09   0.000000\n",
       "\n",
       "[1383 rows x 2 columns]"
      ]
     },
     "execution_count": 20,
     "metadata": {},
     "output_type": "execute_result"
    }
   ],
   "source": [
    "df"
   ]
  },
  {
   "cell_type": "code",
   "execution_count": 21,
   "metadata": {},
   "outputs": [
    {
     "data": {
      "text/html": [
       "<div>\n",
       "<style scoped>\n",
       "    .dataframe tbody tr th:only-of-type {\n",
       "        vertical-align: middle;\n",
       "    }\n",
       "\n",
       "    .dataframe tbody tr th {\n",
       "        vertical-align: top;\n",
       "    }\n",
       "\n",
       "    .dataframe thead th {\n",
       "        text-align: right;\n",
       "    }\n",
       "</style>\n",
       "<table border=\"1\" class=\"dataframe\">\n",
       "  <thead>\n",
       "    <tr style=\"text-align: right;\">\n",
       "      <th></th>\n",
       "      <th>Fecha</th>\n",
       "      <th>NO2</th>\n",
       "    </tr>\n",
       "  </thead>\n",
       "  <tbody>\n",
       "    <tr>\n",
       "      <th>count</th>\n",
       "      <td>1383</td>\n",
       "      <td>1383.000000</td>\n",
       "    </tr>\n",
       "    <tr>\n",
       "      <th>mean</th>\n",
       "      <td>2022-03-18 06:03:23.036876288</td>\n",
       "      <td>5.830501</td>\n",
       "    </tr>\n",
       "    <tr>\n",
       "      <th>min</th>\n",
       "      <td>2018-08-02 00:00:00</td>\n",
       "      <td>0.000000</td>\n",
       "    </tr>\n",
       "    <tr>\n",
       "      <th>25%</th>\n",
       "      <td>2019-12-18 12:00:00</td>\n",
       "      <td>0.000000</td>\n",
       "    </tr>\n",
       "    <tr>\n",
       "      <th>50%</th>\n",
       "      <td>2023-03-03 00:00:00</td>\n",
       "      <td>0.000000</td>\n",
       "    </tr>\n",
       "    <tr>\n",
       "      <th>75%</th>\n",
       "      <td>2024-02-11 12:00:00</td>\n",
       "      <td>9.104167</td>\n",
       "    </tr>\n",
       "    <tr>\n",
       "      <th>max</th>\n",
       "      <td>2025-03-09 00:00:00</td>\n",
       "      <td>376.714286</td>\n",
       "    </tr>\n",
       "    <tr>\n",
       "      <th>std</th>\n",
       "      <td>NaN</td>\n",
       "      <td>14.624768</td>\n",
       "    </tr>\n",
       "  </tbody>\n",
       "</table>\n",
       "</div>"
      ],
      "text/plain": [
       "                               Fecha          NO2\n",
       "count                           1383  1383.000000\n",
       "mean   2022-03-18 06:03:23.036876288     5.830501\n",
       "min              2018-08-02 00:00:00     0.000000\n",
       "25%              2019-12-18 12:00:00     0.000000\n",
       "50%              2023-03-03 00:00:00     0.000000\n",
       "75%              2024-02-11 12:00:00     9.104167\n",
       "max              2025-03-09 00:00:00   376.714286\n",
       "std                              NaN    14.624768"
      ]
     },
     "execution_count": 21,
     "metadata": {},
     "output_type": "execute_result"
    }
   ],
   "source": [
    "df.describe()"
   ]
  },
  {
   "cell_type": "code",
   "execution_count": 22,
   "metadata": {},
   "outputs": [],
   "source": [
    "df.to_csv(PATH + \"NO2.csv\", index=False)"
   ]
  }
 ],
 "metadata": {
  "kernelspec": {
   "display_name": "ds",
   "language": "python",
   "name": "python3"
  },
  "language_info": {
   "codemirror_mode": {
    "name": "ipython",
    "version": 3
   },
   "file_extension": ".py",
   "mimetype": "text/x-python",
   "name": "python",
   "nbconvert_exporter": "python",
   "pygments_lexer": "ipython3",
   "version": "3.12.5"
  }
 },
 "nbformat": 4,
 "nbformat_minor": 2
}
