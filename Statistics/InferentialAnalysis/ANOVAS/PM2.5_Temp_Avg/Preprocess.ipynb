{
 "cells": [
  {
   "cell_type": "code",
   "execution_count": 1,
   "metadata": {},
   "outputs": [],
   "source": [
    "import pandas as pd\n",
    "import numpy as np\n",
    "import matplotlib.pyplot as plt\n",
    "import seaborn as sns\n",
    "from copy import deepcopy"
   ]
  },
  {
   "cell_type": "code",
   "execution_count": 2,
   "metadata": {},
   "outputs": [],
   "source": [
    "df = pd.read_csv(\"../../Atmospheric Data Cleaned Instances Per Day.csv\")"
   ]
  },
  {
   "cell_type": "code",
   "execution_count": 3,
   "metadata": {},
   "outputs": [
    {
     "data": {
      "text/html": [
       "<div>\n",
       "<style scoped>\n",
       "    .dataframe tbody tr th:only-of-type {\n",
       "        vertical-align: middle;\n",
       "    }\n",
       "\n",
       "    .dataframe tbody tr th {\n",
       "        vertical-align: top;\n",
       "    }\n",
       "\n",
       "    .dataframe thead th {\n",
       "        text-align: right;\n",
       "    }\n",
       "</style>\n",
       "<table border=\"1\" class=\"dataframe\">\n",
       "  <thead>\n",
       "    <tr style=\"text-align: right;\">\n",
       "      <th></th>\n",
       "      <th>Year</th>\n",
       "      <th>Month</th>\n",
       "      <th>Day</th>\n",
       "      <th>O3</th>\n",
       "      <th>NO2</th>\n",
       "      <th>NO</th>\n",
       "      <th>CO</th>\n",
       "      <th>PM10</th>\n",
       "      <th>PM2.5</th>\n",
       "      <th>Temp_Avg</th>\n",
       "      <th>RH_Avg</th>\n",
       "      <th>WSpeed_Avg</th>\n",
       "      <th>WDir_Avg</th>\n",
       "      <th>Press_Avg</th>\n",
       "      <th>Rad_Avg</th>\n",
       "      <th>Rain_Tot</th>\n",
       "    </tr>\n",
       "  </thead>\n",
       "  <tbody>\n",
       "    <tr>\n",
       "      <th>0</th>\n",
       "      <td>2023</td>\n",
       "      <td>5</td>\n",
       "      <td>1</td>\n",
       "      <td>42.098597</td>\n",
       "      <td>2.377042</td>\n",
       "      <td>0.378701</td>\n",
       "      <td>0.269903</td>\n",
       "      <td>32.476493</td>\n",
       "      <td>20.131194</td>\n",
       "      <td>19.830514</td>\n",
       "      <td>29.753889</td>\n",
       "      <td>2.439608</td>\n",
       "      <td>154.966895</td>\n",
       "      <td>804.314569</td>\n",
       "      <td>630.264466</td>\n",
       "      <td>0.0</td>\n",
       "    </tr>\n",
       "    <tr>\n",
       "      <th>1</th>\n",
       "      <td>2023</td>\n",
       "      <td>5</td>\n",
       "      <td>2</td>\n",
       "      <td>44.560389</td>\n",
       "      <td>1.889646</td>\n",
       "      <td>0.215486</td>\n",
       "      <td>0.244556</td>\n",
       "      <td>28.960708</td>\n",
       "      <td>18.765649</td>\n",
       "      <td>20.916111</td>\n",
       "      <td>27.642535</td>\n",
       "      <td>2.883990</td>\n",
       "      <td>231.153622</td>\n",
       "      <td>803.925649</td>\n",
       "      <td>659.373538</td>\n",
       "      <td>0.0</td>\n",
       "    </tr>\n",
       "    <tr>\n",
       "      <th>2</th>\n",
       "      <td>2023</td>\n",
       "      <td>5</td>\n",
       "      <td>3</td>\n",
       "      <td>50.777618</td>\n",
       "      <td>4.491722</td>\n",
       "      <td>0.745514</td>\n",
       "      <td>0.397743</td>\n",
       "      <td>49.597222</td>\n",
       "      <td>35.021854</td>\n",
       "      <td>21.357729</td>\n",
       "      <td>30.954847</td>\n",
       "      <td>1.604234</td>\n",
       "      <td>178.251752</td>\n",
       "      <td>803.767500</td>\n",
       "      <td>485.725435</td>\n",
       "      <td>0.0</td>\n",
       "    </tr>\n",
       "    <tr>\n",
       "      <th>3</th>\n",
       "      <td>2023</td>\n",
       "      <td>5</td>\n",
       "      <td>4</td>\n",
       "      <td>50.881806</td>\n",
       "      <td>4.101944</td>\n",
       "      <td>0.455646</td>\n",
       "      <td>0.384681</td>\n",
       "      <td>48.555437</td>\n",
       "      <td>35.872396</td>\n",
       "      <td>21.968729</td>\n",
       "      <td>35.661208</td>\n",
       "      <td>1.729689</td>\n",
       "      <td>183.150144</td>\n",
       "      <td>804.870299</td>\n",
       "      <td>422.336301</td>\n",
       "      <td>0.0</td>\n",
       "    </tr>\n",
       "    <tr>\n",
       "      <th>4</th>\n",
       "      <td>2023</td>\n",
       "      <td>5</td>\n",
       "      <td>5</td>\n",
       "      <td>52.673167</td>\n",
       "      <td>4.675542</td>\n",
       "      <td>0.458521</td>\n",
       "      <td>0.442660</td>\n",
       "      <td>52.817632</td>\n",
       "      <td>41.230729</td>\n",
       "      <td>21.668757</td>\n",
       "      <td>42.649750</td>\n",
       "      <td>1.900280</td>\n",
       "      <td>137.419527</td>\n",
       "      <td>805.930109</td>\n",
       "      <td>449.436559</td>\n",
       "      <td>0.2</td>\n",
       "    </tr>\n",
       "  </tbody>\n",
       "</table>\n",
       "</div>"
      ],
      "text/plain": [
       "   Year  Month  Day         O3       NO2        NO        CO       PM10  \\\n",
       "0  2023      5    1  42.098597  2.377042  0.378701  0.269903  32.476493   \n",
       "1  2023      5    2  44.560389  1.889646  0.215486  0.244556  28.960708   \n",
       "2  2023      5    3  50.777618  4.491722  0.745514  0.397743  49.597222   \n",
       "3  2023      5    4  50.881806  4.101944  0.455646  0.384681  48.555437   \n",
       "4  2023      5    5  52.673167  4.675542  0.458521  0.442660  52.817632   \n",
       "\n",
       "       PM2.5   Temp_Avg     RH_Avg  WSpeed_Avg    WDir_Avg   Press_Avg  \\\n",
       "0  20.131194  19.830514  29.753889    2.439608  154.966895  804.314569   \n",
       "1  18.765649  20.916111  27.642535    2.883990  231.153622  803.925649   \n",
       "2  35.021854  21.357729  30.954847    1.604234  178.251752  803.767500   \n",
       "3  35.872396  21.968729  35.661208    1.729689  183.150144  804.870299   \n",
       "4  41.230729  21.668757  42.649750    1.900280  137.419527  805.930109   \n",
       "\n",
       "      Rad_Avg  Rain_Tot  \n",
       "0  630.264466       0.0  \n",
       "1  659.373538       0.0  \n",
       "2  485.725435       0.0  \n",
       "3  422.336301       0.0  \n",
       "4  449.436559       0.2  "
      ]
     },
     "execution_count": 3,
     "metadata": {},
     "output_type": "execute_result"
    }
   ],
   "source": [
    "df.head()"
   ]
  },
  {
   "cell_type": "code",
   "execution_count": 4,
   "metadata": {},
   "outputs": [],
   "source": [
    "df_subset = deepcopy(df[[\"PM2.5\", \"Temp_Avg\"]])"
   ]
  },
  {
   "cell_type": "code",
   "execution_count": 5,
   "metadata": {},
   "outputs": [
    {
     "data": {
      "text/plain": [
       "count    315.000000\n",
       "mean      18.294769\n",
       "std        2.976098\n",
       "min       10.062363\n",
       "25%       16.399899\n",
       "50%       18.579146\n",
       "75%       19.960997\n",
       "max       24.625861\n",
       "Name: Temp_Avg, dtype: float64"
      ]
     },
     "execution_count": 5,
     "metadata": {},
     "output_type": "execute_result"
    }
   ],
   "source": [
    "df_subset[\"Temp_Avg\"].describe()"
   ]
  },
  {
   "cell_type": "code",
   "execution_count": 6,
   "metadata": {},
   "outputs": [],
   "source": [
    "def categories(x):\n",
    "    if x <= 15: return \"Low Temperature\"\n",
    "    if x <= 20: return \"Medium Temperature\"\n",
    "    return \"High Temperature\""
   ]
  },
  {
   "cell_type": "code",
   "execution_count": 7,
   "metadata": {},
   "outputs": [],
   "source": [
    "df_subset[\"Temperature\"] = df_subset[\"Temp_Avg\"].apply(categories)"
   ]
  },
  {
   "cell_type": "code",
   "execution_count": 8,
   "metadata": {},
   "outputs": [
    {
     "data": {
      "text/html": [
       "<div>\n",
       "<style scoped>\n",
       "    .dataframe tbody tr th:only-of-type {\n",
       "        vertical-align: middle;\n",
       "    }\n",
       "\n",
       "    .dataframe tbody tr th {\n",
       "        vertical-align: top;\n",
       "    }\n",
       "\n",
       "    .dataframe thead th {\n",
       "        text-align: right;\n",
       "    }\n",
       "</style>\n",
       "<table border=\"1\" class=\"dataframe\">\n",
       "  <thead>\n",
       "    <tr style=\"text-align: right;\">\n",
       "      <th></th>\n",
       "      <th>PM2.5</th>\n",
       "      <th>Temp_Avg</th>\n",
       "      <th>Temperature</th>\n",
       "    </tr>\n",
       "  </thead>\n",
       "  <tbody>\n",
       "    <tr>\n",
       "      <th>0</th>\n",
       "      <td>20.131194</td>\n",
       "      <td>19.830514</td>\n",
       "      <td>Medium Temperature</td>\n",
       "    </tr>\n",
       "    <tr>\n",
       "      <th>1</th>\n",
       "      <td>18.765649</td>\n",
       "      <td>20.916111</td>\n",
       "      <td>High Temperature</td>\n",
       "    </tr>\n",
       "    <tr>\n",
       "      <th>2</th>\n",
       "      <td>35.021854</td>\n",
       "      <td>21.357729</td>\n",
       "      <td>High Temperature</td>\n",
       "    </tr>\n",
       "    <tr>\n",
       "      <th>3</th>\n",
       "      <td>35.872396</td>\n",
       "      <td>21.968729</td>\n",
       "      <td>High Temperature</td>\n",
       "    </tr>\n",
       "    <tr>\n",
       "      <th>4</th>\n",
       "      <td>41.230729</td>\n",
       "      <td>21.668757</td>\n",
       "      <td>High Temperature</td>\n",
       "    </tr>\n",
       "  </tbody>\n",
       "</table>\n",
       "</div>"
      ],
      "text/plain": [
       "       PM2.5   Temp_Avg         Temperature\n",
       "0  20.131194  19.830514  Medium Temperature\n",
       "1  18.765649  20.916111    High Temperature\n",
       "2  35.021854  21.357729    High Temperature\n",
       "3  35.872396  21.968729    High Temperature\n",
       "4  41.230729  21.668757    High Temperature"
      ]
     },
     "execution_count": 8,
     "metadata": {},
     "output_type": "execute_result"
    }
   ],
   "source": [
    "df_subset.head()"
   ]
  },
  {
   "cell_type": "code",
   "execution_count": 9,
   "metadata": {},
   "outputs": [
    {
     "data": {
      "text/plain": [
       "Temperature\n",
       "Medium Temperature    188\n",
       "High Temperature       78\n",
       "Low Temperature        49\n",
       "Name: count, dtype: int64"
      ]
     },
     "execution_count": 9,
     "metadata": {},
     "output_type": "execute_result"
    }
   ],
   "source": [
    "df_subset[\"Temperature\"].value_counts()"
   ]
  },
  {
   "cell_type": "code",
   "execution_count": 10,
   "metadata": {},
   "outputs": [],
   "source": [
    "df_subset.to_csv(\"PM2.5_Temperature_3_categories.csv\", index=False)"
   ]
  }
 ],
 "metadata": {
  "kernelspec": {
   "display_name": "Python 3",
   "language": "python",
   "name": "python3"
  },
  "language_info": {
   "codemirror_mode": {
    "name": "ipython",
    "version": 3
   },
   "file_extension": ".py",
   "mimetype": "text/x-python",
   "name": "python",
   "nbconvert_exporter": "python",
   "pygments_lexer": "ipython3",
   "version": "3.12.1"
  }
 },
 "nbformat": 4,
 "nbformat_minor": 2
}
