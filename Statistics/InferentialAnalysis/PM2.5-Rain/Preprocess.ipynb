{
 "cells": [
  {
   "cell_type": "code",
   "execution_count": 1,
   "metadata": {},
   "outputs": [],
   "source": [
    "import pandas as pd"
   ]
  },
  {
   "cell_type": "code",
   "execution_count": 2,
   "metadata": {},
   "outputs": [],
   "source": [
    "df = pd.read_csv(\"../Atmospheric Data Cleaned Instances Per Day.csv\")"
   ]
  },
  {
   "cell_type": "code",
   "execution_count": 3,
   "metadata": {},
   "outputs": [
    {
     "data": {
      "text/html": [
       "<div>\n",
       "<style scoped>\n",
       "    .dataframe tbody tr th:only-of-type {\n",
       "        vertical-align: middle;\n",
       "    }\n",
       "\n",
       "    .dataframe tbody tr th {\n",
       "        vertical-align: top;\n",
       "    }\n",
       "\n",
       "    .dataframe thead th {\n",
       "        text-align: right;\n",
       "    }\n",
       "</style>\n",
       "<table border=\"1\" class=\"dataframe\">\n",
       "  <thead>\n",
       "    <tr style=\"text-align: right;\">\n",
       "      <th></th>\n",
       "      <th>Year</th>\n",
       "      <th>Month</th>\n",
       "      <th>Day</th>\n",
       "      <th>O3</th>\n",
       "      <th>NO2</th>\n",
       "      <th>NO</th>\n",
       "      <th>CO</th>\n",
       "      <th>PM10</th>\n",
       "      <th>PM2.5</th>\n",
       "      <th>Temp_Avg</th>\n",
       "      <th>RH_Avg</th>\n",
       "      <th>WSpeed_Avg</th>\n",
       "      <th>WDir_Avg</th>\n",
       "      <th>Press_Avg</th>\n",
       "      <th>Rad_Avg</th>\n",
       "      <th>Rain_Tot</th>\n",
       "    </tr>\n",
       "  </thead>\n",
       "  <tbody>\n",
       "    <tr>\n",
       "      <th>0</th>\n",
       "      <td>2023</td>\n",
       "      <td>5</td>\n",
       "      <td>1</td>\n",
       "      <td>42.098597</td>\n",
       "      <td>2.377042</td>\n",
       "      <td>0.378701</td>\n",
       "      <td>0.269903</td>\n",
       "      <td>32.476493</td>\n",
       "      <td>20.131194</td>\n",
       "      <td>19.830514</td>\n",
       "      <td>29.753889</td>\n",
       "      <td>2.439608</td>\n",
       "      <td>154.966895</td>\n",
       "      <td>804.314569</td>\n",
       "      <td>630.264466</td>\n",
       "      <td>0.0</td>\n",
       "    </tr>\n",
       "    <tr>\n",
       "      <th>1</th>\n",
       "      <td>2023</td>\n",
       "      <td>5</td>\n",
       "      <td>2</td>\n",
       "      <td>44.560389</td>\n",
       "      <td>1.889646</td>\n",
       "      <td>0.215486</td>\n",
       "      <td>0.244556</td>\n",
       "      <td>28.960708</td>\n",
       "      <td>18.765649</td>\n",
       "      <td>20.916111</td>\n",
       "      <td>27.642535</td>\n",
       "      <td>2.883990</td>\n",
       "      <td>231.153622</td>\n",
       "      <td>803.925649</td>\n",
       "      <td>659.373538</td>\n",
       "      <td>0.0</td>\n",
       "    </tr>\n",
       "    <tr>\n",
       "      <th>2</th>\n",
       "      <td>2023</td>\n",
       "      <td>5</td>\n",
       "      <td>3</td>\n",
       "      <td>50.777618</td>\n",
       "      <td>4.491722</td>\n",
       "      <td>0.745514</td>\n",
       "      <td>0.397743</td>\n",
       "      <td>49.597222</td>\n",
       "      <td>35.021854</td>\n",
       "      <td>21.357729</td>\n",
       "      <td>30.954847</td>\n",
       "      <td>1.604234</td>\n",
       "      <td>178.251752</td>\n",
       "      <td>803.767500</td>\n",
       "      <td>485.725435</td>\n",
       "      <td>0.0</td>\n",
       "    </tr>\n",
       "    <tr>\n",
       "      <th>3</th>\n",
       "      <td>2023</td>\n",
       "      <td>5</td>\n",
       "      <td>4</td>\n",
       "      <td>50.881806</td>\n",
       "      <td>4.101944</td>\n",
       "      <td>0.455646</td>\n",
       "      <td>0.384681</td>\n",
       "      <td>48.555437</td>\n",
       "      <td>35.872396</td>\n",
       "      <td>21.968729</td>\n",
       "      <td>35.661208</td>\n",
       "      <td>1.729689</td>\n",
       "      <td>183.150144</td>\n",
       "      <td>804.870299</td>\n",
       "      <td>422.336301</td>\n",
       "      <td>0.0</td>\n",
       "    </tr>\n",
       "    <tr>\n",
       "      <th>4</th>\n",
       "      <td>2023</td>\n",
       "      <td>5</td>\n",
       "      <td>5</td>\n",
       "      <td>52.673167</td>\n",
       "      <td>4.675542</td>\n",
       "      <td>0.458521</td>\n",
       "      <td>0.442660</td>\n",
       "      <td>52.817632</td>\n",
       "      <td>41.230729</td>\n",
       "      <td>21.668757</td>\n",
       "      <td>42.649750</td>\n",
       "      <td>1.900280</td>\n",
       "      <td>137.419527</td>\n",
       "      <td>805.930109</td>\n",
       "      <td>449.436559</td>\n",
       "      <td>0.2</td>\n",
       "    </tr>\n",
       "  </tbody>\n",
       "</table>\n",
       "</div>"
      ],
      "text/plain": [
       "   Year  Month  Day         O3       NO2        NO        CO       PM10  \\\n",
       "0  2023      5    1  42.098597  2.377042  0.378701  0.269903  32.476493   \n",
       "1  2023      5    2  44.560389  1.889646  0.215486  0.244556  28.960708   \n",
       "2  2023      5    3  50.777618  4.491722  0.745514  0.397743  49.597222   \n",
       "3  2023      5    4  50.881806  4.101944  0.455646  0.384681  48.555437   \n",
       "4  2023      5    5  52.673167  4.675542  0.458521  0.442660  52.817632   \n",
       "\n",
       "       PM2.5   Temp_Avg     RH_Avg  WSpeed_Avg    WDir_Avg   Press_Avg  \\\n",
       "0  20.131194  19.830514  29.753889    2.439608  154.966895  804.314569   \n",
       "1  18.765649  20.916111  27.642535    2.883990  231.153622  803.925649   \n",
       "2  35.021854  21.357729  30.954847    1.604234  178.251752  803.767500   \n",
       "3  35.872396  21.968729  35.661208    1.729689  183.150144  804.870299   \n",
       "4  41.230729  21.668757  42.649750    1.900280  137.419527  805.930109   \n",
       "\n",
       "      Rad_Avg  Rain_Tot  \n",
       "0  630.264466       0.0  \n",
       "1  659.373538       0.0  \n",
       "2  485.725435       0.0  \n",
       "3  422.336301       0.0  \n",
       "4  449.436559       0.2  "
      ]
     },
     "execution_count": 3,
     "metadata": {},
     "output_type": "execute_result"
    }
   ],
   "source": [
    "df.head()"
   ]
  },
  {
   "cell_type": "code",
   "execution_count": 4,
   "metadata": {},
   "outputs": [
    {
     "name": "stdout",
     "output_type": "stream",
     "text": [
      "<class 'pandas.core.frame.DataFrame'>\n",
      "RangeIndex: 315 entries, 0 to 314\n",
      "Data columns (total 16 columns):\n",
      " #   Column      Non-Null Count  Dtype  \n",
      "---  ------      --------------  -----  \n",
      " 0   Year        315 non-null    int64  \n",
      " 1   Month       315 non-null    int64  \n",
      " 2   Day         315 non-null    int64  \n",
      " 3   O3          315 non-null    float64\n",
      " 4   NO2         315 non-null    float64\n",
      " 5   NO          315 non-null    float64\n",
      " 6   CO          315 non-null    float64\n",
      " 7   PM10        315 non-null    float64\n",
      " 8   PM2.5       315 non-null    float64\n",
      " 9   Temp_Avg    315 non-null    float64\n",
      " 10  RH_Avg      315 non-null    float64\n",
      " 11  WSpeed_Avg  315 non-null    float64\n",
      " 12  WDir_Avg    315 non-null    float64\n",
      " 13  Press_Avg   315 non-null    float64\n",
      " 14  Rad_Avg     315 non-null    float64\n",
      " 15  Rain_Tot    315 non-null    float64\n",
      "dtypes: float64(13), int64(3)\n",
      "memory usage: 39.5 KB\n"
     ]
    }
   ],
   "source": [
    "df.info()"
   ]
  },
  {
   "cell_type": "code",
   "execution_count": 5,
   "metadata": {},
   "outputs": [],
   "source": [
    "df_subset = df[[\"PM2.5\", \"Rain_Tot\"]]"
   ]
  },
  {
   "cell_type": "code",
   "execution_count": 6,
   "metadata": {},
   "outputs": [
    {
     "data": {
      "text/html": [
       "<div>\n",
       "<style scoped>\n",
       "    .dataframe tbody tr th:only-of-type {\n",
       "        vertical-align: middle;\n",
       "    }\n",
       "\n",
       "    .dataframe tbody tr th {\n",
       "        vertical-align: top;\n",
       "    }\n",
       "\n",
       "    .dataframe thead th {\n",
       "        text-align: right;\n",
       "    }\n",
       "</style>\n",
       "<table border=\"1\" class=\"dataframe\">\n",
       "  <thead>\n",
       "    <tr style=\"text-align: right;\">\n",
       "      <th></th>\n",
       "      <th>PM2.5</th>\n",
       "      <th>Rain_Tot</th>\n",
       "    </tr>\n",
       "  </thead>\n",
       "  <tbody>\n",
       "    <tr>\n",
       "      <th>0</th>\n",
       "      <td>20.131194</td>\n",
       "      <td>0.0</td>\n",
       "    </tr>\n",
       "    <tr>\n",
       "      <th>1</th>\n",
       "      <td>18.765649</td>\n",
       "      <td>0.0</td>\n",
       "    </tr>\n",
       "    <tr>\n",
       "      <th>2</th>\n",
       "      <td>35.021854</td>\n",
       "      <td>0.0</td>\n",
       "    </tr>\n",
       "    <tr>\n",
       "      <th>3</th>\n",
       "      <td>35.872396</td>\n",
       "      <td>0.0</td>\n",
       "    </tr>\n",
       "    <tr>\n",
       "      <th>4</th>\n",
       "      <td>41.230729</td>\n",
       "      <td>0.2</td>\n",
       "    </tr>\n",
       "  </tbody>\n",
       "</table>\n",
       "</div>"
      ],
      "text/plain": [
       "       PM2.5  Rain_Tot\n",
       "0  20.131194       0.0\n",
       "1  18.765649       0.0\n",
       "2  35.021854       0.0\n",
       "3  35.872396       0.0\n",
       "4  41.230729       0.2"
      ]
     },
     "execution_count": 6,
     "metadata": {},
     "output_type": "execute_result"
    }
   ],
   "source": [
    "df_subset.head()"
   ]
  },
  {
   "cell_type": "code",
   "execution_count": 7,
   "metadata": {},
   "outputs": [],
   "source": [
    "df_with_rain = df_subset[df_subset[\"Rain_Tot\"] != 0]\n",
    "df_no_rain = df_subset[df_subset[\"Rain_Tot\"] == 0]"
   ]
  },
  {
   "cell_type": "code",
   "execution_count": 8,
   "metadata": {},
   "outputs": [
    {
     "data": {
      "text/html": [
       "<div>\n",
       "<style scoped>\n",
       "    .dataframe tbody tr th:only-of-type {\n",
       "        vertical-align: middle;\n",
       "    }\n",
       "\n",
       "    .dataframe tbody tr th {\n",
       "        vertical-align: top;\n",
       "    }\n",
       "\n",
       "    .dataframe thead th {\n",
       "        text-align: right;\n",
       "    }\n",
       "</style>\n",
       "<table border=\"1\" class=\"dataframe\">\n",
       "  <thead>\n",
       "    <tr style=\"text-align: right;\">\n",
       "      <th></th>\n",
       "      <th>PM2.5</th>\n",
       "      <th>Rain_Tot</th>\n",
       "    </tr>\n",
       "  </thead>\n",
       "  <tbody>\n",
       "    <tr>\n",
       "      <th>4</th>\n",
       "      <td>41.230729</td>\n",
       "      <td>0.2</td>\n",
       "    </tr>\n",
       "    <tr>\n",
       "      <th>8</th>\n",
       "      <td>33.465424</td>\n",
       "      <td>0.3</td>\n",
       "    </tr>\n",
       "    <tr>\n",
       "      <th>9</th>\n",
       "      <td>43.092472</td>\n",
       "      <td>0.1</td>\n",
       "    </tr>\n",
       "    <tr>\n",
       "      <th>15</th>\n",
       "      <td>24.928187</td>\n",
       "      <td>0.2</td>\n",
       "    </tr>\n",
       "    <tr>\n",
       "      <th>17</th>\n",
       "      <td>24.087500</td>\n",
       "      <td>0.7</td>\n",
       "    </tr>\n",
       "  </tbody>\n",
       "</table>\n",
       "</div>"
      ],
      "text/plain": [
       "        PM2.5  Rain_Tot\n",
       "4   41.230729       0.2\n",
       "8   33.465424       0.3\n",
       "9   43.092472       0.1\n",
       "15  24.928187       0.2\n",
       "17  24.087500       0.7"
      ]
     },
     "execution_count": 8,
     "metadata": {},
     "output_type": "execute_result"
    }
   ],
   "source": [
    "df_with_rain.head()"
   ]
  },
  {
   "cell_type": "code",
   "execution_count": 9,
   "metadata": {},
   "outputs": [
    {
     "data": {
      "text/html": [
       "<div>\n",
       "<style scoped>\n",
       "    .dataframe tbody tr th:only-of-type {\n",
       "        vertical-align: middle;\n",
       "    }\n",
       "\n",
       "    .dataframe tbody tr th {\n",
       "        vertical-align: top;\n",
       "    }\n",
       "\n",
       "    .dataframe thead th {\n",
       "        text-align: right;\n",
       "    }\n",
       "</style>\n",
       "<table border=\"1\" class=\"dataframe\">\n",
       "  <thead>\n",
       "    <tr style=\"text-align: right;\">\n",
       "      <th></th>\n",
       "      <th>PM2.5</th>\n",
       "      <th>Rain_Tot</th>\n",
       "    </tr>\n",
       "  </thead>\n",
       "  <tbody>\n",
       "    <tr>\n",
       "      <th>0</th>\n",
       "      <td>20.131194</td>\n",
       "      <td>0.0</td>\n",
       "    </tr>\n",
       "    <tr>\n",
       "      <th>1</th>\n",
       "      <td>18.765649</td>\n",
       "      <td>0.0</td>\n",
       "    </tr>\n",
       "    <tr>\n",
       "      <th>2</th>\n",
       "      <td>35.021854</td>\n",
       "      <td>0.0</td>\n",
       "    </tr>\n",
       "    <tr>\n",
       "      <th>3</th>\n",
       "      <td>35.872396</td>\n",
       "      <td>0.0</td>\n",
       "    </tr>\n",
       "    <tr>\n",
       "      <th>5</th>\n",
       "      <td>36.007222</td>\n",
       "      <td>0.0</td>\n",
       "    </tr>\n",
       "  </tbody>\n",
       "</table>\n",
       "</div>"
      ],
      "text/plain": [
       "       PM2.5  Rain_Tot\n",
       "0  20.131194       0.0\n",
       "1  18.765649       0.0\n",
       "2  35.021854       0.0\n",
       "3  35.872396       0.0\n",
       "5  36.007222       0.0"
      ]
     },
     "execution_count": 9,
     "metadata": {},
     "output_type": "execute_result"
    }
   ],
   "source": [
    "df_no_rain.head()"
   ]
  },
  {
   "cell_type": "code",
   "execution_count": 10,
   "metadata": {},
   "outputs": [
    {
     "data": {
      "text/plain": [
       "True"
      ]
     },
     "execution_count": 10,
     "metadata": {},
     "output_type": "execute_result"
    }
   ],
   "source": [
    "df_with_rain.shape[0] + df_no_rain.shape[0] == df_subset.shape[0]"
   ]
  },
  {
   "cell_type": "code",
   "execution_count": 11,
   "metadata": {},
   "outputs": [],
   "source": [
    "df_with_rain.to_csv(\"Ozone_With_Rain.csv\", index=False)\n",
    "df_no_rain.to_csv(\"Ozone_no_rain.csv\", index=False)"
   ]
  }
 ],
 "metadata": {
  "kernelspec": {
   "display_name": "Python 3",
   "language": "python",
   "name": "python3"
  },
  "language_info": {
   "codemirror_mode": {
    "name": "ipython",
    "version": 3
   },
   "file_extension": ".py",
   "mimetype": "text/x-python",
   "name": "python",
   "nbconvert_exporter": "python",
   "pygments_lexer": "ipython3",
   "version": "3.12.2"
  }
 },
 "nbformat": 4,
 "nbformat_minor": 2
}
