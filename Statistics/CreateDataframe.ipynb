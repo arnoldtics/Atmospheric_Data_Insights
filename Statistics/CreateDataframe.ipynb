{
 "cells": [
  {
   "cell_type": "code",
   "execution_count": 1,
   "metadata": {},
   "outputs": [],
   "source": [
    "import numpy as np\n",
    "import matplotlib.pyplot as plt\n",
    "import seaborn as sns\n",
    "import pandas as pd"
   ]
  },
  {
   "cell_type": "code",
   "execution_count": 2,
   "metadata": {},
   "outputs": [],
   "source": [
    "pathMeteorology = \"../Datasets/Meteorology/\"\n",
    "pathAirQuality = \"../Datasets/AirQuality/\""
   ]
  },
  {
   "cell_type": "code",
   "execution_count": 3,
   "metadata": {},
   "outputs": [],
   "source": [
    "titlesAirQuality = [\"2023-05-MORE_minuto_L1_caire.csv\",\n",
    "                    \"2023-06-MORE_minuto_L1_caire.csv\",\n",
    "                    \"2023-07-MORE_minuto_L1_caire.csv\",\n",
    "                    \"2023-08-MORE_minuto_L1_caire.csv\",\n",
    "                    \"2023-09-MORE_minuto_L1_caire.csv\",\n",
    "                    \"2023-10-MORE_minuto_L1_caire.csv\",\n",
    "                    \"2023-11-MORE_minuto_L1_caire.csv\",\n",
    "                    \"2023-12-MORE_minuto_L1_caire.csv\",\n",
    "                    \"2024-01-MORE_minuto_L1_caire.csv\",\n",
    "                    \"2024-02-MORE_minuto_L1_caire.csv\",\n",
    "                    \"2024-03-MORE_minuto_L1_caire.csv\",]"
   ]
  },
  {
   "cell_type": "code",
   "execution_count": 4,
   "metadata": {},
   "outputs": [],
   "source": [
    "titlesMeteorology = [\"2023-05-more_minuto_L1.csv\",\n",
    "                     \"2023-06-more_minuto_L1.csv\",\n",
    "                     \"2023-07-more_minuto_L1.csv\",\n",
    "                     \"2023-08-more_minuto_L1.csv\",\n",
    "                     \"2023-09-more_minuto_L1.csv\",\n",
    "                     \"2023-10-more_minuto_L1.csv\",\n",
    "                     \"2023-11-more_minuto_L1.csv\",\n",
    "                     \"2023-12-more_minuto_L1.csv\",\n",
    "                     \"2024-01-more_minuto_L1.csv\",\n",
    "                     \"2024-02-more_minuto_L1.csv\",\n",
    "                     \"2024-03-more_minuto_L1.csv\"]"
   ]
  },
  {
   "cell_type": "markdown",
   "metadata": {},
   "source": [
    "## **Air quality**"
   ]
  },
  {
   "cell_type": "code",
   "execution_count": 39,
   "metadata": {},
   "outputs": [],
   "source": [
    "for i, title in enumerate(titlesAirQuality):\n",
    "    if i == 0: \n",
    "        dfAir = pd.read_csv(pathAirQuality + title, skiprows=7)\n",
    "        infoAirQualityVariables = dfAir.iloc[0,:]\n",
    "        dfAir.drop(0, axis=0, inplace=True)\n",
    "    else:\n",
    "        following = pd.read_csv(pathAirQuality + title, skiprows=7)\n",
    "        following.drop(0, axis=0, inplace=True) \n",
    "        dfAir = pd.concat([dfAir, following], ignore_index=True)"
   ]
  },
  {
   "cell_type": "code",
   "execution_count": 31,
   "metadata": {},
   "outputs": [
    {
     "data": {
      "text/html": [
       "<div>\n",
       "<style scoped>\n",
       "    .dataframe tbody tr th:only-of-type {\n",
       "        vertical-align: middle;\n",
       "    }\n",
       "\n",
       "    .dataframe tbody tr th {\n",
       "        vertical-align: top;\n",
       "    }\n",
       "\n",
       "    .dataframe thead th {\n",
       "        text-align: right;\n",
       "    }\n",
       "</style>\n",
       "<table border=\"1\" class=\"dataframe\">\n",
       "  <thead>\n",
       "    <tr style=\"text-align: right;\">\n",
       "      <th></th>\n",
       "      <th>Time</th>\n",
       "      <th>O3</th>\n",
       "      <th>O3_flag</th>\n",
       "      <th>SO2</th>\n",
       "      <th>SO2_flag</th>\n",
       "      <th>NO2</th>\n",
       "      <th>NO2_flag</th>\n",
       "      <th>NO</th>\n",
       "      <th>NO_flag</th>\n",
       "      <th>CO</th>\n",
       "      <th>CO_flag</th>\n",
       "      <th>PM10</th>\n",
       "      <th>PM10_flag</th>\n",
       "      <th>PM2.5</th>\n",
       "      <th>PM2.5_flag</th>\n",
       "    </tr>\n",
       "  </thead>\n",
       "  <tbody>\n",
       "    <tr>\n",
       "      <th>0</th>\n",
       "      <td>2023-05-01 00:00:00</td>\n",
       "      <td>55.48</td>\n",
       "      <td>OK</td>\n",
       "      <td>NaN</td>\n",
       "      <td>OS</td>\n",
       "      <td>0.72</td>\n",
       "      <td>OK</td>\n",
       "      <td>0.01</td>\n",
       "      <td>BDL</td>\n",
       "      <td>0.25</td>\n",
       "      <td>OK</td>\n",
       "      <td>25.47</td>\n",
       "      <td>OK</td>\n",
       "      <td>16.39</td>\n",
       "      <td>OK</td>\n",
       "    </tr>\n",
       "    <tr>\n",
       "      <th>1</th>\n",
       "      <td>2023-05-01 00:01:00</td>\n",
       "      <td>55.49</td>\n",
       "      <td>OK</td>\n",
       "      <td>NaN</td>\n",
       "      <td>OS</td>\n",
       "      <td>0.81</td>\n",
       "      <td>OK</td>\n",
       "      <td>0.08</td>\n",
       "      <td>BDL</td>\n",
       "      <td>0.26</td>\n",
       "      <td>OK</td>\n",
       "      <td>25.74</td>\n",
       "      <td>OK</td>\n",
       "      <td>16.47</td>\n",
       "      <td>OK</td>\n",
       "    </tr>\n",
       "    <tr>\n",
       "      <th>2</th>\n",
       "      <td>2023-05-01 00:02:00</td>\n",
       "      <td>55.4</td>\n",
       "      <td>OK</td>\n",
       "      <td>NaN</td>\n",
       "      <td>OS</td>\n",
       "      <td>0.93</td>\n",
       "      <td>OK</td>\n",
       "      <td>-0.05</td>\n",
       "      <td>BDL</td>\n",
       "      <td>0.27</td>\n",
       "      <td>OK</td>\n",
       "      <td>26.6</td>\n",
       "      <td>OK</td>\n",
       "      <td>17.06</td>\n",
       "      <td>OK</td>\n",
       "    </tr>\n",
       "    <tr>\n",
       "      <th>3</th>\n",
       "      <td>2023-05-01 00:03:00</td>\n",
       "      <td>55.2</td>\n",
       "      <td>OK</td>\n",
       "      <td>NaN</td>\n",
       "      <td>OS</td>\n",
       "      <td>0.87</td>\n",
       "      <td>OK</td>\n",
       "      <td>0.03</td>\n",
       "      <td>BDL</td>\n",
       "      <td>0.28</td>\n",
       "      <td>OK</td>\n",
       "      <td>27.59</td>\n",
       "      <td>OK</td>\n",
       "      <td>18.19</td>\n",
       "      <td>OK</td>\n",
       "    </tr>\n",
       "    <tr>\n",
       "      <th>4</th>\n",
       "      <td>2023-05-01 00:04:00</td>\n",
       "      <td>55.41</td>\n",
       "      <td>OK</td>\n",
       "      <td>NaN</td>\n",
       "      <td>OS</td>\n",
       "      <td>0.98</td>\n",
       "      <td>OK</td>\n",
       "      <td>-0.06</td>\n",
       "      <td>BDL</td>\n",
       "      <td>0.28</td>\n",
       "      <td>OK</td>\n",
       "      <td>27.83</td>\n",
       "      <td>OK</td>\n",
       "      <td>18.5</td>\n",
       "      <td>OK</td>\n",
       "    </tr>\n",
       "  </tbody>\n",
       "</table>\n",
       "</div>"
      ],
      "text/plain": [
       "                  Time     O3 O3_flag  SO2 SO2_flag   NO2 NO2_flag     NO  \\\n",
       "0  2023-05-01 00:00:00  55.48      OK  NaN       OS  0.72       OK   0.01   \n",
       "1  2023-05-01 00:01:00  55.49      OK  NaN       OS  0.81       OK   0.08   \n",
       "2  2023-05-01 00:02:00   55.4      OK  NaN       OS  0.93       OK  -0.05   \n",
       "3  2023-05-01 00:03:00   55.2      OK  NaN       OS  0.87       OK   0.03   \n",
       "4  2023-05-01 00:04:00  55.41      OK  NaN       OS  0.98       OK  -0.06   \n",
       "\n",
       "  NO_flag    CO CO_flag   PM10 PM10_flag  PM2.5 PM2.5_flag  \n",
       "0     BDL  0.25      OK  25.47        OK  16.39         OK  \n",
       "1     BDL  0.26      OK  25.74        OK  16.47         OK  \n",
       "2     BDL  0.27      OK   26.6        OK  17.06         OK  \n",
       "3     BDL  0.28      OK  27.59        OK  18.19         OK  \n",
       "4     BDL  0.28      OK  27.83        OK   18.5         OK  "
      ]
     },
     "execution_count": 31,
     "metadata": {},
     "output_type": "execute_result"
    }
   ],
   "source": [
    "dfAir.head()"
   ]
  },
  {
   "cell_type": "code",
   "execution_count": 32,
   "metadata": {},
   "outputs": [
    {
     "data": {
      "text/plain": [
       "(453131, 15)"
      ]
     },
     "execution_count": 32,
     "metadata": {},
     "output_type": "execute_result"
    }
   ],
   "source": [
    "dfAir.shape"
   ]
  },
  {
   "cell_type": "code",
   "execution_count": 34,
   "metadata": {},
   "outputs": [
    {
     "name": "stdout",
     "output_type": "stream",
     "text": [
      "<class 'pandas.core.frame.DataFrame'>\n",
      "RangeIndex: 453131 entries, 0 to 453130\n",
      "Data columns (total 15 columns):\n",
      " #   Column      Non-Null Count   Dtype \n",
      "---  ------      --------------   ----- \n",
      " 0   Time        453131 non-null  object\n",
      " 1   O3          447332 non-null  object\n",
      " 2   O3_flag     453131 non-null  object\n",
      " 3   SO2         0 non-null       object\n",
      " 4   SO2_flag    453131 non-null  object\n",
      " 5   NO2         452885 non-null  object\n",
      " 6   NO2_flag    453131 non-null  object\n",
      " 7   NO          452885 non-null  object\n",
      " 8   NO_flag     453131 non-null  object\n",
      " 9   CO          453030 non-null  object\n",
      " 10  CO_flag     453131 non-null  object\n",
      " 11  PM10        453023 non-null  object\n",
      " 12  PM10_flag   453131 non-null  object\n",
      " 13  PM2.5       453020 non-null  object\n",
      " 14  PM2.5_flag  453131 non-null  object\n",
      "dtypes: object(15)\n",
      "memory usage: 51.9+ MB\n"
     ]
    }
   ],
   "source": [
    "dfAir.info()"
   ]
  },
  {
   "cell_type": "code",
   "execution_count": 40,
   "metadata": {},
   "outputs": [
    {
     "data": {
      "text/plain": [
       "Time          yyyy-mm-dd HH:MM:SS\n",
       "O3                            ppb\n",
       "O3_flag                      flag\n",
       "SO2                           ppb\n",
       "SO2_flag                     flag\n",
       "NO2                           ppb\n",
       "NO2_flag                     flag\n",
       "NO                            ppb\n",
       "NO_flag                      flag\n",
       "CO                            ppm\n",
       "CO_flag                      flag\n",
       "PM10                       ug/m^3\n",
       "PM10_flag                    flag\n",
       "PM2.5                      ug/m^3\n",
       "PM2.5_flag                   flag\n",
       "Name: 0, dtype: object"
      ]
     },
     "execution_count": 40,
     "metadata": {},
     "output_type": "execute_result"
    }
   ],
   "source": [
    "infoAirQualityVariables"
   ]
  },
  {
   "cell_type": "markdown",
   "metadata": {},
   "source": [
    "## **Meteorology**"
   ]
  },
  {
   "cell_type": "code",
   "execution_count": 41,
   "metadata": {},
   "outputs": [],
   "source": [
    "for i, title in enumerate(titlesMeteorology):\n",
    "    if i == 0: \n",
    "        dfMeteorology = pd.read_csv(pathMeteorology + title, skiprows=6, encoding='latin1')\n",
    "        infoMeteorologyVariables = dfMeteorology.iloc[0,:]\n",
    "        dfMeteorology.drop(0, axis=0, inplace=True)\n",
    "    else:\n",
    "        following = pd.read_csv(pathMeteorology + title, skiprows=6, encoding='latin1')\n",
    "        following.drop(0, axis=0, inplace=True)\n",
    "        dfMeteorology = pd.concat([dfMeteorology, following], ignore_index=True)        "
   ]
  },
  {
   "cell_type": "code",
   "execution_count": 42,
   "metadata": {},
   "outputs": [
    {
     "data": {
      "text/html": [
       "<div>\n",
       "<style scoped>\n",
       "    .dataframe tbody tr th:only-of-type {\n",
       "        vertical-align: middle;\n",
       "    }\n",
       "\n",
       "    .dataframe tbody tr th {\n",
       "        vertical-align: top;\n",
       "    }\n",
       "\n",
       "    .dataframe thead th {\n",
       "        text-align: right;\n",
       "    }\n",
       "</style>\n",
       "<table border=\"1\" class=\"dataframe\">\n",
       "  <thead>\n",
       "    <tr style=\"text-align: right;\">\n",
       "      <th></th>\n",
       "      <th>TIMESTAMP</th>\n",
       "      <th>Temp_Avg</th>\n",
       "      <th>RH_Avg</th>\n",
       "      <th>WSpeed_Avg</th>\n",
       "      <th>WSpeed_Max</th>\n",
       "      <th>WDir_Avg</th>\n",
       "      <th>WDir_SD</th>\n",
       "      <th>Rain_Tot</th>\n",
       "      <th>Press_Avg</th>\n",
       "      <th>Rad_Avg</th>\n",
       "    </tr>\n",
       "  </thead>\n",
       "  <tbody>\n",
       "    <tr>\n",
       "      <th>0</th>\n",
       "      <td>2023-05-01 00:00:00</td>\n",
       "      <td>19.15</td>\n",
       "      <td>31.64</td>\n",
       "      <td>3.521</td>\n",
       "      <td>4.25</td>\n",
       "      <td>173.6</td>\n",
       "      <td>14.26</td>\n",
       "      <td>0.0</td>\n",
       "      <td>805.409</td>\n",
       "      <td>-1.521</td>\n",
       "    </tr>\n",
       "    <tr>\n",
       "      <th>1</th>\n",
       "      <td>2023-05-01 00:01:00</td>\n",
       "      <td>19.11</td>\n",
       "      <td>31.66</td>\n",
       "      <td>3.644</td>\n",
       "      <td>4.372</td>\n",
       "      <td>171.0</td>\n",
       "      <td>10.53</td>\n",
       "      <td>0.0</td>\n",
       "      <td>805.524</td>\n",
       "      <td>-1.521</td>\n",
       "    </tr>\n",
       "    <tr>\n",
       "      <th>2</th>\n",
       "      <td>2023-05-01 00:02:00</td>\n",
       "      <td>19.09</td>\n",
       "      <td>31.7</td>\n",
       "      <td>4.139</td>\n",
       "      <td>5.253</td>\n",
       "      <td>178.6</td>\n",
       "      <td>15.72</td>\n",
       "      <td>0.0</td>\n",
       "      <td>805.436</td>\n",
       "      <td>-2.074</td>\n",
       "    </tr>\n",
       "    <tr>\n",
       "      <th>3</th>\n",
       "      <td>2023-05-01 00:03:00</td>\n",
       "      <td>19.1</td>\n",
       "      <td>31.76</td>\n",
       "      <td>3.692</td>\n",
       "      <td>4.925</td>\n",
       "      <td>186.1</td>\n",
       "      <td>17.43</td>\n",
       "      <td>0.0</td>\n",
       "      <td>805.45</td>\n",
       "      <td>-2.397</td>\n",
       "    </tr>\n",
       "    <tr>\n",
       "      <th>4</th>\n",
       "      <td>2023-05-01 00:04:00</td>\n",
       "      <td>19.1</td>\n",
       "      <td>31.76</td>\n",
       "      <td>2.198</td>\n",
       "      <td>4.301</td>\n",
       "      <td>211.5</td>\n",
       "      <td>21.67</td>\n",
       "      <td>0.0</td>\n",
       "      <td>805.504</td>\n",
       "      <td>-1.706</td>\n",
       "    </tr>\n",
       "  </tbody>\n",
       "</table>\n",
       "</div>"
      ],
      "text/plain": [
       "             TIMESTAMP Temp_Avg RH_Avg WSpeed_Avg WSpeed_Max WDir_Avg WDir_SD  \\\n",
       "0  2023-05-01 00:00:00    19.15  31.64      3.521       4.25    173.6   14.26   \n",
       "1  2023-05-01 00:01:00    19.11  31.66      3.644      4.372    171.0   10.53   \n",
       "2  2023-05-01 00:02:00    19.09   31.7      4.139      5.253    178.6   15.72   \n",
       "3  2023-05-01 00:03:00     19.1  31.76      3.692      4.925    186.1   17.43   \n",
       "4  2023-05-01 00:04:00     19.1  31.76      2.198      4.301    211.5   21.67   \n",
       "\n",
       "  Rain_Tot Press_Avg Rad_Avg  \n",
       "0      0.0   805.409  -1.521  \n",
       "1      0.0   805.524  -1.521  \n",
       "2      0.0   805.436  -2.074  \n",
       "3      0.0    805.45  -2.397  \n",
       "4      0.0   805.504  -1.706  "
      ]
     },
     "execution_count": 42,
     "metadata": {},
     "output_type": "execute_result"
    }
   ],
   "source": [
    "dfMeteorology.head()"
   ]
  },
  {
   "cell_type": "code",
   "execution_count": 44,
   "metadata": {},
   "outputs": [
    {
     "data": {
      "text/plain": [
       "(421031, 10)"
      ]
     },
     "execution_count": 44,
     "metadata": {},
     "output_type": "execute_result"
    }
   ],
   "source": [
    "dfMeteorology.shape"
   ]
  },
  {
   "cell_type": "code",
   "execution_count": 45,
   "metadata": {},
   "outputs": [
    {
     "name": "stdout",
     "output_type": "stream",
     "text": [
      "<class 'pandas.core.frame.DataFrame'>\n",
      "RangeIndex: 421031 entries, 0 to 421030\n",
      "Data columns (total 10 columns):\n",
      " #   Column      Non-Null Count   Dtype \n",
      "---  ------      --------------   ----- \n",
      " 0   TIMESTAMP   421031 non-null  object\n",
      " 1   Temp_Avg    421024 non-null  object\n",
      " 2   RH_Avg      421024 non-null  object\n",
      " 3   WSpeed_Avg  421024 non-null  object\n",
      " 4   WSpeed_Max  421024 non-null  object\n",
      " 5   WDir_Avg    421024 non-null  object\n",
      " 6   WDir_SD     421024 non-null  object\n",
      " 7   Rain_Tot    421024 non-null  object\n",
      " 8   Press_Avg   421024 non-null  object\n",
      " 9   Rad_Avg     421018 non-null  object\n",
      "dtypes: object(10)\n",
      "memory usage: 32.1+ MB\n"
     ]
    }
   ],
   "source": [
    "dfMeteorology.info()"
   ]
  },
  {
   "cell_type": "code",
   "execution_count": 46,
   "metadata": {},
   "outputs": [
    {
     "data": {
      "text/plain": [
       "TIMESTAMP     yyyy-mm-dd HH:MM:SS\n",
       "Temp_Avg                       °C\n",
       "RH_Avg                          %\n",
       "WSpeed_Avg                    m/s\n",
       "WSpeed_Max                    m/s\n",
       "WDir_Avg                      deg\n",
       "WDir_SD                       deg\n",
       "Rain_Tot                       mm\n",
       "Press_Avg                     hPa\n",
       "Rad_Avg                     W/m^2\n",
       "Name: 0, dtype: object"
      ]
     },
     "execution_count": 46,
     "metadata": {},
     "output_type": "execute_result"
    }
   ],
   "source": [
    "infoMeteorologyVariables"
   ]
  },
  {
   "cell_type": "markdown",
   "metadata": {},
   "source": [
    "## **Formatting data types**"
   ]
  },
  {
   "cell_type": "markdown",
   "metadata": {},
   "source": [
    "**Air quality**"
   ]
  },
  {
   "cell_type": "code",
   "execution_count": 47,
   "metadata": {},
   "outputs": [],
   "source": [
    "flags = [\"O3_flag\", \"SO2_flag\", \"NO2_flag\", \"NO_flag\", \"CO_flag\", \"PM10_flag\", \"PM2.5_flag\"]\n",
    "numeric = [\"O3\", \"SO2\", \"NO2\", \"NO\", \"CO\", \"PM10\", \"PM2.5\"]"
   ]
  },
  {
   "cell_type": "code",
   "execution_count": 48,
   "metadata": {},
   "outputs": [],
   "source": [
    "for flag in flags: dfAir[flag] = dfAir[flag].astype(\"string\")"
   ]
  },
  {
   "cell_type": "code",
   "execution_count": 49,
   "metadata": {},
   "outputs": [],
   "source": [
    "for num in numeric: dfAir[num] = dfAir[num].astype(\"float64\")"
   ]
  },
  {
   "cell_type": "code",
   "execution_count": 53,
   "metadata": {},
   "outputs": [],
   "source": [
    "dfAir[\"Time\"] = pd.to_datetime(dfAir[\"Time\"])"
   ]
  },
  {
   "cell_type": "code",
   "execution_count": 54,
   "metadata": {},
   "outputs": [
    {
     "name": "stdout",
     "output_type": "stream",
     "text": [
      "<class 'pandas.core.frame.DataFrame'>\n",
      "RangeIndex: 453131 entries, 0 to 453130\n",
      "Data columns (total 15 columns):\n",
      " #   Column      Non-Null Count   Dtype         \n",
      "---  ------      --------------   -----         \n",
      " 0   Time        453131 non-null  datetime64[ns]\n",
      " 1   O3          447332 non-null  float64       \n",
      " 2   O3_flag     453131 non-null  string        \n",
      " 3   SO2         0 non-null       float64       \n",
      " 4   SO2_flag    453131 non-null  string        \n",
      " 5   NO2         452885 non-null  float64       \n",
      " 6   NO2_flag    453131 non-null  string        \n",
      " 7   NO          452885 non-null  float64       \n",
      " 8   NO_flag     453131 non-null  string        \n",
      " 9   CO          453030 non-null  float64       \n",
      " 10  CO_flag     453131 non-null  string        \n",
      " 11  PM10        453023 non-null  float64       \n",
      " 12  PM10_flag   453131 non-null  string        \n",
      " 13  PM2.5       453020 non-null  float64       \n",
      " 14  PM2.5_flag  453131 non-null  string        \n",
      "dtypes: datetime64[ns](1), float64(7), string(7)\n",
      "memory usage: 51.9 MB\n"
     ]
    }
   ],
   "source": [
    "dfAir.info()"
   ]
  },
  {
   "cell_type": "markdown",
   "metadata": {},
   "source": [
    "**Meteorology**"
   ]
  },
  {
   "cell_type": "code",
   "execution_count": 57,
   "metadata": {},
   "outputs": [],
   "source": [
    "for column in dfMeteorology.columns: \n",
    "    if column == \"TIMESTAMP\":\n",
    "        dfMeteorology[\"Time\"] = pd.to_datetime(dfMeteorology[\"TIMESTAMP\"])\n",
    "        dfMeteorology.drop(\"TIMESTAMP\", axis=1, inplace=True)\n",
    "    else: dfMeteorology[column] = dfMeteorology[column].astype(\"float64\")"
   ]
  },
  {
   "cell_type": "code",
   "execution_count": 58,
   "metadata": {},
   "outputs": [
    {
     "name": "stdout",
     "output_type": "stream",
     "text": [
      "<class 'pandas.core.frame.DataFrame'>\n",
      "RangeIndex: 421031 entries, 0 to 421030\n",
      "Data columns (total 10 columns):\n",
      " #   Column      Non-Null Count   Dtype         \n",
      "---  ------      --------------   -----         \n",
      " 0   Temp_Avg    421024 non-null  float64       \n",
      " 1   RH_Avg      421024 non-null  float64       \n",
      " 2   WSpeed_Avg  421024 non-null  float64       \n",
      " 3   WSpeed_Max  421024 non-null  float64       \n",
      " 4   WDir_Avg    421024 non-null  float64       \n",
      " 5   WDir_SD     421024 non-null  float64       \n",
      " 6   Rain_Tot    421024 non-null  float64       \n",
      " 7   Press_Avg   421024 non-null  float64       \n",
      " 8   Rad_Avg     421018 non-null  float64       \n",
      " 9   Time        421031 non-null  datetime64[ns]\n",
      "dtypes: datetime64[ns](1), float64(9)\n",
      "memory usage: 32.1 MB\n"
     ]
    }
   ],
   "source": [
    "dfMeteorology.info()"
   ]
  },
  {
   "cell_type": "markdown",
   "metadata": {},
   "source": [
    "## **Merge both dataframes**"
   ]
  },
  {
   "cell_type": "code",
   "execution_count": 62,
   "metadata": {},
   "outputs": [],
   "source": [
    "dfComplete = pd.merge(dfAir, dfMeteorology, how='inner', on=\"Time\").drop_duplicates()"
   ]
  },
  {
   "cell_type": "code",
   "execution_count": 63,
   "metadata": {},
   "outputs": [
    {
     "data": {
      "text/html": [
       "<div>\n",
       "<style scoped>\n",
       "    .dataframe tbody tr th:only-of-type {\n",
       "        vertical-align: middle;\n",
       "    }\n",
       "\n",
       "    .dataframe tbody tr th {\n",
       "        vertical-align: top;\n",
       "    }\n",
       "\n",
       "    .dataframe thead th {\n",
       "        text-align: right;\n",
       "    }\n",
       "</style>\n",
       "<table border=\"1\" class=\"dataframe\">\n",
       "  <thead>\n",
       "    <tr style=\"text-align: right;\">\n",
       "      <th></th>\n",
       "      <th>Time</th>\n",
       "      <th>O3</th>\n",
       "      <th>O3_flag</th>\n",
       "      <th>SO2</th>\n",
       "      <th>SO2_flag</th>\n",
       "      <th>NO2</th>\n",
       "      <th>NO2_flag</th>\n",
       "      <th>NO</th>\n",
       "      <th>NO_flag</th>\n",
       "      <th>CO</th>\n",
       "      <th>...</th>\n",
       "      <th>PM2.5_flag</th>\n",
       "      <th>Temp_Avg</th>\n",
       "      <th>RH_Avg</th>\n",
       "      <th>WSpeed_Avg</th>\n",
       "      <th>WSpeed_Max</th>\n",
       "      <th>WDir_Avg</th>\n",
       "      <th>WDir_SD</th>\n",
       "      <th>Rain_Tot</th>\n",
       "      <th>Press_Avg</th>\n",
       "      <th>Rad_Avg</th>\n",
       "    </tr>\n",
       "  </thead>\n",
       "  <tbody>\n",
       "    <tr>\n",
       "      <th>0</th>\n",
       "      <td>2023-05-01 00:00:00</td>\n",
       "      <td>55.48</td>\n",
       "      <td>OK</td>\n",
       "      <td>NaN</td>\n",
       "      <td>OS</td>\n",
       "      <td>0.72</td>\n",
       "      <td>OK</td>\n",
       "      <td>0.01</td>\n",
       "      <td>BDL</td>\n",
       "      <td>0.25</td>\n",
       "      <td>...</td>\n",
       "      <td>OK</td>\n",
       "      <td>19.15</td>\n",
       "      <td>31.64</td>\n",
       "      <td>3.521</td>\n",
       "      <td>4.250</td>\n",
       "      <td>173.6</td>\n",
       "      <td>14.26</td>\n",
       "      <td>0.0</td>\n",
       "      <td>805.409</td>\n",
       "      <td>-1.521</td>\n",
       "    </tr>\n",
       "    <tr>\n",
       "      <th>1</th>\n",
       "      <td>2023-05-01 00:01:00</td>\n",
       "      <td>55.49</td>\n",
       "      <td>OK</td>\n",
       "      <td>NaN</td>\n",
       "      <td>OS</td>\n",
       "      <td>0.81</td>\n",
       "      <td>OK</td>\n",
       "      <td>0.08</td>\n",
       "      <td>BDL</td>\n",
       "      <td>0.26</td>\n",
       "      <td>...</td>\n",
       "      <td>OK</td>\n",
       "      <td>19.11</td>\n",
       "      <td>31.66</td>\n",
       "      <td>3.644</td>\n",
       "      <td>4.372</td>\n",
       "      <td>171.0</td>\n",
       "      <td>10.53</td>\n",
       "      <td>0.0</td>\n",
       "      <td>805.524</td>\n",
       "      <td>-1.521</td>\n",
       "    </tr>\n",
       "    <tr>\n",
       "      <th>2</th>\n",
       "      <td>2023-05-01 00:02:00</td>\n",
       "      <td>55.40</td>\n",
       "      <td>OK</td>\n",
       "      <td>NaN</td>\n",
       "      <td>OS</td>\n",
       "      <td>0.93</td>\n",
       "      <td>OK</td>\n",
       "      <td>-0.05</td>\n",
       "      <td>BDL</td>\n",
       "      <td>0.27</td>\n",
       "      <td>...</td>\n",
       "      <td>OK</td>\n",
       "      <td>19.09</td>\n",
       "      <td>31.70</td>\n",
       "      <td>4.139</td>\n",
       "      <td>5.253</td>\n",
       "      <td>178.6</td>\n",
       "      <td>15.72</td>\n",
       "      <td>0.0</td>\n",
       "      <td>805.436</td>\n",
       "      <td>-2.074</td>\n",
       "    </tr>\n",
       "    <tr>\n",
       "      <th>3</th>\n",
       "      <td>2023-05-01 00:03:00</td>\n",
       "      <td>55.20</td>\n",
       "      <td>OK</td>\n",
       "      <td>NaN</td>\n",
       "      <td>OS</td>\n",
       "      <td>0.87</td>\n",
       "      <td>OK</td>\n",
       "      <td>0.03</td>\n",
       "      <td>BDL</td>\n",
       "      <td>0.28</td>\n",
       "      <td>...</td>\n",
       "      <td>OK</td>\n",
       "      <td>19.10</td>\n",
       "      <td>31.76</td>\n",
       "      <td>3.692</td>\n",
       "      <td>4.925</td>\n",
       "      <td>186.1</td>\n",
       "      <td>17.43</td>\n",
       "      <td>0.0</td>\n",
       "      <td>805.450</td>\n",
       "      <td>-2.397</td>\n",
       "    </tr>\n",
       "    <tr>\n",
       "      <th>4</th>\n",
       "      <td>2023-05-01 00:04:00</td>\n",
       "      <td>55.41</td>\n",
       "      <td>OK</td>\n",
       "      <td>NaN</td>\n",
       "      <td>OS</td>\n",
       "      <td>0.98</td>\n",
       "      <td>OK</td>\n",
       "      <td>-0.06</td>\n",
       "      <td>BDL</td>\n",
       "      <td>0.28</td>\n",
       "      <td>...</td>\n",
       "      <td>OK</td>\n",
       "      <td>19.10</td>\n",
       "      <td>31.76</td>\n",
       "      <td>2.198</td>\n",
       "      <td>4.301</td>\n",
       "      <td>211.5</td>\n",
       "      <td>21.67</td>\n",
       "      <td>0.0</td>\n",
       "      <td>805.504</td>\n",
       "      <td>-1.706</td>\n",
       "    </tr>\n",
       "  </tbody>\n",
       "</table>\n",
       "<p>5 rows × 24 columns</p>\n",
       "</div>"
      ],
      "text/plain": [
       "                 Time     O3 O3_flag  SO2 SO2_flag   NO2 NO2_flag    NO  \\\n",
       "0 2023-05-01 00:00:00  55.48      OK  NaN       OS  0.72       OK  0.01   \n",
       "1 2023-05-01 00:01:00  55.49      OK  NaN       OS  0.81       OK  0.08   \n",
       "2 2023-05-01 00:02:00  55.40      OK  NaN       OS  0.93       OK -0.05   \n",
       "3 2023-05-01 00:03:00  55.20      OK  NaN       OS  0.87       OK  0.03   \n",
       "4 2023-05-01 00:04:00  55.41      OK  NaN       OS  0.98       OK -0.06   \n",
       "\n",
       "  NO_flag    CO  ... PM2.5_flag  Temp_Avg RH_Avg  WSpeed_Avg WSpeed_Max  \\\n",
       "0     BDL  0.25  ...         OK     19.15  31.64       3.521      4.250   \n",
       "1     BDL  0.26  ...         OK     19.11  31.66       3.644      4.372   \n",
       "2     BDL  0.27  ...         OK     19.09  31.70       4.139      5.253   \n",
       "3     BDL  0.28  ...         OK     19.10  31.76       3.692      4.925   \n",
       "4     BDL  0.28  ...         OK     19.10  31.76       2.198      4.301   \n",
       "\n",
       "   WDir_Avg  WDir_SD  Rain_Tot  Press_Avg  Rad_Avg  \n",
       "0     173.6    14.26       0.0    805.409   -1.521  \n",
       "1     171.0    10.53       0.0    805.524   -1.521  \n",
       "2     178.6    15.72       0.0    805.436   -2.074  \n",
       "3     186.1    17.43       0.0    805.450   -2.397  \n",
       "4     211.5    21.67       0.0    805.504   -1.706  \n",
       "\n",
       "[5 rows x 24 columns]"
      ]
     },
     "execution_count": 63,
     "metadata": {},
     "output_type": "execute_result"
    }
   ],
   "source": [
    "dfComplete.head()"
   ]
  },
  {
   "cell_type": "code",
   "execution_count": 64,
   "metadata": {},
   "outputs": [
    {
     "name": "stdout",
     "output_type": "stream",
     "text": [
      "<class 'pandas.core.frame.DataFrame'>\n",
      "RangeIndex: 408971 entries, 0 to 408970\n",
      "Data columns (total 24 columns):\n",
      " #   Column      Non-Null Count   Dtype         \n",
      "---  ------      --------------   -----         \n",
      " 0   Time        408971 non-null  datetime64[ns]\n",
      " 1   O3          403172 non-null  float64       \n",
      " 2   O3_flag     408971 non-null  string        \n",
      " 3   SO2         0 non-null       float64       \n",
      " 4   SO2_flag    408971 non-null  string        \n",
      " 5   NO2         408725 non-null  float64       \n",
      " 6   NO2_flag    408971 non-null  string        \n",
      " 7   NO          408725 non-null  float64       \n",
      " 8   NO_flag     408971 non-null  string        \n",
      " 9   CO          408870 non-null  float64       \n",
      " 10  CO_flag     408971 non-null  string        \n",
      " 11  PM10        408863 non-null  float64       \n",
      " 12  PM10_flag   408971 non-null  string        \n",
      " 13  PM2.5       408860 non-null  float64       \n",
      " 14  PM2.5_flag  408971 non-null  string        \n",
      " 15  Temp_Avg    408964 non-null  float64       \n",
      " 16  RH_Avg      408964 non-null  float64       \n",
      " 17  WSpeed_Avg  408964 non-null  float64       \n",
      " 18  WSpeed_Max  408964 non-null  float64       \n",
      " 19  WDir_Avg    408964 non-null  float64       \n",
      " 20  WDir_SD     408964 non-null  float64       \n",
      " 21  Rain_Tot    408964 non-null  float64       \n",
      " 22  Press_Avg   408964 non-null  float64       \n",
      " 23  Rad_Avg     408958 non-null  float64       \n",
      "dtypes: datetime64[ns](1), float64(16), string(7)\n",
      "memory usage: 74.9 MB\n"
     ]
    }
   ],
   "source": [
    "dfComplete.info()"
   ]
  },
  {
   "cell_type": "markdown",
   "metadata": {},
   "source": [
    "## **Creating de csv file**"
   ]
  },
  {
   "cell_type": "code",
   "execution_count": 66,
   "metadata": {},
   "outputs": [],
   "source": [
    "dfComplete.to_csv(\"Atmospheric Data.csv\", index=False)"
   ]
  }
 ],
 "metadata": {
  "kernelspec": {
   "display_name": "Python 3",
   "language": "python",
   "name": "python3"
  },
  "language_info": {
   "codemirror_mode": {
    "name": "ipython",
    "version": 3
   },
   "file_extension": ".py",
   "mimetype": "text/x-python",
   "name": "python",
   "nbconvert_exporter": "python",
   "pygments_lexer": "ipython3",
   "version": "3.12.2"
  }
 },
 "nbformat": 4,
 "nbformat_minor": 2
}
