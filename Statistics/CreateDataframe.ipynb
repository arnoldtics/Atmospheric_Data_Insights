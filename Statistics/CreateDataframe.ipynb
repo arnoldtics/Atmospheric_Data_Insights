{
 "cells": [
  {
   "cell_type": "code",
   "execution_count": 1,
   "metadata": {},
   "outputs": [],
   "source": [
    "import numpy as np\n",
    "import matplotlib.pyplot as plt\n",
    "import seaborn as sns\n",
    "import pandas as pd"
   ]
  },
  {
   "cell_type": "code",
   "execution_count": 2,
   "metadata": {},
   "outputs": [],
   "source": [
    "pathMeteorology = \"../Datasets/Meteorology/\"\n",
    "pathAirQuality = \"../Datasets/AirQuality/\""
   ]
  },
  {
   "cell_type": "code",
   "execution_count": 4,
   "metadata": {},
   "outputs": [],
   "source": [
    "titlesAirQuality = [\"2023-05-MORE_minuto_L1_caire.csv\",\n",
    "                    \"2023-06-MORE_minuto_L1_caire.csv\",\n",
    "                    \"2023-07-MORE_minuto_L1_caire.csv\",\n",
    "                    \"2023-08-MORE_minuto_L1_caire.csv\",\n",
    "                    \"2023-09-MORE_minuto_L1_caire.csv\",\n",
    "                    \"2023-10-MORE_minuto_L1_caire.csv\",\n",
    "                    \"2023-11-MORE_minuto_L1_caire.csv\",\n",
    "                    \"2023-12-MORE_minuto_L1_caire.csv\",\n",
    "                    \"2024-01-MORE_minuto_L1_caire.csv\",\n",
    "                    \"2024-02-MORE_minuto_L1_caire.csv\",\n",
    "                    \"2024-03-MORE_minuto_L1_caire.csv\",]"
   ]
  },
  {
   "cell_type": "code",
   "execution_count": 5,
   "metadata": {},
   "outputs": [],
   "source": [
    "titlesMeteorology = [\"2023-05-more_minuto_L1.csv\",\n",
    "                     \"2023-06-more_minuto_L1.csv\",\n",
    "                     \"2023-07-more_minuto_L1.csv\",\n",
    "                     \"2023-08-more_minuto_L1.csv\",\n",
    "                     \"2023-09-more_minuto_L1.csv\",\n",
    "                     \"2023-10-more_minuto_L1.csv\",\n",
    "                     \"2023-11-more_minuto_L1.csv\",\n",
    "                     \"2023-12-more_minuto_L1.csv\",\n",
    "                     \"2024-01-more_minuto_L1.csv\",\n",
    "                     \"2024-02-more_minuto_L1.csv\",\n",
    "                     \"2024-03-more_minuto_L1.csv\"]"
   ]
  },
  {
   "cell_type": "code",
   "execution_count": null,
   "metadata": {},
   "outputs": [],
   "source": []
  }
 ],
 "metadata": {
  "kernelspec": {
   "display_name": "Python 3",
   "language": "python",
   "name": "python3"
  },
  "language_info": {
   "codemirror_mode": {
    "name": "ipython",
    "version": 3
   },
   "file_extension": ".py",
   "mimetype": "text/x-python",
   "name": "python",
   "nbconvert_exporter": "python",
   "pygments_lexer": "ipython3",
   "version": "3.12.2"
  }
 },
 "nbformat": 4,
 "nbformat_minor": 2
}
