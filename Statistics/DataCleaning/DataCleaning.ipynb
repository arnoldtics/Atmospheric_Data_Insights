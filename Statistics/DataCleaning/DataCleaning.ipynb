{
 "cells": [
  {
   "cell_type": "code",
   "execution_count": 1,
   "metadata": {},
   "outputs": [],
   "source": [
    "import pandas as pd\n",
    "import numpy as np\n",
    "import matplotlib.pyplot as plt\n",
    "import seaborn as sns"
   ]
  },
  {
   "cell_type": "code",
   "execution_count": 13,
   "metadata": {},
   "outputs": [],
   "source": [
    "df1 = pd.read_csv(\"Atmospheric Data Precleaned.csv\")"
   ]
  },
  {
   "cell_type": "code",
   "execution_count": 14,
   "metadata": {},
   "outputs": [
    {
     "data": {
      "text/html": [
       "<div>\n",
       "<style scoped>\n",
       "    .dataframe tbody tr th:only-of-type {\n",
       "        vertical-align: middle;\n",
       "    }\n",
       "\n",
       "    .dataframe tbody tr th {\n",
       "        vertical-align: top;\n",
       "    }\n",
       "\n",
       "    .dataframe thead th {\n",
       "        text-align: right;\n",
       "    }\n",
       "</style>\n",
       "<table border=\"1\" class=\"dataframe\">\n",
       "  <thead>\n",
       "    <tr style=\"text-align: right;\">\n",
       "      <th></th>\n",
       "      <th>Time</th>\n",
       "      <th>O3</th>\n",
       "      <th>O3_flag</th>\n",
       "      <th>NO2</th>\n",
       "      <th>NO2_flag</th>\n",
       "      <th>NO</th>\n",
       "      <th>NO_flag</th>\n",
       "      <th>CO</th>\n",
       "      <th>CO_flag</th>\n",
       "      <th>PM10</th>\n",
       "      <th>...</th>\n",
       "      <th>PM2.5_flag</th>\n",
       "      <th>Temp_Avg</th>\n",
       "      <th>RH_Avg</th>\n",
       "      <th>WSpeed_Avg</th>\n",
       "      <th>WSpeed_Max</th>\n",
       "      <th>WDir_Avg</th>\n",
       "      <th>WDir_SD</th>\n",
       "      <th>Rain_Tot</th>\n",
       "      <th>Press_Avg</th>\n",
       "      <th>Rad_Avg</th>\n",
       "    </tr>\n",
       "  </thead>\n",
       "  <tbody>\n",
       "    <tr>\n",
       "      <th>0</th>\n",
       "      <td>2023-05-01 00:00:00</td>\n",
       "      <td>55.48</td>\n",
       "      <td>OK</td>\n",
       "      <td>0.72</td>\n",
       "      <td>OK</td>\n",
       "      <td>0.01</td>\n",
       "      <td>BDL</td>\n",
       "      <td>0.25</td>\n",
       "      <td>OK</td>\n",
       "      <td>25.47</td>\n",
       "      <td>...</td>\n",
       "      <td>OK</td>\n",
       "      <td>19.15</td>\n",
       "      <td>31.64</td>\n",
       "      <td>3.521</td>\n",
       "      <td>4.250</td>\n",
       "      <td>173.6</td>\n",
       "      <td>14.26</td>\n",
       "      <td>0.0</td>\n",
       "      <td>805.409</td>\n",
       "      <td>-1.521</td>\n",
       "    </tr>\n",
       "    <tr>\n",
       "      <th>1</th>\n",
       "      <td>2023-05-01 00:01:00</td>\n",
       "      <td>55.49</td>\n",
       "      <td>OK</td>\n",
       "      <td>0.81</td>\n",
       "      <td>OK</td>\n",
       "      <td>0.08</td>\n",
       "      <td>BDL</td>\n",
       "      <td>0.26</td>\n",
       "      <td>OK</td>\n",
       "      <td>25.74</td>\n",
       "      <td>...</td>\n",
       "      <td>OK</td>\n",
       "      <td>19.11</td>\n",
       "      <td>31.66</td>\n",
       "      <td>3.644</td>\n",
       "      <td>4.372</td>\n",
       "      <td>171.0</td>\n",
       "      <td>10.53</td>\n",
       "      <td>0.0</td>\n",
       "      <td>805.524</td>\n",
       "      <td>-1.521</td>\n",
       "    </tr>\n",
       "    <tr>\n",
       "      <th>2</th>\n",
       "      <td>2023-05-01 00:02:00</td>\n",
       "      <td>55.40</td>\n",
       "      <td>OK</td>\n",
       "      <td>0.93</td>\n",
       "      <td>OK</td>\n",
       "      <td>-0.05</td>\n",
       "      <td>BDL</td>\n",
       "      <td>0.27</td>\n",
       "      <td>OK</td>\n",
       "      <td>26.60</td>\n",
       "      <td>...</td>\n",
       "      <td>OK</td>\n",
       "      <td>19.09</td>\n",
       "      <td>31.70</td>\n",
       "      <td>4.139</td>\n",
       "      <td>5.253</td>\n",
       "      <td>178.6</td>\n",
       "      <td>15.72</td>\n",
       "      <td>0.0</td>\n",
       "      <td>805.436</td>\n",
       "      <td>-2.074</td>\n",
       "    </tr>\n",
       "    <tr>\n",
       "      <th>3</th>\n",
       "      <td>2023-05-01 00:03:00</td>\n",
       "      <td>55.20</td>\n",
       "      <td>OK</td>\n",
       "      <td>0.87</td>\n",
       "      <td>OK</td>\n",
       "      <td>0.03</td>\n",
       "      <td>BDL</td>\n",
       "      <td>0.28</td>\n",
       "      <td>OK</td>\n",
       "      <td>27.59</td>\n",
       "      <td>...</td>\n",
       "      <td>OK</td>\n",
       "      <td>19.10</td>\n",
       "      <td>31.76</td>\n",
       "      <td>3.692</td>\n",
       "      <td>4.925</td>\n",
       "      <td>186.1</td>\n",
       "      <td>17.43</td>\n",
       "      <td>0.0</td>\n",
       "      <td>805.450</td>\n",
       "      <td>-2.397</td>\n",
       "    </tr>\n",
       "    <tr>\n",
       "      <th>4</th>\n",
       "      <td>2023-05-01 00:04:00</td>\n",
       "      <td>55.41</td>\n",
       "      <td>OK</td>\n",
       "      <td>0.98</td>\n",
       "      <td>OK</td>\n",
       "      <td>-0.06</td>\n",
       "      <td>BDL</td>\n",
       "      <td>0.28</td>\n",
       "      <td>OK</td>\n",
       "      <td>27.83</td>\n",
       "      <td>...</td>\n",
       "      <td>OK</td>\n",
       "      <td>19.10</td>\n",
       "      <td>31.76</td>\n",
       "      <td>2.198</td>\n",
       "      <td>4.301</td>\n",
       "      <td>211.5</td>\n",
       "      <td>21.67</td>\n",
       "      <td>0.0</td>\n",
       "      <td>805.504</td>\n",
       "      <td>-1.706</td>\n",
       "    </tr>\n",
       "  </tbody>\n",
       "</table>\n",
       "<p>5 rows × 22 columns</p>\n",
       "</div>"
      ],
      "text/plain": [
       "                  Time     O3 O3_flag   NO2 NO2_flag    NO NO_flag    CO  \\\n",
       "0  2023-05-01 00:00:00  55.48      OK  0.72       OK  0.01     BDL  0.25   \n",
       "1  2023-05-01 00:01:00  55.49      OK  0.81       OK  0.08     BDL  0.26   \n",
       "2  2023-05-01 00:02:00  55.40      OK  0.93       OK -0.05     BDL  0.27   \n",
       "3  2023-05-01 00:03:00  55.20      OK  0.87       OK  0.03     BDL  0.28   \n",
       "4  2023-05-01 00:04:00  55.41      OK  0.98       OK -0.06     BDL  0.28   \n",
       "\n",
       "  CO_flag   PM10  ... PM2.5_flag  Temp_Avg RH_Avg  WSpeed_Avg  WSpeed_Max  \\\n",
       "0      OK  25.47  ...         OK     19.15  31.64       3.521       4.250   \n",
       "1      OK  25.74  ...         OK     19.11  31.66       3.644       4.372   \n",
       "2      OK  26.60  ...         OK     19.09  31.70       4.139       5.253   \n",
       "3      OK  27.59  ...         OK     19.10  31.76       3.692       4.925   \n",
       "4      OK  27.83  ...         OK     19.10  31.76       2.198       4.301   \n",
       "\n",
       "   WDir_Avg  WDir_SD  Rain_Tot  Press_Avg  Rad_Avg  \n",
       "0     173.6    14.26       0.0    805.409   -1.521  \n",
       "1     171.0    10.53       0.0    805.524   -1.521  \n",
       "2     178.6    15.72       0.0    805.436   -2.074  \n",
       "3     186.1    17.43       0.0    805.450   -2.397  \n",
       "4     211.5    21.67       0.0    805.504   -1.706  \n",
       "\n",
       "[5 rows x 22 columns]"
      ]
     },
     "execution_count": 14,
     "metadata": {},
     "output_type": "execute_result"
    }
   ],
   "source": [
    "df1.head()"
   ]
  },
  {
   "cell_type": "code",
   "execution_count": 15,
   "metadata": {},
   "outputs": [
    {
     "name": "stdout",
     "output_type": "stream",
     "text": [
      "<class 'pandas.core.frame.DataFrame'>\n",
      "RangeIndex: 449472 entries, 0 to 449471\n",
      "Data columns (total 22 columns):\n",
      " #   Column      Non-Null Count   Dtype  \n",
      "---  ------      --------------   -----  \n",
      " 0   Time        449472 non-null  object \n",
      " 1   O3          443673 non-null  float64\n",
      " 2   O3_flag     449472 non-null  object \n",
      " 3   NO2         449226 non-null  float64\n",
      " 4   NO2_flag    449472 non-null  object \n",
      " 5   NO          449226 non-null  float64\n",
      " 6   NO_flag     449472 non-null  object \n",
      " 7   CO          449371 non-null  float64\n",
      " 8   CO_flag     449472 non-null  object \n",
      " 9   PM10        449364 non-null  float64\n",
      " 10  PM10_flag   449472 non-null  object \n",
      " 11  PM2.5       449361 non-null  float64\n",
      " 12  PM2.5_flag  449472 non-null  object \n",
      " 13  Temp_Avg    449462 non-null  float64\n",
      " 14  RH_Avg      449462 non-null  float64\n",
      " 15  WSpeed_Avg  449462 non-null  float64\n",
      " 16  WSpeed_Max  449462 non-null  float64\n",
      " 17  WDir_Avg    449462 non-null  float64\n",
      " 18  WDir_SD     449462 non-null  float64\n",
      " 19  Rain_Tot    449462 non-null  float64\n",
      " 20  Press_Avg   449462 non-null  float64\n",
      " 21  Rad_Avg     449456 non-null  float64\n",
      "dtypes: float64(15), object(7)\n",
      "memory usage: 75.4+ MB\n"
     ]
    }
   ],
   "source": [
    "df1.info()"
   ]
  },
  {
   "cell_type": "markdown",
   "metadata": {},
   "source": [
    "Checking atmospheric data flags"
   ]
  },
  {
   "cell_type": "code",
   "execution_count": 16,
   "metadata": {},
   "outputs": [
    {
     "data": {
      "text/plain": [
       "O3_flag\n",
       "OK     442354\n",
       "OS       5799\n",
       "BDL      1302\n",
       "OR         17\n",
       "Name: count, dtype: int64"
      ]
     },
     "execution_count": 16,
     "metadata": {},
     "output_type": "execute_result"
    }
   ],
   "source": [
    "df1[\"O3_flag\"].value_counts()"
   ]
  },
  {
   "cell_type": "code",
   "execution_count": 17,
   "metadata": {},
   "outputs": [
    {
     "data": {
      "text/plain": [
       "Series([], Name: count, dtype: int64)"
      ]
     },
     "execution_count": 17,
     "metadata": {},
     "output_type": "execute_result"
    }
   ],
   "source": [
    "df1[(df1[\"O3_flag\"] == \"OS\")][\"O3\"].value_counts()"
   ]
  },
  {
   "cell_type": "code",
   "execution_count": 18,
   "metadata": {},
   "outputs": [
    {
     "data": {
      "text/plain": [
       "NO2_flag\n",
       "OK     445834\n",
       "BDL      3085\n",
       "OR        307\n",
       "OS        246\n",
       "Name: count, dtype: int64"
      ]
     },
     "execution_count": 18,
     "metadata": {},
     "output_type": "execute_result"
    }
   ],
   "source": [
    "df1[\"NO2_flag\"].value_counts()"
   ]
  },
  {
   "cell_type": "code",
   "execution_count": 19,
   "metadata": {},
   "outputs": [
    {
     "data": {
      "text/plain": [
       "NO_flag\n",
       "BDL    353136\n",
       "OK      95887\n",
       "OS        246\n",
       "OR        203\n",
       "Name: count, dtype: int64"
      ]
     },
     "execution_count": 19,
     "metadata": {},
     "output_type": "execute_result"
    }
   ],
   "source": [
    "df1[\"NO_flag\"].value_counts()"
   ]
  },
  {
   "cell_type": "code",
   "execution_count": 20,
   "metadata": {},
   "outputs": [
    {
     "data": {
      "text/plain": [
       "CO_flag\n",
       "OK     443241\n",
       "BDL      6022\n",
       "OR        108\n",
       "OS        101\n",
       "Name: count, dtype: int64"
      ]
     },
     "execution_count": 20,
     "metadata": {},
     "output_type": "execute_result"
    }
   ],
   "source": [
    "df1[\"CO_flag\"].value_counts()"
   ]
  },
  {
   "cell_type": "code",
   "execution_count": 21,
   "metadata": {},
   "outputs": [
    {
     "data": {
      "text/plain": [
       "PM10_flag\n",
       "OK     423206\n",
       "BDL     23273\n",
       "OR       2885\n",
       "OS        108\n",
       "Name: count, dtype: int64"
      ]
     },
     "execution_count": 21,
     "metadata": {},
     "output_type": "execute_result"
    }
   ],
   "source": [
    "df1[\"PM10_flag\"].value_counts()"
   ]
  },
  {
   "cell_type": "code",
   "execution_count": 23,
   "metadata": {},
   "outputs": [
    {
     "data": {
      "text/plain": [
       "PM2.5_flag\n",
       "OK     396113\n",
       "BDL     45010\n",
       "OR       8238\n",
       "OS        111\n",
       "Name: count, dtype: int64"
      ]
     },
     "execution_count": 23,
     "metadata": {},
     "output_type": "execute_result"
    }
   ],
   "source": [
    "df1[\"PM2.5_flag\"].value_counts()"
   ]
  },
  {
   "cell_type": "markdown",
   "metadata": {},
   "source": [
    "In order to preserve data integrity, I will drop those instances that has any flag out of service"
   ]
  },
  {
   "cell_type": "code",
   "execution_count": 24,
   "metadata": {},
   "outputs": [],
   "source": [
    "df2 = df1.drop(df1[(df1[\"O3_flag\"] == \"OS\") | (df1[\"NO2_flag\"] == \"OS\") | (df1[\"NO_flag\"] == \"OS\") | (df1[\"CO_flag\"] == \"OS\") | (df1[\"PM10_flag\"] == \"OS\") | (df1[\"PM2.5_flag\"] == \"OS\")].index, axis=0)"
   ]
  },
  {
   "cell_type": "code",
   "execution_count": 25,
   "metadata": {},
   "outputs": [
    {
     "data": {
      "text/html": [
       "<div>\n",
       "<style scoped>\n",
       "    .dataframe tbody tr th:only-of-type {\n",
       "        vertical-align: middle;\n",
       "    }\n",
       "\n",
       "    .dataframe tbody tr th {\n",
       "        vertical-align: top;\n",
       "    }\n",
       "\n",
       "    .dataframe thead th {\n",
       "        text-align: right;\n",
       "    }\n",
       "</style>\n",
       "<table border=\"1\" class=\"dataframe\">\n",
       "  <thead>\n",
       "    <tr style=\"text-align: right;\">\n",
       "      <th></th>\n",
       "      <th>Time</th>\n",
       "      <th>O3</th>\n",
       "      <th>O3_flag</th>\n",
       "      <th>NO2</th>\n",
       "      <th>NO2_flag</th>\n",
       "      <th>NO</th>\n",
       "      <th>NO_flag</th>\n",
       "      <th>CO</th>\n",
       "      <th>CO_flag</th>\n",
       "      <th>PM10</th>\n",
       "      <th>...</th>\n",
       "      <th>PM2.5_flag</th>\n",
       "      <th>Temp_Avg</th>\n",
       "      <th>RH_Avg</th>\n",
       "      <th>WSpeed_Avg</th>\n",
       "      <th>WSpeed_Max</th>\n",
       "      <th>WDir_Avg</th>\n",
       "      <th>WDir_SD</th>\n",
       "      <th>Rain_Tot</th>\n",
       "      <th>Press_Avg</th>\n",
       "      <th>Rad_Avg</th>\n",
       "    </tr>\n",
       "  </thead>\n",
       "  <tbody>\n",
       "    <tr>\n",
       "      <th>0</th>\n",
       "      <td>2023-05-01 00:00:00</td>\n",
       "      <td>55.48</td>\n",
       "      <td>OK</td>\n",
       "      <td>0.72</td>\n",
       "      <td>OK</td>\n",
       "      <td>0.01</td>\n",
       "      <td>BDL</td>\n",
       "      <td>0.25</td>\n",
       "      <td>OK</td>\n",
       "      <td>25.47</td>\n",
       "      <td>...</td>\n",
       "      <td>OK</td>\n",
       "      <td>19.15</td>\n",
       "      <td>31.64</td>\n",
       "      <td>3.521</td>\n",
       "      <td>4.250</td>\n",
       "      <td>173.6</td>\n",
       "      <td>14.26</td>\n",
       "      <td>0.0</td>\n",
       "      <td>805.409</td>\n",
       "      <td>-1.521</td>\n",
       "    </tr>\n",
       "    <tr>\n",
       "      <th>1</th>\n",
       "      <td>2023-05-01 00:01:00</td>\n",
       "      <td>55.49</td>\n",
       "      <td>OK</td>\n",
       "      <td>0.81</td>\n",
       "      <td>OK</td>\n",
       "      <td>0.08</td>\n",
       "      <td>BDL</td>\n",
       "      <td>0.26</td>\n",
       "      <td>OK</td>\n",
       "      <td>25.74</td>\n",
       "      <td>...</td>\n",
       "      <td>OK</td>\n",
       "      <td>19.11</td>\n",
       "      <td>31.66</td>\n",
       "      <td>3.644</td>\n",
       "      <td>4.372</td>\n",
       "      <td>171.0</td>\n",
       "      <td>10.53</td>\n",
       "      <td>0.0</td>\n",
       "      <td>805.524</td>\n",
       "      <td>-1.521</td>\n",
       "    </tr>\n",
       "    <tr>\n",
       "      <th>2</th>\n",
       "      <td>2023-05-01 00:02:00</td>\n",
       "      <td>55.40</td>\n",
       "      <td>OK</td>\n",
       "      <td>0.93</td>\n",
       "      <td>OK</td>\n",
       "      <td>-0.05</td>\n",
       "      <td>BDL</td>\n",
       "      <td>0.27</td>\n",
       "      <td>OK</td>\n",
       "      <td>26.60</td>\n",
       "      <td>...</td>\n",
       "      <td>OK</td>\n",
       "      <td>19.09</td>\n",
       "      <td>31.70</td>\n",
       "      <td>4.139</td>\n",
       "      <td>5.253</td>\n",
       "      <td>178.6</td>\n",
       "      <td>15.72</td>\n",
       "      <td>0.0</td>\n",
       "      <td>805.436</td>\n",
       "      <td>-2.074</td>\n",
       "    </tr>\n",
       "    <tr>\n",
       "      <th>3</th>\n",
       "      <td>2023-05-01 00:03:00</td>\n",
       "      <td>55.20</td>\n",
       "      <td>OK</td>\n",
       "      <td>0.87</td>\n",
       "      <td>OK</td>\n",
       "      <td>0.03</td>\n",
       "      <td>BDL</td>\n",
       "      <td>0.28</td>\n",
       "      <td>OK</td>\n",
       "      <td>27.59</td>\n",
       "      <td>...</td>\n",
       "      <td>OK</td>\n",
       "      <td>19.10</td>\n",
       "      <td>31.76</td>\n",
       "      <td>3.692</td>\n",
       "      <td>4.925</td>\n",
       "      <td>186.1</td>\n",
       "      <td>17.43</td>\n",
       "      <td>0.0</td>\n",
       "      <td>805.450</td>\n",
       "      <td>-2.397</td>\n",
       "    </tr>\n",
       "    <tr>\n",
       "      <th>4</th>\n",
       "      <td>2023-05-01 00:04:00</td>\n",
       "      <td>55.41</td>\n",
       "      <td>OK</td>\n",
       "      <td>0.98</td>\n",
       "      <td>OK</td>\n",
       "      <td>-0.06</td>\n",
       "      <td>BDL</td>\n",
       "      <td>0.28</td>\n",
       "      <td>OK</td>\n",
       "      <td>27.83</td>\n",
       "      <td>...</td>\n",
       "      <td>OK</td>\n",
       "      <td>19.10</td>\n",
       "      <td>31.76</td>\n",
       "      <td>2.198</td>\n",
       "      <td>4.301</td>\n",
       "      <td>211.5</td>\n",
       "      <td>21.67</td>\n",
       "      <td>0.0</td>\n",
       "      <td>805.504</td>\n",
       "      <td>-1.706</td>\n",
       "    </tr>\n",
       "  </tbody>\n",
       "</table>\n",
       "<p>5 rows × 22 columns</p>\n",
       "</div>"
      ],
      "text/plain": [
       "                  Time     O3 O3_flag   NO2 NO2_flag    NO NO_flag    CO  \\\n",
       "0  2023-05-01 00:00:00  55.48      OK  0.72       OK  0.01     BDL  0.25   \n",
       "1  2023-05-01 00:01:00  55.49      OK  0.81       OK  0.08     BDL  0.26   \n",
       "2  2023-05-01 00:02:00  55.40      OK  0.93       OK -0.05     BDL  0.27   \n",
       "3  2023-05-01 00:03:00  55.20      OK  0.87       OK  0.03     BDL  0.28   \n",
       "4  2023-05-01 00:04:00  55.41      OK  0.98       OK -0.06     BDL  0.28   \n",
       "\n",
       "  CO_flag   PM10  ... PM2.5_flag  Temp_Avg RH_Avg  WSpeed_Avg  WSpeed_Max  \\\n",
       "0      OK  25.47  ...         OK     19.15  31.64       3.521       4.250   \n",
       "1      OK  25.74  ...         OK     19.11  31.66       3.644       4.372   \n",
       "2      OK  26.60  ...         OK     19.09  31.70       4.139       5.253   \n",
       "3      OK  27.59  ...         OK     19.10  31.76       3.692       4.925   \n",
       "4      OK  27.83  ...         OK     19.10  31.76       2.198       4.301   \n",
       "\n",
       "   WDir_Avg  WDir_SD  Rain_Tot  Press_Avg  Rad_Avg  \n",
       "0     173.6    14.26       0.0    805.409   -1.521  \n",
       "1     171.0    10.53       0.0    805.524   -1.521  \n",
       "2     178.6    15.72       0.0    805.436   -2.074  \n",
       "3     186.1    17.43       0.0    805.450   -2.397  \n",
       "4     211.5    21.67       0.0    805.504   -1.706  \n",
       "\n",
       "[5 rows x 22 columns]"
      ]
     },
     "execution_count": 25,
     "metadata": {},
     "output_type": "execute_result"
    }
   ],
   "source": [
    "df2.head()"
   ]
  },
  {
   "cell_type": "code",
   "execution_count": 26,
   "metadata": {},
   "outputs": [
    {
     "name": "stdout",
     "output_type": "stream",
     "text": [
      "<class 'pandas.core.frame.DataFrame'>\n",
      "Index: 443518 entries, 0 to 449471\n",
      "Data columns (total 22 columns):\n",
      " #   Column      Non-Null Count   Dtype  \n",
      "---  ------      --------------   -----  \n",
      " 0   Time        443518 non-null  object \n",
      " 1   O3          443518 non-null  float64\n",
      " 2   O3_flag     443518 non-null  object \n",
      " 3   NO2         443518 non-null  float64\n",
      " 4   NO2_flag    443518 non-null  object \n",
      " 5   NO          443518 non-null  float64\n",
      " 6   NO_flag     443518 non-null  object \n",
      " 7   CO          443518 non-null  float64\n",
      " 8   CO_flag     443518 non-null  object \n",
      " 9   PM10        443518 non-null  float64\n",
      " 10  PM10_flag   443518 non-null  object \n",
      " 11  PM2.5       443518 non-null  float64\n",
      " 12  PM2.5_flag  443518 non-null  object \n",
      " 13  Temp_Avg    443508 non-null  float64\n",
      " 14  RH_Avg      443508 non-null  float64\n",
      " 15  WSpeed_Avg  443508 non-null  float64\n",
      " 16  WSpeed_Max  443508 non-null  float64\n",
      " 17  WDir_Avg    443508 non-null  float64\n",
      " 18  WDir_SD     443508 non-null  float64\n",
      " 19  Rain_Tot    443508 non-null  float64\n",
      " 20  Press_Avg   443508 non-null  float64\n",
      " 21  Rad_Avg     443502 non-null  float64\n",
      "dtypes: float64(15), object(7)\n",
      "memory usage: 77.8+ MB\n"
     ]
    }
   ],
   "source": [
    "df2.info()"
   ]
  },
  {
   "cell_type": "code",
   "execution_count": 27,
   "metadata": {},
   "outputs": [
    {
     "data": {
      "text/plain": [
       "O3_flag\n",
       "OK     442200\n",
       "BDL      1302\n",
       "OR         16\n",
       "Name: count, dtype: int64"
      ]
     },
     "execution_count": 27,
     "metadata": {},
     "output_type": "execute_result"
    }
   ],
   "source": [
    "df2[\"O3_flag\"].value_counts()"
   ]
  },
  {
   "cell_type": "code",
   "execution_count": 28,
   "metadata": {},
   "outputs": [
    {
     "data": {
      "text/plain": [
       "NO2_flag\n",
       "OK     440126\n",
       "BDL      3085\n",
       "OR        307\n",
       "Name: count, dtype: int64"
      ]
     },
     "execution_count": 28,
     "metadata": {},
     "output_type": "execute_result"
    }
   ],
   "source": [
    "df2[\"NO2_flag\"].value_counts()"
   ]
  },
  {
   "cell_type": "code",
   "execution_count": 29,
   "metadata": {},
   "outputs": [
    {
     "data": {
      "text/plain": [
       "NO_flag\n",
       "BDL    348602\n",
       "OK      94713\n",
       "OR        203\n",
       "Name: count, dtype: int64"
      ]
     },
     "execution_count": 29,
     "metadata": {},
     "output_type": "execute_result"
    }
   ],
   "source": [
    "df2[\"NO_flag\"].value_counts()"
   ]
  },
  {
   "cell_type": "code",
   "execution_count": 30,
   "metadata": {},
   "outputs": [
    {
     "data": {
      "text/plain": [
       "CO_flag\n",
       "OK     437388\n",
       "BDL      6022\n",
       "OR        108\n",
       "Name: count, dtype: int64"
      ]
     },
     "execution_count": 30,
     "metadata": {},
     "output_type": "execute_result"
    }
   ],
   "source": [
    "df2[\"CO_flag\"].value_counts()"
   ]
  },
  {
   "cell_type": "code",
   "execution_count": 31,
   "metadata": {},
   "outputs": [
    {
     "data": {
      "text/plain": [
       "PM10_flag\n",
       "OK     417360\n",
       "BDL     23273\n",
       "OR       2885\n",
       "Name: count, dtype: int64"
      ]
     },
     "execution_count": 31,
     "metadata": {},
     "output_type": "execute_result"
    }
   ],
   "source": [
    "df2[\"PM10_flag\"].value_counts()"
   ]
  },
  {
   "cell_type": "code",
   "execution_count": 32,
   "metadata": {},
   "outputs": [
    {
     "data": {
      "text/plain": [
       "PM2.5_flag\n",
       "OK     390307\n",
       "BDL     44973\n",
       "OR       8238\n",
       "Name: count, dtype: int64"
      ]
     },
     "execution_count": 32,
     "metadata": {},
     "output_type": "execute_result"
    }
   ],
   "source": [
    "df2[\"PM2.5_flag\"].value_counts()"
   ]
  },
  {
   "cell_type": "markdown",
   "metadata": {},
   "source": [
    "Checking pollution data behind limit detection and span limit detection"
   ]
  },
  {
   "cell_type": "markdown",
   "metadata": {},
   "source": [
    "| Pollutant | Analytical method | Detection limit | Span limit |\n",
    "| - | - | - | - |\n",
    "| O3 | UV absorption photometry | 0.03 ppb | 500 ppb |\n",
    "| CO | Non-dispersive infrared | 0.04 ppm | 25 ppm |\n",
    "| NO2, NO | Chemiluminescence | 0.4 ppb | 0.3, 0.5 ppm (NO2, NO) |\n",
    "| PM2.5 | Separation by diameter and quantification by beta radiation attenuation | 4 ug/m^3 | 400 ug/m^3 |\n",
    "| PM10 | Separation by diameter and quantification by beta radiation attenuation | 4 ug/m^3 | 400 ug/m^3 |"
   ]
  },
  {
   "cell_type": "markdown",
   "metadata": {},
   "source": [
    "If any data exceeds the span limit, it must be null (as it may be an electronic or calibration outlier).\n",
    "\n",
    "On the other hand, if data falls below the detection limit, we need to verify if it is within the positive and negative range of the detection limit value. If it falls within that range, we will change its value to half of the detection limit. If it falls outside the range, it must be null."
   ]
  },
  {
   "cell_type": "code",
   "execution_count": 33,
   "metadata": {},
   "outputs": [],
   "source": [
    "def O3_processing(data):\n",
    "    if data > 500 or data < -0.03: return np.nan\n",
    "    if data < 0.03 and data >= -0.03: return 0.03/2\n",
    "    return data\n",
    "\n",
    "def CO_processing(data):\n",
    "    if data > 25 or data < -0.04: return np.nan\n",
    "    if data < 0.04 and data >= -0.04: return 0.04/2\n",
    "    return data\n",
    "\n",
    "def NO2_processing(data):\n",
    "    if data > 300 or data < -0.4: return np.nan\n",
    "    if data < 0.4 and data >= -0.4: return 0.4/2\n",
    "    return data\n",
    "\n",
    "def NO_processing(data):\n",
    "    if data > 500 or data < -0.4: return np.nan\n",
    "    if data < 0.4 and data >= -0.4: return 0.4/2\n",
    "    return data\n",
    "\n",
    "def PM25_processing(data):\n",
    "    if data > 400 or data < -4: return np.nan\n",
    "    if data < 4 and data >= -4: return 4/2\n",
    "    return data\n",
    "\n",
    "def PM10_processing(data):\n",
    "    if data > 400 or data < -4: return np.nan\n",
    "    if data < 4 and data >= -4: return 4/2\n",
    "    return data"
   ]
  },
  {
   "cell_type": "code",
   "execution_count": 34,
   "metadata": {},
   "outputs": [],
   "source": [
    "df3 = df2.iloc[:,:]\n",
    "df3[\"O3\"] = df3[\"O3\"].apply(O3_processing)\n",
    "df3[\"CO\"] = df3[\"CO\"].apply(CO_processing)\n",
    "df3[\"NO2\"] = df3[\"NO2\"].apply(NO2_processing)\n",
    "df3[\"NO\"] = df3[\"NO\"].apply(NO_processing)\n",
    "df3[\"PM2.5\"] = df3[\"PM2.5\"].apply(PM25_processing)\n",
    "df3[\"PM10\"] = df3[\"PM10\"].apply(PM10_processing)"
   ]
  },
  {
   "cell_type": "code",
   "execution_count": 35,
   "metadata": {},
   "outputs": [
    {
     "data": {
      "text/html": [
       "<div>\n",
       "<style scoped>\n",
       "    .dataframe tbody tr th:only-of-type {\n",
       "        vertical-align: middle;\n",
       "    }\n",
       "\n",
       "    .dataframe tbody tr th {\n",
       "        vertical-align: top;\n",
       "    }\n",
       "\n",
       "    .dataframe thead th {\n",
       "        text-align: right;\n",
       "    }\n",
       "</style>\n",
       "<table border=\"1\" class=\"dataframe\">\n",
       "  <thead>\n",
       "    <tr style=\"text-align: right;\">\n",
       "      <th></th>\n",
       "      <th>Time</th>\n",
       "      <th>O3</th>\n",
       "      <th>O3_flag</th>\n",
       "      <th>NO2</th>\n",
       "      <th>NO2_flag</th>\n",
       "      <th>NO</th>\n",
       "      <th>NO_flag</th>\n",
       "      <th>CO</th>\n",
       "      <th>CO_flag</th>\n",
       "      <th>PM10</th>\n",
       "      <th>...</th>\n",
       "      <th>PM2.5_flag</th>\n",
       "      <th>Temp_Avg</th>\n",
       "      <th>RH_Avg</th>\n",
       "      <th>WSpeed_Avg</th>\n",
       "      <th>WSpeed_Max</th>\n",
       "      <th>WDir_Avg</th>\n",
       "      <th>WDir_SD</th>\n",
       "      <th>Rain_Tot</th>\n",
       "      <th>Press_Avg</th>\n",
       "      <th>Rad_Avg</th>\n",
       "    </tr>\n",
       "  </thead>\n",
       "  <tbody>\n",
       "    <tr>\n",
       "      <th>0</th>\n",
       "      <td>2023-05-01 00:00:00</td>\n",
       "      <td>55.48</td>\n",
       "      <td>OK</td>\n",
       "      <td>0.72</td>\n",
       "      <td>OK</td>\n",
       "      <td>0.01</td>\n",
       "      <td>BDL</td>\n",
       "      <td>0.25</td>\n",
       "      <td>OK</td>\n",
       "      <td>25.47</td>\n",
       "      <td>...</td>\n",
       "      <td>OK</td>\n",
       "      <td>19.15</td>\n",
       "      <td>31.64</td>\n",
       "      <td>3.521</td>\n",
       "      <td>4.250</td>\n",
       "      <td>173.6</td>\n",
       "      <td>14.26</td>\n",
       "      <td>0.0</td>\n",
       "      <td>805.409</td>\n",
       "      <td>-1.521</td>\n",
       "    </tr>\n",
       "    <tr>\n",
       "      <th>1</th>\n",
       "      <td>2023-05-01 00:01:00</td>\n",
       "      <td>55.49</td>\n",
       "      <td>OK</td>\n",
       "      <td>0.81</td>\n",
       "      <td>OK</td>\n",
       "      <td>0.08</td>\n",
       "      <td>BDL</td>\n",
       "      <td>0.26</td>\n",
       "      <td>OK</td>\n",
       "      <td>25.74</td>\n",
       "      <td>...</td>\n",
       "      <td>OK</td>\n",
       "      <td>19.11</td>\n",
       "      <td>31.66</td>\n",
       "      <td>3.644</td>\n",
       "      <td>4.372</td>\n",
       "      <td>171.0</td>\n",
       "      <td>10.53</td>\n",
       "      <td>0.0</td>\n",
       "      <td>805.524</td>\n",
       "      <td>-1.521</td>\n",
       "    </tr>\n",
       "    <tr>\n",
       "      <th>2</th>\n",
       "      <td>2023-05-01 00:02:00</td>\n",
       "      <td>55.40</td>\n",
       "      <td>OK</td>\n",
       "      <td>0.93</td>\n",
       "      <td>OK</td>\n",
       "      <td>-0.05</td>\n",
       "      <td>BDL</td>\n",
       "      <td>0.27</td>\n",
       "      <td>OK</td>\n",
       "      <td>26.60</td>\n",
       "      <td>...</td>\n",
       "      <td>OK</td>\n",
       "      <td>19.09</td>\n",
       "      <td>31.70</td>\n",
       "      <td>4.139</td>\n",
       "      <td>5.253</td>\n",
       "      <td>178.6</td>\n",
       "      <td>15.72</td>\n",
       "      <td>0.0</td>\n",
       "      <td>805.436</td>\n",
       "      <td>-2.074</td>\n",
       "    </tr>\n",
       "    <tr>\n",
       "      <th>3</th>\n",
       "      <td>2023-05-01 00:03:00</td>\n",
       "      <td>55.20</td>\n",
       "      <td>OK</td>\n",
       "      <td>0.87</td>\n",
       "      <td>OK</td>\n",
       "      <td>0.03</td>\n",
       "      <td>BDL</td>\n",
       "      <td>0.28</td>\n",
       "      <td>OK</td>\n",
       "      <td>27.59</td>\n",
       "      <td>...</td>\n",
       "      <td>OK</td>\n",
       "      <td>19.10</td>\n",
       "      <td>31.76</td>\n",
       "      <td>3.692</td>\n",
       "      <td>4.925</td>\n",
       "      <td>186.1</td>\n",
       "      <td>17.43</td>\n",
       "      <td>0.0</td>\n",
       "      <td>805.450</td>\n",
       "      <td>-2.397</td>\n",
       "    </tr>\n",
       "    <tr>\n",
       "      <th>4</th>\n",
       "      <td>2023-05-01 00:04:00</td>\n",
       "      <td>55.41</td>\n",
       "      <td>OK</td>\n",
       "      <td>0.98</td>\n",
       "      <td>OK</td>\n",
       "      <td>-0.06</td>\n",
       "      <td>BDL</td>\n",
       "      <td>0.28</td>\n",
       "      <td>OK</td>\n",
       "      <td>27.83</td>\n",
       "      <td>...</td>\n",
       "      <td>OK</td>\n",
       "      <td>19.10</td>\n",
       "      <td>31.76</td>\n",
       "      <td>2.198</td>\n",
       "      <td>4.301</td>\n",
       "      <td>211.5</td>\n",
       "      <td>21.67</td>\n",
       "      <td>0.0</td>\n",
       "      <td>805.504</td>\n",
       "      <td>-1.706</td>\n",
       "    </tr>\n",
       "  </tbody>\n",
       "</table>\n",
       "<p>5 rows × 22 columns</p>\n",
       "</div>"
      ],
      "text/plain": [
       "                  Time     O3 O3_flag   NO2 NO2_flag    NO NO_flag    CO  \\\n",
       "0  2023-05-01 00:00:00  55.48      OK  0.72       OK  0.01     BDL  0.25   \n",
       "1  2023-05-01 00:01:00  55.49      OK  0.81       OK  0.08     BDL  0.26   \n",
       "2  2023-05-01 00:02:00  55.40      OK  0.93       OK -0.05     BDL  0.27   \n",
       "3  2023-05-01 00:03:00  55.20      OK  0.87       OK  0.03     BDL  0.28   \n",
       "4  2023-05-01 00:04:00  55.41      OK  0.98       OK -0.06     BDL  0.28   \n",
       "\n",
       "  CO_flag   PM10  ... PM2.5_flag  Temp_Avg RH_Avg  WSpeed_Avg  WSpeed_Max  \\\n",
       "0      OK  25.47  ...         OK     19.15  31.64       3.521       4.250   \n",
       "1      OK  25.74  ...         OK     19.11  31.66       3.644       4.372   \n",
       "2      OK  26.60  ...         OK     19.09  31.70       4.139       5.253   \n",
       "3      OK  27.59  ...         OK     19.10  31.76       3.692       4.925   \n",
       "4      OK  27.83  ...         OK     19.10  31.76       2.198       4.301   \n",
       "\n",
       "   WDir_Avg  WDir_SD  Rain_Tot  Press_Avg  Rad_Avg  \n",
       "0     173.6    14.26       0.0    805.409   -1.521  \n",
       "1     171.0    10.53       0.0    805.524   -1.521  \n",
       "2     178.6    15.72       0.0    805.436   -2.074  \n",
       "3     186.1    17.43       0.0    805.450   -2.397  \n",
       "4     211.5    21.67       0.0    805.504   -1.706  \n",
       "\n",
       "[5 rows x 22 columns]"
      ]
     },
     "execution_count": 35,
     "metadata": {},
     "output_type": "execute_result"
    }
   ],
   "source": [
    "df2.head()"
   ]
  },
  {
   "cell_type": "code",
   "execution_count": 36,
   "metadata": {},
   "outputs": [
    {
     "data": {
      "text/html": [
       "<div>\n",
       "<style scoped>\n",
       "    .dataframe tbody tr th:only-of-type {\n",
       "        vertical-align: middle;\n",
       "    }\n",
       "\n",
       "    .dataframe tbody tr th {\n",
       "        vertical-align: top;\n",
       "    }\n",
       "\n",
       "    .dataframe thead th {\n",
       "        text-align: right;\n",
       "    }\n",
       "</style>\n",
       "<table border=\"1\" class=\"dataframe\">\n",
       "  <thead>\n",
       "    <tr style=\"text-align: right;\">\n",
       "      <th></th>\n",
       "      <th>Time</th>\n",
       "      <th>O3</th>\n",
       "      <th>O3_flag</th>\n",
       "      <th>NO2</th>\n",
       "      <th>NO2_flag</th>\n",
       "      <th>NO</th>\n",
       "      <th>NO_flag</th>\n",
       "      <th>CO</th>\n",
       "      <th>CO_flag</th>\n",
       "      <th>PM10</th>\n",
       "      <th>...</th>\n",
       "      <th>PM2.5_flag</th>\n",
       "      <th>Temp_Avg</th>\n",
       "      <th>RH_Avg</th>\n",
       "      <th>WSpeed_Avg</th>\n",
       "      <th>WSpeed_Max</th>\n",
       "      <th>WDir_Avg</th>\n",
       "      <th>WDir_SD</th>\n",
       "      <th>Rain_Tot</th>\n",
       "      <th>Press_Avg</th>\n",
       "      <th>Rad_Avg</th>\n",
       "    </tr>\n",
       "  </thead>\n",
       "  <tbody>\n",
       "    <tr>\n",
       "      <th>0</th>\n",
       "      <td>2023-05-01 00:00:00</td>\n",
       "      <td>55.48</td>\n",
       "      <td>OK</td>\n",
       "      <td>0.72</td>\n",
       "      <td>OK</td>\n",
       "      <td>0.2</td>\n",
       "      <td>BDL</td>\n",
       "      <td>0.25</td>\n",
       "      <td>OK</td>\n",
       "      <td>25.47</td>\n",
       "      <td>...</td>\n",
       "      <td>OK</td>\n",
       "      <td>19.15</td>\n",
       "      <td>31.64</td>\n",
       "      <td>3.521</td>\n",
       "      <td>4.250</td>\n",
       "      <td>173.6</td>\n",
       "      <td>14.26</td>\n",
       "      <td>0.0</td>\n",
       "      <td>805.409</td>\n",
       "      <td>-1.521</td>\n",
       "    </tr>\n",
       "    <tr>\n",
       "      <th>1</th>\n",
       "      <td>2023-05-01 00:01:00</td>\n",
       "      <td>55.49</td>\n",
       "      <td>OK</td>\n",
       "      <td>0.81</td>\n",
       "      <td>OK</td>\n",
       "      <td>0.2</td>\n",
       "      <td>BDL</td>\n",
       "      <td>0.26</td>\n",
       "      <td>OK</td>\n",
       "      <td>25.74</td>\n",
       "      <td>...</td>\n",
       "      <td>OK</td>\n",
       "      <td>19.11</td>\n",
       "      <td>31.66</td>\n",
       "      <td>3.644</td>\n",
       "      <td>4.372</td>\n",
       "      <td>171.0</td>\n",
       "      <td>10.53</td>\n",
       "      <td>0.0</td>\n",
       "      <td>805.524</td>\n",
       "      <td>-1.521</td>\n",
       "    </tr>\n",
       "    <tr>\n",
       "      <th>2</th>\n",
       "      <td>2023-05-01 00:02:00</td>\n",
       "      <td>55.40</td>\n",
       "      <td>OK</td>\n",
       "      <td>0.93</td>\n",
       "      <td>OK</td>\n",
       "      <td>0.2</td>\n",
       "      <td>BDL</td>\n",
       "      <td>0.27</td>\n",
       "      <td>OK</td>\n",
       "      <td>26.60</td>\n",
       "      <td>...</td>\n",
       "      <td>OK</td>\n",
       "      <td>19.09</td>\n",
       "      <td>31.70</td>\n",
       "      <td>4.139</td>\n",
       "      <td>5.253</td>\n",
       "      <td>178.6</td>\n",
       "      <td>15.72</td>\n",
       "      <td>0.0</td>\n",
       "      <td>805.436</td>\n",
       "      <td>-2.074</td>\n",
       "    </tr>\n",
       "    <tr>\n",
       "      <th>3</th>\n",
       "      <td>2023-05-01 00:03:00</td>\n",
       "      <td>55.20</td>\n",
       "      <td>OK</td>\n",
       "      <td>0.87</td>\n",
       "      <td>OK</td>\n",
       "      <td>0.2</td>\n",
       "      <td>BDL</td>\n",
       "      <td>0.28</td>\n",
       "      <td>OK</td>\n",
       "      <td>27.59</td>\n",
       "      <td>...</td>\n",
       "      <td>OK</td>\n",
       "      <td>19.10</td>\n",
       "      <td>31.76</td>\n",
       "      <td>3.692</td>\n",
       "      <td>4.925</td>\n",
       "      <td>186.1</td>\n",
       "      <td>17.43</td>\n",
       "      <td>0.0</td>\n",
       "      <td>805.450</td>\n",
       "      <td>-2.397</td>\n",
       "    </tr>\n",
       "    <tr>\n",
       "      <th>4</th>\n",
       "      <td>2023-05-01 00:04:00</td>\n",
       "      <td>55.41</td>\n",
       "      <td>OK</td>\n",
       "      <td>0.98</td>\n",
       "      <td>OK</td>\n",
       "      <td>0.2</td>\n",
       "      <td>BDL</td>\n",
       "      <td>0.28</td>\n",
       "      <td>OK</td>\n",
       "      <td>27.83</td>\n",
       "      <td>...</td>\n",
       "      <td>OK</td>\n",
       "      <td>19.10</td>\n",
       "      <td>31.76</td>\n",
       "      <td>2.198</td>\n",
       "      <td>4.301</td>\n",
       "      <td>211.5</td>\n",
       "      <td>21.67</td>\n",
       "      <td>0.0</td>\n",
       "      <td>805.504</td>\n",
       "      <td>-1.706</td>\n",
       "    </tr>\n",
       "  </tbody>\n",
       "</table>\n",
       "<p>5 rows × 22 columns</p>\n",
       "</div>"
      ],
      "text/plain": [
       "                  Time     O3 O3_flag   NO2 NO2_flag   NO NO_flag    CO  \\\n",
       "0  2023-05-01 00:00:00  55.48      OK  0.72       OK  0.2     BDL  0.25   \n",
       "1  2023-05-01 00:01:00  55.49      OK  0.81       OK  0.2     BDL  0.26   \n",
       "2  2023-05-01 00:02:00  55.40      OK  0.93       OK  0.2     BDL  0.27   \n",
       "3  2023-05-01 00:03:00  55.20      OK  0.87       OK  0.2     BDL  0.28   \n",
       "4  2023-05-01 00:04:00  55.41      OK  0.98       OK  0.2     BDL  0.28   \n",
       "\n",
       "  CO_flag   PM10  ... PM2.5_flag  Temp_Avg RH_Avg  WSpeed_Avg  WSpeed_Max  \\\n",
       "0      OK  25.47  ...         OK     19.15  31.64       3.521       4.250   \n",
       "1      OK  25.74  ...         OK     19.11  31.66       3.644       4.372   \n",
       "2      OK  26.60  ...         OK     19.09  31.70       4.139       5.253   \n",
       "3      OK  27.59  ...         OK     19.10  31.76       3.692       4.925   \n",
       "4      OK  27.83  ...         OK     19.10  31.76       2.198       4.301   \n",
       "\n",
       "   WDir_Avg  WDir_SD  Rain_Tot  Press_Avg  Rad_Avg  \n",
       "0     173.6    14.26       0.0    805.409   -1.521  \n",
       "1     171.0    10.53       0.0    805.524   -1.521  \n",
       "2     178.6    15.72       0.0    805.436   -2.074  \n",
       "3     186.1    17.43       0.0    805.450   -2.397  \n",
       "4     211.5    21.67       0.0    805.504   -1.706  \n",
       "\n",
       "[5 rows x 22 columns]"
      ]
     },
     "execution_count": 36,
     "metadata": {},
     "output_type": "execute_result"
    }
   ],
   "source": [
    "df3.head()"
   ]
  },
  {
   "cell_type": "code",
   "execution_count": 37,
   "metadata": {},
   "outputs": [
    {
     "name": "stdout",
     "output_type": "stream",
     "text": [
      "<class 'pandas.core.frame.DataFrame'>\n",
      "Index: 443518 entries, 0 to 449471\n",
      "Data columns (total 22 columns):\n",
      " #   Column      Non-Null Count   Dtype  \n",
      "---  ------      --------------   -----  \n",
      " 0   Time        443518 non-null  object \n",
      " 1   O3          443461 non-null  float64\n",
      " 2   O3_flag     443518 non-null  object \n",
      " 3   NO2         443211 non-null  float64\n",
      " 4   NO2_flag    443518 non-null  object \n",
      " 5   NO          443315 non-null  float64\n",
      " 6   NO_flag     443518 non-null  object \n",
      " 7   CO          443410 non-null  float64\n",
      " 8   CO_flag     443518 non-null  object \n",
      " 9   PM10        440555 non-null  float64\n",
      " 10  PM10_flag   443518 non-null  object \n",
      " 11  PM2.5       435279 non-null  float64\n",
      " 12  PM2.5_flag  443518 non-null  object \n",
      " 13  Temp_Avg    443508 non-null  float64\n",
      " 14  RH_Avg      443508 non-null  float64\n",
      " 15  WSpeed_Avg  443508 non-null  float64\n",
      " 16  WSpeed_Max  443508 non-null  float64\n",
      " 17  WDir_Avg    443508 non-null  float64\n",
      " 18  WDir_SD     443508 non-null  float64\n",
      " 19  Rain_Tot    443508 non-null  float64\n",
      " 20  Press_Avg   443508 non-null  float64\n",
      " 21  Rad_Avg     443502 non-null  float64\n",
      "dtypes: float64(15), object(7)\n",
      "memory usage: 77.8+ MB\n"
     ]
    }
   ],
   "source": [
    "df3.info()"
   ]
  },
  {
   "cell_type": "markdown",
   "metadata": {},
   "source": [
    "Checking meteorological variables"
   ]
  },
  {
   "cell_type": "code",
   "execution_count": 38,
   "metadata": {},
   "outputs": [
    {
     "data": {
      "text/plain": [
       "count    443508.000000\n",
       "mean         18.340549\n",
       "std           5.267597\n",
       "min           2.966000\n",
       "25%          14.850000\n",
       "50%          18.060000\n",
       "75%          22.170000\n",
       "max          33.570000\n",
       "Name: Temp_Avg, dtype: float64"
      ]
     },
     "execution_count": 38,
     "metadata": {},
     "output_type": "execute_result"
    }
   ],
   "source": [
    "df3[\"Temp_Avg\"].describe()"
   ]
  },
  {
   "cell_type": "code",
   "execution_count": 39,
   "metadata": {},
   "outputs": [
    {
     "data": {
      "text/plain": [
       "count    443508.000000\n",
       "mean         60.658064\n",
       "std          23.014084\n",
       "min           7.406000\n",
       "25%          42.580000\n",
       "50%          61.710000\n",
       "75%          80.600000\n",
       "max          99.900000\n",
       "Name: RH_Avg, dtype: float64"
      ]
     },
     "execution_count": 39,
     "metadata": {},
     "output_type": "execute_result"
    }
   ],
   "source": [
    "df3[\"RH_Avg\"].describe()"
   ]
  },
  {
   "cell_type": "code",
   "execution_count": 40,
   "metadata": {},
   "outputs": [
    {
     "data": {
      "text/plain": [
       "count    443508.000000\n",
       "mean          1.564284\n",
       "std           1.523667\n",
       "min           0.000000\n",
       "25%           0.172000\n",
       "50%           1.217000\n",
       "75%           2.454000\n",
       "max          17.150000\n",
       "Name: WSpeed_Avg, dtype: float64"
      ]
     },
     "execution_count": 40,
     "metadata": {},
     "output_type": "execute_result"
    }
   ],
   "source": [
    "df3[\"WSpeed_Avg\"].describe()"
   ]
  },
  {
   "cell_type": "code",
   "execution_count": 41,
   "metadata": {},
   "outputs": [
    {
     "data": {
      "text/plain": [
       "count    443508.000000\n",
       "mean          2.056520\n",
       "std           1.926558\n",
       "min           0.000000\n",
       "25%           0.451000\n",
       "50%           1.618000\n",
       "75%           3.164000\n",
       "max          18.780000\n",
       "Name: WSpeed_Max, dtype: float64"
      ]
     },
     "execution_count": 41,
     "metadata": {},
     "output_type": "execute_result"
    }
   ],
   "source": [
    "df3[\"WSpeed_Max\"].describe()"
   ]
  },
  {
   "cell_type": "code",
   "execution_count": 42,
   "metadata": {},
   "outputs": [
    {
     "data": {
      "text/plain": [
       "count    443508.000000\n",
       "mean        144.946313\n",
       "std         108.055537\n",
       "min           0.000000\n",
       "25%          42.730000\n",
       "50%         147.800000\n",
       "75%         228.600000\n",
       "max         360.000000\n",
       "Name: WDir_Avg, dtype: float64"
      ]
     },
     "execution_count": 42,
     "metadata": {},
     "output_type": "execute_result"
    }
   ],
   "source": [
    "df3[\"WDir_Avg\"].describe()"
   ]
  },
  {
   "cell_type": "code",
   "execution_count": 43,
   "metadata": {},
   "outputs": [
    {
     "data": {
      "text/plain": [
       "count    443508.000000\n",
       "mean          9.551296\n",
       "std          10.212017\n",
       "min           0.000000\n",
       "25%           0.174000\n",
       "50%           7.685000\n",
       "75%          14.250000\n",
       "max         103.400000\n",
       "Name: WDir_SD, dtype: float64"
      ]
     },
     "execution_count": 43,
     "metadata": {},
     "output_type": "execute_result"
    }
   ],
   "source": [
    "df3[\"WDir_SD\"].describe()"
   ]
  },
  {
   "cell_type": "code",
   "execution_count": 44,
   "metadata": {},
   "outputs": [
    {
     "data": {
      "text/plain": [
       "count    443508.000000\n",
       "mean          0.001034\n",
       "std           0.019075\n",
       "min           0.000000\n",
       "25%           0.000000\n",
       "50%           0.000000\n",
       "75%           0.000000\n",
       "max           1.800000\n",
       "Name: Rain_Tot, dtype: float64"
      ]
     },
     "execution_count": 44,
     "metadata": {},
     "output_type": "execute_result"
    }
   ],
   "source": [
    "df3[\"Rain_Tot\"].describe()"
   ]
  },
  {
   "cell_type": "code",
   "execution_count": 45,
   "metadata": {},
   "outputs": [
    {
     "data": {
      "text/plain": [
       "count    443508.000000\n",
       "mean        805.838578\n",
       "std           1.840577\n",
       "min         797.895000\n",
       "25%         804.626000\n",
       "50%         805.874000\n",
       "75%         807.097000\n",
       "max         812.652000\n",
       "Name: Press_Avg, dtype: float64"
      ]
     },
     "execution_count": 45,
     "metadata": {},
     "output_type": "execute_result"
    }
   ],
   "source": [
    "df3[\"Press_Avg\"].describe()"
   ]
  },
  {
   "cell_type": "code",
   "execution_count": 46,
   "metadata": {},
   "outputs": [
    {
     "data": {
      "text/plain": [
       "count    443502.000000\n",
       "mean        247.226279\n",
       "std         355.719470\n",
       "min         -16.090000\n",
       "25%          -1.245000\n",
       "50%           4.056000\n",
       "75%         439.100000\n",
       "max        1439.000000\n",
       "Name: Rad_Avg, dtype: float64"
      ]
     },
     "execution_count": 46,
     "metadata": {},
     "output_type": "execute_result"
    }
   ],
   "source": [
    "df3[\"Rad_Avg\"].describe()"
   ]
  },
  {
   "cell_type": "markdown",
   "metadata": {},
   "source": [
    "It seems like the only variable that must be cleaned is Rad_Avg\n",
    "\n",
    "**Radiation (Rad_Avg)**\n",
    "\n",
    "A simple filter is used for the Rad_Avg column: values greater than 0.001 are left in the column,\n",
    "and the rest are replaced by null."
   ]
  },
  {
   "cell_type": "code",
   "execution_count": 47,
   "metadata": {},
   "outputs": [],
   "source": [
    "def rad_processing(data):\n",
    "    if data < 0.001: return np.nan\n",
    "    return data"
   ]
  },
  {
   "cell_type": "code",
   "execution_count": 48,
   "metadata": {},
   "outputs": [],
   "source": [
    "df4 = df3.iloc[:,:]\n",
    "df4[\"Rad_Avg\"] = df4[\"Rad_Avg\"].apply(rad_processing)"
   ]
  },
  {
   "cell_type": "code",
   "execution_count": 49,
   "metadata": {},
   "outputs": [
    {
     "data": {
      "text/plain": [
       "count    232948.000000\n",
       "mean        471.904539\n",
       "std         366.849129\n",
       "min           0.046000\n",
       "25%         130.100000\n",
       "50%         404.500000\n",
       "75%         807.000000\n",
       "max        1439.000000\n",
       "Name: Rad_Avg, dtype: float64"
      ]
     },
     "execution_count": 49,
     "metadata": {},
     "output_type": "execute_result"
    }
   ],
   "source": [
    "df4[\"Rad_Avg\"].describe()"
   ]
  },
  {
   "cell_type": "code",
   "execution_count": 50,
   "metadata": {},
   "outputs": [
    {
     "name": "stdout",
     "output_type": "stream",
     "text": [
      "<class 'pandas.core.frame.DataFrame'>\n",
      "Index: 443518 entries, 0 to 449471\n",
      "Data columns (total 22 columns):\n",
      " #   Column      Non-Null Count   Dtype  \n",
      "---  ------      --------------   -----  \n",
      " 0   Time        443518 non-null  object \n",
      " 1   O3          443461 non-null  float64\n",
      " 2   O3_flag     443518 non-null  object \n",
      " 3   NO2         443211 non-null  float64\n",
      " 4   NO2_flag    443518 non-null  object \n",
      " 5   NO          443315 non-null  float64\n",
      " 6   NO_flag     443518 non-null  object \n",
      " 7   CO          443410 non-null  float64\n",
      " 8   CO_flag     443518 non-null  object \n",
      " 9   PM10        440555 non-null  float64\n",
      " 10  PM10_flag   443518 non-null  object \n",
      " 11  PM2.5       435279 non-null  float64\n",
      " 12  PM2.5_flag  443518 non-null  object \n",
      " 13  Temp_Avg    443508 non-null  float64\n",
      " 14  RH_Avg      443508 non-null  float64\n",
      " 15  WSpeed_Avg  443508 non-null  float64\n",
      " 16  WSpeed_Max  443508 non-null  float64\n",
      " 17  WDir_Avg    443508 non-null  float64\n",
      " 18  WDir_SD     443508 non-null  float64\n",
      " 19  Rain_Tot    443508 non-null  float64\n",
      " 20  Press_Avg   443508 non-null  float64\n",
      " 21  Rad_Avg     232948 non-null  float64\n",
      "dtypes: float64(15), object(7)\n",
      "memory usage: 77.8+ MB\n"
     ]
    }
   ],
   "source": [
    "df4.info()"
   ]
  },
  {
   "cell_type": "code",
   "execution_count": 51,
   "metadata": {},
   "outputs": [],
   "source": [
    "df4.to_csv(\"Atmospheric Data Cleaned.csv\", index=False)"
   ]
  },
  {
   "cell_type": "markdown",
   "metadata": {},
   "source": [
    "Let's create another DataFrame with time information in a more user-friendly format."
   ]
  },
  {
   "cell_type": "code",
   "execution_count": 52,
   "metadata": {},
   "outputs": [],
   "source": [
    "df5 = df4.iloc[:,:]"
   ]
  },
  {
   "cell_type": "code",
   "execution_count": 53,
   "metadata": {},
   "outputs": [
    {
     "data": {
      "text/plain": [
       "0    2023-05-01 00:00:00\n",
       "1    2023-05-01 00:01:00\n",
       "2    2023-05-01 00:02:00\n",
       "3    2023-05-01 00:03:00\n",
       "4    2023-05-01 00:04:00\n",
       "Name: Time, dtype: object"
      ]
     },
     "execution_count": 53,
     "metadata": {},
     "output_type": "execute_result"
    }
   ],
   "source": [
    "df5[\"Time\"].head()"
   ]
  },
  {
   "cell_type": "code",
   "execution_count": 54,
   "metadata": {},
   "outputs": [],
   "source": [
    "def year(time):\n",
    "    return int(time[:4])\n",
    "\n",
    "def month(time):\n",
    "    return int(time[5:7])\n",
    "\n",
    "def day(time):\n",
    "    return int(time[8:10])\n",
    "\n",
    "def hour(time):\n",
    "    return int(time[11:13])\n",
    "\n",
    "def minute(time):\n",
    "    return int(time[14:16])"
   ]
  },
  {
   "cell_type": "code",
   "execution_count": 55,
   "metadata": {},
   "outputs": [],
   "source": [
    "df5[\"Year\"] = df5[\"Time\"].apply(year)\n",
    "df5[\"Month\"] = df5[\"Time\"].apply(month)\n",
    "df5[\"Day\"] = df5[\"Time\"].apply(day)\n",
    "df5[\"Hour\"] = df5[\"Time\"].apply(hour)\n",
    "df5[\"Minute\"] = df5[\"Time\"].apply(minute)"
   ]
  },
  {
   "cell_type": "code",
   "execution_count": 56,
   "metadata": {},
   "outputs": [],
   "source": [
    "df5.drop(\"Time\", axis=1, inplace=True)"
   ]
  },
  {
   "cell_type": "code",
   "execution_count": 57,
   "metadata": {},
   "outputs": [
    {
     "data": {
      "text/html": [
       "<div>\n",
       "<style scoped>\n",
       "    .dataframe tbody tr th:only-of-type {\n",
       "        vertical-align: middle;\n",
       "    }\n",
       "\n",
       "    .dataframe tbody tr th {\n",
       "        vertical-align: top;\n",
       "    }\n",
       "\n",
       "    .dataframe thead th {\n",
       "        text-align: right;\n",
       "    }\n",
       "</style>\n",
       "<table border=\"1\" class=\"dataframe\">\n",
       "  <thead>\n",
       "    <tr style=\"text-align: right;\">\n",
       "      <th></th>\n",
       "      <th>O3</th>\n",
       "      <th>O3_flag</th>\n",
       "      <th>NO2</th>\n",
       "      <th>NO2_flag</th>\n",
       "      <th>NO</th>\n",
       "      <th>NO_flag</th>\n",
       "      <th>CO</th>\n",
       "      <th>CO_flag</th>\n",
       "      <th>PM10</th>\n",
       "      <th>PM10_flag</th>\n",
       "      <th>...</th>\n",
       "      <th>WDir_Avg</th>\n",
       "      <th>WDir_SD</th>\n",
       "      <th>Rain_Tot</th>\n",
       "      <th>Press_Avg</th>\n",
       "      <th>Rad_Avg</th>\n",
       "      <th>Year</th>\n",
       "      <th>Month</th>\n",
       "      <th>Day</th>\n",
       "      <th>Hour</th>\n",
       "      <th>Minute</th>\n",
       "    </tr>\n",
       "  </thead>\n",
       "  <tbody>\n",
       "    <tr>\n",
       "      <th>0</th>\n",
       "      <td>55.48</td>\n",
       "      <td>OK</td>\n",
       "      <td>0.72</td>\n",
       "      <td>OK</td>\n",
       "      <td>0.2</td>\n",
       "      <td>BDL</td>\n",
       "      <td>0.25</td>\n",
       "      <td>OK</td>\n",
       "      <td>25.47</td>\n",
       "      <td>OK</td>\n",
       "      <td>...</td>\n",
       "      <td>173.6</td>\n",
       "      <td>14.26</td>\n",
       "      <td>0.0</td>\n",
       "      <td>805.409</td>\n",
       "      <td>NaN</td>\n",
       "      <td>2023</td>\n",
       "      <td>5</td>\n",
       "      <td>1</td>\n",
       "      <td>0</td>\n",
       "      <td>0</td>\n",
       "    </tr>\n",
       "    <tr>\n",
       "      <th>1</th>\n",
       "      <td>55.49</td>\n",
       "      <td>OK</td>\n",
       "      <td>0.81</td>\n",
       "      <td>OK</td>\n",
       "      <td>0.2</td>\n",
       "      <td>BDL</td>\n",
       "      <td>0.26</td>\n",
       "      <td>OK</td>\n",
       "      <td>25.74</td>\n",
       "      <td>OK</td>\n",
       "      <td>...</td>\n",
       "      <td>171.0</td>\n",
       "      <td>10.53</td>\n",
       "      <td>0.0</td>\n",
       "      <td>805.524</td>\n",
       "      <td>NaN</td>\n",
       "      <td>2023</td>\n",
       "      <td>5</td>\n",
       "      <td>1</td>\n",
       "      <td>0</td>\n",
       "      <td>1</td>\n",
       "    </tr>\n",
       "    <tr>\n",
       "      <th>2</th>\n",
       "      <td>55.40</td>\n",
       "      <td>OK</td>\n",
       "      <td>0.93</td>\n",
       "      <td>OK</td>\n",
       "      <td>0.2</td>\n",
       "      <td>BDL</td>\n",
       "      <td>0.27</td>\n",
       "      <td>OK</td>\n",
       "      <td>26.60</td>\n",
       "      <td>OK</td>\n",
       "      <td>...</td>\n",
       "      <td>178.6</td>\n",
       "      <td>15.72</td>\n",
       "      <td>0.0</td>\n",
       "      <td>805.436</td>\n",
       "      <td>NaN</td>\n",
       "      <td>2023</td>\n",
       "      <td>5</td>\n",
       "      <td>1</td>\n",
       "      <td>0</td>\n",
       "      <td>2</td>\n",
       "    </tr>\n",
       "    <tr>\n",
       "      <th>3</th>\n",
       "      <td>55.20</td>\n",
       "      <td>OK</td>\n",
       "      <td>0.87</td>\n",
       "      <td>OK</td>\n",
       "      <td>0.2</td>\n",
       "      <td>BDL</td>\n",
       "      <td>0.28</td>\n",
       "      <td>OK</td>\n",
       "      <td>27.59</td>\n",
       "      <td>OK</td>\n",
       "      <td>...</td>\n",
       "      <td>186.1</td>\n",
       "      <td>17.43</td>\n",
       "      <td>0.0</td>\n",
       "      <td>805.450</td>\n",
       "      <td>NaN</td>\n",
       "      <td>2023</td>\n",
       "      <td>5</td>\n",
       "      <td>1</td>\n",
       "      <td>0</td>\n",
       "      <td>3</td>\n",
       "    </tr>\n",
       "    <tr>\n",
       "      <th>4</th>\n",
       "      <td>55.41</td>\n",
       "      <td>OK</td>\n",
       "      <td>0.98</td>\n",
       "      <td>OK</td>\n",
       "      <td>0.2</td>\n",
       "      <td>BDL</td>\n",
       "      <td>0.28</td>\n",
       "      <td>OK</td>\n",
       "      <td>27.83</td>\n",
       "      <td>OK</td>\n",
       "      <td>...</td>\n",
       "      <td>211.5</td>\n",
       "      <td>21.67</td>\n",
       "      <td>0.0</td>\n",
       "      <td>805.504</td>\n",
       "      <td>NaN</td>\n",
       "      <td>2023</td>\n",
       "      <td>5</td>\n",
       "      <td>1</td>\n",
       "      <td>0</td>\n",
       "      <td>4</td>\n",
       "    </tr>\n",
       "  </tbody>\n",
       "</table>\n",
       "<p>5 rows × 26 columns</p>\n",
       "</div>"
      ],
      "text/plain": [
       "      O3 O3_flag   NO2 NO2_flag   NO NO_flag    CO CO_flag   PM10 PM10_flag  \\\n",
       "0  55.48      OK  0.72       OK  0.2     BDL  0.25      OK  25.47        OK   \n",
       "1  55.49      OK  0.81       OK  0.2     BDL  0.26      OK  25.74        OK   \n",
       "2  55.40      OK  0.93       OK  0.2     BDL  0.27      OK  26.60        OK   \n",
       "3  55.20      OK  0.87       OK  0.2     BDL  0.28      OK  27.59        OK   \n",
       "4  55.41      OK  0.98       OK  0.2     BDL  0.28      OK  27.83        OK   \n",
       "\n",
       "   ...  WDir_Avg WDir_SD  Rain_Tot  Press_Avg  Rad_Avg  Year  Month  Day  \\\n",
       "0  ...     173.6   14.26       0.0    805.409      NaN  2023      5    1   \n",
       "1  ...     171.0   10.53       0.0    805.524      NaN  2023      5    1   \n",
       "2  ...     178.6   15.72       0.0    805.436      NaN  2023      5    1   \n",
       "3  ...     186.1   17.43       0.0    805.450      NaN  2023      5    1   \n",
       "4  ...     211.5   21.67       0.0    805.504      NaN  2023      5    1   \n",
       "\n",
       "   Hour  Minute  \n",
       "0     0       0  \n",
       "1     0       1  \n",
       "2     0       2  \n",
       "3     0       3  \n",
       "4     0       4  \n",
       "\n",
       "[5 rows x 26 columns]"
      ]
     },
     "execution_count": 57,
     "metadata": {},
     "output_type": "execute_result"
    }
   ],
   "source": [
    "df5.head()"
   ]
  },
  {
   "cell_type": "code",
   "execution_count": 58,
   "metadata": {},
   "outputs": [
    {
     "name": "stdout",
     "output_type": "stream",
     "text": [
      "<class 'pandas.core.frame.DataFrame'>\n",
      "Index: 443518 entries, 0 to 449471\n",
      "Data columns (total 26 columns):\n",
      " #   Column      Non-Null Count   Dtype  \n",
      "---  ------      --------------   -----  \n",
      " 0   O3          443461 non-null  float64\n",
      " 1   O3_flag     443518 non-null  object \n",
      " 2   NO2         443211 non-null  float64\n",
      " 3   NO2_flag    443518 non-null  object \n",
      " 4   NO          443315 non-null  float64\n",
      " 5   NO_flag     443518 non-null  object \n",
      " 6   CO          443410 non-null  float64\n",
      " 7   CO_flag     443518 non-null  object \n",
      " 8   PM10        440555 non-null  float64\n",
      " 9   PM10_flag   443518 non-null  object \n",
      " 10  PM2.5       435279 non-null  float64\n",
      " 11  PM2.5_flag  443518 non-null  object \n",
      " 12  Temp_Avg    443508 non-null  float64\n",
      " 13  RH_Avg      443508 non-null  float64\n",
      " 14  WSpeed_Avg  443508 non-null  float64\n",
      " 15  WSpeed_Max  443508 non-null  float64\n",
      " 16  WDir_Avg    443508 non-null  float64\n",
      " 17  WDir_SD     443508 non-null  float64\n",
      " 18  Rain_Tot    443508 non-null  float64\n",
      " 19  Press_Avg   443508 non-null  float64\n",
      " 20  Rad_Avg     232948 non-null  float64\n",
      " 21  Year        443518 non-null  int64  \n",
      " 22  Month       443518 non-null  int64  \n",
      " 23  Day         443518 non-null  int64  \n",
      " 24  Hour        443518 non-null  int64  \n",
      " 25  Minute      443518 non-null  int64  \n",
      "dtypes: float64(15), int64(5), object(6)\n",
      "memory usage: 91.4+ MB\n"
     ]
    }
   ],
   "source": [
    "df5.info()"
   ]
  },
  {
   "cell_type": "markdown",
   "metadata": {},
   "source": [
    "Save the dataset, and we're finished with data cleaning."
   ]
  },
  {
   "cell_type": "code",
   "execution_count": 59,
   "metadata": {},
   "outputs": [],
   "source": [
    "df5.to_csv(\"Atmospheric Data Cleaned - Time Format.csv\", index=False)"
   ]
  }
 ],
 "metadata": {
  "kernelspec": {
   "display_name": "Python 3",
   "language": "python",
   "name": "python3"
  },
  "language_info": {
   "codemirror_mode": {
    "name": "ipython",
    "version": 3
   },
   "file_extension": ".py",
   "mimetype": "text/x-python",
   "name": "python",
   "nbconvert_exporter": "python",
   "pygments_lexer": "ipython3",
   "version": "3.12.1"
  }
 },
 "nbformat": 4,
 "nbformat_minor": 2
}
