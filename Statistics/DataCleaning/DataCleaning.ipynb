{
 "cells": [
  {
   "cell_type": "code",
   "execution_count": 1,
   "metadata": {},
   "outputs": [],
   "source": [
    "import pandas as pd\n",
    "import numpy as np\n",
    "import matplotlib.pyplot as plt\n",
    "import seaborn as sns"
   ]
  },
  {
   "cell_type": "code",
   "execution_count": 2,
   "metadata": {},
   "outputs": [],
   "source": [
    "df1 = pd.read_csv(\"Atmospheric Data Precleaned.csv\")"
   ]
  },
  {
   "cell_type": "code",
   "execution_count": 3,
   "metadata": {},
   "outputs": [
    {
     "data": {
      "text/html": [
       "<div>\n",
       "<style scoped>\n",
       "    .dataframe tbody tr th:only-of-type {\n",
       "        vertical-align: middle;\n",
       "    }\n",
       "\n",
       "    .dataframe tbody tr th {\n",
       "        vertical-align: top;\n",
       "    }\n",
       "\n",
       "    .dataframe thead th {\n",
       "        text-align: right;\n",
       "    }\n",
       "</style>\n",
       "<table border=\"1\" class=\"dataframe\">\n",
       "  <thead>\n",
       "    <tr style=\"text-align: right;\">\n",
       "      <th></th>\n",
       "      <th>Time</th>\n",
       "      <th>O3</th>\n",
       "      <th>O3_flag</th>\n",
       "      <th>NO2</th>\n",
       "      <th>NO2_flag</th>\n",
       "      <th>NO</th>\n",
       "      <th>NO_flag</th>\n",
       "      <th>CO</th>\n",
       "      <th>CO_flag</th>\n",
       "      <th>PM10</th>\n",
       "      <th>...</th>\n",
       "      <th>PM2.5_flag</th>\n",
       "      <th>Temp_Avg</th>\n",
       "      <th>RH_Avg</th>\n",
       "      <th>WSpeed_Avg</th>\n",
       "      <th>WSpeed_Max</th>\n",
       "      <th>WDir_Avg</th>\n",
       "      <th>WDir_SD</th>\n",
       "      <th>Rain_Tot</th>\n",
       "      <th>Press_Avg</th>\n",
       "      <th>Rad_Avg</th>\n",
       "    </tr>\n",
       "  </thead>\n",
       "  <tbody>\n",
       "    <tr>\n",
       "      <th>0</th>\n",
       "      <td>2023-05-01 00:00:00</td>\n",
       "      <td>55.48</td>\n",
       "      <td>OK</td>\n",
       "      <td>0.72</td>\n",
       "      <td>OK</td>\n",
       "      <td>0.01</td>\n",
       "      <td>BDL</td>\n",
       "      <td>0.25</td>\n",
       "      <td>OK</td>\n",
       "      <td>25.47</td>\n",
       "      <td>...</td>\n",
       "      <td>OK</td>\n",
       "      <td>19.15</td>\n",
       "      <td>31.64</td>\n",
       "      <td>3.521</td>\n",
       "      <td>4.250</td>\n",
       "      <td>173.6</td>\n",
       "      <td>14.26</td>\n",
       "      <td>0.0</td>\n",
       "      <td>805.409</td>\n",
       "      <td>-1.521</td>\n",
       "    </tr>\n",
       "    <tr>\n",
       "      <th>1</th>\n",
       "      <td>2023-05-01 00:01:00</td>\n",
       "      <td>55.49</td>\n",
       "      <td>OK</td>\n",
       "      <td>0.81</td>\n",
       "      <td>OK</td>\n",
       "      <td>0.08</td>\n",
       "      <td>BDL</td>\n",
       "      <td>0.26</td>\n",
       "      <td>OK</td>\n",
       "      <td>25.74</td>\n",
       "      <td>...</td>\n",
       "      <td>OK</td>\n",
       "      <td>19.11</td>\n",
       "      <td>31.66</td>\n",
       "      <td>3.644</td>\n",
       "      <td>4.372</td>\n",
       "      <td>171.0</td>\n",
       "      <td>10.53</td>\n",
       "      <td>0.0</td>\n",
       "      <td>805.524</td>\n",
       "      <td>-1.521</td>\n",
       "    </tr>\n",
       "    <tr>\n",
       "      <th>2</th>\n",
       "      <td>2023-05-01 00:02:00</td>\n",
       "      <td>55.40</td>\n",
       "      <td>OK</td>\n",
       "      <td>0.93</td>\n",
       "      <td>OK</td>\n",
       "      <td>-0.05</td>\n",
       "      <td>BDL</td>\n",
       "      <td>0.27</td>\n",
       "      <td>OK</td>\n",
       "      <td>26.60</td>\n",
       "      <td>...</td>\n",
       "      <td>OK</td>\n",
       "      <td>19.09</td>\n",
       "      <td>31.70</td>\n",
       "      <td>4.139</td>\n",
       "      <td>5.253</td>\n",
       "      <td>178.6</td>\n",
       "      <td>15.72</td>\n",
       "      <td>0.0</td>\n",
       "      <td>805.436</td>\n",
       "      <td>-2.074</td>\n",
       "    </tr>\n",
       "    <tr>\n",
       "      <th>3</th>\n",
       "      <td>2023-05-01 00:03:00</td>\n",
       "      <td>55.20</td>\n",
       "      <td>OK</td>\n",
       "      <td>0.87</td>\n",
       "      <td>OK</td>\n",
       "      <td>0.03</td>\n",
       "      <td>BDL</td>\n",
       "      <td>0.28</td>\n",
       "      <td>OK</td>\n",
       "      <td>27.59</td>\n",
       "      <td>...</td>\n",
       "      <td>OK</td>\n",
       "      <td>19.10</td>\n",
       "      <td>31.76</td>\n",
       "      <td>3.692</td>\n",
       "      <td>4.925</td>\n",
       "      <td>186.1</td>\n",
       "      <td>17.43</td>\n",
       "      <td>0.0</td>\n",
       "      <td>805.450</td>\n",
       "      <td>-2.397</td>\n",
       "    </tr>\n",
       "    <tr>\n",
       "      <th>4</th>\n",
       "      <td>2023-05-01 00:04:00</td>\n",
       "      <td>55.41</td>\n",
       "      <td>OK</td>\n",
       "      <td>0.98</td>\n",
       "      <td>OK</td>\n",
       "      <td>-0.06</td>\n",
       "      <td>BDL</td>\n",
       "      <td>0.28</td>\n",
       "      <td>OK</td>\n",
       "      <td>27.83</td>\n",
       "      <td>...</td>\n",
       "      <td>OK</td>\n",
       "      <td>19.10</td>\n",
       "      <td>31.76</td>\n",
       "      <td>2.198</td>\n",
       "      <td>4.301</td>\n",
       "      <td>211.5</td>\n",
       "      <td>21.67</td>\n",
       "      <td>0.0</td>\n",
       "      <td>805.504</td>\n",
       "      <td>-1.706</td>\n",
       "    </tr>\n",
       "  </tbody>\n",
       "</table>\n",
       "<p>5 rows × 22 columns</p>\n",
       "</div>"
      ],
      "text/plain": [
       "                  Time     O3 O3_flag   NO2 NO2_flag    NO NO_flag    CO  \\\n",
       "0  2023-05-01 00:00:00  55.48      OK  0.72       OK  0.01     BDL  0.25   \n",
       "1  2023-05-01 00:01:00  55.49      OK  0.81       OK  0.08     BDL  0.26   \n",
       "2  2023-05-01 00:02:00  55.40      OK  0.93       OK -0.05     BDL  0.27   \n",
       "3  2023-05-01 00:03:00  55.20      OK  0.87       OK  0.03     BDL  0.28   \n",
       "4  2023-05-01 00:04:00  55.41      OK  0.98       OK -0.06     BDL  0.28   \n",
       "\n",
       "  CO_flag   PM10  ... PM2.5_flag  Temp_Avg RH_Avg  WSpeed_Avg  WSpeed_Max  \\\n",
       "0      OK  25.47  ...         OK     19.15  31.64       3.521       4.250   \n",
       "1      OK  25.74  ...         OK     19.11  31.66       3.644       4.372   \n",
       "2      OK  26.60  ...         OK     19.09  31.70       4.139       5.253   \n",
       "3      OK  27.59  ...         OK     19.10  31.76       3.692       4.925   \n",
       "4      OK  27.83  ...         OK     19.10  31.76       2.198       4.301   \n",
       "\n",
       "   WDir_Avg  WDir_SD  Rain_Tot  Press_Avg  Rad_Avg  \n",
       "0     173.6    14.26       0.0    805.409   -1.521  \n",
       "1     171.0    10.53       0.0    805.524   -1.521  \n",
       "2     178.6    15.72       0.0    805.436   -2.074  \n",
       "3     186.1    17.43       0.0    805.450   -2.397  \n",
       "4     211.5    21.67       0.0    805.504   -1.706  \n",
       "\n",
       "[5 rows x 22 columns]"
      ]
     },
     "execution_count": 3,
     "metadata": {},
     "output_type": "execute_result"
    }
   ],
   "source": [
    "df1.head()"
   ]
  },
  {
   "cell_type": "code",
   "execution_count": 4,
   "metadata": {},
   "outputs": [
    {
     "name": "stdout",
     "output_type": "stream",
     "text": [
      "<class 'pandas.core.frame.DataFrame'>\n",
      "RangeIndex: 408971 entries, 0 to 408970\n",
      "Data columns (total 22 columns):\n",
      " #   Column      Non-Null Count   Dtype  \n",
      "---  ------      --------------   -----  \n",
      " 0   Time        408971 non-null  object \n",
      " 1   O3          403172 non-null  float64\n",
      " 2   O3_flag     408971 non-null  object \n",
      " 3   NO2         408725 non-null  float64\n",
      " 4   NO2_flag    408971 non-null  object \n",
      " 5   NO          408725 non-null  float64\n",
      " 6   NO_flag     408971 non-null  object \n",
      " 7   CO          408870 non-null  float64\n",
      " 8   CO_flag     408971 non-null  object \n",
      " 9   PM10        408863 non-null  float64\n",
      " 10  PM10_flag   408971 non-null  object \n",
      " 11  PM2.5       408860 non-null  float64\n",
      " 12  PM2.5_flag  408971 non-null  object \n",
      " 13  Temp_Avg    408964 non-null  float64\n",
      " 14  RH_Avg      408964 non-null  float64\n",
      " 15  WSpeed_Avg  408964 non-null  float64\n",
      " 16  WSpeed_Max  408964 non-null  float64\n",
      " 17  WDir_Avg    408964 non-null  float64\n",
      " 18  WDir_SD     408964 non-null  float64\n",
      " 19  Rain_Tot    408964 non-null  float64\n",
      " 20  Press_Avg   408964 non-null  float64\n",
      " 21  Rad_Avg     408958 non-null  float64\n",
      "dtypes: float64(15), object(7)\n",
      "memory usage: 68.6+ MB\n"
     ]
    }
   ],
   "source": [
    "df1.info()"
   ]
  },
  {
   "cell_type": "markdown",
   "metadata": {},
   "source": [
    "Checking atmospheric data flags"
   ]
  },
  {
   "cell_type": "code",
   "execution_count": 5,
   "metadata": {},
   "outputs": [
    {
     "data": {
      "text/plain": [
       "O3_flag\n",
       "OK     401873\n",
       "OS       5799\n",
       "BDL      1282\n",
       "OR         17\n",
       "Name: count, dtype: int64"
      ]
     },
     "execution_count": 5,
     "metadata": {},
     "output_type": "execute_result"
    }
   ],
   "source": [
    "df1[\"O3_flag\"].value_counts()"
   ]
  },
  {
   "cell_type": "code",
   "execution_count": 6,
   "metadata": {},
   "outputs": [
    {
     "data": {
      "text/plain": [
       "Series([], Name: count, dtype: int64)"
      ]
     },
     "execution_count": 6,
     "metadata": {},
     "output_type": "execute_result"
    }
   ],
   "source": [
    "df1[(df1[\"O3_flag\"] == \"OS\")][\"O3\"].value_counts()"
   ]
  },
  {
   "cell_type": "code",
   "execution_count": 7,
   "metadata": {},
   "outputs": [
    {
     "data": {
      "text/plain": [
       "NO2_flag\n",
       "OK     406048\n",
       "BDL      2616\n",
       "OS        246\n",
       "OR         61\n",
       "Name: count, dtype: int64"
      ]
     },
     "execution_count": 7,
     "metadata": {},
     "output_type": "execute_result"
    }
   ],
   "source": [
    "df1[\"NO2_flag\"].value_counts()"
   ]
  },
  {
   "cell_type": "code",
   "execution_count": 8,
   "metadata": {},
   "outputs": [
    {
     "data": {
      "text/plain": [
       "NO_flag\n",
       "BDL    317708\n",
       "OK      90814\n",
       "OS        246\n",
       "OR        203\n",
       "Name: count, dtype: int64"
      ]
     },
     "execution_count": 8,
     "metadata": {},
     "output_type": "execute_result"
    }
   ],
   "source": [
    "df1[\"NO_flag\"].value_counts()"
   ]
  },
  {
   "cell_type": "code",
   "execution_count": 9,
   "metadata": {},
   "outputs": [
    {
     "data": {
      "text/plain": [
       "CO_flag\n",
       "OK     402781\n",
       "BDL      5981\n",
       "OR        108\n",
       "OS        101\n",
       "Name: count, dtype: int64"
      ]
     },
     "execution_count": 9,
     "metadata": {},
     "output_type": "execute_result"
    }
   ],
   "source": [
    "df1[\"CO_flag\"].value_counts()"
   ]
  },
  {
   "cell_type": "code",
   "execution_count": 10,
   "metadata": {},
   "outputs": [
    {
     "data": {
      "text/plain": [
       "PM10_flag\n",
       "OK     382706\n",
       "BDL     23272\n",
       "OR       2885\n",
       "OS        108\n",
       "Name: count, dtype: int64"
      ]
     },
     "execution_count": 10,
     "metadata": {},
     "output_type": "execute_result"
    }
   ],
   "source": [
    "df1[\"PM10_flag\"].value_counts()"
   ]
  },
  {
   "cell_type": "code",
   "execution_count": 11,
   "metadata": {},
   "outputs": [
    {
     "data": {
      "text/plain": [
       "PM2.5_flag\n",
       "OK     355963\n",
       "BDL     44671\n",
       "OR       8226\n",
       "OS        111\n",
       "Name: count, dtype: int64"
      ]
     },
     "execution_count": 11,
     "metadata": {},
     "output_type": "execute_result"
    }
   ],
   "source": [
    "df1[\"PM2.5_flag\"].value_counts()"
   ]
  },
  {
   "cell_type": "markdown",
   "metadata": {},
   "source": [
    "We are going to eliminate null pollution data for our statistics analysis. So, we can drop those instances that has any flag out of service"
   ]
  },
  {
   "cell_type": "code",
   "execution_count": 12,
   "metadata": {},
   "outputs": [],
   "source": [
    "df2 = df1.drop(df1[(df1[\"O3_flag\"] == \"OS\") | (df1[\"NO2_flag\"] == \"OS\") | (df1[\"NO_flag\"] == \"OS\") | (df1[\"CO_flag\"] == \"OS\") | (df1[\"PM10_flag\"] == \"OS\") | (df1[\"PM2.5_flag\"] == \"OS\")].index, axis=0)"
   ]
  },
  {
   "cell_type": "code",
   "execution_count": 13,
   "metadata": {},
   "outputs": [
    {
     "data": {
      "text/html": [
       "<div>\n",
       "<style scoped>\n",
       "    .dataframe tbody tr th:only-of-type {\n",
       "        vertical-align: middle;\n",
       "    }\n",
       "\n",
       "    .dataframe tbody tr th {\n",
       "        vertical-align: top;\n",
       "    }\n",
       "\n",
       "    .dataframe thead th {\n",
       "        text-align: right;\n",
       "    }\n",
       "</style>\n",
       "<table border=\"1\" class=\"dataframe\">\n",
       "  <thead>\n",
       "    <tr style=\"text-align: right;\">\n",
       "      <th></th>\n",
       "      <th>Time</th>\n",
       "      <th>O3</th>\n",
       "      <th>O3_flag</th>\n",
       "      <th>NO2</th>\n",
       "      <th>NO2_flag</th>\n",
       "      <th>NO</th>\n",
       "      <th>NO_flag</th>\n",
       "      <th>CO</th>\n",
       "      <th>CO_flag</th>\n",
       "      <th>PM10</th>\n",
       "      <th>...</th>\n",
       "      <th>PM2.5_flag</th>\n",
       "      <th>Temp_Avg</th>\n",
       "      <th>RH_Avg</th>\n",
       "      <th>WSpeed_Avg</th>\n",
       "      <th>WSpeed_Max</th>\n",
       "      <th>WDir_Avg</th>\n",
       "      <th>WDir_SD</th>\n",
       "      <th>Rain_Tot</th>\n",
       "      <th>Press_Avg</th>\n",
       "      <th>Rad_Avg</th>\n",
       "    </tr>\n",
       "  </thead>\n",
       "  <tbody>\n",
       "    <tr>\n",
       "      <th>0</th>\n",
       "      <td>2023-05-01 00:00:00</td>\n",
       "      <td>55.48</td>\n",
       "      <td>OK</td>\n",
       "      <td>0.72</td>\n",
       "      <td>OK</td>\n",
       "      <td>0.01</td>\n",
       "      <td>BDL</td>\n",
       "      <td>0.25</td>\n",
       "      <td>OK</td>\n",
       "      <td>25.47</td>\n",
       "      <td>...</td>\n",
       "      <td>OK</td>\n",
       "      <td>19.15</td>\n",
       "      <td>31.64</td>\n",
       "      <td>3.521</td>\n",
       "      <td>4.250</td>\n",
       "      <td>173.6</td>\n",
       "      <td>14.26</td>\n",
       "      <td>0.0</td>\n",
       "      <td>805.409</td>\n",
       "      <td>-1.521</td>\n",
       "    </tr>\n",
       "    <tr>\n",
       "      <th>1</th>\n",
       "      <td>2023-05-01 00:01:00</td>\n",
       "      <td>55.49</td>\n",
       "      <td>OK</td>\n",
       "      <td>0.81</td>\n",
       "      <td>OK</td>\n",
       "      <td>0.08</td>\n",
       "      <td>BDL</td>\n",
       "      <td>0.26</td>\n",
       "      <td>OK</td>\n",
       "      <td>25.74</td>\n",
       "      <td>...</td>\n",
       "      <td>OK</td>\n",
       "      <td>19.11</td>\n",
       "      <td>31.66</td>\n",
       "      <td>3.644</td>\n",
       "      <td>4.372</td>\n",
       "      <td>171.0</td>\n",
       "      <td>10.53</td>\n",
       "      <td>0.0</td>\n",
       "      <td>805.524</td>\n",
       "      <td>-1.521</td>\n",
       "    </tr>\n",
       "    <tr>\n",
       "      <th>2</th>\n",
       "      <td>2023-05-01 00:02:00</td>\n",
       "      <td>55.40</td>\n",
       "      <td>OK</td>\n",
       "      <td>0.93</td>\n",
       "      <td>OK</td>\n",
       "      <td>-0.05</td>\n",
       "      <td>BDL</td>\n",
       "      <td>0.27</td>\n",
       "      <td>OK</td>\n",
       "      <td>26.60</td>\n",
       "      <td>...</td>\n",
       "      <td>OK</td>\n",
       "      <td>19.09</td>\n",
       "      <td>31.70</td>\n",
       "      <td>4.139</td>\n",
       "      <td>5.253</td>\n",
       "      <td>178.6</td>\n",
       "      <td>15.72</td>\n",
       "      <td>0.0</td>\n",
       "      <td>805.436</td>\n",
       "      <td>-2.074</td>\n",
       "    </tr>\n",
       "    <tr>\n",
       "      <th>3</th>\n",
       "      <td>2023-05-01 00:03:00</td>\n",
       "      <td>55.20</td>\n",
       "      <td>OK</td>\n",
       "      <td>0.87</td>\n",
       "      <td>OK</td>\n",
       "      <td>0.03</td>\n",
       "      <td>BDL</td>\n",
       "      <td>0.28</td>\n",
       "      <td>OK</td>\n",
       "      <td>27.59</td>\n",
       "      <td>...</td>\n",
       "      <td>OK</td>\n",
       "      <td>19.10</td>\n",
       "      <td>31.76</td>\n",
       "      <td>3.692</td>\n",
       "      <td>4.925</td>\n",
       "      <td>186.1</td>\n",
       "      <td>17.43</td>\n",
       "      <td>0.0</td>\n",
       "      <td>805.450</td>\n",
       "      <td>-2.397</td>\n",
       "    </tr>\n",
       "    <tr>\n",
       "      <th>4</th>\n",
       "      <td>2023-05-01 00:04:00</td>\n",
       "      <td>55.41</td>\n",
       "      <td>OK</td>\n",
       "      <td>0.98</td>\n",
       "      <td>OK</td>\n",
       "      <td>-0.06</td>\n",
       "      <td>BDL</td>\n",
       "      <td>0.28</td>\n",
       "      <td>OK</td>\n",
       "      <td>27.83</td>\n",
       "      <td>...</td>\n",
       "      <td>OK</td>\n",
       "      <td>19.10</td>\n",
       "      <td>31.76</td>\n",
       "      <td>2.198</td>\n",
       "      <td>4.301</td>\n",
       "      <td>211.5</td>\n",
       "      <td>21.67</td>\n",
       "      <td>0.0</td>\n",
       "      <td>805.504</td>\n",
       "      <td>-1.706</td>\n",
       "    </tr>\n",
       "  </tbody>\n",
       "</table>\n",
       "<p>5 rows × 22 columns</p>\n",
       "</div>"
      ],
      "text/plain": [
       "                  Time     O3 O3_flag   NO2 NO2_flag    NO NO_flag    CO  \\\n",
       "0  2023-05-01 00:00:00  55.48      OK  0.72       OK  0.01     BDL  0.25   \n",
       "1  2023-05-01 00:01:00  55.49      OK  0.81       OK  0.08     BDL  0.26   \n",
       "2  2023-05-01 00:02:00  55.40      OK  0.93       OK -0.05     BDL  0.27   \n",
       "3  2023-05-01 00:03:00  55.20      OK  0.87       OK  0.03     BDL  0.28   \n",
       "4  2023-05-01 00:04:00  55.41      OK  0.98       OK -0.06     BDL  0.28   \n",
       "\n",
       "  CO_flag   PM10  ... PM2.5_flag  Temp_Avg RH_Avg  WSpeed_Avg  WSpeed_Max  \\\n",
       "0      OK  25.47  ...         OK     19.15  31.64       3.521       4.250   \n",
       "1      OK  25.74  ...         OK     19.11  31.66       3.644       4.372   \n",
       "2      OK  26.60  ...         OK     19.09  31.70       4.139       5.253   \n",
       "3      OK  27.59  ...         OK     19.10  31.76       3.692       4.925   \n",
       "4      OK  27.83  ...         OK     19.10  31.76       2.198       4.301   \n",
       "\n",
       "   WDir_Avg  WDir_SD  Rain_Tot  Press_Avg  Rad_Avg  \n",
       "0     173.6    14.26       0.0    805.409   -1.521  \n",
       "1     171.0    10.53       0.0    805.524   -1.521  \n",
       "2     178.6    15.72       0.0    805.436   -2.074  \n",
       "3     186.1    17.43       0.0    805.450   -2.397  \n",
       "4     211.5    21.67       0.0    805.504   -1.706  \n",
       "\n",
       "[5 rows x 22 columns]"
      ]
     },
     "execution_count": 13,
     "metadata": {},
     "output_type": "execute_result"
    }
   ],
   "source": [
    "df2.head()"
   ]
  },
  {
   "cell_type": "code",
   "execution_count": 14,
   "metadata": {},
   "outputs": [
    {
     "name": "stdout",
     "output_type": "stream",
     "text": [
      "<class 'pandas.core.frame.DataFrame'>\n",
      "Index: 403017 entries, 0 to 408970\n",
      "Data columns (total 22 columns):\n",
      " #   Column      Non-Null Count   Dtype  \n",
      "---  ------      --------------   -----  \n",
      " 0   Time        403017 non-null  object \n",
      " 1   O3          403017 non-null  float64\n",
      " 2   O3_flag     403017 non-null  object \n",
      " 3   NO2         403017 non-null  float64\n",
      " 4   NO2_flag    403017 non-null  object \n",
      " 5   NO          403017 non-null  float64\n",
      " 6   NO_flag     403017 non-null  object \n",
      " 7   CO          403017 non-null  float64\n",
      " 8   CO_flag     403017 non-null  object \n",
      " 9   PM10        403017 non-null  float64\n",
      " 10  PM10_flag   403017 non-null  object \n",
      " 11  PM2.5       403017 non-null  float64\n",
      " 12  PM2.5_flag  403017 non-null  object \n",
      " 13  Temp_Avg    403010 non-null  float64\n",
      " 14  RH_Avg      403010 non-null  float64\n",
      " 15  WSpeed_Avg  403010 non-null  float64\n",
      " 16  WSpeed_Max  403010 non-null  float64\n",
      " 17  WDir_Avg    403010 non-null  float64\n",
      " 18  WDir_SD     403010 non-null  float64\n",
      " 19  Rain_Tot    403010 non-null  float64\n",
      " 20  Press_Avg   403010 non-null  float64\n",
      " 21  Rad_Avg     403004 non-null  float64\n",
      "dtypes: float64(15), object(7)\n",
      "memory usage: 70.7+ MB\n"
     ]
    }
   ],
   "source": [
    "df2.info()"
   ]
  },
  {
   "cell_type": "code",
   "execution_count": 15,
   "metadata": {},
   "outputs": [
    {
     "data": {
      "text/plain": [
       "O3_flag\n",
       "OK     401719\n",
       "BDL      1282\n",
       "OR         16\n",
       "Name: count, dtype: int64"
      ]
     },
     "execution_count": 15,
     "metadata": {},
     "output_type": "execute_result"
    }
   ],
   "source": [
    "df2[\"O3_flag\"].value_counts()"
   ]
  },
  {
   "cell_type": "code",
   "execution_count": 16,
   "metadata": {},
   "outputs": [
    {
     "data": {
      "text/plain": [
       "NO2_flag\n",
       "OK     400340\n",
       "BDL      2616\n",
       "OR         61\n",
       "Name: count, dtype: int64"
      ]
     },
     "execution_count": 16,
     "metadata": {},
     "output_type": "execute_result"
    }
   ],
   "source": [
    "df2[\"NO2_flag\"].value_counts()"
   ]
  },
  {
   "cell_type": "code",
   "execution_count": 17,
   "metadata": {},
   "outputs": [
    {
     "data": {
      "text/plain": [
       "NO_flag\n",
       "BDL    313174\n",
       "OK      89640\n",
       "OR        203\n",
       "Name: count, dtype: int64"
      ]
     },
     "execution_count": 17,
     "metadata": {},
     "output_type": "execute_result"
    }
   ],
   "source": [
    "df2[\"NO_flag\"].value_counts()"
   ]
  },
  {
   "cell_type": "code",
   "execution_count": 18,
   "metadata": {},
   "outputs": [
    {
     "data": {
      "text/plain": [
       "CO_flag\n",
       "OK     396928\n",
       "BDL      5981\n",
       "OR        108\n",
       "Name: count, dtype: int64"
      ]
     },
     "execution_count": 18,
     "metadata": {},
     "output_type": "execute_result"
    }
   ],
   "source": [
    "df2[\"CO_flag\"].value_counts()"
   ]
  },
  {
   "cell_type": "code",
   "execution_count": 19,
   "metadata": {},
   "outputs": [
    {
     "data": {
      "text/plain": [
       "PM10_flag\n",
       "OK     376860\n",
       "BDL     23272\n",
       "OR       2885\n",
       "Name: count, dtype: int64"
      ]
     },
     "execution_count": 19,
     "metadata": {},
     "output_type": "execute_result"
    }
   ],
   "source": [
    "df2[\"PM10_flag\"].value_counts()"
   ]
  },
  {
   "cell_type": "code",
   "execution_count": 20,
   "metadata": {},
   "outputs": [
    {
     "data": {
      "text/plain": [
       "PM2.5_flag\n",
       "OK     350157\n",
       "BDL     44634\n",
       "OR       8226\n",
       "Name: count, dtype: int64"
      ]
     },
     "execution_count": 20,
     "metadata": {},
     "output_type": "execute_result"
    }
   ],
   "source": [
    "df2[\"PM2.5_flag\"].value_counts()"
   ]
  },
  {
   "cell_type": "markdown",
   "metadata": {},
   "source": [
    "Checking pollution data behind limit detection and span limit detection"
   ]
  },
  {
   "cell_type": "markdown",
   "metadata": {},
   "source": [
    "| Pollutant | Analytical method | Detection limit | Span limit |\n",
    "| - | - | - | - |\n",
    "| O3 | UV absorption photometry | 0.03 ppb | 500 ppb |\n",
    "| CO | Non-dispersive infrared | 0.04 ppm | 25 ppm |\n",
    "| NO2, NO | Chemiluminescence | 0.4 ppb | 0.3, 0.5 ppm (NO2, NO) |\n",
    "| PM2.5 | Separation by diameter and quantification by beta radiation attenuation | 4 ug/m^3 | 400 ug/m^3 |\n",
    "| PM10 | Separation by diameter and quantification by beta radiation attenuation | 4 ug/m^3 | 400 ug/m^3 |"
   ]
  }
 ],
 "metadata": {
  "kernelspec": {
   "display_name": "Python 3",
   "language": "python",
   "name": "python3"
  },
  "language_info": {
   "codemirror_mode": {
    "name": "ipython",
    "version": 3
   },
   "file_extension": ".py",
   "mimetype": "text/x-python",
   "name": "python",
   "nbconvert_exporter": "python",
   "pygments_lexer": "ipython3",
   "version": "3.12.1"
  }
 },
 "nbformat": 4,
 "nbformat_minor": 2
}
