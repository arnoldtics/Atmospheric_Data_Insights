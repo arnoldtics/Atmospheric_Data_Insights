{
 "cells": [
  {
   "cell_type": "code",
   "execution_count": 44,
   "metadata": {},
   "outputs": [],
   "source": [
    "import pandas as pd\n",
    "import numpy as np\n",
    "import matplotlib.pyplot as plt\n",
    "import seaborn as sns\n",
    "from scipy.stats import zscore"
   ]
  },
  {
   "cell_type": "code",
   "execution_count": 2,
   "metadata": {},
   "outputs": [],
   "source": [
    "df1 = pd.read_csv(\"Atmospheric Data Precleaned.csv\")"
   ]
  },
  {
   "cell_type": "code",
   "execution_count": 3,
   "metadata": {},
   "outputs": [
    {
     "data": {
      "text/html": [
       "<div>\n",
       "<style scoped>\n",
       "    .dataframe tbody tr th:only-of-type {\n",
       "        vertical-align: middle;\n",
       "    }\n",
       "\n",
       "    .dataframe tbody tr th {\n",
       "        vertical-align: top;\n",
       "    }\n",
       "\n",
       "    .dataframe thead th {\n",
       "        text-align: right;\n",
       "    }\n",
       "</style>\n",
       "<table border=\"1\" class=\"dataframe\">\n",
       "  <thead>\n",
       "    <tr style=\"text-align: right;\">\n",
       "      <th></th>\n",
       "      <th>Time</th>\n",
       "      <th>O3</th>\n",
       "      <th>O3_flag</th>\n",
       "      <th>NO2</th>\n",
       "      <th>NO2_flag</th>\n",
       "      <th>NO</th>\n",
       "      <th>NO_flag</th>\n",
       "      <th>CO</th>\n",
       "      <th>CO_flag</th>\n",
       "      <th>PM10</th>\n",
       "      <th>...</th>\n",
       "      <th>PM2.5_flag</th>\n",
       "      <th>Temp_Avg</th>\n",
       "      <th>RH_Avg</th>\n",
       "      <th>WSpeed_Avg</th>\n",
       "      <th>WSpeed_Max</th>\n",
       "      <th>WDir_Avg</th>\n",
       "      <th>WDir_SD</th>\n",
       "      <th>Rain_Tot</th>\n",
       "      <th>Press_Avg</th>\n",
       "      <th>Rad_Avg</th>\n",
       "    </tr>\n",
       "  </thead>\n",
       "  <tbody>\n",
       "    <tr>\n",
       "      <th>0</th>\n",
       "      <td>2023-05-01 00:00:00</td>\n",
       "      <td>55.48</td>\n",
       "      <td>OK</td>\n",
       "      <td>0.72</td>\n",
       "      <td>OK</td>\n",
       "      <td>0.01</td>\n",
       "      <td>BDL</td>\n",
       "      <td>0.25</td>\n",
       "      <td>OK</td>\n",
       "      <td>25.47</td>\n",
       "      <td>...</td>\n",
       "      <td>OK</td>\n",
       "      <td>19.15</td>\n",
       "      <td>31.64</td>\n",
       "      <td>3.521</td>\n",
       "      <td>4.250</td>\n",
       "      <td>173.6</td>\n",
       "      <td>14.26</td>\n",
       "      <td>0.0</td>\n",
       "      <td>805.409</td>\n",
       "      <td>-1.521</td>\n",
       "    </tr>\n",
       "    <tr>\n",
       "      <th>1</th>\n",
       "      <td>2023-05-01 00:01:00</td>\n",
       "      <td>55.49</td>\n",
       "      <td>OK</td>\n",
       "      <td>0.81</td>\n",
       "      <td>OK</td>\n",
       "      <td>0.08</td>\n",
       "      <td>BDL</td>\n",
       "      <td>0.26</td>\n",
       "      <td>OK</td>\n",
       "      <td>25.74</td>\n",
       "      <td>...</td>\n",
       "      <td>OK</td>\n",
       "      <td>19.11</td>\n",
       "      <td>31.66</td>\n",
       "      <td>3.644</td>\n",
       "      <td>4.372</td>\n",
       "      <td>171.0</td>\n",
       "      <td>10.53</td>\n",
       "      <td>0.0</td>\n",
       "      <td>805.524</td>\n",
       "      <td>-1.521</td>\n",
       "    </tr>\n",
       "    <tr>\n",
       "      <th>2</th>\n",
       "      <td>2023-05-01 00:02:00</td>\n",
       "      <td>55.40</td>\n",
       "      <td>OK</td>\n",
       "      <td>0.93</td>\n",
       "      <td>OK</td>\n",
       "      <td>-0.05</td>\n",
       "      <td>BDL</td>\n",
       "      <td>0.27</td>\n",
       "      <td>OK</td>\n",
       "      <td>26.60</td>\n",
       "      <td>...</td>\n",
       "      <td>OK</td>\n",
       "      <td>19.09</td>\n",
       "      <td>31.70</td>\n",
       "      <td>4.139</td>\n",
       "      <td>5.253</td>\n",
       "      <td>178.6</td>\n",
       "      <td>15.72</td>\n",
       "      <td>0.0</td>\n",
       "      <td>805.436</td>\n",
       "      <td>-2.074</td>\n",
       "    </tr>\n",
       "    <tr>\n",
       "      <th>3</th>\n",
       "      <td>2023-05-01 00:03:00</td>\n",
       "      <td>55.20</td>\n",
       "      <td>OK</td>\n",
       "      <td>0.87</td>\n",
       "      <td>OK</td>\n",
       "      <td>0.03</td>\n",
       "      <td>BDL</td>\n",
       "      <td>0.28</td>\n",
       "      <td>OK</td>\n",
       "      <td>27.59</td>\n",
       "      <td>...</td>\n",
       "      <td>OK</td>\n",
       "      <td>19.10</td>\n",
       "      <td>31.76</td>\n",
       "      <td>3.692</td>\n",
       "      <td>4.925</td>\n",
       "      <td>186.1</td>\n",
       "      <td>17.43</td>\n",
       "      <td>0.0</td>\n",
       "      <td>805.450</td>\n",
       "      <td>-2.397</td>\n",
       "    </tr>\n",
       "    <tr>\n",
       "      <th>4</th>\n",
       "      <td>2023-05-01 00:04:00</td>\n",
       "      <td>55.41</td>\n",
       "      <td>OK</td>\n",
       "      <td>0.98</td>\n",
       "      <td>OK</td>\n",
       "      <td>-0.06</td>\n",
       "      <td>BDL</td>\n",
       "      <td>0.28</td>\n",
       "      <td>OK</td>\n",
       "      <td>27.83</td>\n",
       "      <td>...</td>\n",
       "      <td>OK</td>\n",
       "      <td>19.10</td>\n",
       "      <td>31.76</td>\n",
       "      <td>2.198</td>\n",
       "      <td>4.301</td>\n",
       "      <td>211.5</td>\n",
       "      <td>21.67</td>\n",
       "      <td>0.0</td>\n",
       "      <td>805.504</td>\n",
       "      <td>-1.706</td>\n",
       "    </tr>\n",
       "  </tbody>\n",
       "</table>\n",
       "<p>5 rows × 22 columns</p>\n",
       "</div>"
      ],
      "text/plain": [
       "                  Time     O3 O3_flag   NO2 NO2_flag    NO NO_flag    CO  \\\n",
       "0  2023-05-01 00:00:00  55.48      OK  0.72       OK  0.01     BDL  0.25   \n",
       "1  2023-05-01 00:01:00  55.49      OK  0.81       OK  0.08     BDL  0.26   \n",
       "2  2023-05-01 00:02:00  55.40      OK  0.93       OK -0.05     BDL  0.27   \n",
       "3  2023-05-01 00:03:00  55.20      OK  0.87       OK  0.03     BDL  0.28   \n",
       "4  2023-05-01 00:04:00  55.41      OK  0.98       OK -0.06     BDL  0.28   \n",
       "\n",
       "  CO_flag   PM10  ... PM2.5_flag  Temp_Avg RH_Avg  WSpeed_Avg  WSpeed_Max  \\\n",
       "0      OK  25.47  ...         OK     19.15  31.64       3.521       4.250   \n",
       "1      OK  25.74  ...         OK     19.11  31.66       3.644       4.372   \n",
       "2      OK  26.60  ...         OK     19.09  31.70       4.139       5.253   \n",
       "3      OK  27.59  ...         OK     19.10  31.76       3.692       4.925   \n",
       "4      OK  27.83  ...         OK     19.10  31.76       2.198       4.301   \n",
       "\n",
       "   WDir_Avg  WDir_SD  Rain_Tot  Press_Avg  Rad_Avg  \n",
       "0     173.6    14.26       0.0    805.409   -1.521  \n",
       "1     171.0    10.53       0.0    805.524   -1.521  \n",
       "2     178.6    15.72       0.0    805.436   -2.074  \n",
       "3     186.1    17.43       0.0    805.450   -2.397  \n",
       "4     211.5    21.67       0.0    805.504   -1.706  \n",
       "\n",
       "[5 rows x 22 columns]"
      ]
     },
     "execution_count": 3,
     "metadata": {},
     "output_type": "execute_result"
    }
   ],
   "source": [
    "df1.head()"
   ]
  },
  {
   "cell_type": "code",
   "execution_count": 4,
   "metadata": {},
   "outputs": [
    {
     "name": "stdout",
     "output_type": "stream",
     "text": [
      "<class 'pandas.core.frame.DataFrame'>\n",
      "RangeIndex: 408971 entries, 0 to 408970\n",
      "Data columns (total 22 columns):\n",
      " #   Column      Non-Null Count   Dtype  \n",
      "---  ------      --------------   -----  \n",
      " 0   Time        408971 non-null  object \n",
      " 1   O3          403172 non-null  float64\n",
      " 2   O3_flag     408971 non-null  object \n",
      " 3   NO2         408725 non-null  float64\n",
      " 4   NO2_flag    408971 non-null  object \n",
      " 5   NO          408725 non-null  float64\n",
      " 6   NO_flag     408971 non-null  object \n",
      " 7   CO          408870 non-null  float64\n",
      " 8   CO_flag     408971 non-null  object \n",
      " 9   PM10        408863 non-null  float64\n",
      " 10  PM10_flag   408971 non-null  object \n",
      " 11  PM2.5       408860 non-null  float64\n",
      " 12  PM2.5_flag  408971 non-null  object \n",
      " 13  Temp_Avg    408964 non-null  float64\n",
      " 14  RH_Avg      408964 non-null  float64\n",
      " 15  WSpeed_Avg  408964 non-null  float64\n",
      " 16  WSpeed_Max  408964 non-null  float64\n",
      " 17  WDir_Avg    408964 non-null  float64\n",
      " 18  WDir_SD     408964 non-null  float64\n",
      " 19  Rain_Tot    408964 non-null  float64\n",
      " 20  Press_Avg   408964 non-null  float64\n",
      " 21  Rad_Avg     408958 non-null  float64\n",
      "dtypes: float64(15), object(7)\n",
      "memory usage: 68.6+ MB\n"
     ]
    }
   ],
   "source": [
    "df1.info()"
   ]
  },
  {
   "cell_type": "markdown",
   "metadata": {},
   "source": [
    "Checking atmospheric data flags"
   ]
  },
  {
   "cell_type": "code",
   "execution_count": 5,
   "metadata": {},
   "outputs": [
    {
     "data": {
      "text/plain": [
       "O3_flag\n",
       "OK     401873\n",
       "OS       5799\n",
       "BDL      1282\n",
       "OR         17\n",
       "Name: count, dtype: int64"
      ]
     },
     "execution_count": 5,
     "metadata": {},
     "output_type": "execute_result"
    }
   ],
   "source": [
    "df1[\"O3_flag\"].value_counts()"
   ]
  },
  {
   "cell_type": "code",
   "execution_count": 6,
   "metadata": {},
   "outputs": [
    {
     "data": {
      "text/plain": [
       "Series([], Name: count, dtype: int64)"
      ]
     },
     "execution_count": 6,
     "metadata": {},
     "output_type": "execute_result"
    }
   ],
   "source": [
    "df1[(df1[\"O3_flag\"] == \"OS\")][\"O3\"].value_counts()"
   ]
  },
  {
   "cell_type": "code",
   "execution_count": 7,
   "metadata": {},
   "outputs": [
    {
     "data": {
      "text/plain": [
       "NO2_flag\n",
       "OK     406048\n",
       "BDL      2616\n",
       "OS        246\n",
       "OR         61\n",
       "Name: count, dtype: int64"
      ]
     },
     "execution_count": 7,
     "metadata": {},
     "output_type": "execute_result"
    }
   ],
   "source": [
    "df1[\"NO2_flag\"].value_counts()"
   ]
  },
  {
   "cell_type": "code",
   "execution_count": 8,
   "metadata": {},
   "outputs": [
    {
     "data": {
      "text/plain": [
       "NO_flag\n",
       "BDL    317708\n",
       "OK      90814\n",
       "OS        246\n",
       "OR        203\n",
       "Name: count, dtype: int64"
      ]
     },
     "execution_count": 8,
     "metadata": {},
     "output_type": "execute_result"
    }
   ],
   "source": [
    "df1[\"NO_flag\"].value_counts()"
   ]
  },
  {
   "cell_type": "code",
   "execution_count": 9,
   "metadata": {},
   "outputs": [
    {
     "data": {
      "text/plain": [
       "CO_flag\n",
       "OK     402781\n",
       "BDL      5981\n",
       "OR        108\n",
       "OS        101\n",
       "Name: count, dtype: int64"
      ]
     },
     "execution_count": 9,
     "metadata": {},
     "output_type": "execute_result"
    }
   ],
   "source": [
    "df1[\"CO_flag\"].value_counts()"
   ]
  },
  {
   "cell_type": "code",
   "execution_count": 10,
   "metadata": {},
   "outputs": [
    {
     "data": {
      "text/plain": [
       "PM10_flag\n",
       "OK     382706\n",
       "BDL     23272\n",
       "OR       2885\n",
       "OS        108\n",
       "Name: count, dtype: int64"
      ]
     },
     "execution_count": 10,
     "metadata": {},
     "output_type": "execute_result"
    }
   ],
   "source": [
    "df1[\"PM10_flag\"].value_counts()"
   ]
  },
  {
   "cell_type": "code",
   "execution_count": 11,
   "metadata": {},
   "outputs": [
    {
     "data": {
      "text/plain": [
       "PM2.5_flag\n",
       "OK     355963\n",
       "BDL     44671\n",
       "OR       8226\n",
       "OS        111\n",
       "Name: count, dtype: int64"
      ]
     },
     "execution_count": 11,
     "metadata": {},
     "output_type": "execute_result"
    }
   ],
   "source": [
    "df1[\"PM2.5_flag\"].value_counts()"
   ]
  },
  {
   "cell_type": "markdown",
   "metadata": {},
   "source": [
    "We are going to eliminate null pollution data for our statistics analysis. So, we can drop those instances that has any flag out of service"
   ]
  },
  {
   "cell_type": "code",
   "execution_count": 12,
   "metadata": {},
   "outputs": [],
   "source": [
    "df2 = df1.drop(df1[(df1[\"O3_flag\"] == \"OS\") | (df1[\"NO2_flag\"] == \"OS\") | (df1[\"NO_flag\"] == \"OS\") | (df1[\"CO_flag\"] == \"OS\") | (df1[\"PM10_flag\"] == \"OS\") | (df1[\"PM2.5_flag\"] == \"OS\")].index, axis=0)"
   ]
  },
  {
   "cell_type": "code",
   "execution_count": 13,
   "metadata": {},
   "outputs": [
    {
     "data": {
      "text/html": [
       "<div>\n",
       "<style scoped>\n",
       "    .dataframe tbody tr th:only-of-type {\n",
       "        vertical-align: middle;\n",
       "    }\n",
       "\n",
       "    .dataframe tbody tr th {\n",
       "        vertical-align: top;\n",
       "    }\n",
       "\n",
       "    .dataframe thead th {\n",
       "        text-align: right;\n",
       "    }\n",
       "</style>\n",
       "<table border=\"1\" class=\"dataframe\">\n",
       "  <thead>\n",
       "    <tr style=\"text-align: right;\">\n",
       "      <th></th>\n",
       "      <th>Time</th>\n",
       "      <th>O3</th>\n",
       "      <th>O3_flag</th>\n",
       "      <th>NO2</th>\n",
       "      <th>NO2_flag</th>\n",
       "      <th>NO</th>\n",
       "      <th>NO_flag</th>\n",
       "      <th>CO</th>\n",
       "      <th>CO_flag</th>\n",
       "      <th>PM10</th>\n",
       "      <th>...</th>\n",
       "      <th>PM2.5_flag</th>\n",
       "      <th>Temp_Avg</th>\n",
       "      <th>RH_Avg</th>\n",
       "      <th>WSpeed_Avg</th>\n",
       "      <th>WSpeed_Max</th>\n",
       "      <th>WDir_Avg</th>\n",
       "      <th>WDir_SD</th>\n",
       "      <th>Rain_Tot</th>\n",
       "      <th>Press_Avg</th>\n",
       "      <th>Rad_Avg</th>\n",
       "    </tr>\n",
       "  </thead>\n",
       "  <tbody>\n",
       "    <tr>\n",
       "      <th>0</th>\n",
       "      <td>2023-05-01 00:00:00</td>\n",
       "      <td>55.48</td>\n",
       "      <td>OK</td>\n",
       "      <td>0.72</td>\n",
       "      <td>OK</td>\n",
       "      <td>0.01</td>\n",
       "      <td>BDL</td>\n",
       "      <td>0.25</td>\n",
       "      <td>OK</td>\n",
       "      <td>25.47</td>\n",
       "      <td>...</td>\n",
       "      <td>OK</td>\n",
       "      <td>19.15</td>\n",
       "      <td>31.64</td>\n",
       "      <td>3.521</td>\n",
       "      <td>4.250</td>\n",
       "      <td>173.6</td>\n",
       "      <td>14.26</td>\n",
       "      <td>0.0</td>\n",
       "      <td>805.409</td>\n",
       "      <td>-1.521</td>\n",
       "    </tr>\n",
       "    <tr>\n",
       "      <th>1</th>\n",
       "      <td>2023-05-01 00:01:00</td>\n",
       "      <td>55.49</td>\n",
       "      <td>OK</td>\n",
       "      <td>0.81</td>\n",
       "      <td>OK</td>\n",
       "      <td>0.08</td>\n",
       "      <td>BDL</td>\n",
       "      <td>0.26</td>\n",
       "      <td>OK</td>\n",
       "      <td>25.74</td>\n",
       "      <td>...</td>\n",
       "      <td>OK</td>\n",
       "      <td>19.11</td>\n",
       "      <td>31.66</td>\n",
       "      <td>3.644</td>\n",
       "      <td>4.372</td>\n",
       "      <td>171.0</td>\n",
       "      <td>10.53</td>\n",
       "      <td>0.0</td>\n",
       "      <td>805.524</td>\n",
       "      <td>-1.521</td>\n",
       "    </tr>\n",
       "    <tr>\n",
       "      <th>2</th>\n",
       "      <td>2023-05-01 00:02:00</td>\n",
       "      <td>55.40</td>\n",
       "      <td>OK</td>\n",
       "      <td>0.93</td>\n",
       "      <td>OK</td>\n",
       "      <td>-0.05</td>\n",
       "      <td>BDL</td>\n",
       "      <td>0.27</td>\n",
       "      <td>OK</td>\n",
       "      <td>26.60</td>\n",
       "      <td>...</td>\n",
       "      <td>OK</td>\n",
       "      <td>19.09</td>\n",
       "      <td>31.70</td>\n",
       "      <td>4.139</td>\n",
       "      <td>5.253</td>\n",
       "      <td>178.6</td>\n",
       "      <td>15.72</td>\n",
       "      <td>0.0</td>\n",
       "      <td>805.436</td>\n",
       "      <td>-2.074</td>\n",
       "    </tr>\n",
       "    <tr>\n",
       "      <th>3</th>\n",
       "      <td>2023-05-01 00:03:00</td>\n",
       "      <td>55.20</td>\n",
       "      <td>OK</td>\n",
       "      <td>0.87</td>\n",
       "      <td>OK</td>\n",
       "      <td>0.03</td>\n",
       "      <td>BDL</td>\n",
       "      <td>0.28</td>\n",
       "      <td>OK</td>\n",
       "      <td>27.59</td>\n",
       "      <td>...</td>\n",
       "      <td>OK</td>\n",
       "      <td>19.10</td>\n",
       "      <td>31.76</td>\n",
       "      <td>3.692</td>\n",
       "      <td>4.925</td>\n",
       "      <td>186.1</td>\n",
       "      <td>17.43</td>\n",
       "      <td>0.0</td>\n",
       "      <td>805.450</td>\n",
       "      <td>-2.397</td>\n",
       "    </tr>\n",
       "    <tr>\n",
       "      <th>4</th>\n",
       "      <td>2023-05-01 00:04:00</td>\n",
       "      <td>55.41</td>\n",
       "      <td>OK</td>\n",
       "      <td>0.98</td>\n",
       "      <td>OK</td>\n",
       "      <td>-0.06</td>\n",
       "      <td>BDL</td>\n",
       "      <td>0.28</td>\n",
       "      <td>OK</td>\n",
       "      <td>27.83</td>\n",
       "      <td>...</td>\n",
       "      <td>OK</td>\n",
       "      <td>19.10</td>\n",
       "      <td>31.76</td>\n",
       "      <td>2.198</td>\n",
       "      <td>4.301</td>\n",
       "      <td>211.5</td>\n",
       "      <td>21.67</td>\n",
       "      <td>0.0</td>\n",
       "      <td>805.504</td>\n",
       "      <td>-1.706</td>\n",
       "    </tr>\n",
       "  </tbody>\n",
       "</table>\n",
       "<p>5 rows × 22 columns</p>\n",
       "</div>"
      ],
      "text/plain": [
       "                  Time     O3 O3_flag   NO2 NO2_flag    NO NO_flag    CO  \\\n",
       "0  2023-05-01 00:00:00  55.48      OK  0.72       OK  0.01     BDL  0.25   \n",
       "1  2023-05-01 00:01:00  55.49      OK  0.81       OK  0.08     BDL  0.26   \n",
       "2  2023-05-01 00:02:00  55.40      OK  0.93       OK -0.05     BDL  0.27   \n",
       "3  2023-05-01 00:03:00  55.20      OK  0.87       OK  0.03     BDL  0.28   \n",
       "4  2023-05-01 00:04:00  55.41      OK  0.98       OK -0.06     BDL  0.28   \n",
       "\n",
       "  CO_flag   PM10  ... PM2.5_flag  Temp_Avg RH_Avg  WSpeed_Avg  WSpeed_Max  \\\n",
       "0      OK  25.47  ...         OK     19.15  31.64       3.521       4.250   \n",
       "1      OK  25.74  ...         OK     19.11  31.66       3.644       4.372   \n",
       "2      OK  26.60  ...         OK     19.09  31.70       4.139       5.253   \n",
       "3      OK  27.59  ...         OK     19.10  31.76       3.692       4.925   \n",
       "4      OK  27.83  ...         OK     19.10  31.76       2.198       4.301   \n",
       "\n",
       "   WDir_Avg  WDir_SD  Rain_Tot  Press_Avg  Rad_Avg  \n",
       "0     173.6    14.26       0.0    805.409   -1.521  \n",
       "1     171.0    10.53       0.0    805.524   -1.521  \n",
       "2     178.6    15.72       0.0    805.436   -2.074  \n",
       "3     186.1    17.43       0.0    805.450   -2.397  \n",
       "4     211.5    21.67       0.0    805.504   -1.706  \n",
       "\n",
       "[5 rows x 22 columns]"
      ]
     },
     "execution_count": 13,
     "metadata": {},
     "output_type": "execute_result"
    }
   ],
   "source": [
    "df2.head()"
   ]
  },
  {
   "cell_type": "code",
   "execution_count": 15,
   "metadata": {},
   "outputs": [
    {
     "name": "stdout",
     "output_type": "stream",
     "text": [
      "<class 'pandas.core.frame.DataFrame'>\n",
      "Index: 403017 entries, 0 to 408970\n",
      "Data columns (total 22 columns):\n",
      " #   Column      Non-Null Count   Dtype  \n",
      "---  ------      --------------   -----  \n",
      " 0   Time        403017 non-null  object \n",
      " 1   O3          403017 non-null  float64\n",
      " 2   O3_flag     403017 non-null  object \n",
      " 3   NO2         403017 non-null  float64\n",
      " 4   NO2_flag    403017 non-null  object \n",
      " 5   NO          403017 non-null  float64\n",
      " 6   NO_flag     403017 non-null  object \n",
      " 7   CO          403017 non-null  float64\n",
      " 8   CO_flag     403017 non-null  object \n",
      " 9   PM10        403017 non-null  float64\n",
      " 10  PM10_flag   403017 non-null  object \n",
      " 11  PM2.5       403017 non-null  float64\n",
      " 12  PM2.5_flag  403017 non-null  object \n",
      " 13  Temp_Avg    403010 non-null  float64\n",
      " 14  RH_Avg      403010 non-null  float64\n",
      " 15  WSpeed_Avg  403010 non-null  float64\n",
      " 16  WSpeed_Max  403010 non-null  float64\n",
      " 17  WDir_Avg    403010 non-null  float64\n",
      " 18  WDir_SD     403010 non-null  float64\n",
      " 19  Rain_Tot    403010 non-null  float64\n",
      " 20  Press_Avg   403010 non-null  float64\n",
      " 21  Rad_Avg     403004 non-null  float64\n",
      "dtypes: float64(15), object(7)\n",
      "memory usage: 70.7+ MB\n"
     ]
    }
   ],
   "source": [
    "df2.info()"
   ]
  },
  {
   "cell_type": "code",
   "execution_count": 16,
   "metadata": {},
   "outputs": [
    {
     "data": {
      "text/plain": [
       "O3_flag\n",
       "OK     401719\n",
       "BDL      1282\n",
       "OR         16\n",
       "Name: count, dtype: int64"
      ]
     },
     "execution_count": 16,
     "metadata": {},
     "output_type": "execute_result"
    }
   ],
   "source": [
    "df2[\"O3_flag\"].value_counts()"
   ]
  },
  {
   "cell_type": "code",
   "execution_count": 17,
   "metadata": {},
   "outputs": [
    {
     "data": {
      "text/plain": [
       "NO2_flag\n",
       "OK     400340\n",
       "BDL      2616\n",
       "OR         61\n",
       "Name: count, dtype: int64"
      ]
     },
     "execution_count": 17,
     "metadata": {},
     "output_type": "execute_result"
    }
   ],
   "source": [
    "df2[\"NO2_flag\"].value_counts()"
   ]
  },
  {
   "cell_type": "code",
   "execution_count": 18,
   "metadata": {},
   "outputs": [
    {
     "data": {
      "text/plain": [
       "NO_flag\n",
       "BDL    313174\n",
       "OK      89640\n",
       "OR        203\n",
       "Name: count, dtype: int64"
      ]
     },
     "execution_count": 18,
     "metadata": {},
     "output_type": "execute_result"
    }
   ],
   "source": [
    "df2[\"NO_flag\"].value_counts()"
   ]
  },
  {
   "cell_type": "code",
   "execution_count": 19,
   "metadata": {},
   "outputs": [
    {
     "data": {
      "text/plain": [
       "CO_flag\n",
       "OK     396928\n",
       "BDL      5981\n",
       "OR        108\n",
       "Name: count, dtype: int64"
      ]
     },
     "execution_count": 19,
     "metadata": {},
     "output_type": "execute_result"
    }
   ],
   "source": [
    "df2[\"CO_flag\"].value_counts()"
   ]
  },
  {
   "cell_type": "code",
   "execution_count": 20,
   "metadata": {},
   "outputs": [
    {
     "data": {
      "text/plain": [
       "PM10_flag\n",
       "OK     376860\n",
       "BDL     23272\n",
       "OR       2885\n",
       "Name: count, dtype: int64"
      ]
     },
     "execution_count": 20,
     "metadata": {},
     "output_type": "execute_result"
    }
   ],
   "source": [
    "df2[\"PM10_flag\"].value_counts()"
   ]
  },
  {
   "cell_type": "code",
   "execution_count": 21,
   "metadata": {},
   "outputs": [
    {
     "data": {
      "text/plain": [
       "PM2.5_flag\n",
       "OK     350157\n",
       "BDL     44634\n",
       "OR       8226\n",
       "Name: count, dtype: int64"
      ]
     },
     "execution_count": 21,
     "metadata": {},
     "output_type": "execute_result"
    }
   ],
   "source": [
    "df2[\"PM2.5_flag\"].value_counts()"
   ]
  },
  {
   "cell_type": "markdown",
   "metadata": {},
   "source": [
    "Checking pollution data behind limit detection and span limit detection"
   ]
  },
  {
   "cell_type": "markdown",
   "metadata": {},
   "source": [
    "| Pollutant | Analytical method | Detection limit | Span limit |\n",
    "| - | - | - | - |\n",
    "| O3 | UV absorption photometry | 0.03 ppb | 500 ppb |\n",
    "| CO | Non-dispersive infrared | 0.04 ppm | 25 ppm |\n",
    "| NO2, NO | Chemiluminescence | 0.4 ppb | 0.3, 0.5 ppm (NO2, NO) |\n",
    "| PM2.5 | Separation by diameter and quantification by beta radiation attenuation | 4 ug/m^3 | 400 ug/m^3 |\n",
    "| PM10 | Separation by diameter and quantification by beta radiation attenuation | 4 ug/m^3 | 400 ug/m^3 |"
   ]
  },
  {
   "cell_type": "markdown",
   "metadata": {},
   "source": [
    "If any data exceeds the span limit, it must be null (as it may be an electronic or calibration outlier).\n",
    "\n",
    "On the other hand, if data falls below the detection limit, we need to verify if it is within the positive and negative range of the detection limit value. If it falls within that range, we will change its value to half of the detection limit. If it falls outside the range, it must be null."
   ]
  },
  {
   "cell_type": "code",
   "execution_count": 39,
   "metadata": {},
   "outputs": [],
   "source": [
    "def O3_processing(data):\n",
    "    if data > 500 or data < -0.03: return np.nan\n",
    "    if data < 0.03 and data >= -0.03: return 0.03/2\n",
    "    return data\n",
    "\n",
    "def CO_processing(data):\n",
    "    if data > 25 or data < -0.04: return np.nan\n",
    "    if data < 0.04 and data >= -0.04: return 0.04/2\n",
    "    return data\n",
    "\n",
    "def NO2_processing(data):\n",
    "    if data > 0.3 or data < -0.4: return np.nan\n",
    "    if data < 0.4 and data >= -0.4: return 0.4/2\n",
    "    return data\n",
    "\n",
    "def NO_processing(data):\n",
    "    if data > 0.5 or data < -0.4: return np.nan\n",
    "    if data < 0.4 and data >= -0.4: return 0.4/2\n",
    "    return data\n",
    "\n",
    "def PM25_processing(data):\n",
    "    if data > 400 or data < -4: return np.nan\n",
    "    if data < 4 and data >= -4: return 4/2\n",
    "    return data\n",
    "\n",
    "def PM10_processing(data):\n",
    "    if data > 400 or data < -4: return np.nan\n",
    "    if data < 4 and data >= -4: return 4/2\n",
    "    return data"
   ]
  },
  {
   "cell_type": "code",
   "execution_count": 40,
   "metadata": {},
   "outputs": [],
   "source": [
    "df3 = df2.iloc[:,:]\n",
    "df3[\"O3\"] = df3[\"O3\"].apply(O3_processing)\n",
    "df3[\"CO\"] = df3[\"CO\"].apply(CO_processing)\n",
    "df3[\"NO2\"] = df3[\"NO2\"].apply(NO2_processing)\n",
    "df3[\"NO\"] = df3[\"NO\"].apply(NO_processing)\n",
    "df3[\"PM2.5\"] = df3[\"PM2.5\"].apply(PM25_processing)\n",
    "df3[\"PM10\"] = df3[\"PM10\"].apply(PM10_processing)"
   ]
  },
  {
   "cell_type": "code",
   "execution_count": 41,
   "metadata": {},
   "outputs": [
    {
     "data": {
      "text/html": [
       "<div>\n",
       "<style scoped>\n",
       "    .dataframe tbody tr th:only-of-type {\n",
       "        vertical-align: middle;\n",
       "    }\n",
       "\n",
       "    .dataframe tbody tr th {\n",
       "        vertical-align: top;\n",
       "    }\n",
       "\n",
       "    .dataframe thead th {\n",
       "        text-align: right;\n",
       "    }\n",
       "</style>\n",
       "<table border=\"1\" class=\"dataframe\">\n",
       "  <thead>\n",
       "    <tr style=\"text-align: right;\">\n",
       "      <th></th>\n",
       "      <th>Time</th>\n",
       "      <th>O3</th>\n",
       "      <th>O3_flag</th>\n",
       "      <th>NO2</th>\n",
       "      <th>NO2_flag</th>\n",
       "      <th>NO</th>\n",
       "      <th>NO_flag</th>\n",
       "      <th>CO</th>\n",
       "      <th>CO_flag</th>\n",
       "      <th>PM10</th>\n",
       "      <th>...</th>\n",
       "      <th>PM2.5_flag</th>\n",
       "      <th>Temp_Avg</th>\n",
       "      <th>RH_Avg</th>\n",
       "      <th>WSpeed_Avg</th>\n",
       "      <th>WSpeed_Max</th>\n",
       "      <th>WDir_Avg</th>\n",
       "      <th>WDir_SD</th>\n",
       "      <th>Rain_Tot</th>\n",
       "      <th>Press_Avg</th>\n",
       "      <th>Rad_Avg</th>\n",
       "    </tr>\n",
       "  </thead>\n",
       "  <tbody>\n",
       "    <tr>\n",
       "      <th>0</th>\n",
       "      <td>2023-05-01 00:00:00</td>\n",
       "      <td>55.48</td>\n",
       "      <td>OK</td>\n",
       "      <td>0.72</td>\n",
       "      <td>OK</td>\n",
       "      <td>0.01</td>\n",
       "      <td>BDL</td>\n",
       "      <td>0.25</td>\n",
       "      <td>OK</td>\n",
       "      <td>25.47</td>\n",
       "      <td>...</td>\n",
       "      <td>OK</td>\n",
       "      <td>19.15</td>\n",
       "      <td>31.64</td>\n",
       "      <td>3.521</td>\n",
       "      <td>4.250</td>\n",
       "      <td>173.6</td>\n",
       "      <td>14.26</td>\n",
       "      <td>0.0</td>\n",
       "      <td>805.409</td>\n",
       "      <td>-1.521</td>\n",
       "    </tr>\n",
       "    <tr>\n",
       "      <th>1</th>\n",
       "      <td>2023-05-01 00:01:00</td>\n",
       "      <td>55.49</td>\n",
       "      <td>OK</td>\n",
       "      <td>0.81</td>\n",
       "      <td>OK</td>\n",
       "      <td>0.08</td>\n",
       "      <td>BDL</td>\n",
       "      <td>0.26</td>\n",
       "      <td>OK</td>\n",
       "      <td>25.74</td>\n",
       "      <td>...</td>\n",
       "      <td>OK</td>\n",
       "      <td>19.11</td>\n",
       "      <td>31.66</td>\n",
       "      <td>3.644</td>\n",
       "      <td>4.372</td>\n",
       "      <td>171.0</td>\n",
       "      <td>10.53</td>\n",
       "      <td>0.0</td>\n",
       "      <td>805.524</td>\n",
       "      <td>-1.521</td>\n",
       "    </tr>\n",
       "    <tr>\n",
       "      <th>2</th>\n",
       "      <td>2023-05-01 00:02:00</td>\n",
       "      <td>55.40</td>\n",
       "      <td>OK</td>\n",
       "      <td>0.93</td>\n",
       "      <td>OK</td>\n",
       "      <td>-0.05</td>\n",
       "      <td>BDL</td>\n",
       "      <td>0.27</td>\n",
       "      <td>OK</td>\n",
       "      <td>26.60</td>\n",
       "      <td>...</td>\n",
       "      <td>OK</td>\n",
       "      <td>19.09</td>\n",
       "      <td>31.70</td>\n",
       "      <td>4.139</td>\n",
       "      <td>5.253</td>\n",
       "      <td>178.6</td>\n",
       "      <td>15.72</td>\n",
       "      <td>0.0</td>\n",
       "      <td>805.436</td>\n",
       "      <td>-2.074</td>\n",
       "    </tr>\n",
       "    <tr>\n",
       "      <th>3</th>\n",
       "      <td>2023-05-01 00:03:00</td>\n",
       "      <td>55.20</td>\n",
       "      <td>OK</td>\n",
       "      <td>0.87</td>\n",
       "      <td>OK</td>\n",
       "      <td>0.03</td>\n",
       "      <td>BDL</td>\n",
       "      <td>0.28</td>\n",
       "      <td>OK</td>\n",
       "      <td>27.59</td>\n",
       "      <td>...</td>\n",
       "      <td>OK</td>\n",
       "      <td>19.10</td>\n",
       "      <td>31.76</td>\n",
       "      <td>3.692</td>\n",
       "      <td>4.925</td>\n",
       "      <td>186.1</td>\n",
       "      <td>17.43</td>\n",
       "      <td>0.0</td>\n",
       "      <td>805.450</td>\n",
       "      <td>-2.397</td>\n",
       "    </tr>\n",
       "    <tr>\n",
       "      <th>4</th>\n",
       "      <td>2023-05-01 00:04:00</td>\n",
       "      <td>55.41</td>\n",
       "      <td>OK</td>\n",
       "      <td>0.98</td>\n",
       "      <td>OK</td>\n",
       "      <td>-0.06</td>\n",
       "      <td>BDL</td>\n",
       "      <td>0.28</td>\n",
       "      <td>OK</td>\n",
       "      <td>27.83</td>\n",
       "      <td>...</td>\n",
       "      <td>OK</td>\n",
       "      <td>19.10</td>\n",
       "      <td>31.76</td>\n",
       "      <td>2.198</td>\n",
       "      <td>4.301</td>\n",
       "      <td>211.5</td>\n",
       "      <td>21.67</td>\n",
       "      <td>0.0</td>\n",
       "      <td>805.504</td>\n",
       "      <td>-1.706</td>\n",
       "    </tr>\n",
       "  </tbody>\n",
       "</table>\n",
       "<p>5 rows × 22 columns</p>\n",
       "</div>"
      ],
      "text/plain": [
       "                  Time     O3 O3_flag   NO2 NO2_flag    NO NO_flag    CO  \\\n",
       "0  2023-05-01 00:00:00  55.48      OK  0.72       OK  0.01     BDL  0.25   \n",
       "1  2023-05-01 00:01:00  55.49      OK  0.81       OK  0.08     BDL  0.26   \n",
       "2  2023-05-01 00:02:00  55.40      OK  0.93       OK -0.05     BDL  0.27   \n",
       "3  2023-05-01 00:03:00  55.20      OK  0.87       OK  0.03     BDL  0.28   \n",
       "4  2023-05-01 00:04:00  55.41      OK  0.98       OK -0.06     BDL  0.28   \n",
       "\n",
       "  CO_flag   PM10  ... PM2.5_flag  Temp_Avg RH_Avg  WSpeed_Avg  WSpeed_Max  \\\n",
       "0      OK  25.47  ...         OK     19.15  31.64       3.521       4.250   \n",
       "1      OK  25.74  ...         OK     19.11  31.66       3.644       4.372   \n",
       "2      OK  26.60  ...         OK     19.09  31.70       4.139       5.253   \n",
       "3      OK  27.59  ...         OK     19.10  31.76       3.692       4.925   \n",
       "4      OK  27.83  ...         OK     19.10  31.76       2.198       4.301   \n",
       "\n",
       "   WDir_Avg  WDir_SD  Rain_Tot  Press_Avg  Rad_Avg  \n",
       "0     173.6    14.26       0.0    805.409   -1.521  \n",
       "1     171.0    10.53       0.0    805.524   -1.521  \n",
       "2     178.6    15.72       0.0    805.436   -2.074  \n",
       "3     186.1    17.43       0.0    805.450   -2.397  \n",
       "4     211.5    21.67       0.0    805.504   -1.706  \n",
       "\n",
       "[5 rows x 22 columns]"
      ]
     },
     "execution_count": 41,
     "metadata": {},
     "output_type": "execute_result"
    }
   ],
   "source": [
    "df2.head()"
   ]
  },
  {
   "cell_type": "code",
   "execution_count": 42,
   "metadata": {},
   "outputs": [
    {
     "data": {
      "text/html": [
       "<div>\n",
       "<style scoped>\n",
       "    .dataframe tbody tr th:only-of-type {\n",
       "        vertical-align: middle;\n",
       "    }\n",
       "\n",
       "    .dataframe tbody tr th {\n",
       "        vertical-align: top;\n",
       "    }\n",
       "\n",
       "    .dataframe thead th {\n",
       "        text-align: right;\n",
       "    }\n",
       "</style>\n",
       "<table border=\"1\" class=\"dataframe\">\n",
       "  <thead>\n",
       "    <tr style=\"text-align: right;\">\n",
       "      <th></th>\n",
       "      <th>Time</th>\n",
       "      <th>O3</th>\n",
       "      <th>O3_flag</th>\n",
       "      <th>NO2</th>\n",
       "      <th>NO2_flag</th>\n",
       "      <th>NO</th>\n",
       "      <th>NO_flag</th>\n",
       "      <th>CO</th>\n",
       "      <th>CO_flag</th>\n",
       "      <th>PM10</th>\n",
       "      <th>...</th>\n",
       "      <th>PM2.5_flag</th>\n",
       "      <th>Temp_Avg</th>\n",
       "      <th>RH_Avg</th>\n",
       "      <th>WSpeed_Avg</th>\n",
       "      <th>WSpeed_Max</th>\n",
       "      <th>WDir_Avg</th>\n",
       "      <th>WDir_SD</th>\n",
       "      <th>Rain_Tot</th>\n",
       "      <th>Press_Avg</th>\n",
       "      <th>Rad_Avg</th>\n",
       "    </tr>\n",
       "  </thead>\n",
       "  <tbody>\n",
       "    <tr>\n",
       "      <th>0</th>\n",
       "      <td>2023-05-01 00:00:00</td>\n",
       "      <td>55.48</td>\n",
       "      <td>OK</td>\n",
       "      <td>NaN</td>\n",
       "      <td>OK</td>\n",
       "      <td>0.2</td>\n",
       "      <td>BDL</td>\n",
       "      <td>0.25</td>\n",
       "      <td>OK</td>\n",
       "      <td>25.47</td>\n",
       "      <td>...</td>\n",
       "      <td>OK</td>\n",
       "      <td>19.15</td>\n",
       "      <td>31.64</td>\n",
       "      <td>3.521</td>\n",
       "      <td>4.250</td>\n",
       "      <td>173.6</td>\n",
       "      <td>14.26</td>\n",
       "      <td>0.0</td>\n",
       "      <td>805.409</td>\n",
       "      <td>-1.521</td>\n",
       "    </tr>\n",
       "    <tr>\n",
       "      <th>1</th>\n",
       "      <td>2023-05-01 00:01:00</td>\n",
       "      <td>55.49</td>\n",
       "      <td>OK</td>\n",
       "      <td>NaN</td>\n",
       "      <td>OK</td>\n",
       "      <td>0.2</td>\n",
       "      <td>BDL</td>\n",
       "      <td>0.26</td>\n",
       "      <td>OK</td>\n",
       "      <td>25.74</td>\n",
       "      <td>...</td>\n",
       "      <td>OK</td>\n",
       "      <td>19.11</td>\n",
       "      <td>31.66</td>\n",
       "      <td>3.644</td>\n",
       "      <td>4.372</td>\n",
       "      <td>171.0</td>\n",
       "      <td>10.53</td>\n",
       "      <td>0.0</td>\n",
       "      <td>805.524</td>\n",
       "      <td>-1.521</td>\n",
       "    </tr>\n",
       "    <tr>\n",
       "      <th>2</th>\n",
       "      <td>2023-05-01 00:02:00</td>\n",
       "      <td>55.40</td>\n",
       "      <td>OK</td>\n",
       "      <td>NaN</td>\n",
       "      <td>OK</td>\n",
       "      <td>0.2</td>\n",
       "      <td>BDL</td>\n",
       "      <td>0.27</td>\n",
       "      <td>OK</td>\n",
       "      <td>26.60</td>\n",
       "      <td>...</td>\n",
       "      <td>OK</td>\n",
       "      <td>19.09</td>\n",
       "      <td>31.70</td>\n",
       "      <td>4.139</td>\n",
       "      <td>5.253</td>\n",
       "      <td>178.6</td>\n",
       "      <td>15.72</td>\n",
       "      <td>0.0</td>\n",
       "      <td>805.436</td>\n",
       "      <td>-2.074</td>\n",
       "    </tr>\n",
       "    <tr>\n",
       "      <th>3</th>\n",
       "      <td>2023-05-01 00:03:00</td>\n",
       "      <td>55.20</td>\n",
       "      <td>OK</td>\n",
       "      <td>NaN</td>\n",
       "      <td>OK</td>\n",
       "      <td>0.2</td>\n",
       "      <td>BDL</td>\n",
       "      <td>0.28</td>\n",
       "      <td>OK</td>\n",
       "      <td>27.59</td>\n",
       "      <td>...</td>\n",
       "      <td>OK</td>\n",
       "      <td>19.10</td>\n",
       "      <td>31.76</td>\n",
       "      <td>3.692</td>\n",
       "      <td>4.925</td>\n",
       "      <td>186.1</td>\n",
       "      <td>17.43</td>\n",
       "      <td>0.0</td>\n",
       "      <td>805.450</td>\n",
       "      <td>-2.397</td>\n",
       "    </tr>\n",
       "    <tr>\n",
       "      <th>4</th>\n",
       "      <td>2023-05-01 00:04:00</td>\n",
       "      <td>55.41</td>\n",
       "      <td>OK</td>\n",
       "      <td>NaN</td>\n",
       "      <td>OK</td>\n",
       "      <td>0.2</td>\n",
       "      <td>BDL</td>\n",
       "      <td>0.28</td>\n",
       "      <td>OK</td>\n",
       "      <td>27.83</td>\n",
       "      <td>...</td>\n",
       "      <td>OK</td>\n",
       "      <td>19.10</td>\n",
       "      <td>31.76</td>\n",
       "      <td>2.198</td>\n",
       "      <td>4.301</td>\n",
       "      <td>211.5</td>\n",
       "      <td>21.67</td>\n",
       "      <td>0.0</td>\n",
       "      <td>805.504</td>\n",
       "      <td>-1.706</td>\n",
       "    </tr>\n",
       "  </tbody>\n",
       "</table>\n",
       "<p>5 rows × 22 columns</p>\n",
       "</div>"
      ],
      "text/plain": [
       "                  Time     O3 O3_flag  NO2 NO2_flag   NO NO_flag    CO  \\\n",
       "0  2023-05-01 00:00:00  55.48      OK  NaN       OK  0.2     BDL  0.25   \n",
       "1  2023-05-01 00:01:00  55.49      OK  NaN       OK  0.2     BDL  0.26   \n",
       "2  2023-05-01 00:02:00  55.40      OK  NaN       OK  0.2     BDL  0.27   \n",
       "3  2023-05-01 00:03:00  55.20      OK  NaN       OK  0.2     BDL  0.28   \n",
       "4  2023-05-01 00:04:00  55.41      OK  NaN       OK  0.2     BDL  0.28   \n",
       "\n",
       "  CO_flag   PM10  ... PM2.5_flag  Temp_Avg RH_Avg  WSpeed_Avg  WSpeed_Max  \\\n",
       "0      OK  25.47  ...         OK     19.15  31.64       3.521       4.250   \n",
       "1      OK  25.74  ...         OK     19.11  31.66       3.644       4.372   \n",
       "2      OK  26.60  ...         OK     19.09  31.70       4.139       5.253   \n",
       "3      OK  27.59  ...         OK     19.10  31.76       3.692       4.925   \n",
       "4      OK  27.83  ...         OK     19.10  31.76       2.198       4.301   \n",
       "\n",
       "   WDir_Avg  WDir_SD  Rain_Tot  Press_Avg  Rad_Avg  \n",
       "0     173.6    14.26       0.0    805.409   -1.521  \n",
       "1     171.0    10.53       0.0    805.524   -1.521  \n",
       "2     178.6    15.72       0.0    805.436   -2.074  \n",
       "3     186.1    17.43       0.0    805.450   -2.397  \n",
       "4     211.5    21.67       0.0    805.504   -1.706  \n",
       "\n",
       "[5 rows x 22 columns]"
      ]
     },
     "execution_count": 42,
     "metadata": {},
     "output_type": "execute_result"
    }
   ],
   "source": [
    "df3.head()"
   ]
  },
  {
   "cell_type": "code",
   "execution_count": 43,
   "metadata": {},
   "outputs": [
    {
     "name": "stdout",
     "output_type": "stream",
     "text": [
      "<class 'pandas.core.frame.DataFrame'>\n",
      "Index: 403017 entries, 0 to 408970\n",
      "Data columns (total 22 columns):\n",
      " #   Column      Non-Null Count   Dtype  \n",
      "---  ------      --------------   -----  \n",
      " 0   Time        403017 non-null  object \n",
      " 1   O3          402971 non-null  float64\n",
      " 2   O3_flag     403017 non-null  object \n",
      " 3   NO2         1769 non-null    float64\n",
      " 4   NO2_flag    403017 non-null  object \n",
      " 5   NO          321337 non-null  float64\n",
      " 6   NO_flag     403017 non-null  object \n",
      " 7   CO          402909 non-null  float64\n",
      " 8   CO_flag     403017 non-null  object \n",
      " 9   PM10        400054 non-null  float64\n",
      " 10  PM10_flag   403017 non-null  object \n",
      " 11  PM2.5       394790 non-null  float64\n",
      " 12  PM2.5_flag  403017 non-null  object \n",
      " 13  Temp_Avg    403010 non-null  float64\n",
      " 14  RH_Avg      403010 non-null  float64\n",
      " 15  WSpeed_Avg  403010 non-null  float64\n",
      " 16  WSpeed_Max  403010 non-null  float64\n",
      " 17  WDir_Avg    403010 non-null  float64\n",
      " 18  WDir_SD     403010 non-null  float64\n",
      " 19  Rain_Tot    403010 non-null  float64\n",
      " 20  Press_Avg   403010 non-null  float64\n",
      " 21  Rad_Avg     403004 non-null  float64\n",
      "dtypes: float64(15), object(7)\n",
      "memory usage: 70.7+ MB\n"
     ]
    }
   ],
   "source": [
    "df3.info()"
   ]
  },
  {
   "cell_type": "code",
   "execution_count": 32,
   "metadata": {},
   "outputs": [
    {
     "data": {
      "text/html": [
       "<div>\n",
       "<style scoped>\n",
       "    .dataframe tbody tr th:only-of-type {\n",
       "        vertical-align: middle;\n",
       "    }\n",
       "\n",
       "    .dataframe tbody tr th {\n",
       "        vertical-align: top;\n",
       "    }\n",
       "\n",
       "    .dataframe thead th {\n",
       "        text-align: right;\n",
       "    }\n",
       "</style>\n",
       "<table border=\"1\" class=\"dataframe\">\n",
       "  <thead>\n",
       "    <tr style=\"text-align: right;\">\n",
       "      <th></th>\n",
       "      <th>Time</th>\n",
       "      <th>O3</th>\n",
       "      <th>O3_flag</th>\n",
       "      <th>NO2</th>\n",
       "      <th>NO2_flag</th>\n",
       "      <th>NO</th>\n",
       "      <th>NO_flag</th>\n",
       "      <th>CO</th>\n",
       "      <th>CO_flag</th>\n",
       "      <th>PM10</th>\n",
       "      <th>...</th>\n",
       "      <th>PM2.5_flag</th>\n",
       "      <th>Temp_Avg</th>\n",
       "      <th>RH_Avg</th>\n",
       "      <th>WSpeed_Avg</th>\n",
       "      <th>WSpeed_Max</th>\n",
       "      <th>WDir_Avg</th>\n",
       "      <th>WDir_SD</th>\n",
       "      <th>Rain_Tot</th>\n",
       "      <th>Press_Avg</th>\n",
       "      <th>Rad_Avg</th>\n",
       "    </tr>\n",
       "  </thead>\n",
       "  <tbody>\n",
       "    <tr>\n",
       "      <th>974</th>\n",
       "      <td>2023-05-01 16:14:00</td>\n",
       "      <td>47.64</td>\n",
       "      <td>OK</td>\n",
       "      <td>0.2</td>\n",
       "      <td>BDL</td>\n",
       "      <td>0.2</td>\n",
       "      <td>BDL</td>\n",
       "      <td>0.15</td>\n",
       "      <td>OK</td>\n",
       "      <td>30.31</td>\n",
       "      <td>...</td>\n",
       "      <td>OK</td>\n",
       "      <td>26.30</td>\n",
       "      <td>15.42</td>\n",
       "      <td>3.791</td>\n",
       "      <td>4.905</td>\n",
       "      <td>225.6</td>\n",
       "      <td>18.010</td>\n",
       "      <td>0.0</td>\n",
       "      <td>802.478</td>\n",
       "      <td>698.600</td>\n",
       "    </tr>\n",
       "    <tr>\n",
       "      <th>979</th>\n",
       "      <td>2023-05-01 16:19:00</td>\n",
       "      <td>47.10</td>\n",
       "      <td>OK</td>\n",
       "      <td>0.2</td>\n",
       "      <td>BDL</td>\n",
       "      <td>0.2</td>\n",
       "      <td>BDL</td>\n",
       "      <td>0.16</td>\n",
       "      <td>OK</td>\n",
       "      <td>29.62</td>\n",
       "      <td>...</td>\n",
       "      <td>OK</td>\n",
       "      <td>26.84</td>\n",
       "      <td>15.51</td>\n",
       "      <td>3.166</td>\n",
       "      <td>3.912</td>\n",
       "      <td>170.5</td>\n",
       "      <td>25.520</td>\n",
       "      <td>0.0</td>\n",
       "      <td>802.363</td>\n",
       "      <td>667.100</td>\n",
       "    </tr>\n",
       "    <tr>\n",
       "      <th>1035</th>\n",
       "      <td>2023-05-01 17:15:00</td>\n",
       "      <td>46.65</td>\n",
       "      <td>OK</td>\n",
       "      <td>0.2</td>\n",
       "      <td>BDL</td>\n",
       "      <td>0.2</td>\n",
       "      <td>BDL</td>\n",
       "      <td>0.16</td>\n",
       "      <td>OK</td>\n",
       "      <td>22.21</td>\n",
       "      <td>...</td>\n",
       "      <td>OK</td>\n",
       "      <td>26.22</td>\n",
       "      <td>16.51</td>\n",
       "      <td>6.852</td>\n",
       "      <td>7.875</td>\n",
       "      <td>164.8</td>\n",
       "      <td>13.360</td>\n",
       "      <td>0.0</td>\n",
       "      <td>802.227</td>\n",
       "      <td>424.500</td>\n",
       "    </tr>\n",
       "    <tr>\n",
       "      <th>1037</th>\n",
       "      <td>2023-05-01 17:17:00</td>\n",
       "      <td>47.98</td>\n",
       "      <td>OK</td>\n",
       "      <td>0.2</td>\n",
       "      <td>BDL</td>\n",
       "      <td>0.2</td>\n",
       "      <td>BDL</td>\n",
       "      <td>0.14</td>\n",
       "      <td>OK</td>\n",
       "      <td>22.79</td>\n",
       "      <td>...</td>\n",
       "      <td>OK</td>\n",
       "      <td>25.84</td>\n",
       "      <td>16.71</td>\n",
       "      <td>6.166</td>\n",
       "      <td>8.310</td>\n",
       "      <td>164.1</td>\n",
       "      <td>9.160</td>\n",
       "      <td>0.0</td>\n",
       "      <td>802.356</td>\n",
       "      <td>415.800</td>\n",
       "    </tr>\n",
       "    <tr>\n",
       "      <th>1042</th>\n",
       "      <td>2023-05-01 17:22:00</td>\n",
       "      <td>46.85</td>\n",
       "      <td>OK</td>\n",
       "      <td>0.2</td>\n",
       "      <td>BDL</td>\n",
       "      <td>0.2</td>\n",
       "      <td>BDL</td>\n",
       "      <td>0.15</td>\n",
       "      <td>OK</td>\n",
       "      <td>23.76</td>\n",
       "      <td>...</td>\n",
       "      <td>OK</td>\n",
       "      <td>26.11</td>\n",
       "      <td>16.48</td>\n",
       "      <td>7.456</td>\n",
       "      <td>7.885</td>\n",
       "      <td>165.3</td>\n",
       "      <td>7.617</td>\n",
       "      <td>0.0</td>\n",
       "      <td>802.410</td>\n",
       "      <td>393.700</td>\n",
       "    </tr>\n",
       "    <tr>\n",
       "      <th>...</th>\n",
       "      <td>...</td>\n",
       "      <td>...</td>\n",
       "      <td>...</td>\n",
       "      <td>...</td>\n",
       "      <td>...</td>\n",
       "      <td>...</td>\n",
       "      <td>...</td>\n",
       "      <td>...</td>\n",
       "      <td>...</td>\n",
       "      <td>...</td>\n",
       "      <td>...</td>\n",
       "      <td>...</td>\n",
       "      <td>...</td>\n",
       "      <td>...</td>\n",
       "      <td>...</td>\n",
       "      <td>...</td>\n",
       "      <td>...</td>\n",
       "      <td>...</td>\n",
       "      <td>...</td>\n",
       "      <td>...</td>\n",
       "      <td>...</td>\n",
       "    </tr>\n",
       "    <tr>\n",
       "      <th>408490</th>\n",
       "      <td>2024-03-13 20:00:00</td>\n",
       "      <td>42.68</td>\n",
       "      <td>OK</td>\n",
       "      <td>0.2</td>\n",
       "      <td>BDL</td>\n",
       "      <td>0.2</td>\n",
       "      <td>BDL</td>\n",
       "      <td>0.23</td>\n",
       "      <td>OK</td>\n",
       "      <td>27.82</td>\n",
       "      <td>...</td>\n",
       "      <td>OK</td>\n",
       "      <td>21.39</td>\n",
       "      <td>39.85</td>\n",
       "      <td>2.427</td>\n",
       "      <td>3.082</td>\n",
       "      <td>204.4</td>\n",
       "      <td>17.610</td>\n",
       "      <td>0.0</td>\n",
       "      <td>803.841</td>\n",
       "      <td>-1.613</td>\n",
       "    </tr>\n",
       "    <tr>\n",
       "      <th>408492</th>\n",
       "      <td>2024-03-13 20:02:00</td>\n",
       "      <td>43.22</td>\n",
       "      <td>OK</td>\n",
       "      <td>0.2</td>\n",
       "      <td>BDL</td>\n",
       "      <td>0.2</td>\n",
       "      <td>BDL</td>\n",
       "      <td>0.22</td>\n",
       "      <td>OK</td>\n",
       "      <td>29.48</td>\n",
       "      <td>...</td>\n",
       "      <td>OK</td>\n",
       "      <td>21.17</td>\n",
       "      <td>40.06</td>\n",
       "      <td>0.341</td>\n",
       "      <td>1.075</td>\n",
       "      <td>222.2</td>\n",
       "      <td>15.150</td>\n",
       "      <td>0.0</td>\n",
       "      <td>803.795</td>\n",
       "      <td>-1.060</td>\n",
       "    </tr>\n",
       "    <tr>\n",
       "      <th>408493</th>\n",
       "      <td>2024-03-13 20:03:00</td>\n",
       "      <td>43.14</td>\n",
       "      <td>OK</td>\n",
       "      <td>0.2</td>\n",
       "      <td>BDL</td>\n",
       "      <td>0.2</td>\n",
       "      <td>BDL</td>\n",
       "      <td>0.23</td>\n",
       "      <td>OK</td>\n",
       "      <td>29.55</td>\n",
       "      <td>...</td>\n",
       "      <td>OK</td>\n",
       "      <td>21.11</td>\n",
       "      <td>40.09</td>\n",
       "      <td>0.913</td>\n",
       "      <td>1.188</td>\n",
       "      <td>235.4</td>\n",
       "      <td>23.390</td>\n",
       "      <td>0.0</td>\n",
       "      <td>803.871</td>\n",
       "      <td>-1.014</td>\n",
       "    </tr>\n",
       "    <tr>\n",
       "      <th>408547</th>\n",
       "      <td>2024-03-13 20:57:00</td>\n",
       "      <td>42.90</td>\n",
       "      <td>OK</td>\n",
       "      <td>0.2</td>\n",
       "      <td>BDL</td>\n",
       "      <td>0.2</td>\n",
       "      <td>BDL</td>\n",
       "      <td>0.24</td>\n",
       "      <td>OK</td>\n",
       "      <td>30.25</td>\n",
       "      <td>...</td>\n",
       "      <td>OK</td>\n",
       "      <td>20.73</td>\n",
       "      <td>41.47</td>\n",
       "      <td>2.889</td>\n",
       "      <td>3.727</td>\n",
       "      <td>171.1</td>\n",
       "      <td>14.980</td>\n",
       "      <td>0.0</td>\n",
       "      <td>804.368</td>\n",
       "      <td>-1.890</td>\n",
       "    </tr>\n",
       "    <tr>\n",
       "      <th>408548</th>\n",
       "      <td>2024-03-13 20:58:00</td>\n",
       "      <td>43.16</td>\n",
       "      <td>OK</td>\n",
       "      <td>0.2</td>\n",
       "      <td>BDL</td>\n",
       "      <td>0.2</td>\n",
       "      <td>BDL</td>\n",
       "      <td>0.23</td>\n",
       "      <td>OK</td>\n",
       "      <td>31.30</td>\n",
       "      <td>...</td>\n",
       "      <td>OK</td>\n",
       "      <td>20.65</td>\n",
       "      <td>41.43</td>\n",
       "      <td>1.760</td>\n",
       "      <td>2.345</td>\n",
       "      <td>165.2</td>\n",
       "      <td>12.720</td>\n",
       "      <td>0.0</td>\n",
       "      <td>804.457</td>\n",
       "      <td>-1.798</td>\n",
       "    </tr>\n",
       "  </tbody>\n",
       "</table>\n",
       "<p>1769 rows × 22 columns</p>\n",
       "</div>"
      ],
      "text/plain": [
       "                       Time     O3 O3_flag  NO2 NO2_flag   NO NO_flag    CO  \\\n",
       "974     2023-05-01 16:14:00  47.64      OK  0.2      BDL  0.2     BDL  0.15   \n",
       "979     2023-05-01 16:19:00  47.10      OK  0.2      BDL  0.2     BDL  0.16   \n",
       "1035    2023-05-01 17:15:00  46.65      OK  0.2      BDL  0.2     BDL  0.16   \n",
       "1037    2023-05-01 17:17:00  47.98      OK  0.2      BDL  0.2     BDL  0.14   \n",
       "1042    2023-05-01 17:22:00  46.85      OK  0.2      BDL  0.2     BDL  0.15   \n",
       "...                     ...    ...     ...  ...      ...  ...     ...   ...   \n",
       "408490  2024-03-13 20:00:00  42.68      OK  0.2      BDL  0.2     BDL  0.23   \n",
       "408492  2024-03-13 20:02:00  43.22      OK  0.2      BDL  0.2     BDL  0.22   \n",
       "408493  2024-03-13 20:03:00  43.14      OK  0.2      BDL  0.2     BDL  0.23   \n",
       "408547  2024-03-13 20:57:00  42.90      OK  0.2      BDL  0.2     BDL  0.24   \n",
       "408548  2024-03-13 20:58:00  43.16      OK  0.2      BDL  0.2     BDL  0.23   \n",
       "\n",
       "       CO_flag   PM10  ... PM2.5_flag  Temp_Avg RH_Avg  WSpeed_Avg  \\\n",
       "974         OK  30.31  ...         OK     26.30  15.42       3.791   \n",
       "979         OK  29.62  ...         OK     26.84  15.51       3.166   \n",
       "1035        OK  22.21  ...         OK     26.22  16.51       6.852   \n",
       "1037        OK  22.79  ...         OK     25.84  16.71       6.166   \n",
       "1042        OK  23.76  ...         OK     26.11  16.48       7.456   \n",
       "...        ...    ...  ...        ...       ...    ...         ...   \n",
       "408490      OK  27.82  ...         OK     21.39  39.85       2.427   \n",
       "408492      OK  29.48  ...         OK     21.17  40.06       0.341   \n",
       "408493      OK  29.55  ...         OK     21.11  40.09       0.913   \n",
       "408547      OK  30.25  ...         OK     20.73  41.47       2.889   \n",
       "408548      OK  31.30  ...         OK     20.65  41.43       1.760   \n",
       "\n",
       "        WSpeed_Max  WDir_Avg  WDir_SD  Rain_Tot  Press_Avg  Rad_Avg  \n",
       "974          4.905     225.6   18.010       0.0    802.478  698.600  \n",
       "979          3.912     170.5   25.520       0.0    802.363  667.100  \n",
       "1035         7.875     164.8   13.360       0.0    802.227  424.500  \n",
       "1037         8.310     164.1    9.160       0.0    802.356  415.800  \n",
       "1042         7.885     165.3    7.617       0.0    802.410  393.700  \n",
       "...            ...       ...      ...       ...        ...      ...  \n",
       "408490       3.082     204.4   17.610       0.0    803.841   -1.613  \n",
       "408492       1.075     222.2   15.150       0.0    803.795   -1.060  \n",
       "408493       1.188     235.4   23.390       0.0    803.871   -1.014  \n",
       "408547       3.727     171.1   14.980       0.0    804.368   -1.890  \n",
       "408548       2.345     165.2   12.720       0.0    804.457   -1.798  \n",
       "\n",
       "[1769 rows x 22 columns]"
      ]
     },
     "execution_count": 32,
     "metadata": {},
     "output_type": "execute_result"
    }
   ],
   "source": [
    "df3[~(df3[\"NO2\"].isnull())]"
   ]
  },
  {
   "cell_type": "markdown",
   "metadata": {},
   "source": [
    "Checking meteorological variables"
   ]
  },
  {
   "cell_type": "code",
   "execution_count": 56,
   "metadata": {},
   "outputs": [
    {
     "data": {
      "text/plain": [
       "count    403010.000000\n",
       "mean         18.023412\n",
       "std           5.174202\n",
       "min           2.966000\n",
       "25%          14.650000\n",
       "50%          17.730000\n",
       "75%          21.710000\n",
       "max          33.570000\n",
       "Name: Temp_Avg, dtype: float64"
      ]
     },
     "execution_count": 56,
     "metadata": {},
     "output_type": "execute_result"
    }
   ],
   "source": [
    "df3[\"Temp_Avg\"].describe()"
   ]
  },
  {
   "cell_type": "code",
   "execution_count": 57,
   "metadata": {},
   "outputs": [
    {
     "data": {
      "text/plain": [
       "count    403010.000000\n",
       "mean         63.074023\n",
       "std          22.334623\n",
       "min           7.406000\n",
       "25%          46.170000\n",
       "50%          64.680000\n",
       "75%          82.300000\n",
       "max          99.900000\n",
       "Name: RH_Avg, dtype: float64"
      ]
     },
     "execution_count": 57,
     "metadata": {},
     "output_type": "execute_result"
    }
   ],
   "source": [
    "df3[\"RH_Avg\"].describe()"
   ]
  },
  {
   "cell_type": "code",
   "execution_count": 68,
   "metadata": {},
   "outputs": [
    {
     "data": {
      "text/plain": [
       "count    403010.000000\n",
       "mean          1.516865\n",
       "std           1.492161\n",
       "min           0.000000\n",
       "25%           0.145000\n",
       "50%           1.172000\n",
       "75%           2.386000\n",
       "max          17.150000\n",
       "Name: WSpeed_Avg, dtype: float64"
      ]
     },
     "execution_count": 68,
     "metadata": {},
     "output_type": "execute_result"
    }
   ],
   "source": [
    "df3[\"WSpeed_Avg\"].describe()"
   ]
  },
  {
   "cell_type": "code",
   "execution_count": 69,
   "metadata": {},
   "outputs": [
    {
     "data": {
      "text/plain": [
       "count    403010.000000\n",
       "mean          1.994164\n",
       "std           1.885134\n",
       "min           0.000000\n",
       "25%           0.410000\n",
       "50%           1.556000\n",
       "75%           3.072000\n",
       "max          18.780000\n",
       "Name: WSpeed_Max, dtype: float64"
      ]
     },
     "execution_count": 69,
     "metadata": {},
     "output_type": "execute_result"
    }
   ],
   "source": [
    "df3[\"WSpeed_Max\"].describe()"
   ]
  },
  {
   "cell_type": "code",
   "execution_count": 70,
   "metadata": {},
   "outputs": [
    {
     "data": {
      "text/plain": [
       "count    403010.000000\n",
       "mean        142.570308\n",
       "std         107.842669\n",
       "min           0.000000\n",
       "25%          40.160000\n",
       "50%         143.900000\n",
       "75%         225.700000\n",
       "max         360.000000\n",
       "Name: WDir_Avg, dtype: float64"
      ]
     },
     "execution_count": 70,
     "metadata": {},
     "output_type": "execute_result"
    }
   ],
   "source": [
    "df3[\"WDir_Avg\"].describe()"
   ]
  },
  {
   "cell_type": "code",
   "execution_count": 71,
   "metadata": {},
   "outputs": [
    {
     "data": {
      "text/plain": [
       "count    403010.000000\n",
       "mean          9.343657\n",
       "std          10.090872\n",
       "min           0.000000\n",
       "25%           0.076000\n",
       "50%           7.467000\n",
       "75%          14.010000\n",
       "max         102.700000\n",
       "Name: WDir_SD, dtype: float64"
      ]
     },
     "execution_count": 71,
     "metadata": {},
     "output_type": "execute_result"
    }
   ],
   "source": [
    "df3[\"WDir_SD\"].describe()"
   ]
  },
  {
   "cell_type": "code",
   "execution_count": 72,
   "metadata": {},
   "outputs": [
    {
     "data": {
      "text/plain": [
       "count    403010.000000\n",
       "mean          0.001136\n",
       "std           0.020003\n",
       "min           0.000000\n",
       "25%           0.000000\n",
       "50%           0.000000\n",
       "75%           0.000000\n",
       "max           1.800000\n",
       "Name: Rain_Tot, dtype: float64"
      ]
     },
     "execution_count": 72,
     "metadata": {},
     "output_type": "execute_result"
    }
   ],
   "source": [
    "df3[\"Rain_Tot\"].describe()"
   ]
  },
  {
   "cell_type": "code",
   "execution_count": 76,
   "metadata": {},
   "outputs": [
    {
     "data": {
      "text/plain": [
       "count    403010.000000\n",
       "mean        805.890962\n",
       "std           1.843219\n",
       "min         797.895000\n",
       "25%         804.696000\n",
       "50%         805.931000\n",
       "75%         807.145000\n",
       "max         812.652000\n",
       "Name: Press_Avg, dtype: float64"
      ]
     },
     "execution_count": 76,
     "metadata": {},
     "output_type": "execute_result"
    }
   ],
   "source": [
    "df3[\"Press_Avg\"].describe()"
   ]
  },
  {
   "cell_type": "code",
   "execution_count": 77,
   "metadata": {},
   "outputs": [
    {
     "data": {
      "text/plain": [
       "count    403004.000000\n",
       "mean        241.493380\n",
       "std         350.539892\n",
       "min         -16.090000\n",
       "25%          -1.198000\n",
       "50%           3.365000\n",
       "75%         422.200000\n",
       "max        1439.000000\n",
       "Name: Rad_Avg, dtype: float64"
      ]
     },
     "execution_count": 77,
     "metadata": {},
     "output_type": "execute_result"
    }
   ],
   "source": [
    "df3[\"Rad_Avg\"].describe()"
   ]
  },
  {
   "cell_type": "markdown",
   "metadata": {},
   "source": [
    "It seems like the only variable that must be cleaned is Rad_Avg\n",
    "\n",
    "**Radiation (Rad_Avg)**\n",
    "\n",
    "A simple filter is used for the Rad_Avg column: values greater than 0.001 are left in the column,\n",
    "and the rest are replaced by null."
   ]
  },
  {
   "cell_type": "code",
   "execution_count": 78,
   "metadata": {},
   "outputs": [],
   "source": [
    "def rad_processing(data):\n",
    "    if data < 0.001: return np.nan\n",
    "    return data"
   ]
  },
  {
   "cell_type": "code",
   "execution_count": 79,
   "metadata": {},
   "outputs": [],
   "source": [
    "df4 = df3.iloc[:,:]\n",
    "df4[\"Rad_Avg\"] = df4[\"Rad_Avg\"].apply(rad_processing)"
   ]
  },
  {
   "cell_type": "code",
   "execution_count": 80,
   "metadata": {},
   "outputs": [
    {
     "data": {
      "text/plain": [
       "count    211218.000000\n",
       "mean        461.952268\n",
       "std         363.761674\n",
       "min           0.046000\n",
       "25%         124.700000\n",
       "50%         390.300000\n",
       "75%         790.800000\n",
       "max        1439.000000\n",
       "Name: Rad_Avg, dtype: float64"
      ]
     },
     "execution_count": 80,
     "metadata": {},
     "output_type": "execute_result"
    }
   ],
   "source": [
    "df4[\"Rad_Avg\"].describe()"
   ]
  },
  {
   "cell_type": "code",
   "execution_count": 81,
   "metadata": {},
   "outputs": [
    {
     "name": "stdout",
     "output_type": "stream",
     "text": [
      "<class 'pandas.core.frame.DataFrame'>\n",
      "Index: 403017 entries, 0 to 408970\n",
      "Data columns (total 22 columns):\n",
      " #   Column      Non-Null Count   Dtype  \n",
      "---  ------      --------------   -----  \n",
      " 0   Time        403017 non-null  object \n",
      " 1   O3          402971 non-null  float64\n",
      " 2   O3_flag     403017 non-null  object \n",
      " 3   NO2         1769 non-null    float64\n",
      " 4   NO2_flag    403017 non-null  object \n",
      " 5   NO          321337 non-null  float64\n",
      " 6   NO_flag     403017 non-null  object \n",
      " 7   CO          402909 non-null  float64\n",
      " 8   CO_flag     403017 non-null  object \n",
      " 9   PM10        400054 non-null  float64\n",
      " 10  PM10_flag   403017 non-null  object \n",
      " 11  PM2.5       394790 non-null  float64\n",
      " 12  PM2.5_flag  403017 non-null  object \n",
      " 13  Temp_Avg    403010 non-null  float64\n",
      " 14  RH_Avg      403010 non-null  float64\n",
      " 15  WSpeed_Avg  403010 non-null  float64\n",
      " 16  WSpeed_Max  403010 non-null  float64\n",
      " 17  WDir_Avg    403010 non-null  float64\n",
      " 18  WDir_SD     403010 non-null  float64\n",
      " 19  Rain_Tot    403010 non-null  float64\n",
      " 20  Press_Avg   403010 non-null  float64\n",
      " 21  Rad_Avg     211218 non-null  float64\n",
      "dtypes: float64(15), object(7)\n",
      "memory usage: 78.8+ MB\n"
     ]
    }
   ],
   "source": [
    "df4.info()"
   ]
  },
  {
   "cell_type": "code",
   "execution_count": 82,
   "metadata": {},
   "outputs": [],
   "source": [
    "df4.to_csv(\"Atmospheric Data Cleaned.csv\")"
   ]
  }
 ],
 "metadata": {
  "kernelspec": {
   "display_name": "Python 3",
   "language": "python",
   "name": "python3"
  },
  "language_info": {
   "codemirror_mode": {
    "name": "ipython",
    "version": 3
   },
   "file_extension": ".py",
   "mimetype": "text/x-python",
   "name": "python",
   "nbconvert_exporter": "python",
   "pygments_lexer": "ipython3",
   "version": "3.12.2"
  }
 },
 "nbformat": 4,
 "nbformat_minor": 2
}
