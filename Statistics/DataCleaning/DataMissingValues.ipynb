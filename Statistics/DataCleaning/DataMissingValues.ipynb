{
 "cells": [
  {
   "cell_type": "markdown",
   "metadata": {},
   "source": [
    "At this point, if we want to analyze the performance of the sensors on the atmospheric observations we can use the Data Cleaned datasets. The reason is simple: we want to preserve the null data. Specially, if we want to analyze the moments when the sensors fail. It is important to remember that the measurements where the sensors where out of service were dropped from the datasets.\n",
    "\n",
    "How ever, for our statistical analyses we need to deal with all the null data. So in this notebook we are going to approach this problem."
   ]
  },
  {
   "cell_type": "code",
   "execution_count": 1,
   "metadata": {},
   "outputs": [],
   "source": [
    "import pandas as pd\n",
    "import numpy as np\n",
    "import matplotlib.pyplot as plt\n",
    "import seaborn as sns"
   ]
  },
  {
   "cell_type": "code",
   "execution_count": 2,
   "metadata": {},
   "outputs": [],
   "source": [
    "df1 = pd.read_csv(\"Atmospheric Data Cleaned - Time Format.csv\")"
   ]
  },
  {
   "cell_type": "code",
   "execution_count": 3,
   "metadata": {},
   "outputs": [
    {
     "data": {
      "text/html": [
       "<div>\n",
       "<style scoped>\n",
       "    .dataframe tbody tr th:only-of-type {\n",
       "        vertical-align: middle;\n",
       "    }\n",
       "\n",
       "    .dataframe tbody tr th {\n",
       "        vertical-align: top;\n",
       "    }\n",
       "\n",
       "    .dataframe thead th {\n",
       "        text-align: right;\n",
       "    }\n",
       "</style>\n",
       "<table border=\"1\" class=\"dataframe\">\n",
       "  <thead>\n",
       "    <tr style=\"text-align: right;\">\n",
       "      <th></th>\n",
       "      <th>O3</th>\n",
       "      <th>O3_flag</th>\n",
       "      <th>NO2</th>\n",
       "      <th>NO2_flag</th>\n",
       "      <th>NO</th>\n",
       "      <th>NO_flag</th>\n",
       "      <th>CO</th>\n",
       "      <th>CO_flag</th>\n",
       "      <th>PM10</th>\n",
       "      <th>PM10_flag</th>\n",
       "      <th>...</th>\n",
       "      <th>WDir_Avg</th>\n",
       "      <th>WDir_SD</th>\n",
       "      <th>Rain_Tot</th>\n",
       "      <th>Press_Avg</th>\n",
       "      <th>Rad_Avg</th>\n",
       "      <th>Year</th>\n",
       "      <th>Month</th>\n",
       "      <th>Day</th>\n",
       "      <th>Hour</th>\n",
       "      <th>Minute</th>\n",
       "    </tr>\n",
       "  </thead>\n",
       "  <tbody>\n",
       "    <tr>\n",
       "      <th>0</th>\n",
       "      <td>55.48</td>\n",
       "      <td>OK</td>\n",
       "      <td>0.72</td>\n",
       "      <td>OK</td>\n",
       "      <td>0.2</td>\n",
       "      <td>BDL</td>\n",
       "      <td>0.25</td>\n",
       "      <td>OK</td>\n",
       "      <td>25.47</td>\n",
       "      <td>OK</td>\n",
       "      <td>...</td>\n",
       "      <td>173.6</td>\n",
       "      <td>14.26</td>\n",
       "      <td>0.0</td>\n",
       "      <td>805.409</td>\n",
       "      <td>NaN</td>\n",
       "      <td>2023</td>\n",
       "      <td>5</td>\n",
       "      <td>1</td>\n",
       "      <td>0</td>\n",
       "      <td>0</td>\n",
       "    </tr>\n",
       "    <tr>\n",
       "      <th>1</th>\n",
       "      <td>55.49</td>\n",
       "      <td>OK</td>\n",
       "      <td>0.81</td>\n",
       "      <td>OK</td>\n",
       "      <td>0.2</td>\n",
       "      <td>BDL</td>\n",
       "      <td>0.26</td>\n",
       "      <td>OK</td>\n",
       "      <td>25.74</td>\n",
       "      <td>OK</td>\n",
       "      <td>...</td>\n",
       "      <td>171.0</td>\n",
       "      <td>10.53</td>\n",
       "      <td>0.0</td>\n",
       "      <td>805.524</td>\n",
       "      <td>NaN</td>\n",
       "      <td>2023</td>\n",
       "      <td>5</td>\n",
       "      <td>1</td>\n",
       "      <td>0</td>\n",
       "      <td>1</td>\n",
       "    </tr>\n",
       "    <tr>\n",
       "      <th>2</th>\n",
       "      <td>55.40</td>\n",
       "      <td>OK</td>\n",
       "      <td>0.93</td>\n",
       "      <td>OK</td>\n",
       "      <td>0.2</td>\n",
       "      <td>BDL</td>\n",
       "      <td>0.27</td>\n",
       "      <td>OK</td>\n",
       "      <td>26.60</td>\n",
       "      <td>OK</td>\n",
       "      <td>...</td>\n",
       "      <td>178.6</td>\n",
       "      <td>15.72</td>\n",
       "      <td>0.0</td>\n",
       "      <td>805.436</td>\n",
       "      <td>NaN</td>\n",
       "      <td>2023</td>\n",
       "      <td>5</td>\n",
       "      <td>1</td>\n",
       "      <td>0</td>\n",
       "      <td>2</td>\n",
       "    </tr>\n",
       "    <tr>\n",
       "      <th>3</th>\n",
       "      <td>55.20</td>\n",
       "      <td>OK</td>\n",
       "      <td>0.87</td>\n",
       "      <td>OK</td>\n",
       "      <td>0.2</td>\n",
       "      <td>BDL</td>\n",
       "      <td>0.28</td>\n",
       "      <td>OK</td>\n",
       "      <td>27.59</td>\n",
       "      <td>OK</td>\n",
       "      <td>...</td>\n",
       "      <td>186.1</td>\n",
       "      <td>17.43</td>\n",
       "      <td>0.0</td>\n",
       "      <td>805.450</td>\n",
       "      <td>NaN</td>\n",
       "      <td>2023</td>\n",
       "      <td>5</td>\n",
       "      <td>1</td>\n",
       "      <td>0</td>\n",
       "      <td>3</td>\n",
       "    </tr>\n",
       "    <tr>\n",
       "      <th>4</th>\n",
       "      <td>55.41</td>\n",
       "      <td>OK</td>\n",
       "      <td>0.98</td>\n",
       "      <td>OK</td>\n",
       "      <td>0.2</td>\n",
       "      <td>BDL</td>\n",
       "      <td>0.28</td>\n",
       "      <td>OK</td>\n",
       "      <td>27.83</td>\n",
       "      <td>OK</td>\n",
       "      <td>...</td>\n",
       "      <td>211.5</td>\n",
       "      <td>21.67</td>\n",
       "      <td>0.0</td>\n",
       "      <td>805.504</td>\n",
       "      <td>NaN</td>\n",
       "      <td>2023</td>\n",
       "      <td>5</td>\n",
       "      <td>1</td>\n",
       "      <td>0</td>\n",
       "      <td>4</td>\n",
       "    </tr>\n",
       "  </tbody>\n",
       "</table>\n",
       "<p>5 rows × 26 columns</p>\n",
       "</div>"
      ],
      "text/plain": [
       "      O3 O3_flag   NO2 NO2_flag   NO NO_flag    CO CO_flag   PM10 PM10_flag  \\\n",
       "0  55.48      OK  0.72       OK  0.2     BDL  0.25      OK  25.47        OK   \n",
       "1  55.49      OK  0.81       OK  0.2     BDL  0.26      OK  25.74        OK   \n",
       "2  55.40      OK  0.93       OK  0.2     BDL  0.27      OK  26.60        OK   \n",
       "3  55.20      OK  0.87       OK  0.2     BDL  0.28      OK  27.59        OK   \n",
       "4  55.41      OK  0.98       OK  0.2     BDL  0.28      OK  27.83        OK   \n",
       "\n",
       "   ...  WDir_Avg WDir_SD  Rain_Tot  Press_Avg  Rad_Avg  Year  Month  Day  \\\n",
       "0  ...     173.6   14.26       0.0    805.409      NaN  2023      5    1   \n",
       "1  ...     171.0   10.53       0.0    805.524      NaN  2023      5    1   \n",
       "2  ...     178.6   15.72       0.0    805.436      NaN  2023      5    1   \n",
       "3  ...     186.1   17.43       0.0    805.450      NaN  2023      5    1   \n",
       "4  ...     211.5   21.67       0.0    805.504      NaN  2023      5    1   \n",
       "\n",
       "   Hour  Minute  \n",
       "0     0       0  \n",
       "1     0       1  \n",
       "2     0       2  \n",
       "3     0       3  \n",
       "4     0       4  \n",
       "\n",
       "[5 rows x 26 columns]"
      ]
     },
     "execution_count": 3,
     "metadata": {},
     "output_type": "execute_result"
    }
   ],
   "source": [
    "df1.head()"
   ]
  },
  {
   "cell_type": "code",
   "execution_count": 4,
   "metadata": {},
   "outputs": [
    {
     "name": "stdout",
     "output_type": "stream",
     "text": [
      "<class 'pandas.core.frame.DataFrame'>\n",
      "RangeIndex: 443518 entries, 0 to 443517\n",
      "Data columns (total 26 columns):\n",
      " #   Column      Non-Null Count   Dtype  \n",
      "---  ------      --------------   -----  \n",
      " 0   O3          443461 non-null  float64\n",
      " 1   O3_flag     443518 non-null  object \n",
      " 2   NO2         443211 non-null  float64\n",
      " 3   NO2_flag    443518 non-null  object \n",
      " 4   NO          443315 non-null  float64\n",
      " 5   NO_flag     443518 non-null  object \n",
      " 6   CO          443410 non-null  float64\n",
      " 7   CO_flag     443518 non-null  object \n",
      " 8   PM10        440555 non-null  float64\n",
      " 9   PM10_flag   443518 non-null  object \n",
      " 10  PM2.5       435279 non-null  float64\n",
      " 11  PM2.5_flag  443518 non-null  object \n",
      " 12  Temp_Avg    443508 non-null  float64\n",
      " 13  RH_Avg      443508 non-null  float64\n",
      " 14  WSpeed_Avg  443508 non-null  float64\n",
      " 15  WSpeed_Max  443508 non-null  float64\n",
      " 16  WDir_Avg    443508 non-null  float64\n",
      " 17  WDir_SD     443508 non-null  float64\n",
      " 18  Rain_Tot    443508 non-null  float64\n",
      " 19  Press_Avg   443508 non-null  float64\n",
      " 20  Rad_Avg     232948 non-null  float64\n",
      " 21  Year        443518 non-null  int64  \n",
      " 22  Month       443518 non-null  int64  \n",
      " 23  Day         443518 non-null  int64  \n",
      " 24  Hour        443518 non-null  int64  \n",
      " 25  Minute      443518 non-null  int64  \n",
      "dtypes: float64(15), int64(5), object(6)\n",
      "memory usage: 88.0+ MB\n"
     ]
    }
   ],
   "source": [
    "df1.info()"
   ]
  },
  {
   "cell_type": "markdown",
   "metadata": {},
   "source": [
    "As we can see, only the time and flag columns have no null data. The other columns (15) has missing values. Therefore, I will drop those instances which have 8 or more values missing."
   ]
  },
  {
   "cell_type": "code",
   "execution_count": 5,
   "metadata": {},
   "outputs": [],
   "source": [
    "df1.dropna(axis=0, thresh=18, inplace=True)"
   ]
  },
  {
   "cell_type": "code",
   "execution_count": 6,
   "metadata": {},
   "outputs": [
    {
     "name": "stdout",
     "output_type": "stream",
     "text": [
      "<class 'pandas.core.frame.DataFrame'>\n",
      "Index: 443508 entries, 0 to 443517\n",
      "Data columns (total 26 columns):\n",
      " #   Column      Non-Null Count   Dtype  \n",
      "---  ------      --------------   -----  \n",
      " 0   O3          443451 non-null  float64\n",
      " 1   O3_flag     443508 non-null  object \n",
      " 2   NO2         443201 non-null  float64\n",
      " 3   NO2_flag    443508 non-null  object \n",
      " 4   NO          443305 non-null  float64\n",
      " 5   NO_flag     443508 non-null  object \n",
      " 6   CO          443400 non-null  float64\n",
      " 7   CO_flag     443508 non-null  object \n",
      " 8   PM10        440545 non-null  float64\n",
      " 9   PM10_flag   443508 non-null  object \n",
      " 10  PM2.5       435269 non-null  float64\n",
      " 11  PM2.5_flag  443508 non-null  object \n",
      " 12  Temp_Avg    443508 non-null  float64\n",
      " 13  RH_Avg      443508 non-null  float64\n",
      " 14  WSpeed_Avg  443508 non-null  float64\n",
      " 15  WSpeed_Max  443508 non-null  float64\n",
      " 16  WDir_Avg    443508 non-null  float64\n",
      " 17  WDir_SD     443508 non-null  float64\n",
      " 18  Rain_Tot    443508 non-null  float64\n",
      " 19  Press_Avg   443508 non-null  float64\n",
      " 20  Rad_Avg     232948 non-null  float64\n",
      " 21  Year        443508 non-null  int64  \n",
      " 22  Month       443508 non-null  int64  \n",
      " 23  Day         443508 non-null  int64  \n",
      " 24  Hour        443508 non-null  int64  \n",
      " 25  Minute      443508 non-null  int64  \n",
      "dtypes: float64(15), int64(5), object(6)\n",
      "memory usage: 91.4+ MB\n"
     ]
    }
   ],
   "source": [
    "df1.info()"
   ]
  },
  {
   "cell_type": "markdown",
   "metadata": {},
   "source": [
    "Moving forward, it is important to note that the radiation average variable has too many missing values. Specifically, the number of not missing values is 232948. So, the percentaje of not missing values is:"
   ]
  },
  {
   "cell_type": "code",
   "execution_count": 8,
   "metadata": {},
   "outputs": [
    {
     "data": {
      "text/plain": [
       "52.52"
      ]
     },
     "execution_count": 8,
     "metadata": {},
     "output_type": "execute_result"
    }
   ],
   "source": [
    "round(232948*100/443508, 2)"
   ]
  },
  {
   "cell_type": "markdown",
   "metadata": {},
   "source": [
    "In any other case, I would drop this column. However, it is one of the most important columns for our analysis. So, the solution that I suggest is the following:\n",
    "- Filling the missing values of this column will not be representative. In fact, if we do this all the analysis with this variable will not be useful.\n",
    "- So, in the moment that we will use this variable, we will take in consideration only the not missing instances of this variable."
   ]
  },
  {
   "cell_type": "markdown",
   "metadata": {},
   "source": [
    "Now, we only have to deal with some instances with null data on the air condition variables. The meteorological variables (except for rad_avg) don't have missing values due to the drop politic at the beginning of this notebook.\n",
    "\n",
    "Then, we will fill the missing values of these columns with their median values. The reason is quite simple: the median does not change their distribution (which is very important for our analysis)"
   ]
  },
  {
   "cell_type": "code",
   "execution_count": 9,
   "metadata": {},
   "outputs": [],
   "source": [
    "columns = [\"O3\", \"NO2\", \"NO\", \"CO\", \"PM10\", \"PM2.5\"]"
   ]
  },
  {
   "cell_type": "code",
   "execution_count": 10,
   "metadata": {},
   "outputs": [],
   "source": [
    "for c in columns: df1[c] = df1[c].fillna(df1[c].median())"
   ]
  },
  {
   "cell_type": "code",
   "execution_count": 11,
   "metadata": {},
   "outputs": [
    {
     "name": "stdout",
     "output_type": "stream",
     "text": [
      "<class 'pandas.core.frame.DataFrame'>\n",
      "Index: 443508 entries, 0 to 443517\n",
      "Data columns (total 26 columns):\n",
      " #   Column      Non-Null Count   Dtype  \n",
      "---  ------      --------------   -----  \n",
      " 0   O3          443508 non-null  float64\n",
      " 1   O3_flag     443508 non-null  object \n",
      " 2   NO2         443508 non-null  float64\n",
      " 3   NO2_flag    443508 non-null  object \n",
      " 4   NO          443508 non-null  float64\n",
      " 5   NO_flag     443508 non-null  object \n",
      " 6   CO          443508 non-null  float64\n",
      " 7   CO_flag     443508 non-null  object \n",
      " 8   PM10        443508 non-null  float64\n",
      " 9   PM10_flag   443508 non-null  object \n",
      " 10  PM2.5       443508 non-null  float64\n",
      " 11  PM2.5_flag  443508 non-null  object \n",
      " 12  Temp_Avg    443508 non-null  float64\n",
      " 13  RH_Avg      443508 non-null  float64\n",
      " 14  WSpeed_Avg  443508 non-null  float64\n",
      " 15  WSpeed_Max  443508 non-null  float64\n",
      " 16  WDir_Avg    443508 non-null  float64\n",
      " 17  WDir_SD     443508 non-null  float64\n",
      " 18  Rain_Tot    443508 non-null  float64\n",
      " 19  Press_Avg   443508 non-null  float64\n",
      " 20  Rad_Avg     232948 non-null  float64\n",
      " 21  Year        443508 non-null  int64  \n",
      " 22  Month       443508 non-null  int64  \n",
      " 23  Day         443508 non-null  int64  \n",
      " 24  Hour        443508 non-null  int64  \n",
      " 25  Minute      443508 non-null  int64  \n",
      "dtypes: float64(15), int64(5), object(6)\n",
      "memory usage: 91.4+ MB\n"
     ]
    }
   ],
   "source": [
    "df1.info()"
   ]
  },
  {
   "cell_type": "markdown",
   "metadata": {},
   "source": [
    "Once this is done we can begin with the descriptive statistics."
   ]
  },
  {
   "cell_type": "code",
   "execution_count": 12,
   "metadata": {},
   "outputs": [],
   "source": [
    "df1.to_csv(\"Atmospheric Data With No Missing Values.csv\", index=False)"
   ]
  }
 ],
 "metadata": {
  "kernelspec": {
   "display_name": "Python 3",
   "language": "python",
   "name": "python3"
  },
  "language_info": {
   "codemirror_mode": {
    "name": "ipython",
    "version": 3
   },
   "file_extension": ".py",
   "mimetype": "text/x-python",
   "name": "python",
   "nbconvert_exporter": "python",
   "pygments_lexer": "ipython3",
   "version": "3.12.1"
  }
 },
 "nbformat": 4,
 "nbformat_minor": 2
}
