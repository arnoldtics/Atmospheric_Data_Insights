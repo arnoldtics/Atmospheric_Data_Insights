{
 "cells": [
  {
   "cell_type": "markdown",
   "metadata": {},
   "source": [
    "# 2.2 Calculate the mean for each sample and answer the following two questions: \n",
    "- Is the mean of the means close to the mean of all the data in that variable? \n",
    "- Would you say that the distribution of the means has an approximately normal distribution?"
   ]
  },
  {
   "cell_type": "code",
   "execution_count": 1,
   "metadata": {},
   "outputs": [],
   "source": [
    "import pandas as pd\n",
    "import numpy as np\n",
    "import matplotlib.pyplot as plt\n",
    "import seaborn as sns"
   ]
  },
  {
   "cell_type": "code",
   "execution_count": 2,
   "metadata": {},
   "outputs": [],
   "source": [
    "PATH = \"../../../DataCleaning/\""
   ]
  },
  {
   "cell_type": "code",
   "execution_count": 3,
   "metadata": {},
   "outputs": [],
   "source": [
    "poblacional = pd.read_csv(PATH + \"Atmospheric Data With No Missing Values.csv\")"
   ]
  },
  {
   "cell_type": "code",
   "execution_count": 4,
   "metadata": {},
   "outputs": [],
   "source": [
    "PATH = \"../2.1 Sampling/\""
   ]
  },
  {
   "cell_type": "code",
   "execution_count": 5,
   "metadata": {},
   "outputs": [],
   "source": [
    "everydaySamples10_1 = pd.read_csv(PATH + \"EverydaySamples10_1.csv\")\n",
    "everydaySamples10_2 = pd.read_csv(PATH + \"EverydaySamples10_2.csv\")\n",
    "everydaySamples10_3 = pd.read_csv(PATH + \"EverydaySamples10_3.csv\")\n",
    "everydaySamples100_1 = pd.read_csv(PATH + \"EverydaySamples100_1.csv\")\n",
    "everydaySamples100_2 = pd.read_csv(PATH + \"EverydaySamples100_2.csv\")\n",
    "everydaySamples100_3 = pd.read_csv(PATH + \"EverydaySamples100_3.csv\")\n",
    "everydaySamples1000_1 = pd.read_csv(PATH + \"EverydaySamples1000_1.csv\")\n",
    "everydaySamples1000_2 = pd.read_csv(PATH + \"EverydaySamples1000_2.csv\")\n",
    "everydaySamples1000_3 = pd.read_csv(PATH + \"EverydaySamples1000_3.csv\")\n",
    "everydaySamples10000_1 = pd.read_csv(PATH + \"EverydaySamples10000_1.zip\")\n",
    "everydaySamples10000_2 = pd.read_csv(PATH + \"EverydaySamples10000_2.zip\")\n",
    "everydaySamples10000_3 = pd.read_csv(PATH + \"EverydaySamples10000_3.zip\")\n",
    "raining1 = pd.read_csv(PATH + \"RainingSamples1.csv\")\n",
    "raining2 = pd.read_csv(PATH + \"RainingSamples2.csv\")\n",
    "raining3 = pd.read_csv(PATH + \"RainingSamples3.csv\")\n",
    "random10_1 = pd.read_csv(PATH + \"RandomSample10_1.csv\")\n",
    "random10_2 = pd.read_csv(PATH + \"RandomSample10_2.csv\")\n",
    "random10_3 = pd.read_csv(PATH + \"RandomSample10_3.csv\")\n",
    "random100_1 = pd.read_csv(PATH + \"RandomSample100_1.csv\")\n",
    "random100_2 = pd.read_csv(PATH + \"RandomSample100_2.csv\")\n",
    "random100_3 = pd.read_csv(PATH + \"RandomSample100_3.csv\")\n",
    "random1000_1 = pd.read_csv(PATH + \"RandomSample1000_1.csv\")\n",
    "random1000_2 = pd.read_csv(PATH + \"RandomSample1000_2.csv\")\n",
    "random1000_3 = pd.read_csv(PATH + \"RandomSample1000_3.csv\")\n",
    "random10000_1 = pd.read_csv(PATH + \"RandomSample10000_1.csv\")\n",
    "random10000_2 = pd.read_csv(PATH + \"RandomSample10000_2.csv\")\n",
    "random10000_3 = pd.read_csv(PATH + \"RandomSample10000_3.csv\")\n",
    "random100000_1 = pd.read_csv(PATH + \"RandomSample100000_1.csv\")\n",
    "random100000_2 = pd.read_csv(PATH + \"RandomSample100000_2.csv\")\n",
    "random100000_3 = pd.read_csv(PATH + \"RandomSample100000_3.csv\")"
   ]
  },
  {
   "cell_type": "code",
   "execution_count": 8,
   "metadata": {},
   "outputs": [],
   "source": [
    "variables = [\"O3\", \"NO2\", \"NO\", \"CO\", \"PM10\", \"PM2.5\", \"Temp_Avg\", \"RH_Avg\", \"WSpeed_Avg\", \"WDir_Avg\", \"Rain_Tot\", \"Press_Avg\", \"Rad_Avg\"]"
   ]
  },
  {
   "cell_type": "code",
   "execution_count": 34,
   "metadata": {},
   "outputs": [
    {
     "data": {
      "text/plain": [
       "[34.1781475982395,\n",
       " 4.826200361662021,\n",
       " 0.8407245190616629,\n",
       " 0.3305503395654644,\n",
       " 24.375818632358374,\n",
       " 17.433051218918262,\n",
       " 18.340548549293363,\n",
       " 60.65806376435147,\n",
       " 1.5642836724478482,\n",
       " 144.94631321870182,\n",
       " 0.0010338032233916862,\n",
       " 805.8385776107762,\n",
       " 471.9045388241155]"
      ]
     },
     "execution_count": 34,
     "metadata": {},
     "output_type": "execute_result"
    }
   ],
   "source": [
    "meanPoblacional = list(poblacional[variables].mean())\n",
    "meanPoblacional"
   ]
  },
  {
   "cell_type": "code",
   "execution_count": 12,
   "metadata": {},
   "outputs": [],
   "source": [
    "files = [everydaySamples10_1, everydaySamples10_2, everydaySamples10_3,\n",
    "         everydaySamples100_1, everydaySamples100_2, everydaySamples100_3,\n",
    "         everydaySamples1000_1, everydaySamples1000_2, everydaySamples1000_3,\n",
    "         everydaySamples10000_1, everydaySamples10000_2, everydaySamples10000_3,\n",
    "         raining1, raining2, raining3,\n",
    "         random10_1, random10_2, random10_3,\n",
    "         random100_1, random100_2, random100_3,\n",
    "         random1000_1, random1000_2, random1000_3,\n",
    "         random10000_1, random10000_2, random10000_3,\n",
    "         random100000_1, random100000_2, random100000_3]"
   ]
  },
  {
   "cell_type": "code",
   "execution_count": 32,
   "metadata": {},
   "outputs": [
    {
     "data": {
      "text/plain": [
       "[array([3.39537238e+01, 4.80486667e+00, 8.49726984e-01, 3.32063492e-01,\n",
       "        2.45471111e+01, 1.72856762e+01, 1.83393546e+01, 6.07711397e+01,\n",
       "        1.56010889e+00, 1.44480937e+02, 1.14285714e-03, 8.05820350e+02,\n",
       "        4.48513915e+02]),\n",
       " array([3.34905238e+01, 4.86587302e+00, 8.57663492e-01, 3.30314286e-01,\n",
       "        2.46139206e+01, 1.76784095e+01, 1.81932432e+01, 6.11134413e+01,\n",
       "        1.53279587e+00, 1.40993514e+02, 1.14285714e-03, 8.05847392e+02,\n",
       "        4.72046647e+02]),\n",
       " array([3.39534952e+01, 4.77093651e+00, 8.15638095e-01, 3.30892063e-01,\n",
       "        2.47825143e+01, 1.77189651e+01, 1.82973829e+01, 6.09234540e+01,\n",
       "        1.55049937e+00, 1.44021276e+02, 9.20634921e-04, 8.05823052e+02,\n",
       "        4.61262895e+02]),\n",
       " array([3.41067587e+01, 4.85249175e+00, 8.47248571e-01, 3.31204762e-01,\n",
       "        2.45807641e+01, 1.75700178e+01, 1.82920996e+01, 6.08127485e+01,\n",
       "        1.54361114e+00, 1.44779621e+02, 9.49206349e-04, 8.05826730e+02,\n",
       "        4.72439537e+02]),\n",
       " array([3.40513783e+01, 4.84526222e+00, 8.58506667e-01, 3.32050794e-01,\n",
       "        2.43996029e+01, 1.75279232e+01, 1.82812736e+01, 6.07824912e+01,\n",
       "        1.54715546e+00, 1.44904699e+02, 1.15238095e-03, 8.05833509e+02,\n",
       "        4.71657635e+02]),\n",
       " array([3.40471510e+01, 4.82144190e+00, 8.13047619e-01, 3.31710794e-01,\n",
       "        2.45198603e+01, 1.75117711e+01, 1.82559830e+01, 6.09675319e+01,\n",
       "        1.54685613e+00, 1.45136202e+02, 1.00634921e-03, 8.05842822e+02,\n",
       "        4.71512429e+02]),\n",
       " array([3.40246309e+01, 4.84047825e+00, 8.43281524e-01, 3.31101556e-01,\n",
       "        2.45301686e+01, 1.75853861e+01, 1.82899347e+01, 6.08133089e+01,\n",
       "        1.54737667e+00, 1.44562404e+02, 1.02349206e-03, 8.05828524e+02,\n",
       "        4.70201134e+02]),\n",
       " array([3.40662998e+01, 4.83565975e+00, 8.36440698e-01, 3.31102667e-01,\n",
       "        2.45436870e+01, 1.75882888e+01, 1.82972867e+01, 6.07869985e+01,\n",
       "        1.55005939e+00, 1.44546973e+02, 1.00095238e-03, 8.05827044e+02,\n",
       "        4.70931349e+02]),\n",
       " array([3.40504044e+01, 4.83476022e+00, 8.37350254e-01, 3.31057556e-01,\n",
       "        2.45467974e+01, 1.75825497e+01, 1.82958812e+01, 6.07892041e+01,\n",
       "        1.54941415e+00, 1.44549584e+02, 1.03904762e-03, 8.05827223e+02,\n",
       "        4.70698780e+02]),\n",
       " array([3.40457047e+01, 4.83904357e+00, 8.37518673e-01, 3.31149502e-01,\n",
       "        2.45364507e+01, 1.75785332e+01, 1.82964244e+01, 6.07975776e+01,\n",
       "        1.54857646e+00, 1.44543643e+02, 9.96380952e-04, 8.05828298e+02,\n",
       "        4.70899522e+02]),\n",
       " array([3.40457923e+01, 4.83619301e+00, 8.40007590e-01, 3.31101438e-01,\n",
       "        2.45223880e+01, 1.75792831e+01, 1.82945596e+01, 6.08010429e+01,\n",
       "        1.54871868e+00, 1.44602017e+02, 1.00533333e-03, 8.05827666e+02,\n",
       "        4.70272301e+02]),\n",
       " array([3.40556799e+01, 4.83699085e+00, 8.37691749e-01, 3.30965238e-01,\n",
       "        2.45265776e+01, 1.75787291e+01, 1.82942416e+01, 6.07950899e+01,\n",
       "        1.54821131e+00, 1.44617631e+02, 1.00926984e-03, 8.05828580e+02,\n",
       "        4.71060858e+02]),\n",
       " array([3.28933700e+01, 3.58526000e+00, 3.05610000e-01, 2.65180000e-01,\n",
       "        1.75561700e+01, 1.49017500e+01, 1.60269000e+01, 8.70309500e+01,\n",
       "        2.37619200e+00, 1.62528878e+02, 1.75400000e-01, 8.06438254e+02,\n",
       "        5.06653636e+01]),\n",
       " array([3.25298500e+01, 3.62706000e+00, 2.83700000e-01, 2.65860000e-01,\n",
       "        1.76461400e+01, 1.50949900e+01, 1.60207000e+01, 8.76932900e+01,\n",
       "        2.25386300e+00, 1.61694141e+02, 1.70200000e-01, 8.06454634e+02,\n",
       "        4.66020101e+01]),\n",
       " array([3.20882700e+01, 3.44823000e+00, 2.84600000e-01, 2.63250000e-01,\n",
       "        1.72708500e+01, 1.45392700e+01, 1.59231000e+01, 8.77708600e+01,\n",
       "        2.20702700e+00, 1.57276032e+02, 1.68300000e-01, 8.06463644e+02,\n",
       "        5.35678330e+01]),\n",
       " array([2.599800e+01, 5.328000e+00, 6.700000e-01, 3.100000e-01,\n",
       "        2.422100e+01, 1.423900e+01, 1.739500e+01, 7.429900e+01,\n",
       "        1.560500e+00, 1.366490e+02, 0.000000e+00, 8.056693e+02,\n",
       "        4.825000e+02]),\n",
       " array([2.599800e+01, 5.328000e+00, 6.700000e-01, 3.100000e-01,\n",
       "        2.422100e+01, 1.423900e+01, 1.739500e+01, 7.429900e+01,\n",
       "        1.560500e+00, 1.366490e+02, 0.000000e+00, 8.056693e+02,\n",
       "        4.825000e+02]),\n",
       " array([2.599800e+01, 5.328000e+00, 6.700000e-01, 3.100000e-01,\n",
       "        2.422100e+01, 1.423900e+01, 1.739500e+01, 7.429900e+01,\n",
       "        1.560500e+00, 1.366490e+02, 0.000000e+00, 8.056693e+02,\n",
       "        4.825000e+02]),\n",
       " array([3.53700000e+01, 4.57360000e+00, 5.82900000e-01, 3.46100000e-01,\n",
       "        2.55310000e+01, 1.87927000e+01, 1.84410400e+01, 5.84459000e+01,\n",
       "        1.55510000e+00, 1.44092000e+02, 0.00000000e+00, 8.05801420e+02,\n",
       "        5.47024891e+02]),\n",
       " array([3.62641000e+01, 3.66950000e+00, 3.76100000e-01, 2.91400000e-01,\n",
       "        2.15899000e+01, 1.58511000e+01, 1.87071300e+01, 5.90411000e+01,\n",
       "        1.67033000e+00, 1.49381470e+02, 3.00000000e-03, 8.05615500e+02,\n",
       "        4.93680385e+02]),\n",
       " array([3.59725000e+01, 4.28120000e+00, 5.09100000e-01, 3.35600000e-01,\n",
       "        2.51907000e+01, 1.73805000e+01, 1.95244300e+01, 5.70807000e+01,\n",
       "        1.77904000e+00, 1.64417160e+02, 0.00000000e+00, 8.05646310e+02,\n",
       "        4.57455308e+02]),\n",
       " array([3.46092400e+01, 4.47679000e+00, 7.37610000e-01, 3.24500000e-01,\n",
       "        2.45083900e+01, 1.72993800e+01, 1.84660270e+01, 6.01771100e+01,\n",
       "        1.57029800e+00, 1.43169689e+02, 6.00000000e-04, 8.05827553e+02,\n",
       "        4.52822227e+02]),\n",
       " array([3.49523400e+01, 4.95463000e+00, 9.62500000e-01, 3.31220000e-01,\n",
       "        2.50869100e+01, 1.79149000e+01, 1.86539160e+01, 5.90869900e+01,\n",
       "        1.60004700e+00, 1.45110927e+02, 1.60000000e-03, 8.05842648e+02,\n",
       "        4.91609839e+02]),\n",
       " array([3.39225600e+01, 4.94748000e+00, 9.01310000e-01, 3.35840000e-01,\n",
       "        2.39772600e+01, 1.72865400e+01, 1.81962090e+01, 6.03830420e+01,\n",
       "        1.53658400e+00, 1.46099537e+02, 5.00000000e-04, 8.05813579e+02,\n",
       "        4.77605381e+02]),\n",
       " array([3.40625960e+01, 4.81982200e+00, 8.49898000e-01, 3.30769000e-01,\n",
       "        2.43959740e+01, 1.75322050e+01, 1.83326073e+01, 6.07910482e+01,\n",
       "        1.56469930e+00, 1.46090958e+02, 9.60000000e-04, 8.05844458e+02,\n",
       "        4.82999945e+02]),\n",
       " array([3.42508650e+01, 4.80249900e+00, 8.21818000e-01, 3.30949000e-01,\n",
       "        2.44912620e+01, 1.75668110e+01, 1.83313653e+01, 6.08028664e+01,\n",
       "        1.55684050e+00, 1.44395266e+02, 1.23000000e-03, 8.05851379e+02,\n",
       "        4.72474413e+02]),\n",
       " array([3.41117240e+01, 4.77400300e+00, 8.35223000e-01, 3.28580000e-01,\n",
       "        2.42736150e+01, 1.73092350e+01, 1.83473589e+01, 6.09225736e+01,\n",
       "        1.59921460e+00, 1.46147823e+02, 1.03000000e-03, 8.05838056e+02,\n",
       "        4.71447211e+02]),\n",
       " array([3.41332901e+01, 4.83293320e+00, 8.34107700e-01, 3.30337000e-01,\n",
       "        2.43622708e+01, 1.74254811e+01, 1.83254297e+01, 6.07990847e+01,\n",
       "        1.56033015e+00, 1.45097381e+02, 1.09000000e-03, 8.05840638e+02,\n",
       "        4.71558093e+02]),\n",
       " array([3.41231977e+01, 4.82200440e+00, 8.43084800e-01, 3.30385000e-01,\n",
       "        2.43604627e+01, 1.73829943e+01, 1.83350591e+01, 6.06951043e+01,\n",
       "        1.55992925e+00, 1.44668803e+02, 9.57000000e-04, 8.05838403e+02,\n",
       "        4.72452188e+02]),\n",
       " array([3.41607552e+01, 4.84284830e+00, 8.51706300e-01, 3.30939300e-01,\n",
       "        2.43518284e+01, 1.74127411e+01, 1.83400688e+01, 6.06906813e+01,\n",
       "        1.56349438e+00, 1.45048253e+02, 9.90000000e-04, 8.05839021e+02,\n",
       "        4.70757958e+02])]"
      ]
     },
     "execution_count": 32,
     "metadata": {},
     "output_type": "execute_result"
    }
   ],
   "source": [
    "means = [np.array(f[variables].mean()) for f in files]\n",
    "means"
   ]
  },
  {
   "cell_type": "code",
   "execution_count": 33,
   "metadata": {},
   "outputs": [
    {
     "data": {
      "text/plain": [
       "[33.906531759829065,\n",
       " 4.736096747008547,\n",
       " 0.7984409167277167,\n",
       " 0.32614570354090355,\n",
       " 24.01584712405372,\n",
       " 17.36056022051282,\n",
       " 18.1118896204884,\n",
       " 62.86038294168499,\n",
       " 1.6115058093040295,\n",
       " 145.71287533421247,\n",
       " 0.014445289377289379,\n",
       " 805.8768804247619,\n",
       " 436.32018189528674]"
      ]
     },
     "execution_count": 33,
     "metadata": {},
     "output_type": "execute_result"
    }
   ],
   "source": [
    "meanOfMeans = [np.array([means[0][i], means[1][i], means[2][i], means[3][i], means[4][i], means[5][i], means[6][i], means[7][i], means[8][i], means[9][i], means[10][i], means[11][i], means[12][i]]) for i in range(13)]\n",
    "meanOfMeans = [m.mean() for m in meanOfMeans]\n",
    "meanOfMeans"
   ]
  },
  {
   "cell_type": "markdown",
   "metadata": {},
   "source": [
    "## Is the mean of the means close to the mean of all the data in that variable?"
   ]
  },
  {
   "cell_type": "code",
   "execution_count": 35,
   "metadata": {},
   "outputs": [
    {
     "name": "stdout",
     "output_type": "stream",
     "text": [
      "Difference O3: 0.27161583841043324\n",
      "Difference NO2: 0.09010361465347394\n",
      "Difference NO: 0.042283602333946235\n",
      "Difference CO: 0.004404636024560871\n",
      "Difference PM10: 0.3599715083046533\n",
      "Difference PM2.5: 0.07249099840544204\n",
      "Difference Temp_Avg: 0.2286589288049612\n",
      "Difference RH_Avg: 2.2023191773335213\n",
      "Difference WSpeed_Avg: 0.047222136856181374\n",
      "Difference WDir_Avg: 0.7665621155106521\n",
      "Difference Rain_Tot: 0.013411486153897692\n",
      "Difference Press_Avg: 0.03830281398575153\n",
      "Difference Rad_Avg: 35.584356928828754\n"
     ]
    }
   ],
   "source": [
    "for i in range(13):\n",
    "    print(f\"Difference {variables[i]}: {abs(meanPoblacional[i] - meanOfMeans[i])}\")"
   ]
  },
  {
   "cell_type": "markdown",
   "metadata": {},
   "source": [
    "As we can see, most of the variables have very similar values. Only in Rad_Avg is there a significant difference between the means of the samples and the population mean.\n",
    "\n",
    "These results are a product of the central limit theorem."
   ]
  },
  {
   "cell_type": "markdown",
   "metadata": {},
   "source": [
    "## Would you say that the distribution of the means has an approximately normal distribution?"
   ]
  },
  {
   "cell_type": "markdown",
   "metadata": {},
   "source": [
    "Based on the central limit theorem, we can say that yes (depending on the number of sample means), the distribution of the means is approximately normal.\n",
    "\n",
    "We can verify this by conducting normality tests (Shapiro-Wilk) in an R script."
   ]
  }
 ],
 "metadata": {
  "kernelspec": {
   "display_name": "Python 3",
   "language": "python",
   "name": "python3"
  },
  "language_info": {
   "codemirror_mode": {
    "name": "ipython",
    "version": 3
   },
   "file_extension": ".py",
   "mimetype": "text/x-python",
   "name": "python",
   "nbconvert_exporter": "python",
   "pygments_lexer": "ipython3",
   "version": "3.12.2"
  }
 },
 "nbformat": 4,
 "nbformat_minor": 2
}
