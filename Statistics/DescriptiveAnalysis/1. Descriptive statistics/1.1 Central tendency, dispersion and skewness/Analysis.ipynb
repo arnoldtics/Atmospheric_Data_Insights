{
 "cells": [
  {
   "cell_type": "markdown",
   "metadata": {},
   "source": [
    "# Calculate the measures of central tendency, dispersion, and determine the skewness of the distribution for each variable."
   ]
  },
  {
   "cell_type": "markdown",
   "metadata": {},
   "source": [
    "We are going to do it analytically."
   ]
  },
  {
   "cell_type": "code",
   "execution_count": 1,
   "metadata": {},
   "outputs": [],
   "source": [
    "import numpy as np\n",
    "import matplotlib.pyplot as plt\n",
    "import pandas as pd\n",
    "import seaborn as sns"
   ]
  },
  {
   "cell_type": "code",
   "execution_count": 2,
   "metadata": {},
   "outputs": [],
   "source": [
    "PATH = \"../../../DataCleaning/\""
   ]
  },
  {
   "cell_type": "code",
   "execution_count": 3,
   "metadata": {},
   "outputs": [],
   "source": [
    "df = pd.read_csv(PATH + \"Atmospheric Data With No Missing Values.csv\")"
   ]
  },
  {
   "cell_type": "code",
   "execution_count": 4,
   "metadata": {},
   "outputs": [
    {
     "data": {
      "text/html": [
       "<div>\n",
       "<style scoped>\n",
       "    .dataframe tbody tr th:only-of-type {\n",
       "        vertical-align: middle;\n",
       "    }\n",
       "\n",
       "    .dataframe tbody tr th {\n",
       "        vertical-align: top;\n",
       "    }\n",
       "\n",
       "    .dataframe thead th {\n",
       "        text-align: right;\n",
       "    }\n",
       "</style>\n",
       "<table border=\"1\" class=\"dataframe\">\n",
       "  <thead>\n",
       "    <tr style=\"text-align: right;\">\n",
       "      <th></th>\n",
       "      <th>O3</th>\n",
       "      <th>O3_flag</th>\n",
       "      <th>NO2</th>\n",
       "      <th>NO2_flag</th>\n",
       "      <th>NO</th>\n",
       "      <th>NO_flag</th>\n",
       "      <th>CO</th>\n",
       "      <th>CO_flag</th>\n",
       "      <th>PM10</th>\n",
       "      <th>PM10_flag</th>\n",
       "      <th>...</th>\n",
       "      <th>WDir_Avg</th>\n",
       "      <th>WDir_SD</th>\n",
       "      <th>Rain_Tot</th>\n",
       "      <th>Press_Avg</th>\n",
       "      <th>Rad_Avg</th>\n",
       "      <th>Year</th>\n",
       "      <th>Month</th>\n",
       "      <th>Day</th>\n",
       "      <th>Hour</th>\n",
       "      <th>Minute</th>\n",
       "    </tr>\n",
       "  </thead>\n",
       "  <tbody>\n",
       "    <tr>\n",
       "      <th>0</th>\n",
       "      <td>55.48</td>\n",
       "      <td>OK</td>\n",
       "      <td>0.72</td>\n",
       "      <td>OK</td>\n",
       "      <td>0.2</td>\n",
       "      <td>BDL</td>\n",
       "      <td>0.25</td>\n",
       "      <td>OK</td>\n",
       "      <td>25.47</td>\n",
       "      <td>OK</td>\n",
       "      <td>...</td>\n",
       "      <td>173.6</td>\n",
       "      <td>14.26</td>\n",
       "      <td>0.0</td>\n",
       "      <td>805.409</td>\n",
       "      <td>NaN</td>\n",
       "      <td>2023</td>\n",
       "      <td>5</td>\n",
       "      <td>1</td>\n",
       "      <td>0</td>\n",
       "      <td>0</td>\n",
       "    </tr>\n",
       "    <tr>\n",
       "      <th>1</th>\n",
       "      <td>55.49</td>\n",
       "      <td>OK</td>\n",
       "      <td>0.81</td>\n",
       "      <td>OK</td>\n",
       "      <td>0.2</td>\n",
       "      <td>BDL</td>\n",
       "      <td>0.26</td>\n",
       "      <td>OK</td>\n",
       "      <td>25.74</td>\n",
       "      <td>OK</td>\n",
       "      <td>...</td>\n",
       "      <td>171.0</td>\n",
       "      <td>10.53</td>\n",
       "      <td>0.0</td>\n",
       "      <td>805.524</td>\n",
       "      <td>NaN</td>\n",
       "      <td>2023</td>\n",
       "      <td>5</td>\n",
       "      <td>1</td>\n",
       "      <td>0</td>\n",
       "      <td>1</td>\n",
       "    </tr>\n",
       "    <tr>\n",
       "      <th>2</th>\n",
       "      <td>55.40</td>\n",
       "      <td>OK</td>\n",
       "      <td>0.93</td>\n",
       "      <td>OK</td>\n",
       "      <td>0.2</td>\n",
       "      <td>BDL</td>\n",
       "      <td>0.27</td>\n",
       "      <td>OK</td>\n",
       "      <td>26.60</td>\n",
       "      <td>OK</td>\n",
       "      <td>...</td>\n",
       "      <td>178.6</td>\n",
       "      <td>15.72</td>\n",
       "      <td>0.0</td>\n",
       "      <td>805.436</td>\n",
       "      <td>NaN</td>\n",
       "      <td>2023</td>\n",
       "      <td>5</td>\n",
       "      <td>1</td>\n",
       "      <td>0</td>\n",
       "      <td>2</td>\n",
       "    </tr>\n",
       "    <tr>\n",
       "      <th>3</th>\n",
       "      <td>55.20</td>\n",
       "      <td>OK</td>\n",
       "      <td>0.87</td>\n",
       "      <td>OK</td>\n",
       "      <td>0.2</td>\n",
       "      <td>BDL</td>\n",
       "      <td>0.28</td>\n",
       "      <td>OK</td>\n",
       "      <td>27.59</td>\n",
       "      <td>OK</td>\n",
       "      <td>...</td>\n",
       "      <td>186.1</td>\n",
       "      <td>17.43</td>\n",
       "      <td>0.0</td>\n",
       "      <td>805.450</td>\n",
       "      <td>NaN</td>\n",
       "      <td>2023</td>\n",
       "      <td>5</td>\n",
       "      <td>1</td>\n",
       "      <td>0</td>\n",
       "      <td>3</td>\n",
       "    </tr>\n",
       "    <tr>\n",
       "      <th>4</th>\n",
       "      <td>55.41</td>\n",
       "      <td>OK</td>\n",
       "      <td>0.98</td>\n",
       "      <td>OK</td>\n",
       "      <td>0.2</td>\n",
       "      <td>BDL</td>\n",
       "      <td>0.28</td>\n",
       "      <td>OK</td>\n",
       "      <td>27.83</td>\n",
       "      <td>OK</td>\n",
       "      <td>...</td>\n",
       "      <td>211.5</td>\n",
       "      <td>21.67</td>\n",
       "      <td>0.0</td>\n",
       "      <td>805.504</td>\n",
       "      <td>NaN</td>\n",
       "      <td>2023</td>\n",
       "      <td>5</td>\n",
       "      <td>1</td>\n",
       "      <td>0</td>\n",
       "      <td>4</td>\n",
       "    </tr>\n",
       "  </tbody>\n",
       "</table>\n",
       "<p>5 rows × 26 columns</p>\n",
       "</div>"
      ],
      "text/plain": [
       "      O3 O3_flag   NO2 NO2_flag   NO NO_flag    CO CO_flag   PM10 PM10_flag  \\\n",
       "0  55.48      OK  0.72       OK  0.2     BDL  0.25      OK  25.47        OK   \n",
       "1  55.49      OK  0.81       OK  0.2     BDL  0.26      OK  25.74        OK   \n",
       "2  55.40      OK  0.93       OK  0.2     BDL  0.27      OK  26.60        OK   \n",
       "3  55.20      OK  0.87       OK  0.2     BDL  0.28      OK  27.59        OK   \n",
       "4  55.41      OK  0.98       OK  0.2     BDL  0.28      OK  27.83        OK   \n",
       "\n",
       "   ...  WDir_Avg WDir_SD  Rain_Tot  Press_Avg  Rad_Avg  Year  Month  Day  \\\n",
       "0  ...     173.6   14.26       0.0    805.409      NaN  2023      5    1   \n",
       "1  ...     171.0   10.53       0.0    805.524      NaN  2023      5    1   \n",
       "2  ...     178.6   15.72       0.0    805.436      NaN  2023      5    1   \n",
       "3  ...     186.1   17.43       0.0    805.450      NaN  2023      5    1   \n",
       "4  ...     211.5   21.67       0.0    805.504      NaN  2023      5    1   \n",
       "\n",
       "   Hour  Minute  \n",
       "0     0       0  \n",
       "1     0       1  \n",
       "2     0       2  \n",
       "3     0       3  \n",
       "4     0       4  \n",
       "\n",
       "[5 rows x 26 columns]"
      ]
     },
     "execution_count": 4,
     "metadata": {},
     "output_type": "execute_result"
    }
   ],
   "source": [
    "df.head()"
   ]
  },
  {
   "cell_type": "code",
   "execution_count": 5,
   "metadata": {},
   "outputs": [
    {
     "name": "stdout",
     "output_type": "stream",
     "text": [
      "<class 'pandas.core.frame.DataFrame'>\n",
      "RangeIndex: 443508 entries, 0 to 443507\n",
      "Data columns (total 26 columns):\n",
      " #   Column      Non-Null Count   Dtype  \n",
      "---  ------      --------------   -----  \n",
      " 0   O3          443508 non-null  float64\n",
      " 1   O3_flag     443508 non-null  object \n",
      " 2   NO2         443508 non-null  float64\n",
      " 3   NO2_flag    443508 non-null  object \n",
      " 4   NO          443508 non-null  float64\n",
      " 5   NO_flag     443508 non-null  object \n",
      " 6   CO          443508 non-null  float64\n",
      " 7   CO_flag     443508 non-null  object \n",
      " 8   PM10        443508 non-null  float64\n",
      " 9   PM10_flag   443508 non-null  object \n",
      " 10  PM2.5       443508 non-null  float64\n",
      " 11  PM2.5_flag  443508 non-null  object \n",
      " 12  Temp_Avg    443508 non-null  float64\n",
      " 13  RH_Avg      443508 non-null  float64\n",
      " 14  WSpeed_Avg  443508 non-null  float64\n",
      " 15  WSpeed_Max  443508 non-null  float64\n",
      " 16  WDir_Avg    443508 non-null  float64\n",
      " 17  WDir_SD     443508 non-null  float64\n",
      " 18  Rain_Tot    443508 non-null  float64\n",
      " 19  Press_Avg   443508 non-null  float64\n",
      " 20  Rad_Avg     232948 non-null  float64\n",
      " 21  Year        443508 non-null  int64  \n",
      " 22  Month       443508 non-null  int64  \n",
      " 23  Day         443508 non-null  int64  \n",
      " 24  Hour        443508 non-null  int64  \n",
      " 25  Minute      443508 non-null  int64  \n",
      "dtypes: float64(15), int64(5), object(6)\n",
      "memory usage: 88.0+ MB\n"
     ]
    }
   ],
   "source": [
    "df.info()"
   ]
  },
  {
   "cell_type": "markdown",
   "metadata": {},
   "source": [
    "## Flag variables\n",
    "\n",
    "These are categorical variables. Therefore, we can create frequency tables to determine which of the air condition sensors has more instances below the detection limits or out of range. This information can be useful for determining the functioning of the sensors."
   ]
  },
  {
   "cell_type": "code",
   "execution_count": 6,
   "metadata": {},
   "outputs": [],
   "source": [
    "columns = [\"O3_flag\", \"NO2_flag\", \"NO_flag\", \"CO_flag\", \"PM10_flag\", \"PM2.5_flag\"]"
   ]
  },
  {
   "cell_type": "code",
   "execution_count": 9,
   "metadata": {},
   "outputs": [
    {
     "name": "stdout",
     "output_type": "stream",
     "text": [
      "O3_flag\n",
      "OK     442190\n",
      "BDL      1302\n",
      "OR         16\n",
      "Name: count, dtype: int64 \n",
      "\n",
      "NO2_flag\n",
      "OK     440116\n",
      "BDL      3085\n",
      "OR        307\n",
      "Name: count, dtype: int64 \n",
      "\n",
      "NO_flag\n",
      "BDL    348595\n",
      "OK      94710\n",
      "OR        203\n",
      "Name: count, dtype: int64 \n",
      "\n",
      "CO_flag\n",
      "OK     437378\n",
      "BDL      6022\n",
      "OR        108\n",
      "Name: count, dtype: int64 \n",
      "\n",
      "PM10_flag\n",
      "OK     417350\n",
      "BDL     23273\n",
      "OR       2885\n",
      "Name: count, dtype: int64 \n",
      "\n",
      "PM2.5_flag\n",
      "OK     390297\n",
      "BDL     44973\n",
      "OR       8238\n",
      "Name: count, dtype: int64 \n",
      "\n"
     ]
    }
   ],
   "source": [
    "for c in columns: print(df[c].value_counts(), \"\\n\")"
   ]
  },
  {
   "cell_type": "markdown",
   "metadata": {},
   "source": [
    "Based on these absolute frequencies, it is interesting that the particle with the most records below the detection limit was NO. In fact, it has more instances in this category (BDL) than in (OK).\n",
    "\n",
    "However, in terms of going out of range, NO remained normal compared to the results of the other variables. The one that had the most was PM2.5.\n",
    "\n",
    "Now, to avoid biasing the analysis, we will first calculate the relative frequencies of the data that are below the detection limit for each flag variable. This is to truly see which pollutants remained lower during the year according to the measurement capabilities of our sensors.\n",
    "\n",
    "Next, we will look at the relative frequencies of the data that were correctly taken (OK), to determine the certainty in our air quality measurements."
   ]
  },
  {
   "cell_type": "code",
   "execution_count": 20,
   "metadata": {},
   "outputs": [
    {
     "name": "stdout",
     "output_type": "stream",
     "text": [
      "Relative Frequencies Below Detection Limit\n",
      "O3_flag\n",
      "0.29 %\n",
      "\n",
      "NO2_flag\n",
      "0.7 %\n",
      "\n",
      "NO_flag\n",
      "78.6 %\n",
      "\n",
      "CO_flag\n",
      "1.36 %\n",
      "\n",
      "PM10_flag\n",
      "5.25 %\n",
      "\n",
      "PM2.5_flag\n",
      "10.14 %\n",
      "\n"
     ]
    }
   ],
   "source": [
    "print(\"Relative Frequencies Below Detection Limit\")\n",
    "for c in columns:\n",
    "    print(c)\n",
    "    print(round(df[df[c] == \"BDL\"].shape[0]*100/df.shape[0], 2), \"%\\n\")"
   ]
  },
  {
   "cell_type": "markdown",
   "metadata": {},
   "source": [
    "78.6% of the NO data below the detection limit may have several explanations:\n",
    "- It is a pollutant with a very low concentration.\n",
    "- The sensor's detection limit is too high for the station's measurements.\n",
    "- There was a problem with data processing, to the extent that its integrity was compromised.\n",
    "\n",
    "Moving on to the relative frequencies of the data that operated correctly (OK)."
   ]
  },
  {
   "cell_type": "code",
   "execution_count": 21,
   "metadata": {},
   "outputs": [
    {
     "name": "stdout",
     "output_type": "stream",
     "text": [
      "Relative Frequencies Reliable Data\n",
      "O3_flag\n",
      "99.7 %\n",
      "\n",
      "NO2_flag\n",
      "99.24 %\n",
      "\n",
      "NO_flag\n",
      "21.35 %\n",
      "\n",
      "CO_flag\n",
      "98.62 %\n",
      "\n",
      "PM10_flag\n",
      "94.1 %\n",
      "\n",
      "PM2.5_flag\n",
      "88.0 %\n",
      "\n"
     ]
    }
   ],
   "source": [
    "print(\"Relative Frequencies Reliable Data\")\n",
    "for c in columns:\n",
    "    print(c)\n",
    "    print(round(df[df[c] == \"OK\"].shape[0]*100/df.shape[0], 2), \"%\\n\")"
   ]
  },
  {
   "cell_type": "markdown",
   "metadata": {},
   "source": [
    "With this, we can see that almost all the sensor samples are quite reliable for analysis. We just need to be careful with NO and a bit with PM2.5. We can address this in the inference tests by increasing the significance level (to avoid potential biases)."
   ]
  },
  {
   "cell_type": "markdown",
   "metadata": {},
   "source": [
    "## Time variables.\n",
    "\n",
    "This analysis will be quite simple. To assess the performance of the sensors in each month, let's examine the absolute frequencies of each month. Theoretically, all months with 31 days should have the same number of instances (likewise for the 30-day months). Naturally, the months with 31 days will have more instances, while February will have the fewest instances."
   ]
  },
  {
   "cell_type": "code",
   "execution_count": 34,
   "metadata": {},
   "outputs": [
    {
     "name": "stdout",
     "output_type": "stream",
     "text": [
      "Number of Instances per Month\n",
      "\n",
      "January:     40176 instances\n",
      "February:    36600 instances\n",
      "March:       18961 instances\n",
      "April:       40498 instances\n",
      "May:         29463 instances\n",
      "June:        40500 instances\n",
      "July:        39538 instances\n",
      "August:      41555 instances\n",
      "September:   40498 instances\n",
      "October:     41700 instances\n",
      "November:    30900 instances\n",
      "December:    43119 instances\n"
     ]
    }
   ],
   "source": [
    "months = [\"January\", \"February\", \"March\", \"April\", \"May\", \"June\", \"July\", \"August\", \"September\", \"October\", \"November\", \"December\"]\n",
    "print(\"Number of Instances per Month\\n\")\n",
    "for i in range(12):\n",
    "    month_name = months[i] + \":\"\n",
    "    instances_count = str(df[df[\"Month\"] == i+1].shape[0]) + \" instances\"\n",
    "    print(month_name.ljust(12), instances_count)"
   ]
  },
  {
   "cell_type": "markdown",
   "metadata": {},
   "source": [
    "Here we can note several things:\n",
    "- March is the month with the least instances by far: almost less than half compared to the others.\n",
    "- Almost all months have a different number of instances. In fact, the only ones that have the same number are April and September.\n",
    "\n",
    "These modifications could be due to the removal of some instances due to null data or when merging the meteorology and air quality datasets. However, it would be advisable to review the functioning of the minute-by-minute sensor measurements."
   ]
  },
  {
   "cell_type": "markdown",
   "metadata": {},
   "source": [
    "## Air Quality\n",
    "\n",
    "Let's take a look at air quality data. This will be done using the central tendency, dispersion and skewness of each particle."
   ]
  },
  {
   "cell_type": "code",
   "execution_count": 41,
   "metadata": {},
   "outputs": [],
   "source": [
    "def fisher(variable: pd.Series) -> float:\n",
    "    numerator = sum((variable - variable.mean())**3)\n",
    "    denominator = variable.shape[0] * (variable.std()**3)    \n",
    "    return numerator / denominator"
   ]
  },
  {
   "cell_type": "markdown",
   "metadata": {},
   "source": [
    "*Note:* We are not using the mode because we are using numerical variables (floating point variables). "
   ]
  },
  {
   "cell_type": "code",
   "execution_count": 56,
   "metadata": {},
   "outputs": [],
   "source": [
    "def descriptiva(particle:pd.Series):\n",
    "    print(f\"Mean: \", particle.mean())\n",
    "    print(f\"Median: \", particle.median())\n",
    "    print(f\"First quartile: \", particle.quantile(0.25))\n",
    "    print(f\"Third quartile: \", particle.quantile(0.75))\n",
    "    print(f\"Standard deviation: \", particle.std())\n",
    "    print(f\"Minimum: \", particle.min())\n",
    "    print(f\"Maximum: \", particle.max())\n",
    "    print(f\"Fisher asymmetry: \", fisher(particle))"
   ]
  },
  {
   "cell_type": "markdown",
   "metadata": {},
   "source": [
    "#### O3"
   ]
  },
  {
   "cell_type": "code",
   "execution_count": 57,
   "metadata": {},
   "outputs": [
    {
     "name": "stdout",
     "output_type": "stream",
     "text": [
      "Mean:  34.1781475982395\n",
      "Median:  32.57\n",
      "First quartile:  20.61\n",
      "Third quartile:  46.57\n",
      "Standard deviation:  17.620797886814806\n",
      "Minimum:  0.015\n",
      "Maximum:  410.2\n",
      "Fisher asymmetry:  0.7974751877463978\n"
     ]
    }
   ],
   "source": [
    "descriptiva(df[\"O3\"])"
   ]
  },
  {
   "cell_type": "markdown",
   "metadata": {},
   "source": [
    "With this, we can make some observations about ozone:\n",
    "- The difference between its mean and median is very small. However, since the mean is greater than the median, we have a right-skewed distribution. We can confirm this with the positive value of Fisher's skewness: we have positive skewness (right-skewed).\n",
    "- We have a somewhat large standard deviation considering it is half the mean value. This may be due to some outliers that increase it.\n",
    "- Regarding outliers, we note that the interquartile range ranges from 20.61 to 46.57. However, we then see that we have a minimum value of almost 0 and a maximum of over 400 ppb. This means that while half of the data is concentrated in a small interval, outside of it, values can increase or decrease significantly. We therefore see that there were points where ozone pollution spiked significantly and others where it practically decreased to zero."
   ]
  },
  {
   "cell_type": "markdown",
   "metadata": {},
   "source": [
    "#### NO2"
   ]
  },
  {
   "cell_type": "code",
   "execution_count": 58,
   "metadata": {},
   "outputs": [
    {
     "name": "stdout",
     "output_type": "stream",
     "text": [
      "Mean:  4.826200361662021\n",
      "Median:  3.72\n",
      "First quartile:  1.98\n",
      "Third quartile:  6.47\n",
      "Standard deviation:  4.04996493660314\n",
      "Minimum:  0.2\n",
      "Maximum:  163.27\n",
      "Fisher asymmetry:  3.8661046832980417\n"
     ]
    }
   ],
   "source": [
    "descriptiva(df[\"NO2\"])"
   ]
  },
  {
   "cell_type": "markdown",
   "metadata": {},
   "source": [
    "Given that they are in the same units (ppb), nitrogen dioxide pollution is much lower than ozone pollution. This is based on their means, 4.82 vs 34.17. This is also reflected in other measures such as the standard deviation or the maximum peak.\n",
    "\n",
    "However, for NO2, we do need to make observations about its outliers: the maximum was 163.27 when its interquartile range remained from 1.98 to 6.47. This indicates that after the third quartile, we can find extremely large data. Now, this does not necessarily mean errors in the data (remember that more than 99% of the data for this particle was classified as OK by the sensor flags). Rather, it means that there were very high pollution peaks compared to its normal behavior during the year.\n",
    "\n",
    "As a result of these pollution peaks, we once again have a distribution with positive skewness. The problem here is the value of Fisher's skewness: 3.86. With this value, we would need to be cautious about the data. However, this distribution could be due to how we filled in the null data and handled the data cleaning for values that were out of range or below the detection limit: we replaced them with the median and mean (respectively). It is possible that by doing this, we loaded the data too much towards the center compared to the ends of the distribution, thus creating a strong right skew. This could cause problems during normality tests, but we will see that later on."
   ]
  },
  {
   "cell_type": "markdown",
   "metadata": {},
   "source": [
    "#### NO\n",
    "\n",
    "*Note:* this is the variable with 78% of the data below the detection limit."
   ]
  },
  {
   "cell_type": "code",
   "execution_count": 59,
   "metadata": {},
   "outputs": [
    {
     "name": "stdout",
     "output_type": "stream",
     "text": [
      "Mean:  0.8407245190616629\n",
      "Median:  0.2\n",
      "First quartile:  0.2\n",
      "Third quartile:  0.2\n",
      "Standard deviation:  2.886681173901699\n",
      "Minimum:  0.2\n",
      "Maximum:  281.94\n",
      "Fisher asymmetry:  27.311967898596578\n"
     ]
    }
   ],
   "source": [
    "descriptiva(df[\"NO\"])"
   ]
  },
  {
   "cell_type": "markdown",
   "metadata": {},
   "source": [
    "We have the same case as with NO2, but taken to an extreme. Due to the data cleaning criteria for values below the detection limit, they had to be replaced with the mean if they were within a certain range. Therefore, having 78% of the values below the detection limit, it was expected that we would alter the distribution by replacing the values in this way. This explains the extremely high value of Fisher's skewness: 27.31.\n",
    "\n",
    "The only interesting values are the maximum (because it represents pollution peaks that were not manipulated), the mean, and its standard deviation. In fact, having a standard deviation of 2.88 when our interquartile range is 0.2 indicates that we retained real measurement values.\n",
    "\n",
    "Therefore, personally, I would only work with data that has been labeled with the OK flag. Because the others completely skew the distribution. When we graph it, we will see an interquartile range of just one value and a lot of outliers at the upper end of the distribution. However, these outliers will be important to us because they are the ones with which we can work more representatively."
   ]
  },
  {
   "cell_type": "markdown",
   "metadata": {},
   "source": [
    "#### CO\n",
    "\n",
    "*Note:* This particle is in ppm units, not ppb. Multiply by 1000 if you want to convert it into the units of the other particles."
   ]
  },
  {
   "cell_type": "code",
   "execution_count": 60,
   "metadata": {},
   "outputs": [
    {
     "name": "stdout",
     "output_type": "stream",
     "text": [
      "Mean:  0.3305503395654644\n",
      "Median:  0.31\n",
      "First quartile:  0.24\n",
      "Third quartile:  0.4\n",
      "Standard deviation:  0.15373635046558537\n",
      "Minimum:  0.02\n",
      "Maximum:  3.45\n",
      "Fisher asymmetry:  1.3573614988908342\n"
     ]
    }
   ],
   "source": [
    "descriptiva(df[\"CO\"])"
   ]
  },
  {
   "cell_type": "markdown",
   "metadata": {},
   "source": [
    "The first thing to mention after the previous distributions is that we still maintain a distribution with a positive skew, but it's not as pronounced. The Fisher value is only 1.35. It's still high, but we can work with it.\n",
    "\n",
    "In fact, although we still need to analyze the PM10 and PM2.5 variables, we can see a pattern of symmetry in the air quality variables: they all have a right skew because they are mostly equal throughout the year. However, at some point, they have pollution peaks that cause the mean to rise and we have right skews.\n",
    "\n",
    "Now, we once again have a standard deviation that's almost half of the mean. This is also expected due to our pollution peaks.\n",
    "\n",
    "Finally, regarding the units. If we convert ppm to ppb to compare it with the other particles, carbon monoxide has a much higher concentration compared to the other particles. However, a higher concentration doesn't necessarily mean it is more harmful than other particles. It's possible that other particles, even at a lower concentration than CO, can be more harmful and worsen air quality."
   ]
  },
  {
   "cell_type": "markdown",
   "metadata": {},
   "source": [
    "#### PM10\n",
    "\n",
    "These are particles with an aerodynamic diameter equal to or less than 10 microns (in the case of PM2.5, it's the same idea but with a diameter equal to or less than 2.5 microns). For both particles, their unit of measurement is micrograms per cubic meter (µg/m^3)."
   ]
  },
  {
   "cell_type": "code",
   "execution_count": 61,
   "metadata": {},
   "outputs": [
    {
     "name": "stdout",
     "output_type": "stream",
     "text": [
      "Mean:  24.375818632358374\n",
      "Median:  22.18\n",
      "First quartile:  13.55\n",
      "Third quartile:  32.92\n",
      "Standard deviation:  15.637248471153509\n",
      "Minimum:  2.0\n",
      "Maximum:  399.64\n",
      "Fisher asymmetry:  2.850676849715981\n"
     ]
    }
   ],
   "source": [
    "descriptiva(df[\"PM10\"])"
   ]
  },
  {
   "cell_type": "markdown",
   "metadata": {},
   "source": [
    "Again, we observe the behavior due to pollution peaks: right-skewed distribution, Fisher's skewness greater than 1 (in this case, 2.85), and a small interquartile range compared to the maximum value. We will have a lot of outliers when graphing this.\n",
    "\n",
    "In this case, we see a fairly large standard deviation. Almost the same size as the interquartile range. This indicates that the concentration of these particles changes the most throughout the year."
   ]
  },
  {
   "cell_type": "markdown",
   "metadata": {},
   "source": [
    "#### PM2.5"
   ]
  },
  {
   "cell_type": "code",
   "execution_count": 62,
   "metadata": {},
   "outputs": [
    {
     "name": "stdout",
     "output_type": "stream",
     "text": [
      "Mean:  17.433051218918262\n",
      "Median:  15.99\n",
      "First quartile:  9.17\n",
      "Third quartile:  23.83\n",
      "Standard deviation:  11.99863727718033\n",
      "Minimum:  2.0\n",
      "Maximum:  373.28\n",
      "Fisher asymmetry:  3.5071871139768738\n"
     ]
    }
   ],
   "source": [
    "descriptiva(df[\"PM2.5\"])"
   ]
  },
  {
   "cell_type": "markdown",
   "metadata": {},
   "source": [
    "Again, we have the positive skew behavior of all air quality variables.\n",
    "\n",
    "However, the interesting part here is comparing it to the PM10 particle.\n",
    "- First, we have a higher skewness in PM2.5 than in PM10: 3.50 vs 2.85. This may be due to PM2.5 having a smaller interquartile range.\n",
    "- In fact, values such as the mean, median, and maximum are lower in PM2.5 than in PM10. Therefore, in the last year, we had more concentration of PM10 particles than PM2.5.\n",
    "- However, in the standard deviation, although it is also lower for PM2.5, it didn't fall as far as with the other measures. This indicates that while its concentration is lower, its variation is almost equal to that of PM10."
   ]
  },
  {
   "cell_type": "markdown",
   "metadata": {},
   "source": [
    "## Meteorological variables"
   ]
  },
  {
   "cell_type": "markdown",
   "metadata": {},
   "source": [
    "Let's do the same analysis procedure, but now with the meteorological variables."
   ]
  },
  {
   "cell_type": "markdown",
   "metadata": {},
   "source": [
    "#### Temp_Avg\n",
    "\n",
    "Temperature average. Units: °C"
   ]
  },
  {
   "cell_type": "code",
   "execution_count": 65,
   "metadata": {},
   "outputs": [
    {
     "name": "stdout",
     "output_type": "stream",
     "text": [
      "Mean:  18.340548549293363\n",
      "Median:  18.06\n",
      "First quartile:  14.85\n",
      "Third quartile:  22.17\n",
      "Standard deviation:  5.267597043561073\n",
      "Minimum:  2.966\n",
      "Maximum:  33.57\n",
      "Fisher asymmetry:  0.04107919069135361\n"
     ]
    }
   ],
   "source": [
    "descriptiva(df[\"Temp_Avg\"])"
   ]
  },
  {
   "cell_type": "markdown",
   "metadata": {},
   "source": [
    "Since we are no longer working with air quality variables, we no longer see the symmetry pattern. In fact, for the temperature average, it's quite the opposite: we find that the mean and the median are almost equal. Therefore, we have an almost symmetrical distribution. It's important to remember that in reality, we almost never see a Fisher skewness of 0 (in fact, if we do, the data is likely incorrect). Therefore, the skewness we have here can be considered objectively symmetrical.\n",
    "\n",
    "This was expected not only because the mean coincides with the median, but also due to the interquartile range: the limits of its values are almost within one standard deviation of the median. Therefore, we will have almost all the data concentrated there.\n",
    "\n",
    "Additionally, our outliers don't change due to Morelia's climate: the minimum recorded was 2.9°C and the maximum was 33.57°C. Since these values are not far from the mean, they contribute to this almost symmetrical distribution."
   ]
  },
  {
   "cell_type": "markdown",
   "metadata": {},
   "source": [
    "#### RH_Avg"
   ]
  },
  {
   "cell_type": "markdown",
   "metadata": {},
   "source": [
    "Relative humidity. Units %"
   ]
  },
  {
   "cell_type": "code",
   "execution_count": 66,
   "metadata": {},
   "outputs": [
    {
     "name": "stdout",
     "output_type": "stream",
     "text": [
      "Mean:  60.65806376435147\n",
      "Median:  61.71\n",
      "First quartile:  42.58\n",
      "Third quartile:  80.6\n",
      "Standard deviation:  23.014083653992493\n",
      "Minimum:  7.406\n",
      "Maximum:  99.9\n",
      "Fisher asymmetry:  -0.17851379909815285\n"
     ]
    }
   ],
   "source": [
    "descriptiva(df[\"RH_Avg\"])"
   ]
  },
  {
   "cell_type": "markdown",
   "metadata": {},
   "source": [
    "Here we see for the first time that the mean is lower than the median. Although this difference is very small (-0.17), it gives us a negative skewness (or left-skewed distribution). This indicates that the humidity in the city (at least near the atmospheric observatory) is relatively high. This information would need to be compared with the amount of rainfall to confirm if it's due to rain or bodies of water within and near the university.\n",
    "\n",
    "The above statements are not only based on the distribution but also because our mean is at 60%, the interquartile range ranges from 42% to 80%, and the standard deviation doesn't increase much (it's only 23%).\n",
    "\n",
    "Now, in what we could consider as drought data, we see that the minimum value was 7.4%. We would need to see how many data points are at the lower end to understand how much and to what extent the drought period affected it."
   ]
  },
  {
   "cell_type": "markdown",
   "metadata": {},
   "source": [
    "#### WSpeed_Avg"
   ]
  },
  {
   "cell_type": "markdown",
   "metadata": {},
   "source": [
    "Wind speed average. Units: m per second"
   ]
  },
  {
   "cell_type": "code",
   "execution_count": 67,
   "metadata": {},
   "outputs": [
    {
     "name": "stdout",
     "output_type": "stream",
     "text": [
      "Mean:  1.5642836724478482\n",
      "Median:  1.217\n",
      "First quartile:  0.172\n",
      "Third quartile:  2.454\n",
      "Standard deviation:  1.523667332068103\n",
      "Minimum:  0.0\n",
      "Maximum:  17.15\n",
      "Fisher asymmetry:  1.1006272101631005\n"
     ]
    }
   ],
   "source": [
    "descriptiva(df[\"WSpeed_Avg\"])"
   ]
  },
  {
   "cell_type": "markdown",
   "metadata": {},
   "source": [
    "Here we have a positive skewness again with a value greater than 1. This is because the maximum wind speed values are much higher than those within our interquartile range. These very large data points can be better observed with the maximum wind speed variable (remember that this is an average).\n",
    "\n",
    "Now, although the interquartile range is quite small (from 0.17 to 2.45), the standard deviation is not very large (1.52) for the maximum value (17.15). This means that the larger values are not as frequent as to significantly alter the distribution."
   ]
  },
  {
   "cell_type": "markdown",
   "metadata": {},
   "source": [
    "#### WSpeed_Max"
   ]
  },
  {
   "cell_type": "markdown",
   "metadata": {},
   "source": [
    "Maximum wind speed. Units: m per second"
   ]
  },
  {
   "cell_type": "code",
   "execution_count": 68,
   "metadata": {},
   "outputs": [
    {
     "name": "stdout",
     "output_type": "stream",
     "text": [
      "Mean:  2.0565199229777136\n",
      "Median:  1.618\n",
      "First quartile:  0.451\n",
      "Third quartile:  3.164\n",
      "Standard deviation:  1.926558010016441\n",
      "Minimum:  0.0\n",
      "Maximum:  18.78\n",
      "Fisher asymmetry:  1.0775158389943107\n"
     ]
    }
   ],
   "source": [
    "descriptiva(df[\"WSpeed_Max\"])"
   ]
  },
  {
   "cell_type": "markdown",
   "metadata": {},
   "source": [
    "Naturally, it exhibits a very similar behavior to that of the average wind speed in terms of positive skewness. However, the difference is noted in that being the maximum recorded speed, almost all values are larger. Personally, I would have expected a greater increase, but that was not the case: the mean increased from 1.56 to 2.05, the maximum value from 17.15 to 18.78, and the interquartile range from 0.17-2.45 to 0.45-3.16.\n",
    "\n",
    "The only noticeable change was the increase in the size of the interquartile range. Perhaps this is why the skewness decreased slightly from 1.10 to 1.07."
   ]
  },
  {
   "cell_type": "markdown",
   "metadata": {},
   "source": [
    "#### WDir_Avg"
   ]
  },
  {
   "cell_type": "markdown",
   "metadata": {},
   "source": [
    "Wind direction average. Units deg."
   ]
  },
  {
   "cell_type": "code",
   "execution_count": 69,
   "metadata": {},
   "outputs": [
    {
     "name": "stdout",
     "output_type": "stream",
     "text": [
      "Mean:  144.94631321870182\n",
      "Median:  147.8\n",
      "First quartile:  42.73\n",
      "Third quartile:  228.6\n",
      "Standard deviation:  108.05553721419147\n",
      "Minimum:  0.0\n",
      "Maximum:  360.0\n",
      "Fisher asymmetry:  0.13667382639897396\n"
     ]
    }
   ],
   "source": [
    "descriptiva(df[\"WDir_Avg\"])"
   ]
  },
  {
   "cell_type": "markdown",
   "metadata": {},
   "source": [
    "Al having it constrained from 0 to 360 degrees, we managed to reduce the asymmetry of the distribution. However, since the mean is less than the median, there is a slight leftward bias.\n",
    "\n",
    "Conducting this analysis in degrees is not very useful. It can only help us determine that the prevailing wind direction is in a range of 42° to 228° relative to the observatory's location. However, the direction varies with a standard deviation of 108°.\n",
    "\n",
    "For a more interesting analysis in the next section of the work, we can discretize the variable and create a histogram of the wind direction frequencies."
   ]
  },
  {
   "cell_type": "markdown",
   "metadata": {},
   "source": [
    "#### WDir_SD"
   ]
  },
  {
   "cell_type": "markdown",
   "metadata": {},
   "source": [
    "Standard deviation of wind. Units in degrees."
   ]
  },
  {
   "cell_type": "code",
   "execution_count": 70,
   "metadata": {},
   "outputs": [
    {
     "name": "stdout",
     "output_type": "stream",
     "text": [
      "Mean:  9.55129614572905\n",
      "Median:  7.685\n",
      "First quartile:  0.174\n",
      "Third quartile:  14.25\n",
      "Standard deviation:  10.212017005198792\n",
      "Minimum:  0.0\n",
      "Maximum:  103.4\n",
      "Fisher asymmetry:  2.001601367086366\n"
     ]
    }
   ],
   "source": [
    "descriptiva(df[\"WDir_SD\"])"
   ]
  },
  {
   "cell_type": "markdown",
   "metadata": {},
   "source": [
    "In this variable, descriptive analysis is equally unhelpful. Its real utility lies in complementing the average wind direction variable.\n",
    "\n",
    "However, we can make some observations:\n",
    "- In this variable, we again have a fairly large positive skewness (2.00). This can be explained by its very small interquartile range (from 0.17 to 14.25) and a very large standard deviation compared to that range (10.21). Therefore, the appearance of larger values (such as the maximum value of 103.4) causes us to have a right-skewed distribution."
   ]
  },
  {
   "cell_type": "markdown",
   "metadata": {},
   "source": [
    "#### Rain_Tot"
   ]
  },
  {
   "cell_type": "markdown",
   "metadata": {},
   "source": [
    "Rainfall total. Units in mm."
   ]
  },
  {
   "cell_type": "code",
   "execution_count": 71,
   "metadata": {},
   "outputs": [
    {
     "name": "stdout",
     "output_type": "stream",
     "text": [
      "Mean:  0.0010338032233916862\n",
      "Median:  0.0\n",
      "First quartile:  0.0\n",
      "Third quartile:  0.0\n",
      "Standard deviation:  0.01907520594380706\n",
      "Minimum:  0.0\n",
      "Maximum:  1.8\n",
      "Fisher asymmetry:  36.21624704152785\n"
     ]
    }
   ],
   "source": [
    "descriptiva(df[\"Rain_Tot\"])"
   ]
  },
  {
   "cell_type": "markdown",
   "metadata": {},
   "source": [
    "Here we have the largest positive skewness in the entire dataset so far. It's interesting that even though the mean and median are practically the same, the skewness is modified so much by the outliers.\n",
    "\n",
    "In fact, since almost all the data points are 0 (mean, median, quartile 1, quartile 3, standard deviation), it's interesting that the outliers are related to rainfall (even though we observed high humidity in the environment).\n",
    "\n",
    "Now, one possibility would be to group the records into longer time intervals to see if this rainfall behavior changes. This is especially important because the highest value recorded was 1.8."
   ]
  },
  {
   "cell_type": "markdown",
   "metadata": {},
   "source": [
    "#### Press_Avg"
   ]
  },
  {
   "cell_type": "markdown",
   "metadata": {},
   "source": [
    "Atmospheric pressure average. Units in hPa."
   ]
  },
  {
   "cell_type": "code",
   "execution_count": 72,
   "metadata": {},
   "outputs": [
    {
     "name": "stdout",
     "output_type": "stream",
     "text": [
      "Mean:  805.8385776107762\n",
      "Median:  805.874\n",
      "First quartile:  804.626\n",
      "Third quartile:  807.097\n",
      "Standard deviation:  1.8405765947928108\n",
      "Minimum:  797.895\n",
      "Maximum:  812.652\n",
      "Fisher asymmetry:  -0.08737419129960401\n"
     ]
    }
   ],
   "source": [
    "descriptiva(df[\"Press_Avg\"])"
   ]
  },
  {
   "cell_type": "markdown",
   "metadata": {},
   "source": [
    "Atmospheric pressure is not a variable that fluctuates much when measured in the same location (even over the course of a year). As we can see, the mean and median are almost together. Therefore, we observe a distribution that is practically symmetrical. Additionally, we have a small interquartile range (from 804.62 to 807.09) with an even smaller standard deviation of 1.84. Finally, we notice that the minimum and maximum values do not deviate much from the interquartile range. Perhaps when we conduct normality tests, this variable will be one of those that is closest to normality."
   ]
  },
  {
   "cell_type": "markdown",
   "metadata": {},
   "source": [
    "#### Rad_Avg"
   ]
  },
  {
   "cell_type": "markdown",
   "metadata": {},
   "source": [
    "Solar Radiation average. Units in W/m^2"
   ]
  },
  {
   "cell_type": "code",
   "execution_count": 73,
   "metadata": {},
   "outputs": [
    {
     "name": "stdout",
     "output_type": "stream",
     "text": [
      "Mean:  471.9045388241155\n",
      "Median:  404.5\n",
      "First quartile:  130.1\n",
      "Third quartile:  807.0\n",
      "Standard deviation:  366.84912879481146\n",
      "Minimum:  0.046\n",
      "Maximum:  1439.0\n",
      "Fisher asymmetry:  nan\n"
     ]
    }
   ],
   "source": [
    "descriptiva(df[\"Rad_Avg\"])"
   ]
  },
  {
   "cell_type": "markdown",
   "metadata": {},
   "source": [
    "En primer lugar, observamos que la asimetría de Fisher nos regresó un valor nulo. Esto se debe a que posiblemente se intentó dividir entre 0. Ahora bien, esto no es problema para averiguar el sesgo de la distribución porque como la media es mayor que la mediana, entonces tenemos sesgo a la derecha.\n",
    "\n",
    "Aquí podemos ver también que tenemos una de las desviaciones estándar más grandes. Esto se debe a la variación de la radiación solar. Naturalmente, en la horas de la noche y de poca luz tendremos un mínimo. Por lo que realmente cuando se incrementa es en unas pocas horas del día (probablemente de las 11 a las 15 horas). En consecuencia tenemos la mayoría de los datos concentrados a la izquierda, pero los que se van a la derecha (los máximos) serán muy altos.\n",
    "\n",
    "Nótese también que aquí tenemos el rango intercuartílico más grande: de 130 a 807."
   ]
  }
 ],
 "metadata": {
  "kernelspec": {
   "display_name": "Python 3",
   "language": "python",
   "name": "python3"
  },
  "language_info": {
   "codemirror_mode": {
    "name": "ipython",
    "version": 3
   },
   "file_extension": ".py",
   "mimetype": "text/x-python",
   "name": "python",
   "nbconvert_exporter": "python",
   "pygments_lexer": "ipython3",
   "version": "3.12.1"
  }
 },
 "nbformat": 4,
 "nbformat_minor": 2
}
